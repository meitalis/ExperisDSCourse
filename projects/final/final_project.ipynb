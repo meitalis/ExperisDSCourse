{
 "cells": [
  {
   "cell_type": "code",
   "execution_count": 4,
   "metadata": {},
   "outputs": [],
   "source": [
    "import numpy as np\n",
    "import pandas as pd\n",
    "import seaborn as sns \n",
    "import matplotlib.pyplot as plt\n",
    "\n",
    "from sklearn.preprocessing import LabelEncoder,OneHotEncoder,KBinsDiscretizer,MinMaxScaler,StandardScaler,PolynomialFeatures\n",
    "\n",
    "from sklearn.svm import LinearSVC\n",
    "from sklearn.compose import ColumnTransformer\n",
    "from sklearn.pipeline import Pipeline,make_pipeline\n",
    "from sklearn.impute import SimpleImputer\n",
    "from sklearn.ensemble import RandomForestClassifier\n",
    "from sklearn.linear_model import SGDClassifier,LogisticRegression\n",
    "\n",
    "from sklearn.model_selection import train_test_split,cross_val_score,cross_val_predict\n",
    "\n",
    "from sklearn.metrics import confusion_matrix\n",
    "\n",
    "from sklearn.metrics import precision_score,recall_score,f1_score,accuracy_score\n",
    "from sklearn.metrics import precision_recall_curve,roc_curve\n",
    "\n",
    "from sklearn.neighbors import KNeighborsClassifier\n",
    "from sklearn.feature_selection import VarianceThreshold\n",
    "from sklearn.feature_selection import SelectKBest,SelectFromModel,f_classif,chi2\n",
    "\n",
    "from sklearn.decomposition import KernelPCA,PCA\n",
    "\n",
    "\n",
    "pd.set_option('display.max_rows', 1000)\n",
    "pd.set_option('display.max_columns', 1000)\n",
    "pd.set_option('display.width', 1000)"
   ]
  },
  {
   "cell_type": "markdown",
   "metadata": {},
   "source": [
    "## load data"
   ]
  },
  {
   "cell_type": "code",
   "execution_count": 2,
   "metadata": {},
   "outputs": [],
   "source": [
    "# df_train = pd.read_csv('train.csv',na_values=[' '])"
   ]
  },
  {
   "cell_type": "markdown",
   "metadata": {},
   "source": [
    "## pre processing"
   ]
  },
  {
   "cell_type": "code",
   "execution_count": 3,
   "metadata": {},
   "outputs": [],
   "source": [
    "\n",
    "# #display(df_train.NOEXCH.unique())\n",
    "# #df_train.head()\n",
    "# #df_test = pd.read_csv('train.csv')\n",
    "\n",
    "# df_train.loc[df_train.NOEXCH == 1, 'NOEXCH']   = 'X'\n",
    "# df_train.loc[df_train.NOEXCH == 0, 'NOEXCH']   = np.nan\n",
    "# df_train.loc[df_train.NOEXCH == '1', 'NOEXCH']   = 'X'\n",
    "# df_train.loc[df_train.NOEXCH == '0', 'NOEXCH']   = np.nan\n",
    "\n",
    "# df_train.NOEXCH.unique()"
   ]
  },
  {
   "cell_type": "code",
   "execution_count": 4,
   "metadata": {},
   "outputs": [],
   "source": [
    "\n",
    "\n",
    "#print(df_train.isna().sum())\n",
    "#df_train.describe().T"
   ]
  },
  {
   "cell_type": "code",
   "execution_count": 5,
   "metadata": {},
   "outputs": [],
   "source": [
    "# features1= [] \n",
    "# #list(['cat1','cat2','cat3'])\n",
    "\n",
    "# for i in range(3,25):\n",
    "#     features1.append('RAMNT_' + str(i) )\n",
    "# features1.append()\n",
    "# df_train[features1].corr()\n"
   ]
  },
  {
   "cell_type": "code",
   "execution_count": 6,
   "metadata": {},
   "outputs": [],
   "source": [
    "# print(df_train[['RAMNTALL']].isna().sum())\n",
    "# df_train[['RAMNTALL']].apply(lambda x: x.corr(df_train.TARGET_D))\n",
    "\n",
    "# #df_train.drop(\"TARGET_B\", axis=1).apply(lambda x: x.corr(df_train.TARGET_B))"
   ]
  },
  {
   "cell_type": "code",
   "execution_count": 7,
   "metadata": {},
   "outputs": [],
   "source": [
    "\n",
    "# c = df_train.corr().abs()\n",
    "\n",
    "# s = c.unstack()\n",
    "\n",
    "# so = s.sort_values(kind=\"quicksort\")\n",
    "\n",
    "# display(so.shape)\n",
    "\n",
    "# print(so[-2000:-1])"
   ]
  },
  {
   "cell_type": "code",
   "execution_count": 8,
   "metadata": {},
   "outputs": [],
   "source": [
    "#df_train.corr()['TARGET_B']\n",
    "# cols=df_train.columns[(df_train.isna().sum() == 0)]\n",
    "# cols = cols[cols != 'OSOURCE']\n",
    "# cols = cols[cols != 'STATE']\n",
    "# display(cols)\n",
    "\n",
    "# df_new[cols].apply(lambda x: x.corr(df_new.TARGET_B))"
   ]
  },
  {
   "cell_type": "markdown",
   "metadata": {},
   "source": [
    "## Pre processing"
   ]
  },
  {
   "cell_type": "code",
   "execution_count": 9,
   "metadata": {
    "scrolled": false
   },
   "outputs": [],
   "source": [
    "# imputer = SimpleImputer(strategy = 'most_frequent')\n",
    "# df_train[['AGE']] = imputer.fit_transform(df_train[['AGE']])\n",
    "\n"
   ]
  },
  {
   "cell_type": "markdown",
   "metadata": {},
   "source": [
    "## set X,y"
   ]
  },
  {
   "cell_type": "code",
   "execution_count": 10,
   "metadata": {},
   "outputs": [],
   "source": [
    "# X = df_train.drop(['TARGET_B','TARGET_D'],axis=1)\n",
    "# y = df_train.TARGET_B\n",
    "\n",
    "# X_train,X_test,y_train ,y_test = train_test_split(X,y,random_state = 42,train_size = 0.8,test_size=0.2)\n",
    "# #X_train,X_test ,y_train ,y_test\n",
    "\n",
    "# #print(X_train.isna().sum().to_string())"
   ]
  },
  {
   "cell_type": "code",
   "execution_count": 11,
   "metadata": {},
   "outputs": [],
   "source": [
    "# X_train_sub = X_train[['AGE']]\n",
    "# X_test_sub = X_test[['AGE']]\n",
    "\n"
   ]
  },
  {
   "cell_type": "markdown",
   "metadata": {},
   "source": [
    "## LogisticRegression"
   ]
  },
  {
   "cell_type": "code",
   "execution_count": 12,
   "metadata": {},
   "outputs": [],
   "source": [
    "# model = LogisticRegression()\n",
    "# model.fit(X_train_sub,y_train)\n",
    "\n",
    "# #y_pred = model.predict(X_test_sub)\n",
    "# y_test_pred = cross_val_predict(model,X_test_sub,y_test,cv=3)\n",
    "# conf_mat = confusion_matrix(y_test,y_test_pred)\n",
    "# f1 = f1_score(y_test,y_test_pred)\n",
    "\n",
    "# print('Accuracy of logistic regression classifier on test set: {:.2f}'.format(model.score(X_test_sub, y_test)))\n",
    "# print('f1 of logistic regression classifier on test set: {:.2f}'.format(f1))\n",
    "# display(conf_mat)"
   ]
  },
  {
   "cell_type": "markdown",
   "metadata": {},
   "source": [
    "## SGDClassifier"
   ]
  },
  {
   "cell_type": "code",
   "execution_count": 13,
   "metadata": {},
   "outputs": [],
   "source": [
    "# sgd_clf = SGDClassifier(random_state=0,max_iter=50)\n",
    "# sgd_clf.fit(X_train_sub,y_train)\n",
    "\n",
    "# #y_pred = model.predict(X_test_sub)\n",
    "# y_test_pred = cross_val_predict(sgd_clf,X_test_sub,y_test,cv=3)\n",
    "# conf_mat = confusion_matrix(y_test,y_test_pred)\n",
    "# f1 = f1_score(y_test,y_test_pred)\n",
    "\n",
    "# print('Accuracy of logistic regression classifier on test set: {:.2f}'.format(sgd_clf.score(X_test_sub, y_test)))\n",
    "# print('f1 of logistic regression classifier on test set: {:.2f}'.format(f1))\n",
    "# display(conf_mat)\n"
   ]
  },
  {
   "cell_type": "markdown",
   "metadata": {},
   "source": [
    "### RandomForestClassifier"
   ]
  },
  {
   "cell_type": "code",
   "execution_count": 14,
   "metadata": {},
   "outputs": [],
   "source": [
    "# forest_clf = RandomForestClassifier(n_estimators=1)\n",
    "# forest_clf.fit(X_train_sub,y_train)\n",
    "\n",
    "# #y_pred = model.predict(X_test_sub)\n",
    "# y_test_pred = cross_val_predict(forest_clf,X_test_sub,y_test,cv=3)\n",
    "# conf_mat = confusion_matrix(y_test,y_test_pred)\n",
    "# f1 = f1_score(y_test,y_test_pred)\n",
    "\n",
    "# print('Accuracy of logistic regression classifier on test set: {:.2f}'.format(forest_clf.score(X_test_sub, y_test)))\n",
    "# print('f1 of logistic regression classifier on test set: {:.2f}'.format(f1))\n",
    "# display(conf_mat)"
   ]
  },
  {
   "cell_type": "markdown",
   "metadata": {},
   "source": [
    "### LogisticRegression + PolynomialFeatures"
   ]
  },
  {
   "cell_type": "code",
   "execution_count": 15,
   "metadata": {},
   "outputs": [],
   "source": [
    "# poly = PolynomialFeatures(degree=4)\n",
    "\n",
    "# model = LogisticRegression(solver='lbfgs', multi_class='multinomial')\n",
    "# model = make_pipeline(poly, model)\n",
    "# model.fit(X_train_sub, y_train)\n",
    "\n",
    "# #y_pred = model.predict(X_test_sub)\n",
    "# y_test_pred = cross_val_predict(model,X_test_sub,y_test,cv=3)\n",
    "# conf_mat = confusion_matrix(y_test,y_test_pred)\n",
    "# f1 = f1_score(y_test,y_test_pred)\n",
    "\n",
    "# print('Accuracy of logistic regression classifier on test set: {:.2f}'.format(model.score(X_test_sub, y_test)))\n",
    "# print('f1 of logistic regression classifier on test set: {:.2f}'.format(f1))\n",
    "# display(conf_mat)\n",
    "    \n"
   ]
  },
  {
   "cell_type": "markdown",
   "metadata": {},
   "source": [
    "### SGDClassifier + PolynomialFeatures"
   ]
  },
  {
   "cell_type": "code",
   "execution_count": 16,
   "metadata": {},
   "outputs": [],
   "source": [
    "# poly = PolynomialFeatures(degree=4)\n",
    "\n",
    "# sgd_clf = SGDClassifier(random_state=0,max_iter=50)\n",
    "# sgd_clf = make_pipeline(poly, sgd_clf)\n",
    "# sgd_clf.fit(X_train_sub, y_train)\n",
    "\n",
    "# #y_pred = model.predict(X_test_sub)\n",
    "# y_test_pred = cross_val_predict(sgd_clf,X_test_sub,y_test,cv=3)\n",
    "# conf_mat = confusion_matrix(y_test,y_test_pred)\n",
    "# f1 = f1_score(y_test,y_test_pred)\n",
    "\n",
    "# print('Accuracy of logistic regression classifier on test set: {:.2f}'.format(sgd_clf.score(X_test_sub, y_test)))\n",
    "# print('f1 of logistic regression classifier on test set: {:.2f}'.format(f1))\n",
    "# display(conf_mat)\n",
    "    \n"
   ]
  },
  {
   "cell_type": "markdown",
   "metadata": {},
   "source": [
    "### KNeighborsClassifier"
   ]
  },
  {
   "cell_type": "code",
   "execution_count": 17,
   "metadata": {},
   "outputs": [],
   "source": [
    "# poly = PolynomialFeatures(degree=4)\n",
    "\n",
    "# knn = make_pipeline(poly, KNeighborsClassifier(n_neighbors=5))\n",
    "# knn.fit(X_train_sub, y_train)\n",
    "\n",
    "# #y_pred = model.predict(X_test_sub)\n",
    "# y_test_pred = cross_val_predict(knn,X_test_sub,y_test,cv=3)\n",
    "# conf_mat = confusion_matrix(y_test,y_test_pred)\n",
    "# f1 = f1_score(y_test,y_test_pred)\n",
    "\n",
    "# print('Accuracy of logistic regression classifier on test set: {:.2f}'.format(knn.score(X_test_sub, y_test)))\n",
    "# print('f1 of logistic regression classifier on test set: {:.2f}'.format(f1))\n",
    "# display(conf_mat)"
   ]
  },
  {
   "cell_type": "code",
   "execution_count": null,
   "metadata": {},
   "outputs": [],
   "source": []
  },
  {
   "cell_type": "markdown",
   "metadata": {},
   "source": [
    "### ColumnTransformer"
   ]
  },
  {
   "cell_type": "code",
   "execution_count": 18,
   "metadata": {},
   "outputs": [],
   "source": [
    "# #print(X_train.isna().sum())\n",
    "# # X_train.info()\n",
    "# # print(X_train.select_dtypes(include=['float64','int64']).columns)\n",
    "# X = df_train.drop(['TARGET_B','TARGET_D'],axis=1)\n",
    "# y = df_train.TARGET_B\n",
    "\n",
    "# print(X.shape)\n",
    "\n",
    "# numeric_features = X.select_dtypes(include=['float64','int64']).columns\n",
    "# numeric_transformer = Pipeline([('imputer',SimpleImputer(strategy='median'))])\n",
    "\n",
    "# #create the preprocessing pipeline for the categorial data\n",
    "# category_features = X.select_dtypes(include=['object']).columns\n",
    "# category_transformer = Pipeline([('imputer',SimpleImputer(strategy='most_frequent')),\n",
    "#                                ('onehot',OneHotEncoder())])\n",
    "\n",
    "\n",
    "# preprocessor = ColumnTransformer([\n",
    "#      ('num',numeric_transformer,numeric_features)\n",
    "#      #('cat',category_transformer,category_features)\n",
    "# ])#,remainder='passthrough')\n",
    "\n",
    "# clf = Pipeline([\n",
    "#     ('pre',preprocessor)\n",
    "#     #('cls',RandomForestClassifier(n_estimators=5))\n",
    "# ])\n",
    "\n",
    "\n",
    "\n",
    "# #X_train,X_test,y_train ,y_test = train_test_split(X,y,test_size=0.2,random_state = 42)\n",
    "# #X_train,X_test ,y_train ,y_test\n",
    "\n",
    "# X_train_pre = clf.fit_transform(X)\n",
    "\n",
    "\n"
   ]
  },
  {
   "cell_type": "markdown",
   "metadata": {},
   "source": [
    "## VarianceThreshold"
   ]
  },
  {
   "cell_type": "code",
   "execution_count": 19,
   "metadata": {},
   "outputs": [],
   "source": [
    "### VarianceThreshold\n",
    "\n",
    "\n",
    "# print(X_train_pre.shape)\n",
    "\n",
    "# sel = VarianceThreshold(threshold=0.05)\n",
    "# X_train_pre = sel.fit_transform(X_train_pre)\n",
    "\n",
    "# print(X_train_pre.shape)\n",
    "\n",
    "\n",
    "\n",
    "\n",
    "\n"
   ]
  },
  {
   "cell_type": "code",
   "execution_count": 20,
   "metadata": {
    "scrolled": true
   },
   "outputs": [],
   "source": [
    "# #X_train_pre_centered = X_train_pre - X_train_pre.mean(axis=0)\n",
    "# df = pd.DataFrame(X_train_pre)\n",
    "# df\n"
   ]
  },
  {
   "cell_type": "markdown",
   "metadata": {},
   "source": [
    "## train / Test"
   ]
  },
  {
   "cell_type": "code",
   "execution_count": 21,
   "metadata": {},
   "outputs": [],
   "source": [
    "# X_train,X_test,y_train ,y_test = train_test_split(df,y,test_size=0.2,random_state = 42,stratify=y)\n",
    "# X_train,X_test ,y_train ,y_test\n",
    "\n",
    "# print(X_train_pre.shape)\n",
    "# # print(X_train_pre.info())\n",
    "# # X_train = df.select_dtypes(include=['float64','int64'])\n",
    "# #print(X_train)\n",
    "\n",
    "\n"
   ]
  },
  {
   "cell_type": "markdown",
   "metadata": {},
   "source": [
    "### PCA & RandomForestClassifier"
   ]
  },
  {
   "cell_type": "code",
   "execution_count": 22,
   "metadata": {},
   "outputs": [],
   "source": [
    "# pca = PCA(n_components = 20)\n",
    "# X_train_after_pca = pca.fit_transform(X_train)\n",
    "# X_test_after_pca = pca.transform(X_test)\n",
    "\n",
    "# forest_clf = RandomForestClassifier(n_estimators=15)\n",
    "# forest_clf.fit(X_train_after_pca, y_train)\n",
    "\n",
    "# #y_pred = model.predict(X_test_sub)\n",
    "# y_test_pred = cross_val_predict(forest_clf,X_test_after_pca, y_test, cv=3)\n",
    "# conf_mat = confusion_matrix(y_test,y_test_pred)\n",
    "# f1 = f1_score(y_test,y_test_pred)\n",
    "# accuracy = accuracy_score(y_test,y_test_pred)\n",
    "\n",
    "# print('Accuracy  classifier on test set: {:.2f}'.format(accuracy))\n",
    "# print('f1 of logistic regression classifier on test set: {:.2f}'.format(f1))\n",
    "# display(conf_mat)"
   ]
  },
  {
   "cell_type": "code",
   "execution_count": null,
   "metadata": {},
   "outputs": [],
   "source": []
  },
  {
   "cell_type": "code",
   "execution_count": null,
   "metadata": {},
   "outputs": [],
   "source": []
  },
  {
   "cell_type": "code",
   "execution_count": null,
   "metadata": {},
   "outputs": [],
   "source": []
  },
  {
   "cell_type": "code",
   "execution_count": null,
   "metadata": {},
   "outputs": [],
   "source": []
  },
  {
   "cell_type": "code",
   "execution_count": 23,
   "metadata": {},
   "outputs": [],
   "source": [
    "# clf_selected = make_pipeline(\n",
    "#         SelectKBest(f_classif, k=15),  LinearSVC()\n",
    "# )\n",
    "# clf_selected.fit(X_train, y_train)\n",
    "\n",
    "\n",
    "# y_test_pred = cross_val_predict(clf_selected,X_test, y_test, cv=3,)\n",
    "# conf_mat = confusion_matrix(y_test,y_test_pred)\n",
    "\n",
    "# f1 = f1_score(y_test,y_test_pred)\n",
    "# accuracy = accuracy_score(y_test,y_test_pred)\n",
    "\n",
    "# print('Accuracy of classifier on test set: {:.2f}'.format(accuracy))\n",
    "# print('f1 of logistic regression classifier on test set: {:.2f}'.format(f1))\n",
    "# display(conf_mat)"
   ]
  },
  {
   "cell_type": "markdown",
   "metadata": {},
   "source": [
    "#######################"
   ]
  },
  {
   "cell_type": "code",
   "execution_count": 24,
   "metadata": {},
   "outputs": [],
   "source": [
    "\n",
    "# numeric_features = ['AGE']\n",
    "# numeric_transformer = Pipeline([('imputer',SimpleImputer(strategy='most_frequent'))])\n",
    "\n",
    "# category_features = ['STATE','GENDER']\n",
    "# category_transformer = Pipeline([('imputer',SimpleImputer(strategy='most_frequent')),\n",
    "#                                ('onehot',OneHotEncoder(sparse=False))])\n",
    "\n",
    "\n",
    "# preprocessor = ColumnTransformer([\n",
    "#      ('num',numeric_transformer,numeric_features),\n",
    "#      ('cat',category_transformer,category_features)\n",
    "# ])#,remainder='passthrough')\n",
    "\n",
    "# clf = Pipeline([\n",
    "#     ('pre',preprocessor)\n",
    "#     #('cls',RandomForestClassifier(n_estimators=5))\n",
    "# ])\n",
    "\n",
    "\n"
   ]
  },
  {
   "cell_type": "code",
   "execution_count": 25,
   "metadata": {},
   "outputs": [],
   "source": [
    "\n",
    "\n",
    "# df_train = pd.read_csv('train.csv',na_values=[' '])\n",
    "# #print(df_train.dtypes)\n",
    "\n",
    "# df_train.loc[df_train.NOEXCH == 1, 'NOEXCH']   = 'X'\n",
    "# df_train.loc[df_train.NOEXCH == 0, 'NOEXCH']   = np.nan\n",
    "# df_train.loc[df_train.NOEXCH == '1', 'NOEXCH']   = 'X'\n",
    "# df_train.loc[df_train.NOEXCH == '0', 'NOEXCH']   = np.nan\n",
    "\n",
    "# df_train.drop(['OSOURCE'],axis=1,inplace=True)\n",
    "\n",
    "\n",
    "# X = df_train.drop(['TARGET_B','TARGET_D'],axis=1)\n",
    "# y = df_train.TARGET_B\n",
    "\n",
    "# X_train_pre = clf.fit_transform(X)"
   ]
  },
  {
   "cell_type": "code",
   "execution_count": 26,
   "metadata": {},
   "outputs": [],
   "source": [
    "# X_train,X_test,y_train ,y_test = train_test_split(X_train_pre,y,test_size=0.2,random_state = 42,stratify=y)\n",
    "# X_train.shape\n",
    "# #X_train,X_test ,y_train ,y_test"
   ]
  },
  {
   "cell_type": "code",
   "execution_count": 27,
   "metadata": {},
   "outputs": [],
   "source": [
    "# clf_selected = make_pipeline(\n",
    "#         SelectKBest(f_classif, k=15),  LinearSVC()\n",
    "# )\n",
    "# clf_selected.fit(X_train, y_train)\n",
    "\n",
    "\n",
    "# y_test_pred = cross_val_predict(clf_selected,X_test, y_test, cv=3,)\n",
    "# conf_mat = confusion_matrix(y_test,y_test_pred)\n",
    "\n",
    "# f1 = f1_score(y_test,y_test_pred)\n",
    "# accuracy = accuracy_score(y_test,y_test_pred)\n",
    "\n",
    "# print('Accuracy of classifier on test set: {:.2f}'.format(accuracy))\n",
    "# print('f1 of logistic regression classifier on test set: {:.2f}'.format(f1))\n",
    "# display(conf_mat)"
   ]
  },
  {
   "cell_type": "markdown",
   "metadata": {},
   "source": [
    "###########     2    ############"
   ]
  },
  {
   "cell_type": "code",
   "execution_count": 5,
   "metadata": {},
   "outputs": [
    {
     "name": "stderr",
     "output_type": "stream",
     "text": [
      "C:\\Users\\user\\Anaconda3\\lib\\site-packages\\IPython\\core\\interactiveshell.py:3058: DtypeWarning: Columns (6,8,9,10,11,12,52) have mixed types. Specify dtype option on import or set low_memory=False.\n",
      "  interactivity=interactivity, compiler=compiler, result=result)\n"
     ]
    }
   ],
   "source": [
    "df_train = pd.read_csv('train.csv',na_values=[' '])\n",
    "# df_train_true = df_train[df_train.TARGET_B==1]\n",
    "# df_train_false = df_train[df_train.TARGET_B==0]\n"
   ]
  },
  {
   "cell_type": "code",
   "execution_count": 6,
   "metadata": {},
   "outputs": [
    {
     "name": "stdout",
     "output_type": "stream",
     "text": [
      "(95412, 481)\n",
      "(4843, 481)\n",
      "(90569, 481)\n"
     ]
    }
   ],
   "source": [
    "# print(df_train.shape)\n",
    "# print(df_train_true.shape)\n",
    "# print(df_train_false.shape)"
   ]
  },
  {
   "cell_type": "code",
   "execution_count": 11,
   "metadata": {},
   "outputs": [
    {
     "name": "stdout",
     "output_type": "stream",
     "text": [
      "37\n",
      "(179191, 481)\n",
      "(274603, 481)\n"
     ]
    }
   ],
   "source": [
    "# from sklearn.utils import shuffle\n",
    "\n",
    "# df_train_false = shuffle(df_train_false)\n",
    "\n",
    "# n = df_train_false.shape[0] * 2\n",
    "# n = n / df_train_true.shape[0]\n",
    "# n = int(np.round(n,0))\n",
    "# print(n)\n",
    "\n",
    "\n",
    "# df_train_2 = pd.concat([df_train_true] * n )\n",
    "# print(df_train_2.shape)\n",
    "# df_train_2 = pd.concat([df_train, df_train_2])\n",
    "# print(df_train_2.shape)"
   ]
  },
  {
   "cell_type": "code",
   "execution_count": 12,
   "metadata": {},
   "outputs": [],
   "source": [
    "# corr = df_train_true.corr()\n",
    "\n",
    "# c1 = corr.abs().unstack()\n",
    "# s = c1.sort_values(ascending = False)\n",
    "# t = s[s == 1]\n",
    "# with pd.option_context('display.max_rows', None, 'display.max_columns', None): \n",
    "#     print(t)"
   ]
  },
  {
   "cell_type": "code",
   "execution_count": 32,
   "metadata": {},
   "outputs": [],
   "source": [
    "# corr_target = df_train.corr()['TARGET_B']\n",
    "\n",
    "# corr_target[corr_target > 0.5]"
   ]
  },
  {
   "cell_type": "code",
   "execution_count": 65,
   "metadata": {},
   "outputs": [
    {
     "name": "stderr",
     "output_type": "stream",
     "text": [
      "C:\\Users\\user\\Anaconda3\\lib\\site-packages\\IPython\\core\\interactiveshell.py:3058: DtypeWarning: Columns (6,8,9,10,11,12,52) have mixed types. Specify dtype option on import or set low_memory=False.\n",
      "  interactivity=interactivity, compiler=compiler, result=result)\n"
     ]
    },
    {
     "data": {
      "text/plain": [
       "(76329, 54)"
      ]
     },
     "metadata": {},
     "output_type": "display_data"
    },
    {
     "data": {
      "text/plain": [
       "(116220, 54)"
      ]
     },
     "metadata": {},
     "output_type": "display_data"
    },
    {
     "data": {
      "text/plain": [
       "(192549, 54)"
      ]
     },
     "metadata": {},
     "output_type": "display_data"
    },
    {
     "name": "stderr",
     "output_type": "stream",
     "text": [
      "C:\\Users\\user\\Anaconda3\\lib\\site-packages\\sklearn\\ensemble\\forest.py:245: FutureWarning: The default value of n_estimators will change from 10 in version 0.20 to 100 in 0.22.\n",
      "  \"10 in version 0.20 to 100 in 0.22.\", FutureWarning)\n"
     ]
    },
    {
     "name": "stdout",
     "output_type": "stream",
     "text": [
      "Accuracy of classifier on test set: 0.95\n",
      "f1 classifier on test set: 0.00\n"
     ]
    },
    {
     "data": {
      "text/plain": [
       "array([[18092,    22],\n",
       "       [  969,     0]], dtype=int64)"
      ]
     },
     "metadata": {},
     "output_type": "display_data"
    }
   ],
   "source": [
    "df = pd.read_csv('train.csv',na_values=[' '])\n",
    "df_new = df[['RAMNT_5','MC1','MC2','MC3','TPE10','TPE1','TPE2','TPE3','TPE4','TPE7','TPE9','TPE12','PEC2',\n",
    "                  'CARDGIFT','NGIFTALL','RAMNTALL','INCOME','AGE',\n",
    "                    'HHAS4',\n",
    "                   'HHAS3','HHAS2','HHAS1','IC22','IC21','IC20','IC19','OCC12','LFC1',\n",
    "                   'IC18' ,'TPE1', 'TPE13','IC16', 'OCC3' ,'EIC6','EIC3','EIC2','EIC1', 'OCC11','OCC10','OCC8',\n",
    "                    'OCC6','OCC2','OCC1','LFC10','LFC9','LFC8','LFC7','LFC6','IC17','IC15', 'LFC4', 'LFC3', 'LFC2']]\n",
    "\n",
    "\n",
    "\n",
    "clf = Pipeline([\n",
    "    ('imputer',SimpleImputer(strategy='mean')),\n",
    "    ('scaler',StandardScaler())\n",
    "    #('cls',RandomForestClassifier(n_estimators=5))\n",
    "])\n",
    "\n",
    "\n",
    "X = df_new\n",
    "y = df.TARGET_B\n",
    "\n",
    "X_scaled = clf.fit_transform(X)\n",
    "\n",
    "X_train,X_test,y_train ,y_test = train_test_split(X_scaled, y , test_size=0.2,random_state = 42,stratify=y)\n",
    "\n",
    "\n",
    "df_train = pd.DataFrame(X_train,index=y_train.index)\n",
    "df_train['TARGET_B'] = y_train\n",
    "display(df_train.shape)\n",
    "\n",
    "df_train_after_split_true = df_train[df_train['TARGET_B'] == 1] \n",
    "df_train_after_split_true_repeat = pd.concat([df_train_after_split_true] * 30)\n",
    "display(df_train_after_split_true_repeat.shape)\n",
    "\n",
    "df_train_all = pd.concat([df_train,df_train_after_split_true_repeat])\n",
    "display(df_train_all.shape)\n",
    "\n",
    "\n",
    "X_train = df_train_all.drop('TARGET_B',axis=1)\n",
    "y_train = df_train_all.TARGET_B\n",
    "     \n",
    "clf_selected = make_pipeline(\n",
    "        SelectKBest(f_classif, k=15),  RandomForestClassifier()\n",
    ")\n",
    "clf_selected.fit(X_train, y_train)\n",
    "\n",
    "\n",
    "y_test_pred = cross_val_predict(clf_selected,X_test, y_test, cv=3)\n",
    "conf_mat = confusion_matrix(y_test,y_test_pred)\n",
    "\n",
    "f1 = f1_score(y_test,y_test_pred)\n",
    "accuracy = accuracy_score(y_test,y_test_pred)\n",
    "\n",
    "print('Accuracy of classifier on test set: {:.2f}'.format(accuracy))\n",
    "print('f1 classifier on test set: {:.2f}'.format(f1))\n",
    "display(conf_mat)\n",
    "\n",
    "           \n",
    "  \n",
    "                "
   ]
  },
  {
   "cell_type": "code",
   "execution_count": null,
   "metadata": {},
   "outputs": [],
   "source": []
  },
  {
   "cell_type": "code",
   "execution_count": 69,
   "metadata": {},
   "outputs": [
    {
     "name": "stderr",
     "output_type": "stream",
     "text": [
      "C:\\Users\\user\\Anaconda3\\lib\\site-packages\\IPython\\core\\interactiveshell.py:3058: DtypeWarning: Columns (6,8,9,10,11,12,52) have mixed types. Specify dtype option on import or set low_memory=False.\n",
      "  interactivity=interactivity, compiler=compiler, result=result)\n"
     ]
    }
   ],
   "source": [
    "df = pd.read_csv('train.csv',na_values=[' '])"
   ]
  },
  {
   "cell_type": "code",
   "execution_count": 83,
   "metadata": {},
   "outputs": [
    {
     "data": {
      "text/plain": [
       "0.05347304265256324"
      ]
     },
     "execution_count": 83,
     "metadata": {},
     "output_type": "execute_result"
    }
   ],
   "source": [
    "# target b = 1 / all population\n",
    "df_true = df[df.TARGET_B==1]\n",
    "df_false = df[df.TARGET_B==0]\n",
    "\n",
    "df_true.shape[0]/df_false.shape[0]"
   ]
  },
  {
   "cell_type": "code",
   "execution_count": 97,
   "metadata": {},
   "outputs": [
    {
     "name": "stdout",
     "output_type": "stream",
     "text": [
      "RAMNT_3 df_true 0.8422076984928768 df_false 1.0321864893621495\n",
      "RAMNT_4 df_true 1.122934409949148 df_false 0.9858527861566457\n",
      "RAMNT_5 df_true 0.4117647058823529 df_false 1.1680672268907564\n",
      "RAMNT_6 df_true 0.7895147370471333 df_false 1.0195662357111115\n",
      "RAMNT_7 df_true 0.8185146279047286 df_false 1.0102837399013358\n",
      "RAMNT_8 df_true 0.8506127250704597 df_false 1.0104195986897846\n",
      "RAMNT_9 df_true 0.8780679627732518 df_false 1.0082044964139434\n",
      "RAMNT_10 df_true 0.8525717111692406 df_false 1.0078679884281847\n",
      "RAMNT_11 df_true 0.8512370982140176 df_false 1.0090126898333427\n",
      "RAMNT_12 df_true 0.8609194724260234 df_false 1.0087612045950762\n",
      "RAMNT_13 df_true 0.8503713967916282 df_false 1.0113966440289606\n",
      "RAMNT_14 df_true 0.8807358971189986 df_false 1.0085513628025171\n",
      "RAMNT_15 df_true 0.837333063668289 df_false 1.0123126654518597\n",
      "RAMNT_16 df_true 0.835694358078998 df_false 1.00989279875358\n",
      "RAMNT_17 df_true 0.8364531456244202 df_false 1.0094396417973304\n",
      "RAMNT_18 df_true 0.8916930315002053 df_false 1.007045493696702\n",
      "RAMNT_19 df_true 0.8761505977284334 df_false 1.0082272339364977\n",
      "RAMNT_20 df_true 0.8313003143228206 df_false 1.0094161114880718\n",
      "RAMNT_21 df_true 0.8821899285226541 df_false 1.0063977540755733\n",
      "RAMNT_22 df_true 0.9182330041648341 df_false 1.0052263526569802\n",
      "RAMNT_23 df_true 0.8812526363701748 df_false 1.0081026473483992\n",
      "RAMNT_24 df_true 0.8836418881599468 df_false 1.0079843297419013\n"
     ]
    }
   ],
   "source": [
    "# RAMNT_3 ... RAMNT_24\n",
    "# conclu: RAMNT_5\n",
    "for i in range(3,25):\n",
    "    feature = 'RAMNT_' + str(i)\n",
    "    mean_all = df[feature].mean()\n",
    "    print(feature, 'df_true',df_true[feature].mean() / mean_all, 'df_false',df_false[feature].mean() /mean_all)\n",
    "\n"
   ]
  },
  {
   "cell_type": "code",
   "execution_count": 98,
   "metadata": {},
   "outputs": [
    {
     "name": "stdout",
     "output_type": "stream",
     "text": [
      "RAMNTALL df_true 1.0719035528466812 df_false 0.9961550982517582\n"
     ]
    }
   ],
   "source": []
  },
  {
   "cell_type": "code",
   "execution_count": 99,
   "metadata": {},
   "outputs": [
    {
     "name": "stdout",
     "output_type": "stream",
     "text": [
      "NGIFTALL df_true 1.1960827066720991 df_false 0.9895148610626927\n",
      "CARDGIFT df_true 1.2090835333250292 df_false 0.9888196673045622\n",
      "MINRAMNT df_true 0.8515313742881325 df_false 1.0079390691552583\n",
      "MINRDATE df_true 0.9992865127839649 df_false 1.000038152332335\n",
      "MAXRAMNT df_true 0.9088728622153334 df_false 1.0048728453255653\n",
      "MAXRDATE df_true 0.9979049316283738 df_false 1.000112029680396\n",
      "LASTGIFT df_true 0.8761536464936479 df_false 1.0066224413434095\n",
      "FISTDATE df_true 0.9950405676915698 df_false 1.0002651959353612\n",
      "NEXTDATE df_true 0.996510041416292 df_false 1.0001950798689272\n",
      "TIMELAG df_true 0.9543819919800142 df_false 1.0025499314137425\n",
      "AVGGIFT df_true 0.886795306273874 df_false 1.0060533994160847\n"
     ]
    }
   ],
   "source": [
    "# conclu: --\n",
    "feature = 'RAMNTALL'\n",
    "mean_all = df[feature].mean()\n",
    "print(feature, 'df_true',df_true[feature].mean() / mean_all, 'df_false',df_false[feature].mean() /mean_all)\n",
    "\n",
    "feature = 'NGIFTALL'\n",
    "mean_all = df[feature].mean()\n",
    "print(feature, 'df_true',df_true[feature].mean() / mean_all, 'df_false',df_false[feature].mean() /mean_all)\n",
    "\n",
    "feature = 'CARDGIFT'\n",
    "mean_all = df[feature].mean()\n",
    "print(feature, 'df_true',df_true[feature].mean() / mean_all, 'df_false',df_false[feature].mean() /mean_all)\n",
    "\n",
    "feature = 'MINRAMNT'\n",
    "mean_all = df[feature].mean()\n",
    "print(feature, 'df_true',df_true[feature].mean() / mean_all, 'df_false',df_false[feature].mean() /mean_all)\n",
    "\n",
    "feature = 'MINRDATE'\n",
    "mean_all = df[feature].mean()\n",
    "print(feature, 'df_true',df_true[feature].mean() / mean_all, 'df_false',df_false[feature].mean() /mean_all)\n",
    "\n",
    "feature = 'MAXRAMNT'\n",
    "mean_all = df[feature].mean()\n",
    "print(feature, 'df_true',df_true[feature].mean() / mean_all, 'df_false',df_false[feature].mean() /mean_all)\n",
    "\n",
    "feature = 'MAXRDATE'\n",
    "mean_all = df[feature].mean()\n",
    "print(feature, 'df_true',df_true[feature].mean() / mean_all, 'df_false',df_false[feature].mean() /mean_all)\n",
    "\n",
    "feature = 'LASTGIFT'\n",
    "mean_all = df[feature].mean()\n",
    "print(feature, 'df_true',df_true[feature].mean() / mean_all, 'df_false',df_false[feature].mean() /mean_all)\n",
    "\n",
    "feature = 'FISTDATE'\n",
    "mean_all = df[feature].mean()\n",
    "print(feature, 'df_true',df_true[feature].mean() / mean_all, 'df_false',df_false[feature].mean() /mean_all)\n",
    "\n",
    "feature = 'NEXTDATE'\n",
    "mean_all = df[feature].mean()\n",
    "print(feature, 'df_true',df_true[feature].mean() / mean_all, 'df_false',df_false[feature].mean() /mean_all)\n",
    "\n",
    "feature = 'TIMELAG'\n",
    "mean_all = df[feature].mean()\n",
    "print(feature, 'df_true',df_true[feature].mean() / mean_all, 'df_false',df_false[feature].mean() /mean_all)\n",
    "\n",
    "feature = 'AVGGIFT'\n",
    "mean_all = df[feature].mean()\n",
    "print(feature, 'df_true',df_true[feature].mean() / mean_all, 'df_false',df_false[feature].mean() /mean_all)\n",
    "                      \n",
    "                             \n",
    "                    "
   ]
  },
  {
   "cell_type": "code",
   "execution_count": 245,
   "metadata": {},
   "outputs": [
    {
     "ename": "TypeError",
     "evalue": "__init__() got an unexpected keyword argument 'impute_missing'",
     "output_type": "error",
     "traceback": [
      "\u001b[1;31m---------------------------------------------------------------------------\u001b[0m",
      "\u001b[1;31mTypeError\u001b[0m                                 Traceback (most recent call last)",
      "\u001b[1;32m<ipython-input-245-9605db89c336>\u001b[0m in \u001b[0;36m<module>\u001b[1;34m\u001b[0m\n\u001b[0;32m     10\u001b[0m \u001b[1;33m\u001b[0m\u001b[0m\n\u001b[0;32m     11\u001b[0m pipe = Pipeline([('imputer',SimpleImputer(strategy='most_frequent')),\n\u001b[1;32m---> 12\u001b[1;33m                                 ('onehot',OneHotEncoder(handle_unknown='impute',impute_missing=True,use_cat_names=True))])\n\u001b[0m\u001b[0;32m     13\u001b[0m \u001b[1;33m\u001b[0m\u001b[0m\n\u001b[0;32m     14\u001b[0m \u001b[1;33m\u001b[0m\u001b[0m\n",
      "\u001b[1;31mTypeError\u001b[0m: __init__() got an unexpected keyword argument 'impute_missing'"
     ]
    }
   ],
   "source": [
    "# RFA_2  ... RFA_24\n",
    "# conclu: \n",
    "\n",
    "feature = 'RFA_3'\n",
    "\n",
    "labels = df[feature].unique()\n",
    "all_means = []\n",
    "true_means = []\n",
    "false_means = []\n",
    "\n",
    "pipe = Pipeline([('imputer',SimpleImputer(strategy='most_frequent')),\n",
    "                                ('onehot',OneHotEncoder(handle_unknown='impute',impute_missing=True,use_cat_names=True))])\n",
    "\n",
    "\n",
    "df_1 = df[[feature]]\n",
    "df_true_1 = df_true[[feature]]\n",
    "df_false_1 = df_false[[feature]]\n",
    "\n",
    "\n",
    "x_1 = pipe.fit_transform(df_1)\n",
    "x_true = pipe.fit_transform(df_true_1)\n",
    "x_false = pipe.fit_transform(df_false_1)\n",
    "\n",
    "print(x_1.shape,type(x_1))\n",
    "print(x_true.shape)\n",
    "print(x_false.shape)\n",
    "\n",
    "\n",
    "for i in range(0,x_1.shape[1]):\n",
    "    all_means.append(x_1[:,i].toarray().mean())\n",
    "    \n",
    "for i in range(0,x_true.shape[1]):\n",
    "    true_means.append(x_true[:,i].toarray().mean())\n",
    "        \n",
    "for i in range(0,x_false.shape[1]):\n",
    "    false_means.append(x_false[:,i].toarray().mean())\n",
    "    \n",
    "#     print('all',i, x_1[:,i].toarray().mean())\n",
    "#     print('true',i, x_true[:,i].toarray().mean())\n",
    "#     print('false',i, x_false[:,i].toarray().mean())\n",
    "#     print('***********')\n",
    "   \n",
    "    \n"
   ]
  },
  {
   "cell_type": "code",
   "execution_count": 234,
   "metadata": {},
   "outputs": [
    {
     "ename": "ValueError",
     "evalue": "shape mismatch: objects cannot be broadcast to a single shape",
     "output_type": "error",
     "traceback": [
      "\u001b[1;31m---------------------------------------------------------------------------\u001b[0m",
      "\u001b[1;31mValueError\u001b[0m                                Traceback (most recent call last)",
      "\u001b[1;32m<ipython-input-234-84945ec683ef>\u001b[0m in \u001b[0;36m<module>\u001b[1;34m\u001b[0m\n\u001b[0;32m     11\u001b[0m \u001b[1;31m#print('width',width)\u001b[0m\u001b[1;33m\u001b[0m\u001b[1;33m\u001b[0m\u001b[1;33m\u001b[0m\u001b[0m\n\u001b[0;32m     12\u001b[0m \u001b[1;31m#print(len(true_means),len(false_means))\u001b[0m\u001b[1;33m\u001b[0m\u001b[1;33m\u001b[0m\u001b[1;33m\u001b[0m\u001b[0m\n\u001b[1;32m---> 13\u001b[1;33m \u001b[0mrects1\u001b[0m \u001b[1;33m=\u001b[0m \u001b[0max\u001b[0m\u001b[1;33m.\u001b[0m\u001b[0mbar\u001b[0m\u001b[1;33m(\u001b[0m\u001b[0mx\u001b[0m \u001b[1;33m-\u001b[0m \u001b[0mwidth\u001b[0m\u001b[1;33m/\u001b[0m\u001b[1;36m2\u001b[0m\u001b[1;33m,\u001b[0m \u001b[0mtrue_means\u001b[0m\u001b[1;33m,\u001b[0m \u001b[0mwidth\u001b[0m\u001b[1;33m,\u001b[0m \u001b[0mlabel\u001b[0m\u001b[1;33m=\u001b[0m\u001b[1;34m'true'\u001b[0m\u001b[1;33m,\u001b[0m\u001b[0mfill\u001b[0m\u001b[1;33m=\u001b[0m\u001b[1;32mFalse\u001b[0m\u001b[1;33m)\u001b[0m\u001b[1;33m\u001b[0m\u001b[1;33m\u001b[0m\u001b[0m\n\u001b[0m\u001b[0;32m     14\u001b[0m \u001b[1;33m\u001b[0m\u001b[0m\n\u001b[0;32m     15\u001b[0m \u001b[0mrects2\u001b[0m \u001b[1;33m=\u001b[0m \u001b[0max\u001b[0m\u001b[1;33m.\u001b[0m\u001b[0mbar\u001b[0m\u001b[1;33m(\u001b[0m\u001b[0mx\u001b[0m \u001b[1;33m+\u001b[0m \u001b[0mwidth\u001b[0m\u001b[1;33m/\u001b[0m\u001b[1;36m2\u001b[0m\u001b[1;33m,\u001b[0m \u001b[0mfalse_means\u001b[0m\u001b[1;33m,\u001b[0m \u001b[0mwidth\u001b[0m\u001b[1;33m,\u001b[0m \u001b[0mlabel\u001b[0m\u001b[1;33m=\u001b[0m\u001b[1;34m'false'\u001b[0m\u001b[1;33m)\u001b[0m\u001b[1;33m\u001b[0m\u001b[1;33m\u001b[0m\u001b[0m\n",
      "\u001b[1;32m~\\Anaconda3\\lib\\site-packages\\matplotlib\\__init__.py\u001b[0m in \u001b[0;36minner\u001b[1;34m(ax, data, *args, **kwargs)\u001b[0m\n\u001b[0;32m   1599\u001b[0m     \u001b[1;32mdef\u001b[0m \u001b[0minner\u001b[0m\u001b[1;33m(\u001b[0m\u001b[0max\u001b[0m\u001b[1;33m,\u001b[0m \u001b[1;33m*\u001b[0m\u001b[0margs\u001b[0m\u001b[1;33m,\u001b[0m \u001b[0mdata\u001b[0m\u001b[1;33m=\u001b[0m\u001b[1;32mNone\u001b[0m\u001b[1;33m,\u001b[0m \u001b[1;33m**\u001b[0m\u001b[0mkwargs\u001b[0m\u001b[1;33m)\u001b[0m\u001b[1;33m:\u001b[0m\u001b[1;33m\u001b[0m\u001b[1;33m\u001b[0m\u001b[0m\n\u001b[0;32m   1600\u001b[0m         \u001b[1;32mif\u001b[0m \u001b[0mdata\u001b[0m \u001b[1;32mis\u001b[0m \u001b[1;32mNone\u001b[0m\u001b[1;33m:\u001b[0m\u001b[1;33m\u001b[0m\u001b[1;33m\u001b[0m\u001b[0m\n\u001b[1;32m-> 1601\u001b[1;33m             \u001b[1;32mreturn\u001b[0m \u001b[0mfunc\u001b[0m\u001b[1;33m(\u001b[0m\u001b[0max\u001b[0m\u001b[1;33m,\u001b[0m \u001b[1;33m*\u001b[0m\u001b[0mmap\u001b[0m\u001b[1;33m(\u001b[0m\u001b[0msanitize_sequence\u001b[0m\u001b[1;33m,\u001b[0m \u001b[0margs\u001b[0m\u001b[1;33m)\u001b[0m\u001b[1;33m,\u001b[0m \u001b[1;33m**\u001b[0m\u001b[0mkwargs\u001b[0m\u001b[1;33m)\u001b[0m\u001b[1;33m\u001b[0m\u001b[1;33m\u001b[0m\u001b[0m\n\u001b[0m\u001b[0;32m   1602\u001b[0m \u001b[1;33m\u001b[0m\u001b[0m\n\u001b[0;32m   1603\u001b[0m         \u001b[0mbound\u001b[0m \u001b[1;33m=\u001b[0m \u001b[0mnew_sig\u001b[0m\u001b[1;33m.\u001b[0m\u001b[0mbind\u001b[0m\u001b[1;33m(\u001b[0m\u001b[0max\u001b[0m\u001b[1;33m,\u001b[0m \u001b[1;33m*\u001b[0m\u001b[0margs\u001b[0m\u001b[1;33m,\u001b[0m \u001b[1;33m**\u001b[0m\u001b[0mkwargs\u001b[0m\u001b[1;33m)\u001b[0m\u001b[1;33m\u001b[0m\u001b[1;33m\u001b[0m\u001b[0m\n",
      "\u001b[1;32m~\\Anaconda3\\lib\\site-packages\\matplotlib\\axes\\_axes.py\u001b[0m in \u001b[0;36mbar\u001b[1;34m(self, x, height, width, bottom, align, **kwargs)\u001b[0m\n\u001b[0;32m   2373\u001b[0m         x, height, width, y, linewidth = np.broadcast_arrays(\n\u001b[0;32m   2374\u001b[0m             \u001b[1;31m# Make args iterable too.\u001b[0m\u001b[1;33m\u001b[0m\u001b[1;33m\u001b[0m\u001b[1;33m\u001b[0m\u001b[0m\n\u001b[1;32m-> 2375\u001b[1;33m             np.atleast_1d(x), height, width, y, linewidth)\n\u001b[0m\u001b[0;32m   2376\u001b[0m \u001b[1;33m\u001b[0m\u001b[0m\n\u001b[0;32m   2377\u001b[0m         \u001b[1;31m# Now that units have been converted, set the tick locations.\u001b[0m\u001b[1;33m\u001b[0m\u001b[1;33m\u001b[0m\u001b[1;33m\u001b[0m\u001b[0m\n",
      "\u001b[1;32m~\\Anaconda3\\lib\\site-packages\\numpy\\lib\\stride_tricks.py\u001b[0m in \u001b[0;36mbroadcast_arrays\u001b[1;34m(*args, **kwargs)\u001b[0m\n\u001b[0;32m    257\u001b[0m     \u001b[0margs\u001b[0m \u001b[1;33m=\u001b[0m \u001b[1;33m[\u001b[0m\u001b[0mnp\u001b[0m\u001b[1;33m.\u001b[0m\u001b[0marray\u001b[0m\u001b[1;33m(\u001b[0m\u001b[0m_m\u001b[0m\u001b[1;33m,\u001b[0m \u001b[0mcopy\u001b[0m\u001b[1;33m=\u001b[0m\u001b[1;32mFalse\u001b[0m\u001b[1;33m,\u001b[0m \u001b[0msubok\u001b[0m\u001b[1;33m=\u001b[0m\u001b[0msubok\u001b[0m\u001b[1;33m)\u001b[0m \u001b[1;32mfor\u001b[0m \u001b[0m_m\u001b[0m \u001b[1;32min\u001b[0m \u001b[0margs\u001b[0m\u001b[1;33m]\u001b[0m\u001b[1;33m\u001b[0m\u001b[1;33m\u001b[0m\u001b[0m\n\u001b[0;32m    258\u001b[0m \u001b[1;33m\u001b[0m\u001b[0m\n\u001b[1;32m--> 259\u001b[1;33m     \u001b[0mshape\u001b[0m \u001b[1;33m=\u001b[0m \u001b[0m_broadcast_shape\u001b[0m\u001b[1;33m(\u001b[0m\u001b[1;33m*\u001b[0m\u001b[0margs\u001b[0m\u001b[1;33m)\u001b[0m\u001b[1;33m\u001b[0m\u001b[1;33m\u001b[0m\u001b[0m\n\u001b[0m\u001b[0;32m    260\u001b[0m \u001b[1;33m\u001b[0m\u001b[0m\n\u001b[0;32m    261\u001b[0m     \u001b[1;32mif\u001b[0m \u001b[0mall\u001b[0m\u001b[1;33m(\u001b[0m\u001b[0marray\u001b[0m\u001b[1;33m.\u001b[0m\u001b[0mshape\u001b[0m \u001b[1;33m==\u001b[0m \u001b[0mshape\u001b[0m \u001b[1;32mfor\u001b[0m \u001b[0marray\u001b[0m \u001b[1;32min\u001b[0m \u001b[0margs\u001b[0m\u001b[1;33m)\u001b[0m\u001b[1;33m:\u001b[0m\u001b[1;33m\u001b[0m\u001b[1;33m\u001b[0m\u001b[0m\n",
      "\u001b[1;32m~\\Anaconda3\\lib\\site-packages\\numpy\\lib\\stride_tricks.py\u001b[0m in \u001b[0;36m_broadcast_shape\u001b[1;34m(*args)\u001b[0m\n\u001b[0;32m    191\u001b[0m     \u001b[1;31m# use the old-iterator because np.nditer does not handle size 0 arrays\u001b[0m\u001b[1;33m\u001b[0m\u001b[1;33m\u001b[0m\u001b[1;33m\u001b[0m\u001b[0m\n\u001b[0;32m    192\u001b[0m     \u001b[1;31m# consistently\u001b[0m\u001b[1;33m\u001b[0m\u001b[1;33m\u001b[0m\u001b[1;33m\u001b[0m\u001b[0m\n\u001b[1;32m--> 193\u001b[1;33m     \u001b[0mb\u001b[0m \u001b[1;33m=\u001b[0m \u001b[0mnp\u001b[0m\u001b[1;33m.\u001b[0m\u001b[0mbroadcast\u001b[0m\u001b[1;33m(\u001b[0m\u001b[1;33m*\u001b[0m\u001b[0margs\u001b[0m\u001b[1;33m[\u001b[0m\u001b[1;33m:\u001b[0m\u001b[1;36m32\u001b[0m\u001b[1;33m]\u001b[0m\u001b[1;33m)\u001b[0m\u001b[1;33m\u001b[0m\u001b[1;33m\u001b[0m\u001b[0m\n\u001b[0m\u001b[0;32m    194\u001b[0m     \u001b[1;31m# unfortunately, it cannot handle 32 or more arguments directly\u001b[0m\u001b[1;33m\u001b[0m\u001b[1;33m\u001b[0m\u001b[1;33m\u001b[0m\u001b[0m\n\u001b[0;32m    195\u001b[0m     \u001b[1;32mfor\u001b[0m \u001b[0mpos\u001b[0m \u001b[1;32min\u001b[0m \u001b[0mrange\u001b[0m\u001b[1;33m(\u001b[0m\u001b[1;36m32\u001b[0m\u001b[1;33m,\u001b[0m \u001b[0mlen\u001b[0m\u001b[1;33m(\u001b[0m\u001b[0margs\u001b[0m\u001b[1;33m)\u001b[0m\u001b[1;33m,\u001b[0m \u001b[1;36m31\u001b[0m\u001b[1;33m)\u001b[0m\u001b[1;33m:\u001b[0m\u001b[1;33m\u001b[0m\u001b[1;33m\u001b[0m\u001b[0m\n",
      "\u001b[1;31mValueError\u001b[0m: shape mismatch: objects cannot be broadcast to a single shape"
     ]
    },
    {
     "data": {
      "image/png": "[encoded data removed]",
      "text/plain": [
       "<Figure size 432x288 with 1 Axes>"
      ]
     },
     "metadata": {
      "needs_background": "light"
     },
     "output_type": "display_data"
    }
   ],
   "source": [
    "#print('all_means',all_means)\n",
    "#print('true_means',true_means)\n",
    "#print('false_means',false_means)\n",
    "\n",
    "x = np.arange(len(labels))  # the label locations\n",
    "#print(x)\n",
    "width = 0.35  # the width of the bars\n",
    "\n",
    "fig, ax = plt.subplots()\n",
    "#print('x - width/2',x - width/2)\n",
    "#print('width',width)\n",
    "#print(len(true_means),len(false_means))\n",
    "rects1 = ax.bar(x - width/2, true_means, width, label='true',fill=False)\n",
    "\n",
    "rects2 = ax.bar(x + width/2, false_means, width, label='false')\n",
    "\n",
    "# Add some text for labels, title and custom x-axis tick labels, etc.\n",
    "\n",
    "ax.set_xticks(x)\n",
    "ax.set_xticklabels(labels)\n",
    "ax.legend()\n",
    "\n",
    "\n",
    "fig.tight_layout()\n",
    "\n",
    "plt.show()"
   ]
  },
  {
   "cell_type": "code",
   "execution_count": null,
   "metadata": {},
   "outputs": [],
   "source": []
  }
 ],
 "metadata": {
  "kernelspec": {
   "display_name": "Python 3",
   "language": "python",
   "name": "python3"
  },
  "language_info": {
   "codemirror_mode": {
    "name": "ipython",
    "version": 3
   },
   "file_extension": ".py",
   "mimetype": "text/x-python",
   "name": "python",
   "nbconvert_exporter": "python",
   "pygments_lexer": "ipython3",
   "version": "3.7.4"
  }
 },
 "nbformat": 4,
 "nbformat_minor": 2
}
