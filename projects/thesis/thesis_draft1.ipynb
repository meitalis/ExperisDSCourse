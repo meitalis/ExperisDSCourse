{
 "cells": [
  {
   "cell_type": "code",
   "execution_count": 20,
   "metadata": {},
   "outputs": [],
   "source": [
    "\n",
    "import pandas as pd\n",
    "import numpy as np\n",
    "import re\n"
   ]
  },
  {
   "cell_type": "code",
   "execution_count": 19,
   "metadata": {},
   "outputs": [
    {
     "data": {
      "text/plain": [
       "Index(['NR', 'TAV', 'TAR_LEDA', 'TAV.1', 'SEX', 'TAV.2', 'FIRSTSMS', 'TAV.3',\n",
       "       'MHUG', 'TAV.4',\n",
       "       ...\n",
       "       'SMS34', 'TAV.122', 'TZIUN34', 'TAV.123', 'KURSKV35', 'TAV.124',\n",
       "       'SMS35', 'TAV.125', 'TZIUN35', 'TAV.126'],\n",
       "      dtype='object', length=253)"
      ]
     },
     "execution_count": 19,
     "metadata": {},
     "output_type": "execute_result"
    }
   ],
   "source": [
    "\n",
    "df = pd.read_excel('KOV785TZ111.xls')\n",
    "df.head()\n",
    "\n",
    "df2 = df.filter(regex='(?<!TAV)*', axis=1)\n",
    "df2.columns\n",
    "\n",
    "#Find expression A where expression B does not precede:\n",
    "\n",
    "#(?<!B)A\n",
    "\n",
    "#df2 = df.filter(regex='^((?!TAV).)*$', axis=1)\n",
    "#df2.columns"
   ]
  },
  {
   "cell_type": "code",
   "execution_count": 18,
   "metadata": {},
   "outputs": [
    {
     "name": "stdout",
     "output_type": "stream",
     "text": [
      "['bar']\n",
      "['bar']\n",
      "['bar']\n",
      "['bar']\n"
     ]
    }
   ],
   "source": [
    "\n",
    "import re\n",
    "s = 'foobarbarfoo'\n",
    "\n",
    "# bar(?=bar)     finds the 1st bar (\"bar\" which has \"bar\" after it)\n",
    "pattern = 'bar(?=bar)'\n",
    "result = re.findall(pattern, s) \n",
    "print(result)\n",
    "\n",
    "# bar(?!bar)     finds the 2nd bar (\"bar\" which does not have \"bar\" after it)\n",
    "pattern = 'bar(?!bar)'\n",
    "result = re.findall(pattern, s) \n",
    "print(result)\n",
    "\n",
    "# (?<=foo)bar    finds the 1st bar (\"bar\" which has \"foo\" before it)\n",
    "pattern = '(?<=foo)bar'\n",
    "result = re.findall(pattern, s) \n",
    "print(result)\n",
    "\n",
    "# (?<!foo)bar    finds the 2nd bar (\"bar\" which does not have \"foo\" before it)\n",
    "pattern = '(?<!foo)bar'\n",
    "result = re.findall(pattern, s) \n",
    "print(result)"
   ]
  },
  {
   "cell_type": "code",
   "execution_count": null,
   "metadata": {},
   "outputs": [],
   "source": [
    "\n",
    "# coding: utf-8\n",
    "\n",
    "# In[10]:\n",
    "\n",
    "\n",
    "\n",
    "# In[ ]:\n",
    "\n",
    "\n",
    "# df = pd.read_excel('KOV785TZ111.xls')\n",
    "# df.head(10)\n",
    "#df.tail(10)\n",
    "\n",
    "# df.dtypes\n",
    "\n",
    "# cols = [1, 2, 4]\n",
    "# df = pd.read_excel('KOV785TZ111.xls',usecols=cols)\n",
    "\n",
    "# df = pd.read_excel('KOV785TZ111.xls',index_col=0)\n",
    "# pd.options.display.max_columns = None # or pd.set_option('display.max_columns', None) #pd.set_printoptions(max_columns=500)\n",
    "# df.head(10)\n",
    "\n",
    "# print(\"Sum: \",df[\"SACH_MISHKL\"].sum()) \n",
    "# print(\"Mean: \",df[\"SACH_MISHKL\"].mean())\n",
    "# print(\"Maximum: \",df[\"SACH_MISHKL\"].max())\n",
    "# print(\"Minimum: \",df[\"SACH_MISHKL\"].min()) \n",
    "\n",
    "#df.insert(0, \"column1\", np.nan)\n",
    "\n",
    "# df.drop('column1',axis=1,inplace=True)\n",
    "# df.head(10)\n",
    "\n",
    "#df = pd.read_excel('KOV785TZ111.xls',skiprows=5)\n",
    "\n",
    "# s = df[[\"MHUG\", \"TZIUN34\"]].sum()\n",
    "# df_sum=pd.DataFrame(data=s)\n",
    "# df_sum.T\n",
    "\n",
    "# df[df[\"TAR_LEDA\"]==13081975].head(10)\n",
    "\n",
    "# df_sub = df.groupby('TAR_LEDA').count()\n",
    "#df_sub.info()\n",
    "#df_sub.columns\n",
    "\n",
    "\n",
    "#df_sub.iloc[:, 2][df_sub.iloc[:, 2] > 1].sort_values(ascending=False)\n",
    "\n",
    "#df[df[\"TAR_LEDA\"].isin([1011945,13081975])].head(10)\n",
    "\n",
    "#df.query('TAR_LEDA == [\"1011945\", \"13081976\"]').head(10)\n",
    "\n",
    "#df[df['TAR_LEDA'] >= 13081976] #date is int . invalid. should be datetime\n",
    "\n",
    "\n",
    "# In[69]:\n",
    "\n",
    "\n",
    "df1 = pd.read_excel('KOV785TZ111.xls')\n",
    "\n",
    "\n",
    "#pd.options.display.max_columns = None \n",
    "#print(df.head(10))\n",
    "df2 = df1.filter(regex='^((?!TAV).)*$', axis=1)\n",
    "df2.columns\n",
    "# keys = list(df2.columns.get)\n",
    "# type(keys)\n",
    "# cols = [1,2,3,4]\n",
    "# type(cols)\n",
    "#df1 = df1[df1.columns[cols]]\n",
    "#df1\n",
    "#print(df2.head(10))\n",
    "\n",
    "# pattern = r'TAV*'\n",
    "# idx = re.search(pattern, df.columns) \n",
    "# idx\n",
    "df3 = df1.filter(regex='(?!TAV)', axis=1)\n",
    "df3.head(10)\n",
    "\n",
    "\n",
    "# ////try it\n",
    "\n",
    "\n",
    "df.info()\n",
    "df.isna()\n",
    "df.isna().sum()\n",
    "df.describe()\n",
    "df.nunique()\n",
    "planets.method.nunique()\n",
    "planets.method.unique()\n",
    "planets.groupby('method')['orbital_period'].mean()\n"
   ]
  }
 ],
 "metadata": {
  "kernelspec": {
   "display_name": "Python 3",
   "language": "python",
   "name": "python3"
  },
  "language_info": {
   "codemirror_mode": {
    "name": "ipython",
    "version": 3
   },
   "file_extension": ".py",
   "mimetype": "text/x-python",
   "name": "python",
   "nbconvert_exporter": "python",
   "pygments_lexer": "ipython3",
   "version": "3.7.4"
  }
 },
 "nbformat": 4,
 "nbformat_minor": 2
}
