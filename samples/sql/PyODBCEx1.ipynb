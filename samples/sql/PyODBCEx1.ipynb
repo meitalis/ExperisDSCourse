{
 "cells": [
  {
   "cell_type": "code",
   "execution_count": 1,
   "metadata": {},
   "outputs": [],
   "source": [
    "import pyodbc"
   ]
  },
  {
   "cell_type": "code",
   "execution_count": 2,
   "metadata": {},
   "outputs": [],
   "source": [
    "conn_string = \"Driver={ODBC Driver 13 for SQL Server};\" \\\n",
    "              \"Server=DS-LECTURER\\SQLSERVER2017;\" \\\n",
    "              \"Database=Northwind;\" \\\n",
    "              \"Trusted_Connection=yes;\""
   ]
  },
  {
   "cell_type": "code",
   "execution_count": 3,
   "metadata": {},
   "outputs": [],
   "source": [
    "def get_products(category_name):\n",
    "    conn = pyodbc.connect(conn_string)\n",
    "    cursor = conn.cursor()\n",
    "    \n",
    "    sql = f\"\"\"\n",
    "        SELECT p.ProductName, p.UnitPrice\n",
    "        FROM Products p\n",
    "        JOIN Categories c\n",
    "        ON p.CategoryID = c.CategoryID\n",
    "        WHERE c.CategoryName = '{category_name}'    \n",
    "    \"\"\"\n",
    "        \n",
    "    results = cursor.execute(sql).fetchall()\n",
    "    for row in results:\n",
    "        row[1] = float(row[1])    \n",
    "    return results"
   ]
  },
  {
   "cell_type": "code",
   "execution_count": 4,
   "metadata": {},
   "outputs": [
    {
     "name": "stdout",
     "output_type": "stream",
     "text": [
      "Enter category name: Beverages\n"
     ]
    },
    {
     "data": {
      "text/plain": [
       "[('Chai', 18.0),\n",
       " ('Chang', 19.0),\n",
       " ('Guaraná Fantástica', 4.5),\n",
       " ('Sasquatch Ale', 14.0),\n",
       " ('Steeleye Stout', 18.0),\n",
       " ('Côte de Blaye', 263.5),\n",
       " ('Chartreuse verte', 18.0),\n",
       " ('Ipoh Coffee', 46.0),\n",
       " ('Laughing Lumberjack Lager', 14.0),\n",
       " ('Outback Lager', 15.0),\n",
       " ('Rhönbräu Klosterbier', 7.75),\n",
       " ('Lakkalikööri', 18.0)]"
      ]
     },
     "execution_count": 4,
     "metadata": {},
     "output_type": "execute_result"
    }
   ],
   "source": [
    "category_name = input(\"Enter category name: \")\n",
    "get_products(category_name)"
   ]
  },
  {
   "cell_type": "code",
   "execution_count": null,
   "metadata": {},
   "outputs": [],
   "source": []
  }
 ],
 "metadata": {
  "kernelspec": {
   "display_name": "Python 3",
   "language": "python",
   "name": "python3"
  },
  "language_info": {
   "codemirror_mode": {
    "name": "ipython",
    "version": 3
   },
   "file_extension": ".py",
   "mimetype": "text/x-python",
   "name": "python",
   "nbconvert_exporter": "python",
   "pygments_lexer": "ipython3",
   "version": "3.6.5"
  }
 },
 "nbformat": 4,
 "nbformat_minor": 2
}
