{
 "cells": [
  {
   "cell_type": "code",
   "execution_count": 1,
   "metadata": {},
   "outputs": [],
   "source": [
    "import json\n",
    "import pandas as pd\n",
    "import numpy as np"
   ]
  },
  {
   "cell_type": "code",
   "execution_count": 2,
   "metadata": {},
   "outputs": [],
   "source": [
    "df = pd.read_json('recipeitems-latest.json', lines=True)"
   ]
  },
  {
   "cell_type": "code",
   "execution_count": 3,
   "metadata": {},
   "outputs": [
    {
     "data": {
      "text/html": [
       "<div>\n",
       "<style scoped>\n",
       "    .dataframe tbody tr th:only-of-type {\n",
       "        vertical-align: middle;\n",
       "    }\n",
       "\n",
       "    .dataframe tbody tr th {\n",
       "        vertical-align: top;\n",
       "    }\n",
       "\n",
       "    .dataframe thead th {\n",
       "        text-align: right;\n",
       "    }\n",
       "</style>\n",
       "<table border=\"1\" class=\"dataframe\">\n",
       "  <thead>\n",
       "    <tr style=\"text-align: right;\">\n",
       "      <th></th>\n",
       "      <th>_id</th>\n",
       "      <th>cookTime</th>\n",
       "      <th>creator</th>\n",
       "      <th>dateModified</th>\n",
       "      <th>datePublished</th>\n",
       "      <th>description</th>\n",
       "      <th>image</th>\n",
       "      <th>ingredients</th>\n",
       "      <th>name</th>\n",
       "      <th>prepTime</th>\n",
       "      <th>recipeCategory</th>\n",
       "      <th>recipeInstructions</th>\n",
       "      <th>recipeYield</th>\n",
       "      <th>source</th>\n",
       "      <th>totalTime</th>\n",
       "      <th>ts</th>\n",
       "      <th>url</th>\n",
       "    </tr>\n",
       "  </thead>\n",
       "  <tbody>\n",
       "    <tr>\n",
       "      <th>0</th>\n",
       "      <td>{'$oid': '5160756b96cc62079cc2db15'}</td>\n",
       "      <td>PT30M</td>\n",
       "      <td>NaN</td>\n",
       "      <td>NaN</td>\n",
       "      <td>2013-03-11</td>\n",
       "      <td>Late Saturday afternoon, after Marlboro Man ha...</td>\n",
       "      <td>http://static.thepioneerwoman.com/cooking/file...</td>\n",
       "      <td>Biscuits\\n3 cups All-purpose Flour\\n2 Tablespo...</td>\n",
       "      <td>Drop Biscuits and Sausage Gravy</td>\n",
       "      <td>PT10M</td>\n",
       "      <td>NaN</td>\n",
       "      <td>NaN</td>\n",
       "      <td>12</td>\n",
       "      <td>thepioneerwoman</td>\n",
       "      <td>NaN</td>\n",
       "      <td>{'$date': 1365276011104}</td>\n",
       "      <td>http://thepioneerwoman.com/cooking/2013/03/dro...</td>\n",
       "    </tr>\n",
       "    <tr>\n",
       "      <th>1</th>\n",
       "      <td>{'$oid': '5160756d96cc62079cc2db16'}</td>\n",
       "      <td>PT20M</td>\n",
       "      <td>NaN</td>\n",
       "      <td>NaN</td>\n",
       "      <td>2013-03-13</td>\n",
       "      <td>When I was growing up, I participated in my Ep...</td>\n",
       "      <td>http://static.thepioneerwoman.com/cooking/file...</td>\n",
       "      <td>12 whole Dinner Rolls Or Small Sandwich Buns (...</td>\n",
       "      <td>Hot Roast Beef Sandwiches</td>\n",
       "      <td>PT20M</td>\n",
       "      <td>NaN</td>\n",
       "      <td>NaN</td>\n",
       "      <td>12</td>\n",
       "      <td>thepioneerwoman</td>\n",
       "      <td>NaN</td>\n",
       "      <td>{'$date': 1365276013902}</td>\n",
       "      <td>http://thepioneerwoman.com/cooking/2013/03/hot...</td>\n",
       "    </tr>\n",
       "    <tr>\n",
       "      <th>2</th>\n",
       "      <td>{'$oid': '5160756f96cc6207a37ff777'}</td>\n",
       "      <td>NaN</td>\n",
       "      <td>NaN</td>\n",
       "      <td>NaN</td>\n",
       "      <td>2013-01-07</td>\n",
       "      <td>A beauty of a carrot salad - tricked out with ...</td>\n",
       "      <td>http://www.101cookbooks.com/mt-static/images/f...</td>\n",
       "      <td>Dressing:\\n1 tablespoon cumin seeds\\n1/3 cup /...</td>\n",
       "      <td>Morrocan Carrot and Chickpea Salad</td>\n",
       "      <td>PT15M</td>\n",
       "      <td>NaN</td>\n",
       "      <td>NaN</td>\n",
       "      <td>NaN</td>\n",
       "      <td>101cookbooks</td>\n",
       "      <td>NaN</td>\n",
       "      <td>{'$date': 1365276015332}</td>\n",
       "      <td>http://www.101cookbooks.com/archives/moroccan-...</td>\n",
       "    </tr>\n",
       "  </tbody>\n",
       "</table>\n",
       "</div>"
      ],
      "text/plain": [
       "                                    _id cookTime creator dateModified  \\\n",
       "0  {'$oid': '5160756b96cc62079cc2db15'}    PT30M     NaN          NaN   \n",
       "1  {'$oid': '5160756d96cc62079cc2db16'}    PT20M     NaN          NaN   \n",
       "2  {'$oid': '5160756f96cc6207a37ff777'}      NaN     NaN          NaN   \n",
       "\n",
       "  datePublished                                        description  \\\n",
       "0    2013-03-11  Late Saturday afternoon, after Marlboro Man ha...   \n",
       "1    2013-03-13  When I was growing up, I participated in my Ep...   \n",
       "2    2013-01-07  A beauty of a carrot salad - tricked out with ...   \n",
       "\n",
       "                                               image  \\\n",
       "0  http://static.thepioneerwoman.com/cooking/file...   \n",
       "1  http://static.thepioneerwoman.com/cooking/file...   \n",
       "2  http://www.101cookbooks.com/mt-static/images/f...   \n",
       "\n",
       "                                         ingredients  \\\n",
       "0  Biscuits\\n3 cups All-purpose Flour\\n2 Tablespo...   \n",
       "1  12 whole Dinner Rolls Or Small Sandwich Buns (...   \n",
       "2  Dressing:\\n1 tablespoon cumin seeds\\n1/3 cup /...   \n",
       "\n",
       "                                 name prepTime recipeCategory  \\\n",
       "0     Drop Biscuits and Sausage Gravy    PT10M            NaN   \n",
       "1           Hot Roast Beef Sandwiches    PT20M            NaN   \n",
       "2  Morrocan Carrot and Chickpea Salad    PT15M            NaN   \n",
       "\n",
       "  recipeInstructions recipeYield           source totalTime  \\\n",
       "0                NaN          12  thepioneerwoman       NaN   \n",
       "1                NaN          12  thepioneerwoman       NaN   \n",
       "2                NaN         NaN     101cookbooks       NaN   \n",
       "\n",
       "                         ts                                                url  \n",
       "0  {'$date': 1365276011104}  http://thepioneerwoman.com/cooking/2013/03/dro...  \n",
       "1  {'$date': 1365276013902}  http://thepioneerwoman.com/cooking/2013/03/hot...  \n",
       "2  {'$date': 1365276015332}  http://www.101cookbooks.com/archives/moroccan-...  "
      ]
     },
     "execution_count": 3,
     "metadata": {},
     "output_type": "execute_result"
    }
   ],
   "source": [
    "df.head(3)"
   ]
  },
  {
   "cell_type": "code",
   "execution_count": 4,
   "metadata": {},
   "outputs": [
    {
     "data": {
      "text/plain": [
       "'Biscuits\\n3 cups All-purpose Flour\\n2 Tablespoons Baking Powder\\n1/2 teaspoon Salt\\n1-1/2 stick (3/4 Cup) Cold Butter, Cut Into Pieces\\n1-1/4 cup Butermilk\\n SAUSAGE GRAVY\\n1 pound Breakfast Sausage, Hot Or Mild\\n1/3 cup All-purpose Flour\\n4 cups Whole Milk\\n1/2 teaspoon Seasoned Salt\\n2 teaspoons Black Pepper, More To Taste'"
      ]
     },
     "execution_count": 4,
     "metadata": {},
     "output_type": "execute_result"
    }
   ],
   "source": [
    "df.loc[0, 'ingredients']"
   ]
  },
  {
   "cell_type": "code",
   "execution_count": 5,
   "metadata": {},
   "outputs": [
    {
     "data": {
      "text/plain": [
       "(173278, 17)"
      ]
     },
     "execution_count": 5,
     "metadata": {},
     "output_type": "execute_result"
    }
   ],
   "source": [
    "df.shape"
   ]
  },
  {
   "cell_type": "code",
   "execution_count": 6,
   "metadata": {},
   "outputs": [
    {
     "data": {
      "text/plain": [
       "0         [Biscuits, 3 cups All-purpose Flour, 2 Tablesp...\n",
       "1         [12 whole Dinner Rolls Or Small Sandwich Buns ...\n",
       "2         [Dressing:, 1 tablespoon cumin seeds, 1/3 cup ...\n",
       "3         [Biscuits, 3 cups All-purpose Flour, 2 Tablesp...\n",
       "4         [For each bowl: , a big dollop of Greek yogurt...\n",
       "5         [4 Tablespoons Butter, 1 package (10 Ounces) M...\n",
       "6         [3-4 handfuls spinach, ֲ½ cup kamut, uncooked,...\n",
       "7         [6 whole Medium Russet Potatoes (6 To 8),  Sal...\n",
       "8         [4 tablespoons fresh thyme leaves, stripped fr...\n",
       "9         [1ֲ½ cups whole wheat pastry flour, 1ֲ¾ cup ro...\n",
       "10        [1 whole Fully Cooked Bone-in Ham (15-18 Pound...\n",
       "11        [1 cup Sugar, 1 cup Water,  Juice Of 1 Orange,...\n",
       "12        [Tart Dough:, 1 cup all-purpose flour, 1/8 tsp...\n",
       "13        [2 cups / 475 ml whole milk, 2 tablespoons uns...\n",
       "14        [2 8-10ג€³ tortillas (I used sprouted grain to...\n",
       "15        [12 whole Hard Boiled Eggs, 1/2 cup Mayonnaise...\n",
       "16        [olive oil or clarified butter, 1 bunch of kal...\n",
       "17        [2 cups Masa Harina, 1 tsp baking powder, ֲ½ t...\n",
       "18        [1 stick of butter, 1 loaf of cinnamon raisin ...\n",
       "19        [8 whole Small Russet Potatoes,  Canola Oil,  ...\n",
       "20        [6 tbsp unsalted butter, at room temperature, ...\n",
       "21        [1 thick slice country bread, crust removed, 2...\n",
       "22        [ֲ½ head green cabbage, approximately 4-5 cups...\n",
       "23        [1 cup heavy cream, 2 tbsp Kahlua, 1 egg &amp;...\n",
       "24        [3 celery stalks, very thinly sliced, 1 cup ch...\n",
       "25        [2 1/2 tablespoons coconut oil, 1 shallot, cho...\n",
       "26        [2 eggs, brought to room temperature shortly b...\n",
       "27        [3-4 large beets, 1 tablespoon olive oil, ֲ¼ t...\n",
       "28        [Crust, 4 tbsp of melted butter, 1 box (9oz) o...\n",
       "29        [1 sweet potato, 2 tablespoon olive oil, divid...\n",
       "                                ...                        \n",
       "173248    [12 whole FOR THE SHRIMP COCKTAIL:, 2 Tablespo...\n",
       "173249    [1 Tablespoon Whole Almonds, 6 ounces, weight ...\n",
       "173250    [1 whole Ripe Avocado (I Use Haas, Any Will Wo...\n",
       "173251    [1 stick Lightly Salted Butter, Softened, 3 Ta...\n",
       "173252    [1 cup Sweetened Coconut Flakes, 2 sticks Ligh...\n",
       "173253    [2 cups Vinegar (up To Double This Amount, See...\n",
       "173254    [2 ounces, fluid London Dry Gin, ֲ½ ounces, fl...\n",
       "173255    [1 teaspoon Sea Salt, 1 pound Pasta (I Used Gn...\n",
       "173256    [ג…“ cups Oats, ג…” cups Almond Milk (or Any O...\n",
       "173257    [1 can (15 Oz. Size) Chickpeas, 2 whole Avocad...\n",
       "173258    [1 Tablespoon Dry Active Yeast, ֲ½ cups Lukewa...\n",
       "173259    [2 packages (7g Size) Unflavored Gelatin, 6 Ta...\n",
       "173260    [16 slices Bacon, 2 pounds Ground Italian Saus...\n",
       "173261    [3 cups Water Kefir, 2 cups Hulled Fresh Straw...\n",
       "173262    [2 sticks Unsalted Butter, Softened, ֲ¾ cups B...\n",
       "173263    [2 cups Candy Corn, 15 ounces, weight Creamy P...\n",
       "173264    [ג…“ cups Sour Cream, 1 Tablespoon Mayonnaise,...\n",
       "173265    [1 cup FOR THE SALSA:, ֲ¼ cups Diced Fresh Man...\n",
       "173266    [1 cup FOR THE GRITS:, 1 cup Heavy Cream, ֲ½ c...\n",
       "173267    [1 Tablespoon Olive Oil, 2 Tablespoons Unsalte...\n",
       "173268    [1 Tablespoon Dijon Mustard, 1 Tablespoon Butt...\n",
       "173269    [12 ounces, weight Milk Chocolate Chips, 3 cup...\n",
       "173270    [6 whole Large Potatoes, Sweet Potatoes Or Yam...\n",
       "173271    [1 cup FOR THE THYME AND LEMON SIMPLE SYRUP:, ...\n",
       "173272    [8 whole FOR THE CARROT CAKE:, 1 cup Carrots, ...\n",
       "173273    [250 milliliters Cream, 395 grams Canned Sweet...\n",
       "173274    [2 cups Candy Corn, 1 teaspoon Vanilla Extract...\n",
       "173275    [1/4 cup ground cumin, 1/4 cup kosher salt, 2 ...\n",
       "173276    [Two 16 ounce cans Old El Paso Refried Beans, ...\n",
       "173277    [ג…“ cup melted coconut oil or extra-virgin ol...\n",
       "Name: ingredients, Length: 173278, dtype: object"
      ]
     },
     "execution_count": 6,
     "metadata": {},
     "output_type": "execute_result"
    }
   ],
   "source": [
    "df.ingredients.str.split('\\n')"
   ]
  },
  {
   "cell_type": "code",
   "execution_count": 7,
   "metadata": {},
   "outputs": [
    {
     "data": {
      "text/plain": [
       "0         12\n",
       "1         10\n",
       "2         12\n",
       "3         17\n",
       "4          7\n",
       "5          6\n",
       "6          8\n",
       "7          4\n",
       "8          4\n",
       "9         10\n",
       "10         6\n",
       "11        10\n",
       "12        22\n",
       "13         9\n",
       "14         9\n",
       "15        13\n",
       "16        10\n",
       "17        25\n",
       "18         4\n",
       "19         9\n",
       "20        13\n",
       "21        10\n",
       "22         6\n",
       "23         4\n",
       "24        16\n",
       "25        17\n",
       "26         7\n",
       "27        10\n",
       "28         8\n",
       "29        16\n",
       "          ..\n",
       "173248    10\n",
       "173249     4\n",
       "173250    12\n",
       "173251     3\n",
       "173252     5\n",
       "173253     5\n",
       "173254     4\n",
       "173255    11\n",
       "173256     7\n",
       "173257     6\n",
       "173258     9\n",
       "173259     8\n",
       "173260    11\n",
       "173261     4\n",
       "173262    13\n",
       "173263     3\n",
       "173264     8\n",
       "173265    11\n",
       "173266    14\n",
       "173267    11\n",
       "173268    10\n",
       "173269     4\n",
       "173270     4\n",
       "173271     8\n",
       "173272    22\n",
       "173273     3\n",
       "173274     5\n",
       "173275     5\n",
       "173276     8\n",
       "173277    12\n",
       "Name: ingredients, Length: 173278, dtype: int64"
      ]
     },
     "execution_count": 7,
     "metadata": {},
     "output_type": "execute_result"
    }
   ],
   "source": [
    "df.ingredients.str.split('\\n').str.len()\n"
   ]
  },
  {
   "cell_type": "code",
   "execution_count": 8,
   "metadata": {},
   "outputs": [
    {
     "data": {
      "text/plain": [
       "0         12\n",
       "1         10\n",
       "2         12\n",
       "3         17\n",
       "4          7\n",
       "5          6\n",
       "6          8\n",
       "7          4\n",
       "8          4\n",
       "9         10\n",
       "10         6\n",
       "11        10\n",
       "12        22\n",
       "13         9\n",
       "14         9\n",
       "15        13\n",
       "16        10\n",
       "17        25\n",
       "18         4\n",
       "19         9\n",
       "20        13\n",
       "21        10\n",
       "22         6\n",
       "23         4\n",
       "24        16\n",
       "25        17\n",
       "26         7\n",
       "27        10\n",
       "28         8\n",
       "29        16\n",
       "          ..\n",
       "173248    10\n",
       "173249     4\n",
       "173250    12\n",
       "173251     3\n",
       "173252     5\n",
       "173253     5\n",
       "173254     4\n",
       "173255    11\n",
       "173256     7\n",
       "173257     6\n",
       "173258     9\n",
       "173259     8\n",
       "173260    11\n",
       "173261     4\n",
       "173262    13\n",
       "173263     3\n",
       "173264     8\n",
       "173265    11\n",
       "173266    14\n",
       "173267    11\n",
       "173268    10\n",
       "173269     4\n",
       "173270     4\n",
       "173271     8\n",
       "173272    22\n",
       "173273     3\n",
       "173274     5\n",
       "173275     5\n",
       "173276     8\n",
       "173277    12\n",
       "Name: ingredients, Length: 173278, dtype: int64"
      ]
     },
     "execution_count": 8,
     "metadata": {},
     "output_type": "execute_result"
    }
   ],
   "source": [
    "df.ingredients.str.split('\\n').apply(len)"
   ]
  },
  {
   "cell_type": "code",
   "execution_count": 9,
   "metadata": {},
   "outputs": [],
   "source": [
    "df['num_ing'] = df.ingredients.str.split('\\n').apply(len)"
   ]
  },
  {
   "cell_type": "code",
   "execution_count": null,
   "metadata": {},
   "outputs": [],
   "source": []
  },
  {
   "cell_type": "code",
   "execution_count": 10,
   "metadata": {},
   "outputs": [
    {
     "data": {
      "text/html": [
       "<div>\n",
       "<style scoped>\n",
       "    .dataframe tbody tr th:only-of-type {\n",
       "        vertical-align: middle;\n",
       "    }\n",
       "\n",
       "    .dataframe tbody tr th {\n",
       "        vertical-align: top;\n",
       "    }\n",
       "\n",
       "    .dataframe thead th {\n",
       "        text-align: right;\n",
       "    }\n",
       "</style>\n",
       "<table border=\"1\" class=\"dataframe\">\n",
       "  <thead>\n",
       "    <tr style=\"text-align: right;\">\n",
       "      <th></th>\n",
       "      <th>_id</th>\n",
       "      <th>cookTime</th>\n",
       "      <th>creator</th>\n",
       "      <th>dateModified</th>\n",
       "      <th>datePublished</th>\n",
       "      <th>description</th>\n",
       "      <th>image</th>\n",
       "      <th>ingredients</th>\n",
       "      <th>name</th>\n",
       "      <th>prepTime</th>\n",
       "      <th>recipeCategory</th>\n",
       "      <th>recipeInstructions</th>\n",
       "      <th>recipeYield</th>\n",
       "      <th>source</th>\n",
       "      <th>totalTime</th>\n",
       "      <th>ts</th>\n",
       "      <th>url</th>\n",
       "      <th>num_ing</th>\n",
       "    </tr>\n",
       "  </thead>\n",
       "  <tbody>\n",
       "    <tr>\n",
       "      <th>0</th>\n",
       "      <td>{'$oid': '5160756b96cc62079cc2db15'}</td>\n",
       "      <td>PT30M</td>\n",
       "      <td>NaN</td>\n",
       "      <td>NaN</td>\n",
       "      <td>2013-03-11</td>\n",
       "      <td>Late Saturday afternoon, after Marlboro Man ha...</td>\n",
       "      <td>http://static.thepioneerwoman.com/cooking/file...</td>\n",
       "      <td>Biscuits\\n3 cups All-purpose Flour\\n2 Tablespo...</td>\n",
       "      <td>Drop Biscuits and Sausage Gravy</td>\n",
       "      <td>PT10M</td>\n",
       "      <td>NaN</td>\n",
       "      <td>NaN</td>\n",
       "      <td>12</td>\n",
       "      <td>thepioneerwoman</td>\n",
       "      <td>NaN</td>\n",
       "      <td>{'$date': 1365276011104}</td>\n",
       "      <td>http://thepioneerwoman.com/cooking/2013/03/dro...</td>\n",
       "      <td>12</td>\n",
       "    </tr>\n",
       "    <tr>\n",
       "      <th>1</th>\n",
       "      <td>{'$oid': '5160756d96cc62079cc2db16'}</td>\n",
       "      <td>PT20M</td>\n",
       "      <td>NaN</td>\n",
       "      <td>NaN</td>\n",
       "      <td>2013-03-13</td>\n",
       "      <td>When I was growing up, I participated in my Ep...</td>\n",
       "      <td>http://static.thepioneerwoman.com/cooking/file...</td>\n",
       "      <td>12 whole Dinner Rolls Or Small Sandwich Buns (...</td>\n",
       "      <td>Hot Roast Beef Sandwiches</td>\n",
       "      <td>PT20M</td>\n",
       "      <td>NaN</td>\n",
       "      <td>NaN</td>\n",
       "      <td>12</td>\n",
       "      <td>thepioneerwoman</td>\n",
       "      <td>NaN</td>\n",
       "      <td>{'$date': 1365276013902}</td>\n",
       "      <td>http://thepioneerwoman.com/cooking/2013/03/hot...</td>\n",
       "      <td>10</td>\n",
       "    </tr>\n",
       "  </tbody>\n",
       "</table>\n",
       "</div>"
      ],
      "text/plain": [
       "                                    _id cookTime creator dateModified  \\\n",
       "0  {'$oid': '5160756b96cc62079cc2db15'}    PT30M     NaN          NaN   \n",
       "1  {'$oid': '5160756d96cc62079cc2db16'}    PT20M     NaN          NaN   \n",
       "\n",
       "  datePublished                                        description  \\\n",
       "0    2013-03-11  Late Saturday afternoon, after Marlboro Man ha...   \n",
       "1    2013-03-13  When I was growing up, I participated in my Ep...   \n",
       "\n",
       "                                               image  \\\n",
       "0  http://static.thepioneerwoman.com/cooking/file...   \n",
       "1  http://static.thepioneerwoman.com/cooking/file...   \n",
       "\n",
       "                                         ingredients  \\\n",
       "0  Biscuits\\n3 cups All-purpose Flour\\n2 Tablespo...   \n",
       "1  12 whole Dinner Rolls Or Small Sandwich Buns (...   \n",
       "\n",
       "                              name prepTime recipeCategory recipeInstructions  \\\n",
       "0  Drop Biscuits and Sausage Gravy    PT10M            NaN                NaN   \n",
       "1        Hot Roast Beef Sandwiches    PT20M            NaN                NaN   \n",
       "\n",
       "  recipeYield           source totalTime                        ts  \\\n",
       "0          12  thepioneerwoman       NaN  {'$date': 1365276011104}   \n",
       "1          12  thepioneerwoman       NaN  {'$date': 1365276013902}   \n",
       "\n",
       "                                                 url  num_ing  \n",
       "0  http://thepioneerwoman.com/cooking/2013/03/dro...       12  \n",
       "1  http://thepioneerwoman.com/cooking/2013/03/hot...       10  "
      ]
     },
     "execution_count": 10,
     "metadata": {},
     "output_type": "execute_result"
    }
   ],
   "source": [
    "df.head(2)"
   ]
  },
  {
   "cell_type": "code",
   "execution_count": 11,
   "metadata": {},
   "outputs": [],
   "source": [
    "new_feat = df.ingredients.str.split('\\n').apply(len)"
   ]
  },
  {
   "cell_type": "code",
   "execution_count": 12,
   "metadata": {},
   "outputs": [],
   "source": [
    "df.insert(0, 'num_ingr', new_feat)"
   ]
  },
  {
   "cell_type": "code",
   "execution_count": 13,
   "metadata": {},
   "outputs": [
    {
     "data": {
      "text/html": [
       "<div>\n",
       "<style scoped>\n",
       "    .dataframe tbody tr th:only-of-type {\n",
       "        vertical-align: middle;\n",
       "    }\n",
       "\n",
       "    .dataframe tbody tr th {\n",
       "        vertical-align: top;\n",
       "    }\n",
       "\n",
       "    .dataframe thead th {\n",
       "        text-align: right;\n",
       "    }\n",
       "</style>\n",
       "<table border=\"1\" class=\"dataframe\">\n",
       "  <thead>\n",
       "    <tr style=\"text-align: right;\">\n",
       "      <th></th>\n",
       "      <th>num_ingr</th>\n",
       "      <th>_id</th>\n",
       "      <th>cookTime</th>\n",
       "      <th>creator</th>\n",
       "      <th>dateModified</th>\n",
       "      <th>datePublished</th>\n",
       "      <th>description</th>\n",
       "      <th>image</th>\n",
       "      <th>ingredients</th>\n",
       "      <th>name</th>\n",
       "      <th>prepTime</th>\n",
       "      <th>recipeCategory</th>\n",
       "      <th>recipeInstructions</th>\n",
       "      <th>recipeYield</th>\n",
       "      <th>source</th>\n",
       "      <th>totalTime</th>\n",
       "      <th>ts</th>\n",
       "      <th>url</th>\n",
       "      <th>num_ing</th>\n",
       "    </tr>\n",
       "  </thead>\n",
       "  <tbody>\n",
       "    <tr>\n",
       "      <th>0</th>\n",
       "      <td>12</td>\n",
       "      <td>{'$oid': '5160756b96cc62079cc2db15'}</td>\n",
       "      <td>PT30M</td>\n",
       "      <td>NaN</td>\n",
       "      <td>NaN</td>\n",
       "      <td>2013-03-11</td>\n",
       "      <td>Late Saturday afternoon, after Marlboro Man ha...</td>\n",
       "      <td>http://static.thepioneerwoman.com/cooking/file...</td>\n",
       "      <td>Biscuits\\n3 cups All-purpose Flour\\n2 Tablespo...</td>\n",
       "      <td>Drop Biscuits and Sausage Gravy</td>\n",
       "      <td>PT10M</td>\n",
       "      <td>NaN</td>\n",
       "      <td>NaN</td>\n",
       "      <td>12</td>\n",
       "      <td>thepioneerwoman</td>\n",
       "      <td>NaN</td>\n",
       "      <td>{'$date': 1365276011104}</td>\n",
       "      <td>http://thepioneerwoman.com/cooking/2013/03/dro...</td>\n",
       "      <td>12</td>\n",
       "    </tr>\n",
       "    <tr>\n",
       "      <th>1</th>\n",
       "      <td>10</td>\n",
       "      <td>{'$oid': '5160756d96cc62079cc2db16'}</td>\n",
       "      <td>PT20M</td>\n",
       "      <td>NaN</td>\n",
       "      <td>NaN</td>\n",
       "      <td>2013-03-13</td>\n",
       "      <td>When I was growing up, I participated in my Ep...</td>\n",
       "      <td>http://static.thepioneerwoman.com/cooking/file...</td>\n",
       "      <td>12 whole Dinner Rolls Or Small Sandwich Buns (...</td>\n",
       "      <td>Hot Roast Beef Sandwiches</td>\n",
       "      <td>PT20M</td>\n",
       "      <td>NaN</td>\n",
       "      <td>NaN</td>\n",
       "      <td>12</td>\n",
       "      <td>thepioneerwoman</td>\n",
       "      <td>NaN</td>\n",
       "      <td>{'$date': 1365276013902}</td>\n",
       "      <td>http://thepioneerwoman.com/cooking/2013/03/hot...</td>\n",
       "      <td>10</td>\n",
       "    </tr>\n",
       "  </tbody>\n",
       "</table>\n",
       "</div>"
      ],
      "text/plain": [
       "   num_ingr                                   _id cookTime creator  \\\n",
       "0        12  {'$oid': '5160756b96cc62079cc2db15'}    PT30M     NaN   \n",
       "1        10  {'$oid': '5160756d96cc62079cc2db16'}    PT20M     NaN   \n",
       "\n",
       "  dateModified datePublished  \\\n",
       "0          NaN    2013-03-11   \n",
       "1          NaN    2013-03-13   \n",
       "\n",
       "                                         description  \\\n",
       "0  Late Saturday afternoon, after Marlboro Man ha...   \n",
       "1  When I was growing up, I participated in my Ep...   \n",
       "\n",
       "                                               image  \\\n",
       "0  http://static.thepioneerwoman.com/cooking/file...   \n",
       "1  http://static.thepioneerwoman.com/cooking/file...   \n",
       "\n",
       "                                         ingredients  \\\n",
       "0  Biscuits\\n3 cups All-purpose Flour\\n2 Tablespo...   \n",
       "1  12 whole Dinner Rolls Or Small Sandwich Buns (...   \n",
       "\n",
       "                              name prepTime recipeCategory recipeInstructions  \\\n",
       "0  Drop Biscuits and Sausage Gravy    PT10M            NaN                NaN   \n",
       "1        Hot Roast Beef Sandwiches    PT20M            NaN                NaN   \n",
       "\n",
       "  recipeYield           source totalTime                        ts  \\\n",
       "0          12  thepioneerwoman       NaN  {'$date': 1365276011104}   \n",
       "1          12  thepioneerwoman       NaN  {'$date': 1365276013902}   \n",
       "\n",
       "                                                 url  num_ing  \n",
       "0  http://thepioneerwoman.com/cooking/2013/03/dro...       12  \n",
       "1  http://thepioneerwoman.com/cooking/2013/03/hot...       10  "
      ]
     },
     "execution_count": 13,
     "metadata": {},
     "output_type": "execute_result"
    }
   ],
   "source": [
    "df.head(2)"
   ]
  },
  {
   "cell_type": "code",
   "execution_count": 14,
   "metadata": {},
   "outputs": [
    {
     "data": {
      "text/html": [
       "<div>\n",
       "<style scoped>\n",
       "    .dataframe tbody tr th:only-of-type {\n",
       "        vertical-align: middle;\n",
       "    }\n",
       "\n",
       "    .dataframe tbody tr th {\n",
       "        vertical-align: top;\n",
       "    }\n",
       "\n",
       "    .dataframe thead th {\n",
       "        text-align: right;\n",
       "    }\n",
       "</style>\n",
       "<table border=\"1\" class=\"dataframe\">\n",
       "  <thead>\n",
       "    <tr style=\"text-align: right;\">\n",
       "      <th></th>\n",
       "      <th>name</th>\n",
       "      <th>num_ing</th>\n",
       "    </tr>\n",
       "  </thead>\n",
       "  <tbody>\n",
       "    <tr>\n",
       "      <th>3048</th>\n",
       "      <td>Tiffin: a selection of Indian street food</td>\n",
       "      <td>129</td>\n",
       "    </tr>\n",
       "    <tr>\n",
       "      <th>72163</th>\n",
       "      <td>Cooking For Others: 25 Years of Jor, 1 of BGSK</td>\n",
       "      <td>126</td>\n",
       "    </tr>\n",
       "    <tr>\n",
       "      <th>3050</th>\n",
       "      <td>Slow-roasted lamb shoulder with cashew nut and...</td>\n",
       "      <td>103</td>\n",
       "    </tr>\n",
       "    <tr>\n",
       "      <th>70848</th>\n",
       "      <td>Cooking For Others: Non-Picnic Brunch</td>\n",
       "      <td>101</td>\n",
       "    </tr>\n",
       "    <tr>\n",
       "      <th>73271</th>\n",
       "      <td>Potluck Parties: Magazine Club March</td>\n",
       "      <td>92</td>\n",
       "    </tr>\n",
       "  </tbody>\n",
       "</table>\n",
       "</div>"
      ],
      "text/plain": [
       "                                                    name  num_ing\n",
       "3048           Tiffin: a selection of Indian street food      129\n",
       "72163     Cooking For Others: 25 Years of Jor, 1 of BGSK      126\n",
       "3050   Slow-roasted lamb shoulder with cashew nut and...      103\n",
       "70848              Cooking For Others: Non-Picnic Brunch      101\n",
       "73271               Potluck Parties: Magazine Club March       92"
      ]
     },
     "execution_count": 14,
     "metadata": {},
     "output_type": "execute_result"
    }
   ],
   "source": [
    "df[['name', 'num_ing']].sort_values('num_ing', ascending=False).head()"
   ]
  },
  {
   "cell_type": "code",
   "execution_count": 15,
   "metadata": {},
   "outputs": [
    {
     "data": {
      "text/html": [
       "<div>\n",
       "<style scoped>\n",
       "    .dataframe tbody tr th:only-of-type {\n",
       "        vertical-align: middle;\n",
       "    }\n",
       "\n",
       "    .dataframe tbody tr th {\n",
       "        vertical-align: top;\n",
       "    }\n",
       "\n",
       "    .dataframe thead th {\n",
       "        text-align: right;\n",
       "    }\n",
       "</style>\n",
       "<table border=\"1\" class=\"dataframe\">\n",
       "  <thead>\n",
       "    <tr style=\"text-align: right;\">\n",
       "      <th></th>\n",
       "      <th>name</th>\n",
       "      <th>num_ing</th>\n",
       "    </tr>\n",
       "  </thead>\n",
       "  <tbody>\n",
       "    <tr>\n",
       "      <th>3048</th>\n",
       "      <td>Tiffin: a selection of Indian street food</td>\n",
       "      <td>129</td>\n",
       "    </tr>\n",
       "  </tbody>\n",
       "</table>\n",
       "</div>"
      ],
      "text/plain": [
       "                                           name  num_ing\n",
       "3048  Tiffin: a selection of Indian street food      129"
      ]
     },
     "execution_count": 15,
     "metadata": {},
     "output_type": "execute_result"
    }
   ],
   "source": [
    "df[['name', 'num_ing']].sort_values('num_ing', ascending=False)[:1]"
   ]
  },
  {
   "cell_type": "code",
   "execution_count": 16,
   "metadata": {},
   "outputs": [
    {
     "data": {
      "text/plain": [
       "3048    Tiffin: a selection of Indian street food\n",
       "Name: name, dtype: object"
      ]
     },
     "execution_count": 16,
     "metadata": {},
     "output_type": "execute_result"
    }
   ],
   "source": [
    "df[['name', 'num_ing']].sort_values('num_ing', ascending=False)[:1]['name']"
   ]
  },
  {
   "cell_type": "code",
   "execution_count": 17,
   "metadata": {},
   "outputs": [
    {
     "data": {
      "text/plain": [
       "3048    Tiffin: a selection of Indian street food\n",
       "Name: name, dtype: object"
      ]
     },
     "execution_count": 17,
     "metadata": {},
     "output_type": "execute_result"
    }
   ],
   "source": [
    "df.nlargest(1, 'num_ing').name"
   ]
  },
  {
   "cell_type": "code",
   "execution_count": 18,
   "metadata": {},
   "outputs": [
    {
     "data": {
      "text/plain": [
       "0    False\n",
       "1    False\n",
       "2    False\n",
       "3    False\n",
       "4     True\n",
       "Name: description, dtype: object"
      ]
     },
     "execution_count": 18,
     "metadata": {},
     "output_type": "execute_result"
    }
   ],
   "source": [
    "df.description.str.contains('breakfast').head()"
   ]
  },
  {
   "cell_type": "code",
   "execution_count": null,
   "metadata": {},
   "outputs": [],
   "source": []
  },
  {
   "cell_type": "code",
   "execution_count": 30,
   "metadata": {},
   "outputs": [],
   "source": [
    "df2  = df[df.description.str.contains('breakfast') == True]"
   ]
  },
  {
   "cell_type": "code",
   "execution_count": 31,
   "metadata": {},
   "outputs": [
    {
     "data": {
      "text/plain": [
       "(3442, 19)"
      ]
     },
     "execution_count": 31,
     "metadata": {},
     "output_type": "execute_result"
    }
   ],
   "source": [
    "df2.shape"
   ]
  },
  {
   "cell_type": "code",
   "execution_count": 21,
   "metadata": {},
   "outputs": [
    {
     "data": {
      "text/plain": [
       "3442"
      ]
     },
     "execution_count": 21,
     "metadata": {},
     "output_type": "execute_result"
    }
   ],
   "source": [
    "df.description.str.contains('breakfast').sum()"
   ]
  },
  {
   "cell_type": "code",
   "execution_count": null,
   "metadata": {},
   "outputs": [],
   "source": []
  },
  {
   "cell_type": "code",
   "execution_count": 22,
   "metadata": {},
   "outputs": [
    {
     "data": {
      "text/plain": [
       "3442"
      ]
     },
     "execution_count": 22,
     "metadata": {},
     "output_type": "execute_result"
    }
   ],
   "source": [
    "np.sum(df.description.str.contains('breakfast'))"
   ]
  },
  {
   "cell_type": "code",
   "execution_count": 23,
   "metadata": {},
   "outputs": [
    {
     "data": {
      "text/plain": [
       "106"
      ]
     },
     "execution_count": 23,
     "metadata": {},
     "output_type": "execute_result"
    }
   ],
   "source": [
    "np.sum(df.description.str.contains('Breakfast'))"
   ]
  },
  {
   "cell_type": "code",
   "execution_count": 24,
   "metadata": {},
   "outputs": [
    {
     "data": {
      "text/plain": [
       "15210"
      ]
     },
     "execution_count": 24,
     "metadata": {},
     "output_type": "execute_result"
    }
   ],
   "source": [
    "df.description.str.contains('breakfast').isna().sum()"
   ]
  },
  {
   "cell_type": "code",
   "execution_count": 25,
   "metadata": {},
   "outputs": [
    {
     "data": {
      "text/html": [
       "<div>\n",
       "<style scoped>\n",
       "    .dataframe tbody tr th:only-of-type {\n",
       "        vertical-align: middle;\n",
       "    }\n",
       "\n",
       "    .dataframe tbody tr th {\n",
       "        vertical-align: top;\n",
       "    }\n",
       "\n",
       "    .dataframe thead th {\n",
       "        text-align: right;\n",
       "    }\n",
       "</style>\n",
       "<table border=\"1\" class=\"dataframe\">\n",
       "  <thead>\n",
       "    <tr style=\"text-align: right;\">\n",
       "      <th></th>\n",
       "      <th>num_ingr</th>\n",
       "      <th>_id</th>\n",
       "      <th>cookTime</th>\n",
       "      <th>creator</th>\n",
       "      <th>dateModified</th>\n",
       "      <th>datePublished</th>\n",
       "      <th>description</th>\n",
       "      <th>image</th>\n",
       "      <th>ingredients</th>\n",
       "      <th>name</th>\n",
       "      <th>prepTime</th>\n",
       "      <th>recipeCategory</th>\n",
       "      <th>recipeInstructions</th>\n",
       "      <th>recipeYield</th>\n",
       "      <th>source</th>\n",
       "      <th>totalTime</th>\n",
       "      <th>ts</th>\n",
       "      <th>url</th>\n",
       "      <th>num_ing</th>\n",
       "    </tr>\n",
       "  </thead>\n",
       "  <tbody>\n",
       "    <tr>\n",
       "      <th>32</th>\n",
       "      <td>3</td>\n",
       "      <td>{'$oid': '5160758896cc6207b12d18df'}</td>\n",
       "      <td>NaN</td>\n",
       "      <td>NaN</td>\n",
       "      <td>2013-03-24T04:42:49+00:00</td>\n",
       "      <td>2013-02-14T21:26:19+00:00</td>\n",
       "      <td>Happy Valentines Day! ֲ I am not a big Valenti...</td>\n",
       "      <td>http://delishhh.com/wp-content/uploads/2013/02...</td>\n",
       "      <td>2 oz vodka\\n1 1/4 oz Kahlua\\n1 1/4 oz Internat...</td>\n",
       "      <td>White Russian Cocktail</td>\n",
       "      <td>PT5M</td>\n",
       "      <td>NaN</td>\n",
       "      <td>NaN</td>\n",
       "      <td>serves 1</td>\n",
       "      <td>delishhh</td>\n",
       "      <td>NaN</td>\n",
       "      <td>{'$date': 1365276040793}</td>\n",
       "      <td>http://delishhh.com/2013/02/14/white-russian-c...</td>\n",
       "      <td>3</td>\n",
       "    </tr>\n",
       "    <tr>\n",
       "      <th>39</th>\n",
       "      <td>3</td>\n",
       "      <td>{'$oid': '5160758f96cc6207b12d18e2'}</td>\n",
       "      <td>PT20M</td>\n",
       "      <td>NaN</td>\n",
       "      <td>2013-03-24T04:46:50+00:00</td>\n",
       "      <td>2013-03-20T18:15:12+00:00</td>\n",
       "      <td>Recently iֲ got a mandolineֲ and iֲ have no id...</td>\n",
       "      <td>http://delishhh.com/wp-content/uploads/2013/03...</td>\n",
       "      <td>2 pounds potatoes\\n1/4 cup olive oil\\nSeasonin...</td>\n",
       "      <td>Homemade Potato Chips</td>\n",
       "      <td>PT10M</td>\n",
       "      <td>NaN</td>\n",
       "      <td>NaN</td>\n",
       "      <td>6 cups</td>\n",
       "      <td>delishhh</td>\n",
       "      <td>NaN</td>\n",
       "      <td>{'$date': 1365276047397}</td>\n",
       "      <td>http://delishhh.com/2013/03/20/homemade-potato...</td>\n",
       "      <td>3</td>\n",
       "    </tr>\n",
       "  </tbody>\n",
       "</table>\n",
       "</div>"
      ],
      "text/plain": [
       "    num_ingr                                   _id cookTime creator  \\\n",
       "32         3  {'$oid': '5160758896cc6207b12d18df'}      NaN     NaN   \n",
       "39         3  {'$oid': '5160758f96cc6207b12d18e2'}    PT20M     NaN   \n",
       "\n",
       "                 dateModified              datePublished  \\\n",
       "32  2013-03-24T04:42:49+00:00  2013-02-14T21:26:19+00:00   \n",
       "39  2013-03-24T04:46:50+00:00  2013-03-20T18:15:12+00:00   \n",
       "\n",
       "                                          description  \\\n",
       "32  Happy Valentines Day! ֲ I am not a big Valenti...   \n",
       "39  Recently iֲ got a mandolineֲ and iֲ have no id...   \n",
       "\n",
       "                                                image  \\\n",
       "32  http://delishhh.com/wp-content/uploads/2013/02...   \n",
       "39  http://delishhh.com/wp-content/uploads/2013/03...   \n",
       "\n",
       "                                          ingredients                    name  \\\n",
       "32  2 oz vodka\\n1 1/4 oz Kahlua\\n1 1/4 oz Internat...  White Russian Cocktail   \n",
       "39  2 pounds potatoes\\n1/4 cup olive oil\\nSeasonin...   Homemade Potato Chips   \n",
       "\n",
       "   prepTime recipeCategory recipeInstructions recipeYield    source totalTime  \\\n",
       "32     PT5M            NaN                NaN    serves 1  delishhh       NaN   \n",
       "39    PT10M            NaN                NaN      6 cups  delishhh       NaN   \n",
       "\n",
       "                          ts  \\\n",
       "32  {'$date': 1365276040793}   \n",
       "39  {'$date': 1365276047397}   \n",
       "\n",
       "                                                  url  num_ing  \n",
       "32  http://delishhh.com/2013/02/14/white-russian-c...        3  \n",
       "39  http://delishhh.com/2013/03/20/homemade-potato...        3  "
      ]
     },
     "execution_count": 25,
     "metadata": {},
     "output_type": "execute_result"
    }
   ],
   "source": [
    "df[df.num_ing==3].head(2)"
   ]
  },
  {
   "cell_type": "code",
   "execution_count": 52,
   "metadata": {},
   "outputs": [
    {
     "data": {
      "text/plain": [
       "4932"
      ]
     },
     "execution_count": 52,
     "metadata": {},
     "output_type": "execute_result"
    }
   ],
   "source": [
    "#number of records\n",
    "len(df[df.num_ing==3])"
   ]
  },
  {
   "cell_type": "code",
   "execution_count": 53,
   "metadata": {},
   "outputs": [
    {
     "data": {
      "text/plain": [
       "4932"
      ]
     },
     "execution_count": 53,
     "metadata": {},
     "output_type": "execute_result"
    }
   ],
   "source": [
    "#OR\n",
    "df[df.num_ing==3].shape[0]"
   ]
  },
  {
   "cell_type": "code",
   "execution_count": 54,
   "metadata": {},
   "outputs": [],
   "source": [
    "test = ['parsley', 'paprika', 'tarragon']"
   ]
  },
  {
   "cell_type": "code",
   "execution_count": null,
   "metadata": {},
   "outputs": [],
   "source": []
  },
  {
   "cell_type": "code",
   "execution_count": null,
   "metadata": {},
   "outputs": [],
   "source": []
  },
  {
   "cell_type": "code",
   "execution_count": 60,
   "metadata": {},
   "outputs": [],
   "source": [
    "df['all_ing'] = df.ingredients.apply(calc_all_ing, ings_to_test = test)"
   ]
  },
  {
   "cell_type": "code",
   "execution_count": 61,
   "metadata": {},
   "outputs": [],
   "source": [
    "def calc_all_ing(curr_full_ing_list, ings_to_test):\n",
    "    all_exist = True\n",
    "    curr_full_ing_list_split = curr_full_ing_list.split('\\n')\n",
    "    for ing in ings_to_test:\n",
    "        curr_exist = sum([ing in x for x in curr_full_ing_list_split]) > 0\n",
    "        all_exist &= curr_exist\n",
    "        #optimization\n",
    "        if all_exist == False:\n",
    "            return all_exist\n",
    "    return all_exist    "
   ]
  },
  {
   "cell_type": "code",
   "execution_count": 62,
   "metadata": {},
   "outputs": [],
   "source": [
    "aaa = [True, False, True]"
   ]
  },
  {
   "cell_type": "code",
   "execution_count": 63,
   "metadata": {},
   "outputs": [
    {
     "data": {
      "text/plain": [
       "2"
      ]
     },
     "execution_count": 63,
     "metadata": {},
     "output_type": "execute_result"
    }
   ],
   "source": [
    "sum(aaa)"
   ]
  },
  {
   "cell_type": "code",
   "execution_count": 64,
   "metadata": {},
   "outputs": [
    {
     "data": {
      "text/plain": [
       "10"
      ]
     },
     "execution_count": 64,
     "metadata": {},
     "output_type": "execute_result"
    }
   ],
   "source": [
    "df.all_ing.sum()"
   ]
  },
  {
   "cell_type": "code",
   "execution_count": null,
   "metadata": {},
   "outputs": [],
   "source": []
  }
 ],
 "metadata": {
  "kernelspec": {
   "display_name": "Python 3",
   "language": "python",
   "name": "python3"
  },
  "language_info": {
   "codemirror_mode": {
    "name": "ipython",
    "version": 3
   },
   "file_extension": ".py",
   "mimetype": "text/x-python",
   "name": "python",
   "nbconvert_exporter": "python",
   "pygments_lexer": "ipython3",
   "version": "3.6.5"
  }
 },
 "nbformat": 4,
 "nbformat_minor": 2
}
