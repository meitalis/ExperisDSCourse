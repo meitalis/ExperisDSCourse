{
 "cells": [
  {
   "cell_type": "code",
   "execution_count": 1,
   "metadata": {},
   "outputs": [],
   "source": [
    "#the key can be only string\n",
    "import json\n",
    "import pandas as pd\n"
   ]
  },
  {
   "cell_type": "code",
   "execution_count": null,
   "metadata": {},
   "outputs": [],
   "source": [
    "\n",
    "s =\"\"\"\n",
    "{\"name\":\"Mark\",\n",
    "\"age\":35,\n",
    "\"places_lived\": [\"US\",\"Israel\",\"Spain\"],\n",
    "\"wife\":null,\n",
    "\"sinlings\": [{\"name\":\"Scott\",\"age\":25,\"pet\":\"Zuko\"},\n",
    "            {\"name\":\"Katie\",\"age\":33,\"pet\":\"Kitty\"}]}\n",
    "\"\"\"\n",
    "\n",
    "# obj = json.loads(s)\n",
    "# obj['sinlings']\n",
    "# obj['sinlings'][0]\n",
    "# type(obj['sinlings'][0])\n",
    "# obj['sinlings'][0]['age'] #25\n",
    "\n",
    "# obj['sinlings'][0]['age'] = 125\n",
    "# obj['sinlings'][0]['age']\n",
    "\n",
    "# s2 = json.dumps(obj)\n",
    "# s2\n",
    "\n",
    "# df = pd.DataFrame(obj['sinlings'],columns=['name','age','pet'])\n",
    "# df = pd.DataFrame([list('ab'),list('cd')],index = list('XY'),\n",
    "#                   columns = list('MN'))\n",
    "# df.to_json('my_json.json')\n",
    "# !type my_json.json"
   ]
  },
  {
   "cell_type": "code",
   "execution_count": null,
   "metadata": {},
   "outputs": [],
   "source": []
  },
  {
   "cell_type": "code",
   "execution_count": null,
   "metadata": {},
   "outputs": [],
   "source": [
    "\n"
   ]
  },
  {
   "cell_type": "code",
   "execution_count": null,
   "metadata": {},
   "outputs": [],
   "source": []
  },
  {
   "cell_type": "code",
   "execution_count": null,
   "metadata": {},
   "outputs": [],
   "source": []
  }
 ],
 "metadata": {
  "kernelspec": {
   "display_name": "Python 3",
   "language": "python",
   "name": "python3"
  },
  "language_info": {
   "codemirror_mode": {
    "name": "ipython",
    "version": 3
   },
   "file_extension": ".py",
   "mimetype": "text/x-python",
   "name": "python",
   "nbconvert_exporter": "python",
   "pygments_lexer": "ipython3",
   "version": "3.7.4"
  }
 },
 "nbformat": 4,
 "nbformat_minor": 2
}
