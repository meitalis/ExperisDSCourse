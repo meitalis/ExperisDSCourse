{
 "cells": [
  {
   "cell_type": "code",
   "execution_count": 1,
   "metadata": {},
   "outputs": [
    {
     "data": {
      "text/html": [
       "<div>\n",
       "<style scoped>\n",
       "    .dataframe tbody tr th:only-of-type {\n",
       "        vertical-align: middle;\n",
       "    }\n",
       "\n",
       "    .dataframe tbody tr th {\n",
       "        vertical-align: top;\n",
       "    }\n",
       "\n",
       "    .dataframe thead th {\n",
       "        text-align: right;\n",
       "    }\n",
       "</style>\n",
       "<table border=\"1\" class=\"dataframe\">\n",
       "  <thead>\n",
       "    <tr style=\"text-align: right;\">\n",
       "      <th></th>\n",
       "      <th>U.K. Brent</th>\n",
       "      <th>Dubai</th>\n",
       "      <th>West Texas</th>\n",
       "    </tr>\n",
       "  </thead>\n",
       "  <tbody>\n",
       "    <tr>\n",
       "      <td>2013-Q1</td>\n",
       "      <td>112.9</td>\n",
       "      <td>108.1</td>\n",
       "      <td>94.4</td>\n",
       "    </tr>\n",
       "    <tr>\n",
       "      <td>2013-Q2</td>\n",
       "      <td>103.0</td>\n",
       "      <td>100.8</td>\n",
       "      <td>94.2</td>\n",
       "    </tr>\n",
       "    <tr>\n",
       "      <td>2013-Q3</td>\n",
       "      <td>110.1</td>\n",
       "      <td>106.1</td>\n",
       "      <td>105.8</td>\n",
       "    </tr>\n",
       "    <tr>\n",
       "      <td>2013-Q4</td>\n",
       "      <td>109.4</td>\n",
       "      <td>106.7</td>\n",
       "      <td>97.4</td>\n",
       "    </tr>\n",
       "  </tbody>\n",
       "</table>\n",
       "</div>"
      ],
      "text/plain": [
       "         U.K. Brent  Dubai  West Texas\n",
       "2013-Q1       112.9  108.1        94.4\n",
       "2013-Q2       103.0  100.8        94.2\n",
       "2013-Q3       110.1  106.1       105.8\n",
       "2013-Q4       109.4  106.7        97.4"
      ]
     },
     "execution_count": 1,
     "metadata": {},
     "output_type": "execute_result"
    }
   ],
   "source": [
    "import pandas as pd\n",
    "oil_prices = pd.DataFrame({\n",
    "    'U.K. Brent': {'2013-Q1': 112.9, '2013-Q2': 103.0,\n",
    "                   '2013-Q3': 110.1, '2013-Q4': 109.4},\n",
    "     'Dubai': {'2013-Q1': 108.1, '2013-Q2': 100.8,\n",
    "                   '2013-Q3': 106.1, '2013-Q4': 106.7},\n",
    "     'West Texas': {'2013-Q1': 94.4, '2013-Q2': 94.2,\n",
    "                   '2013-Q3': 105.8, '2013-Q4': 97.4},\n",
    "                   \n",
    "}\n",
    ")\n",
    "oil_prices"
   ]
  },
  {
   "cell_type": "code",
   "execution_count": 2,
   "metadata": {},
   "outputs": [
    {
     "data": {
      "text/plain": [
       "108.1"
      ]
     },
     "execution_count": 2,
     "metadata": {},
     "output_type": "execute_result"
    }
   ],
   "source": [
    "oil_prices['Dubai'][0]"
   ]
  },
  {
   "cell_type": "code",
   "execution_count": 3,
   "metadata": {},
   "outputs": [
    {
     "data": {
      "text/html": [
       "<div>\n",
       "<style scoped>\n",
       "    .dataframe tbody tr th:only-of-type {\n",
       "        vertical-align: middle;\n",
       "    }\n",
       "\n",
       "    .dataframe tbody tr th {\n",
       "        vertical-align: top;\n",
       "    }\n",
       "\n",
       "    .dataframe thead th {\n",
       "        text-align: right;\n",
       "    }\n",
       "</style>\n",
       "<table border=\"1\" class=\"dataframe\">\n",
       "  <thead>\n",
       "    <tr style=\"text-align: right;\">\n",
       "      <th></th>\n",
       "      <th>U.K. Brent</th>\n",
       "    </tr>\n",
       "  </thead>\n",
       "  <tbody>\n",
       "    <tr>\n",
       "      <td>2013-Q1</td>\n",
       "      <td>112.9</td>\n",
       "    </tr>\n",
       "    <tr>\n",
       "      <td>2013-Q2</td>\n",
       "      <td>103.0</td>\n",
       "    </tr>\n",
       "    <tr>\n",
       "      <td>2013-Q3</td>\n",
       "      <td>110.1</td>\n",
       "    </tr>\n",
       "    <tr>\n",
       "      <td>2013-Q4</td>\n",
       "      <td>109.4</td>\n",
       "    </tr>\n",
       "  </tbody>\n",
       "</table>\n",
       "</div>"
      ],
      "text/plain": [
       "         U.K. Brent\n",
       "2013-Q1       112.9\n",
       "2013-Q2       103.0\n",
       "2013-Q3       110.1\n",
       "2013-Q4       109.4"
      ]
     },
     "execution_count": 3,
     "metadata": {},
     "output_type": "execute_result"
    }
   ],
   "source": [
    "oil_prices.loc[:,oil_prices.loc['2013-Q1'] > 110 ]"
   ]
  },
  {
   "cell_type": "code",
   "execution_count": 4,
   "metadata": {},
   "outputs": [
    {
     "data": {
      "text/plain": [
       "Dubai         108.1\n",
       "West Texas     94.4\n",
       "Name: 2013-Q1, dtype: float64"
      ]
     },
     "execution_count": 4,
     "metadata": {},
     "output_type": "execute_result"
    }
   ],
   "source": [
    "oil_prices.iloc[0,1:3]"
   ]
  },
  {
   "cell_type": "code",
   "execution_count": 5,
   "metadata": {},
   "outputs": [
    {
     "data": {
      "text/plain": [
       "U.K. Brent    2013-Q1\n",
       "Dubai         2013-Q1\n",
       "West Texas    2013-Q3\n",
       "dtype: object"
      ]
     },
     "execution_count": 5,
     "metadata": {},
     "output_type": "execute_result"
    }
   ],
   "source": [
    "oil_prices.idxmax()"
   ]
  },
  {
   "cell_type": "code",
   "execution_count": 7,
   "metadata": {},
   "outputs": [
    {
     "data": {
      "text/html": [
       "<div>\n",
       "<style scoped>\n",
       "    .dataframe tbody tr th:only-of-type {\n",
       "        vertical-align: middle;\n",
       "    }\n",
       "\n",
       "    .dataframe tbody tr th {\n",
       "        vertical-align: top;\n",
       "    }\n",
       "\n",
       "    .dataframe thead th {\n",
       "        text-align: right;\n",
       "    }\n",
       "</style>\n",
       "<table border=\"1\" class=\"dataframe\">\n",
       "  <thead>\n",
       "    <tr style=\"text-align: right;\">\n",
       "      <th></th>\n",
       "      <th>U.K. Brent</th>\n",
       "      <th>Dubai</th>\n",
       "      <th>West Texas</th>\n",
       "    </tr>\n",
       "  </thead>\n",
       "  <tbody>\n",
       "    <tr>\n",
       "      <td>2013-Q1</td>\n",
       "      <td>112.9</td>\n",
       "      <td>108.1</td>\n",
       "      <td>94.4</td>\n",
       "    </tr>\n",
       "    <tr>\n",
       "      <td>2013-Q2</td>\n",
       "      <td>103.0</td>\n",
       "      <td>100.8</td>\n",
       "      <td>94.2</td>\n",
       "    </tr>\n",
       "    <tr>\n",
       "      <td>2013-Q3</td>\n",
       "      <td>110.1</td>\n",
       "      <td>106.1</td>\n",
       "      <td>105.8</td>\n",
       "    </tr>\n",
       "    <tr>\n",
       "      <td>2013-Q4</td>\n",
       "      <td>109.4</td>\n",
       "      <td>106.7</td>\n",
       "      <td>97.4</td>\n",
       "    </tr>\n",
       "  </tbody>\n",
       "</table>\n",
       "</div>"
      ],
      "text/plain": [
       "         U.K. Brent  Dubai  West Texas\n",
       "2013-Q1       112.9  108.1        94.4\n",
       "2013-Q2       103.0  100.8        94.2\n",
       "2013-Q3       110.1  106.1       105.8\n",
       "2013-Q4       109.4  106.7        97.4"
      ]
     },
     "execution_count": 7,
     "metadata": {},
     "output_type": "execute_result"
    }
   ],
   "source": [
    "oil_prices"
   ]
  },
  {
   "cell_type": "code",
   "execution_count": 10,
   "metadata": {},
   "outputs": [
    {
     "data": {
      "text/plain": [
       "U.K. Brent  2013-Q1    112.9\n",
       "            2013-Q2    103.0\n",
       "            2013-Q3    110.1\n",
       "            2013-Q4    109.4\n",
       "Dubai       2013-Q1    108.1\n",
       "            2013-Q2    100.8\n",
       "            2013-Q3    106.1\n",
       "            2013-Q4    106.7\n",
       "West Texas  2013-Q1     94.4\n",
       "            2013-Q2     94.2\n",
       "            2013-Q3    105.8\n",
       "            2013-Q4     97.4\n",
       "dtype: float64"
      ]
     },
     "execution_count": 10,
     "metadata": {},
     "output_type": "execute_result"
    }
   ],
   "source": [
    "oil_prices.unstack()"
   ]
  },
  {
   "cell_type": "code",
   "execution_count": 13,
   "metadata": {},
   "outputs": [
    {
     "data": {
      "text/plain": [
       "2013-Q1  U.K. Brent    112.9\n",
       "         Dubai         108.1\n",
       "         West Texas     94.4\n",
       "2013-Q2  U.K. Brent    103.0\n",
       "         Dubai         100.8\n",
       "         West Texas     94.2\n",
       "2013-Q3  U.K. Brent    110.1\n",
       "         Dubai         106.1\n",
       "         West Texas    105.8\n",
       "2013-Q4  U.K. Brent    109.4\n",
       "         Dubai         106.7\n",
       "         West Texas     97.4\n",
       "dtype: float64"
      ]
     },
     "execution_count": 13,
     "metadata": {},
     "output_type": "execute_result"
    }
   ],
   "source": [
    "oil_prices.stack()"
   ]
  },
  {
   "cell_type": "code",
   "execution_count": 22,
   "metadata": {},
   "outputs": [
    {
     "data": {
      "text/plain": [
       "0    [2013, Q1]\n",
       "1    [2013, Q2]\n",
       "2    [2013, Q3]\n",
       "3    [2013, Q4]\n",
       "Name: index, dtype: object"
      ]
     },
     "execution_count": 22,
     "metadata": {},
     "output_type": "execute_result"
    }
   ],
   "source": [
    "oil_prices.reset_index().iloc[:,0].str.split('-',expand = False)"
   ]
  },
  {
   "cell_type": "code",
   "execution_count": 23,
   "metadata": {},
   "outputs": [
    {
     "data": {
      "text/html": [
       "<div>\n",
       "<style scoped>\n",
       "    .dataframe tbody tr th:only-of-type {\n",
       "        vertical-align: middle;\n",
       "    }\n",
       "\n",
       "    .dataframe tbody tr th {\n",
       "        vertical-align: top;\n",
       "    }\n",
       "\n",
       "    .dataframe thead th {\n",
       "        text-align: right;\n",
       "    }\n",
       "</style>\n",
       "<table border=\"1\" class=\"dataframe\">\n",
       "  <thead>\n",
       "    <tr style=\"text-align: right;\">\n",
       "      <th></th>\n",
       "      <th>0</th>\n",
       "      <th>1</th>\n",
       "    </tr>\n",
       "  </thead>\n",
       "  <tbody>\n",
       "    <tr>\n",
       "      <td>0</td>\n",
       "      <td>2013</td>\n",
       "      <td>Q1</td>\n",
       "    </tr>\n",
       "    <tr>\n",
       "      <td>1</td>\n",
       "      <td>2013</td>\n",
       "      <td>Q2</td>\n",
       "    </tr>\n",
       "    <tr>\n",
       "      <td>2</td>\n",
       "      <td>2013</td>\n",
       "      <td>Q3</td>\n",
       "    </tr>\n",
       "    <tr>\n",
       "      <td>3</td>\n",
       "      <td>2013</td>\n",
       "      <td>Q4</td>\n",
       "    </tr>\n",
       "  </tbody>\n",
       "</table>\n",
       "</div>"
      ],
      "text/plain": [
       "      0   1\n",
       "0  2013  Q1\n",
       "1  2013  Q2\n",
       "2  2013  Q3\n",
       "3  2013  Q4"
      ]
     },
     "execution_count": 23,
     "metadata": {},
     "output_type": "execute_result"
    }
   ],
   "source": [
    "oil_prices.reset_index().iloc[:,0].str.split('-',expand = True)"
   ]
  },
  {
   "cell_type": "code",
   "execution_count": 24,
   "metadata": {},
   "outputs": [
    {
     "data": {
      "text/html": [
       "<div>\n",
       "<style scoped>\n",
       "    .dataframe tbody tr th:only-of-type {\n",
       "        vertical-align: middle;\n",
       "    }\n",
       "\n",
       "    .dataframe tbody tr th {\n",
       "        vertical-align: top;\n",
       "    }\n",
       "\n",
       "    .dataframe thead th {\n",
       "        text-align: right;\n",
       "    }\n",
       "</style>\n",
       "<table border=\"1\" class=\"dataframe\">\n",
       "  <thead>\n",
       "    <tr style=\"text-align: right;\">\n",
       "      <th></th>\n",
       "      <th>U.K. Brent</th>\n",
       "      <th>Dubai</th>\n",
       "      <th>West Texas</th>\n",
       "    </tr>\n",
       "  </thead>\n",
       "  <tbody>\n",
       "    <tr>\n",
       "      <td>2013-Q1</td>\n",
       "      <td>112.9</td>\n",
       "      <td>108.1</td>\n",
       "      <td>94.4</td>\n",
       "    </tr>\n",
       "    <tr>\n",
       "      <td>2013-Q2</td>\n",
       "      <td>103.0</td>\n",
       "      <td>100.8</td>\n",
       "      <td>94.2</td>\n",
       "    </tr>\n",
       "    <tr>\n",
       "      <td>2013-Q3</td>\n",
       "      <td>110.1</td>\n",
       "      <td>106.1</td>\n",
       "      <td>105.8</td>\n",
       "    </tr>\n",
       "    <tr>\n",
       "      <td>2013-Q4</td>\n",
       "      <td>109.4</td>\n",
       "      <td>106.7</td>\n",
       "      <td>97.4</td>\n",
       "    </tr>\n",
       "  </tbody>\n",
       "</table>\n",
       "</div>"
      ],
      "text/plain": [
       "         U.K. Brent  Dubai  West Texas\n",
       "2013-Q1       112.9  108.1        94.4\n",
       "2013-Q2       103.0  100.8        94.2\n",
       "2013-Q3       110.1  106.1       105.8\n",
       "2013-Q4       109.4  106.7        97.4"
      ]
     },
     "execution_count": 24,
     "metadata": {},
     "output_type": "execute_result"
    }
   ],
   "source": [
    "oil_prices"
   ]
  },
  {
   "cell_type": "code",
   "execution_count": null,
   "metadata": {},
   "outputs": [],
   "source": []
  }
 ],
 "metadata": {
  "kernelspec": {
   "display_name": "Python 3",
   "language": "python",
   "name": "python3"
  },
  "language_info": {
   "codemirror_mode": {
    "name": "ipython",
    "version": 3
   },
   "file_extension": ".py",
   "mimetype": "text/x-python",
   "name": "python",
   "nbconvert_exporter": "python",
   "pygments_lexer": "ipython3",
   "version": "3.7.4"
  }
 },
 "nbformat": 4,
 "nbformat_minor": 2
}
