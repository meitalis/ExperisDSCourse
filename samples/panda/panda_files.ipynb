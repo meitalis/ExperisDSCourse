{
 "cells": [
  {
   "cell_type": "code",
   "execution_count": 38,
   "metadata": {},
   "outputs": [],
   "source": [
    "import numpy as np\n",
    "import pandas as pd"
   ]
  },
  {
   "cell_type": "code",
   "execution_count": null,
   "metadata": {},
   "outputs": [],
   "source": [
    "# ** myfile.csv ** \n",
    "# df = pd.read_csv(\"myfile.csv\")\n",
    "# # df = pd.read_csv(\"myfile.csv\",header=None)\n",
    "# #df.head()\n",
    "# #df.info()\n",
    "# df = pd.read_csv(\"myfile.csv\",index_col='message')\n",
    "# df.set_index('message',inplace=True)\n",
    "# df2 = pd.read_table('myfile.csv',sep=',',index_col='message')\n",
    "# df3 = pd.read_csv('myfile.csv',skiprows=[0])"
   ]
  },
  {
   "cell_type": "code",
   "execution_count": 67,
   "metadata": {},
   "outputs": [
    {
     "ename": "AttributeError",
     "evalue": "'TextFileReader' object has no attribute 'head'",
     "output_type": "error",
     "traceback": [
      "\u001b[1;31m---------------------------------------------------------------------------\u001b[0m",
      "\u001b[1;31mAttributeError\u001b[0m                            Traceback (most recent call last)",
      "\u001b[1;32m<ipython-input-67-b1df4f182139>\u001b[0m in \u001b[0;36m<module>\u001b[1;34m\u001b[0m\n\u001b[0;32m     20\u001b[0m \u001b[0mreader\u001b[0m \u001b[1;33m=\u001b[0m \u001b[0mpd\u001b[0m\u001b[1;33m.\u001b[0m\u001b[0mread_csv\u001b[0m\u001b[1;33m(\u001b[0m\u001b[1;34m\"myfile6_new.csv\"\u001b[0m\u001b[1;33m,\u001b[0m\u001b[0mchunksize\u001b[0m\u001b[1;33m=\u001b[0m\u001b[1;36m1000\u001b[0m\u001b[1;33m)\u001b[0m\u001b[1;33m\u001b[0m\u001b[1;33m\u001b[0m\u001b[0m\n\u001b[0;32m     21\u001b[0m \u001b[0mreader\u001b[0m\u001b[1;33m.\u001b[0m\u001b[0mget_chunk\u001b[0m\u001b[1;33m(\u001b[0m\u001b[1;36m5\u001b[0m\u001b[1;33m)\u001b[0m\u001b[1;33m\u001b[0m\u001b[1;33m\u001b[0m\u001b[0m\n\u001b[1;32m---> 22\u001b[1;33m \u001b[0mreader\u001b[0m\u001b[1;33m.\u001b[0m\u001b[0mhead\u001b[0m\u001b[1;33m(\u001b[0m\u001b[1;36m5\u001b[0m\u001b[1;33m)\u001b[0m\u001b[1;33m\u001b[0m\u001b[1;33m\u001b[0m\u001b[0m\n\u001b[0m\u001b[0;32m     23\u001b[0m \u001b[1;31m# for chunk in reader:\u001b[0m\u001b[1;33m\u001b[0m\u001b[1;33m\u001b[0m\u001b[1;33m\u001b[0m\u001b[0m\n\u001b[0;32m     24\u001b[0m \u001b[1;31m#     print(len(chunk))\u001b[0m\u001b[1;33m\u001b[0m\u001b[1;33m\u001b[0m\u001b[1;33m\u001b[0m\u001b[0m\n",
      "\u001b[1;31mAttributeError\u001b[0m: 'TextFileReader' object has no attribute 'head'"
     ]
    }
   ],
   "source": [
    "# ** myfile6.csv ** \n",
    "#df = pd.read_csv('myfile6.csv',na_values=['foo'])\n",
    "#df = pd.read_csv('myfile6.csv',index_col='something')\n",
    "#df.sort_values('d',ascending=True,inplace=True)\n",
    "#df.dropna(inplace=True)\n",
    "#df.to_csv('myfile6_sort.csv',na_rep='NULL')\n",
    "#df.to_csv('myfile6_sort.csv',index=False, header = False)\n",
    "#df.to_csv('myfile6_sort.csv',index=False, columns=['a','b','c'])\n",
    "#df.to_csv('myfile6_sort.csv',index=False, header = False)\n",
    "#df[['a','b']].to_csv('myfile6_sort.csv',index=False)\n",
    "#df[['a','b']].to_csv('myfile6_sort.csv',index=False)\n",
    "#!type myfile6_sort.csv\n",
    "\n",
    "# df = pd.DataFrame(np.random.rand(10000,4),\n",
    "#                   columns=['one','two','three','four'])\n",
    "# df.to_csv('myfile6_new.csv',index=False)\n",
    "# #!type myfile6_new.csv\n",
    "# df = pd.read_csv('myfile6_new.csv',nrows=5).head(2)\n",
    "\n",
    "reader = pd.read_csv(\"myfile6_new.csv\",chunksize=1000)\n",
    "reader.get_chunk(5)\n",
    "\n",
    "# for chunk in reader:\n",
    "#     print(len(chunk))\n",
    "#     print(chunk['one'].mean())\n",
    "\n",
    "\n",
    "    \n",
    "\n",
    "\n",
    "\n"
   ]
  },
  {
   "cell_type": "code",
   "execution_count": 49,
   "metadata": {},
   "outputs": [
    {
     "ename": "NameError",
     "evalue": "name 'TextFileReader' is not defined",
     "output_type": "error",
     "traceback": [
      "\u001b[1;31m---------------------------------------------------------------------------\u001b[0m",
      "\u001b[1;31mNameError\u001b[0m                                 Traceback (most recent call last)",
      "\u001b[1;32m<ipython-input-49-86edda7d634f>\u001b[0m in \u001b[0;36m<module>\u001b[1;34m\u001b[0m\n\u001b[1;32m----> 1\u001b[1;33m \u001b[0mtype\u001b[0m\u001b[1;33m(\u001b[0m\u001b[0mTextFileReader\u001b[0m\u001b[1;33m)\u001b[0m\u001b[1;33m\u001b[0m\u001b[1;33m\u001b[0m\u001b[0m\n\u001b[0m",
      "\u001b[1;31mNameError\u001b[0m: name 'TextFileReader' is not defined"
     ]
    }
   ],
   "source": [
    "\n"
   ]
  },
  {
   "cell_type": "code",
   "execution_count": null,
   "metadata": {},
   "outputs": [],
   "source": []
  }
 ],
 "metadata": {
  "kernelspec": {
   "display_name": "Python 3",
   "language": "python",
   "name": "python3"
  },
  "language_info": {
   "codemirror_mode": {
    "name": "ipython",
    "version": 3
   },
   "file_extension": ".py",
   "mimetype": "text/x-python",
   "name": "python",
   "nbconvert_exporter": "python",
   "pygments_lexer": "ipython3",
   "version": "3.7.4"
  }
 },
 "nbformat": 4,
 "nbformat_minor": 2
}
