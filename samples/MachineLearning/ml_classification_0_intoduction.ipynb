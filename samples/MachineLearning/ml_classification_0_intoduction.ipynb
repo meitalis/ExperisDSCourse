{
 "cells": [
  {
   "cell_type": "markdown",
   "metadata": {},
   "source": [
    "classification is the task of predicting the class of a given data point(sample)\n",
    "Classs are also known as targets, labels or categories\n",
    "i.e spam or not apsm\n",
    "a **decision boundary** is a subspace that partitions the data into two sets, one for each class"
   ]
  },
  {
   "cell_type": "markdown",
   "metadata": {},
   "source": [
    "# Classification Methods"
   ]
  },
  {
   "cell_type": "markdown",
   "metadata": {},
   "source": [
    "methods can be broken down on the type of output variables and the number of output variables produced by them\n",
    "Binary classification - classifiy instance into 1 or 2 classes\n",
    "Multiclass classification - classify instances into 1 of 3 or more classes\n",
    "Multilabel classification - multiple labels may be assigned to each instance"
   ]
  },
  {
   "cell_type": "markdown",
   "metadata": {},
   "source": [
    "There are a number of classification models. Classification models include logistic regression, decision tree, random forest, gradient-boosted tree, multilayer perceptron, one-vs-rest, and Naive Bayes."
   ]
  },
  {
   "cell_type": "code",
   "execution_count": null,
   "metadata": {},
   "outputs": [],
   "source": []
  }
 ],
 "metadata": {
  "kernelspec": {
   "display_name": "Python 3",
   "language": "python",
   "name": "python3"
  },
  "language_info": {
   "codemirror_mode": {
    "name": "ipython",
    "version": 3
   },
   "file_extension": ".py",
   "mimetype": "text/x-python",
   "name": "python",
   "nbconvert_exporter": "python",
   "pygments_lexer": "ipython3",
   "version": "3.7.4"
  }
 },
 "nbformat": 4,
 "nbformat_minor": 2
}
