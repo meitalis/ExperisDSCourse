{
 "cells": [
  {
   "cell_type": "code",
   "execution_count": null,
   "metadata": {},
   "outputs": [],
   "source": [
    "import numpy as np"
   ]
  },
  {
   "cell_type": "markdown",
   "metadata": {},
   "source": [
    "#### Information Gain"
   ]
  },
  {
   "cell_type": "code",
   "execution_count": null,
   "metadata": {},
   "outputs": [],
   "source": [
    "#Ex p. 298\n",
    "#Info(D) = I(9,5)\n",
    "ID = -9/14 * np.log2(9/14) - 5/14*np.log2(5/14)\n",
    "ID"
   ]
  },
  {
   "cell_type": "code",
   "execution_count": null,
   "metadata": {},
   "outputs": [],
   "source": [
    "ID_Age = (((- (2/5) * np.log2(2/5)) - ( (3/5) * np.log2(3/5))) * (5/14)) + 0 + (((- (2/5) * np.log2(2/5)) - ( (3/5) * np.log2(3/5))) * (5/14))\n",
    "ID_Age"
   ]
  },
  {
   "cell_type": "code",
   "execution_count": null,
   "metadata": {},
   "outputs": [],
   "source": [
    "#high - 4 \n",
    "#medium - 6\n",
    "#low - 4\n",
    "\n",
    "#4/14 * I(2,2) + 6/14 * I(4,2) + 4/14 I(3,1)\n",
    "high = (((- (2/4) * np.log2(2/4)) - ( (2/4) * np.log2(2/4))) * (4/14))\n",
    "medium = (((- (4/6) * np.log2(4/6)) - ( (2/6) * np.log2(2/6))) * (6/14))\n",
    "low = (((- (3/4) * np.log2(3/4)) - ( (1/4) * np.log2(1/4))) * (4/14))\n",
    "\n",
    "ID_income = high + medium + low\n",
    "display(ID_income)\n",
    "\n",
    "Gain_income = ID - ID_income\n",
    "Gain_income"
   ]
  },
  {
   "cell_type": "code",
   "execution_count": null,
   "metadata": {},
   "outputs": [],
   "source": [
    "#no - 7\n",
    "#yes- 7\n",
    "\n",
    "# no                   yes\n",
    "#7/14 * I(3,4) + 7/14 * I(6,1) \n",
    "no = (((- (3/7) * np.log2(3/7)) - ( (4/7) * np.log2(4/7))) * (7/14))\n",
    "yes = (((- (6/7) * np.log2(6/7)) - ( (1/7) * np.log2(1/7))) * (7/14))\n",
    "\n",
    "ID_student = no + yes\n",
    "ID_student\n",
    "\n",
    "Gain_student = ID - ID_student\n",
    "Gain_student"
   ]
  },
  {
   "cell_type": "code",
   "execution_count": null,
   "metadata": {},
   "outputs": [],
   "source": [
    "#fair - 8\n",
    "#exce- 6\n",
    "\n",
    "\n",
    "#8/14 * I(6,2) + 6/14 * I(3,3) \n",
    "fair = (((- (6/8) * np.log2(6/8)) - ( (2/8) * np.log2(2/8))) * (8/14))\n",
    "exce = (((- (3/6) * np.log2(3/6)) - ( (3/6) * np.log2(3/6))) * (6/14))\n",
    "\n",
    "ID_credit = fair + exce\n",
    "ID_credit\n",
    "\n",
    "Gain_credit = ID - ID_credit\n",
    "Gain_credit"
   ]
  },
  {
   "cell_type": "code",
   "execution_count": null,
   "metadata": {},
   "outputs": [],
   "source": [
    "#Ex p. 299\n",
    "# + - 3,3\n",
    "\n",
    "Entropy = (((- (3/6) * np.log2(3/6)) - ( (3/6) * np.log2(3/6))))\n",
    "Entropy"
   ]
  },
  {
   "cell_type": "code",
   "execution_count": null,
   "metadata": {},
   "outputs": [],
   "source": [
    "#a2 gain\n",
    "#T- 4\n",
    "#F- 2\n",
    "\n",
    "\n",
    "#4/6 * I(2,2) + 2/6 * I(1,1) \n",
    "T = 4/6 * 1\n",
    "F = 2/6 * 1\n",
    "\n",
    "ID_a2 = T + F\n",
    "display(ID_a2)\n",
    "\n",
    "Gain_a2 = Entropy - ID_a2\n",
    "Gain_a2"
   ]
  },
  {
   "cell_type": "code",
   "execution_count": 36,
   "metadata": {},
   "outputs": [
    {
     "name": "stdout",
     "output_type": "stream",
     "text": [
      "unique ['no' 'yes'] counts [5 9]\n",
      "play entropy_root 0.9402859586706311 gain 0\n",
      "feature outlook indexes [2 3 0] uniques ['o' 'r' 's'] counts [4 5 5]\n",
      "idx_values [2, 6, 11, 12] yes_count 4 no_count 0\n",
      "feature outlook indexes [0] uniques ['o'] counts [4]\n",
      "idx_values [2, 6, 11, 12] yes_count 4 no_count 0\n"
     ]
    },
    {
     "ename": "IndexError",
     "evalue": "positional indexers are out-of-bounds",
     "output_type": "error",
     "traceback": [
      "\u001b[1;31m---------------------------------------------------------------------------\u001b[0m",
      "\u001b[1;31mIndexError\u001b[0m                                Traceback (most recent call last)",
      "\u001b[1;32m~\\Anaconda3\\lib\\site-packages\\pandas\\core\\indexing.py\u001b[0m in \u001b[0;36m_get_list_axis\u001b[1;34m(self, key, axis)\u001b[0m\n\u001b[0;32m   2129\u001b[0m         \u001b[1;32mtry\u001b[0m\u001b[1;33m:\u001b[0m\u001b[1;33m\u001b[0m\u001b[1;33m\u001b[0m\u001b[0m\n\u001b[1;32m-> 2130\u001b[1;33m             \u001b[1;32mreturn\u001b[0m \u001b[0mself\u001b[0m\u001b[1;33m.\u001b[0m\u001b[0mobj\u001b[0m\u001b[1;33m.\u001b[0m\u001b[0mtake\u001b[0m\u001b[1;33m(\u001b[0m\u001b[0mkey\u001b[0m\u001b[1;33m,\u001b[0m \u001b[0maxis\u001b[0m\u001b[1;33m=\u001b[0m\u001b[0maxis\u001b[0m\u001b[1;33m)\u001b[0m\u001b[1;33m\u001b[0m\u001b[1;33m\u001b[0m\u001b[0m\n\u001b[0m\u001b[0;32m   2131\u001b[0m         \u001b[1;32mexcept\u001b[0m \u001b[0mIndexError\u001b[0m\u001b[1;33m:\u001b[0m\u001b[1;33m\u001b[0m\u001b[1;33m\u001b[0m\u001b[0m\n",
      "\u001b[1;32m~\\Anaconda3\\lib\\site-packages\\pandas\\core\\generic.py\u001b[0m in \u001b[0;36mtake\u001b[1;34m(self, indices, axis, is_copy, **kwargs)\u001b[0m\n\u001b[0;32m   3603\u001b[0m         new_data = self._data.take(\n\u001b[1;32m-> 3604\u001b[1;33m             \u001b[0mindices\u001b[0m\u001b[1;33m,\u001b[0m \u001b[0maxis\u001b[0m\u001b[1;33m=\u001b[0m\u001b[0mself\u001b[0m\u001b[1;33m.\u001b[0m\u001b[0m_get_block_manager_axis\u001b[0m\u001b[1;33m(\u001b[0m\u001b[0maxis\u001b[0m\u001b[1;33m)\u001b[0m\u001b[1;33m,\u001b[0m \u001b[0mverify\u001b[0m\u001b[1;33m=\u001b[0m\u001b[1;32mTrue\u001b[0m\u001b[1;33m\u001b[0m\u001b[1;33m\u001b[0m\u001b[0m\n\u001b[0m\u001b[0;32m   3605\u001b[0m         )\n",
      "\u001b[1;32m~\\Anaconda3\\lib\\site-packages\\pandas\\core\\internals\\managers.py\u001b[0m in \u001b[0;36mtake\u001b[1;34m(self, indexer, axis, verify, convert)\u001b[0m\n\u001b[0;32m   1388\u001b[0m         \u001b[1;32mif\u001b[0m \u001b[0mconvert\u001b[0m\u001b[1;33m:\u001b[0m\u001b[1;33m\u001b[0m\u001b[1;33m\u001b[0m\u001b[0m\n\u001b[1;32m-> 1389\u001b[1;33m             \u001b[0mindexer\u001b[0m \u001b[1;33m=\u001b[0m \u001b[0mmaybe_convert_indices\u001b[0m\u001b[1;33m(\u001b[0m\u001b[0mindexer\u001b[0m\u001b[1;33m,\u001b[0m \u001b[0mn\u001b[0m\u001b[1;33m)\u001b[0m\u001b[1;33m\u001b[0m\u001b[1;33m\u001b[0m\u001b[0m\n\u001b[0m\u001b[0;32m   1390\u001b[0m \u001b[1;33m\u001b[0m\u001b[0m\n",
      "\u001b[1;32m~\\Anaconda3\\lib\\site-packages\\pandas\\core\\indexers.py\u001b[0m in \u001b[0;36mmaybe_convert_indices\u001b[1;34m(indices, n)\u001b[0m\n\u001b[0;32m    200\u001b[0m     \u001b[1;32mif\u001b[0m \u001b[0mmask\u001b[0m\u001b[1;33m.\u001b[0m\u001b[0many\u001b[0m\u001b[1;33m(\u001b[0m\u001b[1;33m)\u001b[0m\u001b[1;33m:\u001b[0m\u001b[1;33m\u001b[0m\u001b[1;33m\u001b[0m\u001b[0m\n\u001b[1;32m--> 201\u001b[1;33m         \u001b[1;32mraise\u001b[0m \u001b[0mIndexError\u001b[0m\u001b[1;33m(\u001b[0m\u001b[1;34m\"indices are out-of-bounds\"\u001b[0m\u001b[1;33m)\u001b[0m\u001b[1;33m\u001b[0m\u001b[1;33m\u001b[0m\u001b[0m\n\u001b[0m\u001b[0;32m    202\u001b[0m     \u001b[1;32mreturn\u001b[0m \u001b[0mindices\u001b[0m\u001b[1;33m\u001b[0m\u001b[1;33m\u001b[0m\u001b[0m\n",
      "\u001b[1;31mIndexError\u001b[0m: indices are out-of-bounds",
      "\nDuring handling of the above exception, another exception occurred:\n",
      "\u001b[1;31mIndexError\u001b[0m                                Traceback (most recent call last)",
      "\u001b[1;32m<ipython-input-36-818fce2ef400>\u001b[0m in \u001b[0;36m<module>\u001b[1;34m\u001b[0m\n\u001b[0;32m     77\u001b[0m \u001b[1;33m\u001b[0m\u001b[0m\n\u001b[0;32m     78\u001b[0m \u001b[1;33m\u001b[0m\u001b[0m\n\u001b[1;32m---> 79\u001b[1;33m \u001b[1;32mfor\u001b[0m \u001b[0mg\u001b[0m \u001b[1;32min\u001b[0m \u001b[0mgain_func\u001b[0m\u001b[1;33m(\u001b[0m\u001b[1;32mNone\u001b[0m\u001b[1;33m,\u001b[0m\u001b[0mX\u001b[0m\u001b[1;33m,\u001b[0m\u001b[0my\u001b[0m\u001b[1;33m)\u001b[0m\u001b[1;33m:\u001b[0m\u001b[1;33m\u001b[0m\u001b[1;33m\u001b[0m\u001b[0m\n\u001b[0m\u001b[0;32m     80\u001b[0m     \u001b[0mprint\u001b[0m\u001b[1;33m(\u001b[0m\u001b[1;34m'********************'\u001b[0m\u001b[1;33m)\u001b[0m\u001b[1;33m\u001b[0m\u001b[1;33m\u001b[0m\u001b[0m\n",
      "\u001b[1;32m<ipython-input-36-818fce2ef400>\u001b[0m in \u001b[0;36mgain_func\u001b[1;34m(entropy_root, X, y)\u001b[0m\n\u001b[0;32m     27\u001b[0m \u001b[1;33m\u001b[0m\u001b[0m\n\u001b[0;32m     28\u001b[0m \u001b[1;33m\u001b[0m\u001b[0m\n\u001b[1;32m---> 29\u001b[1;33m         \u001b[0mgain_func\u001b[0m\u001b[1;33m(\u001b[0m\u001b[0mentropy_root\u001b[0m\u001b[1;33m,\u001b[0m\u001b[0mX\u001b[0m\u001b[1;33m,\u001b[0m\u001b[0my\u001b[0m\u001b[1;33m)\u001b[0m \u001b[1;31m#(y.name,feature_entropy,gain)\u001b[0m\u001b[1;33m\u001b[0m\u001b[1;33m\u001b[0m\u001b[0m\n\u001b[0m\u001b[0;32m     30\u001b[0m \u001b[1;33m\u001b[0m\u001b[0m\n\u001b[0;32m     31\u001b[0m \u001b[1;33m\u001b[0m\u001b[0m\n",
      "\u001b[1;32m<ipython-input-36-818fce2ef400>\u001b[0m in \u001b[0;36mgain_func\u001b[1;34m(entropy_root, X, y)\u001b[0m\n\u001b[0;32m     52\u001b[0m                                    (targets_by_feature_count/feature_count))\n\u001b[0;32m     53\u001b[0m \u001b[1;33m\u001b[0m\u001b[0m\n\u001b[1;32m---> 54\u001b[1;33m                 \u001b[0mgain_func\u001b[0m\u001b[1;33m(\u001b[0m\u001b[0mfeature_entropy\u001b[0m\u001b[1;33m,\u001b[0m\u001b[0mX\u001b[0m\u001b[1;33m.\u001b[0m\u001b[0miloc\u001b[0m\u001b[1;33m[\u001b[0m\u001b[0midx_values\u001b[0m\u001b[1;33m]\u001b[0m\u001b[1;33m,\u001b[0m\u001b[0my\u001b[0m\u001b[1;33m[\u001b[0m\u001b[0midx_values\u001b[0m\u001b[1;33m]\u001b[0m\u001b[1;33m)\u001b[0m\u001b[1;33m\u001b[0m\u001b[1;33m\u001b[0m\u001b[0m\n\u001b[0m\u001b[0;32m     55\u001b[0m \u001b[1;33m\u001b[0m\u001b[0m\n\u001b[0;32m     56\u001b[0m \u001b[1;33m\u001b[0m\u001b[0m\n",
      "\u001b[1;32m<ipython-input-36-818fce2ef400>\u001b[0m in \u001b[0;36mgain_func\u001b[1;34m(entropy_root, X, y)\u001b[0m\n\u001b[0;32m     52\u001b[0m                                    (targets_by_feature_count/feature_count))\n\u001b[0;32m     53\u001b[0m \u001b[1;33m\u001b[0m\u001b[0m\n\u001b[1;32m---> 54\u001b[1;33m                 \u001b[0mgain_func\u001b[0m\u001b[1;33m(\u001b[0m\u001b[0mfeature_entropy\u001b[0m\u001b[1;33m,\u001b[0m\u001b[0mX\u001b[0m\u001b[1;33m.\u001b[0m\u001b[0miloc\u001b[0m\u001b[1;33m[\u001b[0m\u001b[0midx_values\u001b[0m\u001b[1;33m]\u001b[0m\u001b[1;33m,\u001b[0m\u001b[0my\u001b[0m\u001b[1;33m[\u001b[0m\u001b[0midx_values\u001b[0m\u001b[1;33m]\u001b[0m\u001b[1;33m)\u001b[0m\u001b[1;33m\u001b[0m\u001b[1;33m\u001b[0m\u001b[0m\n\u001b[0m\u001b[0;32m     55\u001b[0m \u001b[1;33m\u001b[0m\u001b[0m\n\u001b[0;32m     56\u001b[0m \u001b[1;33m\u001b[0m\u001b[0m\n",
      "\u001b[1;32m~\\Anaconda3\\lib\\site-packages\\pandas\\core\\indexing.py\u001b[0m in \u001b[0;36m__getitem__\u001b[1;34m(self, key)\u001b[0m\n\u001b[0;32m   1422\u001b[0m \u001b[1;33m\u001b[0m\u001b[0m\n\u001b[0;32m   1423\u001b[0m             \u001b[0mmaybe_callable\u001b[0m \u001b[1;33m=\u001b[0m \u001b[0mcom\u001b[0m\u001b[1;33m.\u001b[0m\u001b[0mapply_if_callable\u001b[0m\u001b[1;33m(\u001b[0m\u001b[0mkey\u001b[0m\u001b[1;33m,\u001b[0m \u001b[0mself\u001b[0m\u001b[1;33m.\u001b[0m\u001b[0mobj\u001b[0m\u001b[1;33m)\u001b[0m\u001b[1;33m\u001b[0m\u001b[1;33m\u001b[0m\u001b[0m\n\u001b[1;32m-> 1424\u001b[1;33m             \u001b[1;32mreturn\u001b[0m \u001b[0mself\u001b[0m\u001b[1;33m.\u001b[0m\u001b[0m_getitem_axis\u001b[0m\u001b[1;33m(\u001b[0m\u001b[0mmaybe_callable\u001b[0m\u001b[1;33m,\u001b[0m \u001b[0maxis\u001b[0m\u001b[1;33m=\u001b[0m\u001b[0maxis\u001b[0m\u001b[1;33m)\u001b[0m\u001b[1;33m\u001b[0m\u001b[1;33m\u001b[0m\u001b[0m\n\u001b[0m\u001b[0;32m   1425\u001b[0m \u001b[1;33m\u001b[0m\u001b[0m\n\u001b[0;32m   1426\u001b[0m     \u001b[1;32mdef\u001b[0m \u001b[0m_is_scalar_access\u001b[0m\u001b[1;33m(\u001b[0m\u001b[0mself\u001b[0m\u001b[1;33m,\u001b[0m \u001b[0mkey\u001b[0m\u001b[1;33m:\u001b[0m \u001b[0mTuple\u001b[0m\u001b[1;33m)\u001b[0m\u001b[1;33m:\u001b[0m\u001b[1;33m\u001b[0m\u001b[1;33m\u001b[0m\u001b[0m\n",
      "\u001b[1;32m~\\Anaconda3\\lib\\site-packages\\pandas\\core\\indexing.py\u001b[0m in \u001b[0;36m_getitem_axis\u001b[1;34m(self, key, axis)\u001b[0m\n\u001b[0;32m   2146\u001b[0m         \u001b[1;31m# a list of integers\u001b[0m\u001b[1;33m\u001b[0m\u001b[1;33m\u001b[0m\u001b[1;33m\u001b[0m\u001b[0m\n\u001b[0;32m   2147\u001b[0m         \u001b[1;32melif\u001b[0m \u001b[0mis_list_like_indexer\u001b[0m\u001b[1;33m(\u001b[0m\u001b[0mkey\u001b[0m\u001b[1;33m)\u001b[0m\u001b[1;33m:\u001b[0m\u001b[1;33m\u001b[0m\u001b[1;33m\u001b[0m\u001b[0m\n\u001b[1;32m-> 2148\u001b[1;33m             \u001b[1;32mreturn\u001b[0m \u001b[0mself\u001b[0m\u001b[1;33m.\u001b[0m\u001b[0m_get_list_axis\u001b[0m\u001b[1;33m(\u001b[0m\u001b[0mkey\u001b[0m\u001b[1;33m,\u001b[0m \u001b[0maxis\u001b[0m\u001b[1;33m=\u001b[0m\u001b[0maxis\u001b[0m\u001b[1;33m)\u001b[0m\u001b[1;33m\u001b[0m\u001b[1;33m\u001b[0m\u001b[0m\n\u001b[0m\u001b[0;32m   2149\u001b[0m \u001b[1;33m\u001b[0m\u001b[0m\n\u001b[0;32m   2150\u001b[0m         \u001b[1;31m# a single integer\u001b[0m\u001b[1;33m\u001b[0m\u001b[1;33m\u001b[0m\u001b[1;33m\u001b[0m\u001b[0m\n",
      "\u001b[1;32m~\\Anaconda3\\lib\\site-packages\\pandas\\core\\indexing.py\u001b[0m in \u001b[0;36m_get_list_axis\u001b[1;34m(self, key, axis)\u001b[0m\n\u001b[0;32m   2131\u001b[0m         \u001b[1;32mexcept\u001b[0m \u001b[0mIndexError\u001b[0m\u001b[1;33m:\u001b[0m\u001b[1;33m\u001b[0m\u001b[1;33m\u001b[0m\u001b[0m\n\u001b[0;32m   2132\u001b[0m             \u001b[1;31m# re-raise with different error message\u001b[0m\u001b[1;33m\u001b[0m\u001b[1;33m\u001b[0m\u001b[1;33m\u001b[0m\u001b[0m\n\u001b[1;32m-> 2133\u001b[1;33m             \u001b[1;32mraise\u001b[0m \u001b[0mIndexError\u001b[0m\u001b[1;33m(\u001b[0m\u001b[1;34m\"positional indexers are out-of-bounds\"\u001b[0m\u001b[1;33m)\u001b[0m\u001b[1;33m\u001b[0m\u001b[1;33m\u001b[0m\u001b[0m\n\u001b[0m\u001b[0;32m   2134\u001b[0m \u001b[1;33m\u001b[0m\u001b[0m\n\u001b[0;32m   2135\u001b[0m     \u001b[1;32mdef\u001b[0m \u001b[0m_getitem_axis\u001b[0m\u001b[1;33m(\u001b[0m\u001b[0mself\u001b[0m\u001b[1;33m,\u001b[0m \u001b[0mkey\u001b[0m\u001b[1;33m,\u001b[0m \u001b[0maxis\u001b[0m\u001b[1;33m:\u001b[0m \u001b[0mint\u001b[0m\u001b[1;33m)\u001b[0m\u001b[1;33m:\u001b[0m\u001b[1;33m\u001b[0m\u001b[1;33m\u001b[0m\u001b[0m\n",
      "\u001b[1;31mIndexError\u001b[0m: positional indexers are out-of-bounds"
     ]
    }
   ],
   "source": [
    "#Ex 300\n",
    "import pandas as pd \n",
    "import numpy as np\n",
    "\n",
    "def gain_func(entropy_root,X,y):\n",
    "    \n",
    "    if (len(X.columns) == 0):\n",
    "        return\n",
    "    \n",
    "    if entropy_root == None:\n",
    "        #handle root\n",
    "        unique, counts = np.unique(y, return_counts=True)\n",
    "        print('unique', unique, 'counts',counts)\n",
    "                        \n",
    "        len_arr = y.shape[0]\n",
    "        count = 0\n",
    "        entropy_root = np.float(0)\n",
    "    \n",
    "        for i in counts:\n",
    "            count += i\n",
    "            entropy_root += (- (i/len_arr) * np.log2(i/len_arr))\n",
    "            \n",
    "        entropy_root = entropy_root * (count/len_arr)\n",
    "        gain = 0\n",
    "        \n",
    "        print(y.name,'entropy_root',entropy_root,'gain',gain)\n",
    "              \n",
    "        \n",
    "        gain_func(entropy_root,X,y) #(y.name,feature_entropy,gain)\n",
    "        \n",
    "        \n",
    "    \n",
    "    else:\n",
    "        gains = []\n",
    "        for feature in X.columns:\n",
    "            uniques, indexes,counts = np.unique(X[feature], return_counts=True,return_index=True)\n",
    "            print('feature',feature,'indexes',indexes,'uniques', uniques,'counts',counts)\n",
    "            feature_entropy = 0\n",
    "            \n",
    "            for value in uniques:\n",
    "                idx_values = X[feature].index[X[feature] == value].tolist()\n",
    "                yes_count = sum(map(lambda x : x == 'yes', y[idx_values]))\n",
    "                no_count = sum(map(lambda x : x == 'no', y[idx_values]))\n",
    "                print('idx_values',idx_values,'yes_count',yes_count,'no_count',no_count)\n",
    "                \n",
    "                targets_by_feature_count = yes_count + no_count\n",
    "                feature_count = X[feature].size\n",
    "                \n",
    "                if (no_count != 0 and yes_count != 0):\n",
    "                    feature_entropy += (((- (yes_count/targets_by_feature_count) * np.log2(yes_count/targets_by_feature_count)) -\n",
    "                                    ( (no_count/targets_by_feature_count) * np.log2(no_count/targets_by_feature_count))) * \n",
    "                                   (targets_by_feature_count/feature_count))\n",
    "                \n",
    "                \n",
    "               \n",
    "            \n",
    "            gain = entropy_root - feature_entropy\n",
    "            gains.append(gain)\n",
    "            print('feature',feature,'value',value,'entropy',feature_entropy,'gain',gain,end='\\n\\n')\n",
    "            #yield (feature,feature_entropy,gain)\n",
    "            \n",
    "        print(\"gains\",gains,np.argmax(gains))\n",
    "        \n",
    "   \n",
    "     \n",
    "\n",
    "    \n",
    "d = {'outlook':['s','s','o','r','r','r','o','s','s','r','s','o','o','r'],\n",
    "    'temp':['h','h','h','m','c','c','c','m','c','m','m','m','h','m'],\n",
    "    'humidity':['h','h','h','h','n','n','n','h','n','n','n','h','n','h'],\n",
    "    'wind':['w','s','w','w','w','s','s','w','w','w','s','s','w','s'],\n",
    "    'play':['no','no','yes','yes','yes','no','yes','no','yes','yes','yes','yes','yes','no']}\n",
    "df = pd.DataFrame(d)\n",
    "\n",
    "X = df.drop('play',axis=1)\n",
    "y = df.play\n",
    "\n",
    "\n",
    "for g in gain_func(None,X,y):\n",
    "    print('********************')"
   ]
  },
  {
   "cell_type": "code",
   "execution_count": null,
   "metadata": {},
   "outputs": [],
   "source": [
    "#Play No 5\n",
    "#Play Yes 9\n",
    "\n",
    "Entropy = (((- (5/14) * np.log2(5/14)) - ( (9/14) * np.log2(9/14))))\n",
    "Entropy\n",
    "\n",
    "#Outlook\n",
    "#Sunny - 5\n",
    "#Overcast - 4\n",
    "#Rain - 5\n",
    "\n",
    "#5/14 * I(2,3) + 4/14 * I(4,0) + 5/14 I(3,2)\n",
    "Sunny = (((- (2/5) * np.log2(2/5)) - ( (3/5) * np.log2(3/5))) * (5/14))\n",
    "Overcast = 0\n",
    "Rain = (((- (3/5) * np.log2(3/5)) - ( (2/5) * np.log2(2/5))) * (5/14))\n",
    "print('Rain',Rain)\n",
    "Outlook = Sunny + Overcast + Rain\n",
    "display(Outlook)\n",
    "\n",
    "Gain = Entropy - Outlook\n",
    "Gain"
   ]
  },
  {
   "cell_type": "code",
   "execution_count": null,
   "metadata": {},
   "outputs": [],
   "source": []
  },
  {
   "cell_type": "code",
   "execution_count": null,
   "metadata": {},
   "outputs": [],
   "source": []
  }
 ],
 "metadata": {
  "kernelspec": {
   "display_name": "Python 3",
   "language": "python",
   "name": "python3"
  }
 },
 "nbformat": 4,
 "nbformat_minor": 2
}
