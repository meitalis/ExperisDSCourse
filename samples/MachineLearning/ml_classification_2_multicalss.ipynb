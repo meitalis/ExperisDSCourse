{
 "cells": [
  {
   "cell_type": "code",
   "execution_count": 11,
   "metadata": {},
   "outputs": [],
   "source": [
    "import pandas as pd\n",
    "import numpy as np\n",
    "from scipy.io import loadmat\n",
    "import matplotlib.pyplot as plt\n",
    "from sklearn.linear_model import SGDClassifier\n",
    "from sklearn.multiclass import OneVsOneClassifier\n",
    "from sklearn.multiclass import OneVsRestClassifier\n",
    "from sklearn.ensemble import RandomForestClassifier\n",
    "from sklearn.model_selection import cross_val_score\n",
    "from sklearn.model_selection import cross_val_predict\n",
    "from sklearn.preprocessing import StandardScaler\n",
    "from sklearn.metrics import confusion_matrix\n",
    "import seaborn as sns \n",
    "from sklearn import datasets\n",
    "from sklearn.model_selection import train_test_split"
   ]
  },
  {
   "cell_type": "markdown",
   "metadata": {},
   "source": [
    "### decision_function for multicalss"
   ]
  },
  {
   "cell_type": "code",
   "execution_count": null,
   "metadata": {},
   "outputs": [],
   "source": [
    "mnist_path = 'mnist-original.mat'\n",
    "\n",
    "mnist = loadmat(mnist_path)\n",
    "X = mnist['data'].T\n",
    "y = mnist['label'][0]\n",
    "\n",
    "#peek a digit\n",
    "some_index = 36000\n",
    "some_digit = X[some_index]\n",
    "some_digit_image = some_digit.reshape(28,28)\n",
    "\n",
    "# split to train & test & #shuffle\n",
    "train_size = 60000\n",
    "shuffle_index = np.random.permutation(train_size)\n",
    "X_train,y_train = X[shuffle_index],y[shuffle_index]\n",
    "display(y_train.shape)\n",
    "\n",
    "sgd_clf = SGDClassifier(max_iter=50)\n",
    "sgd_clf.fit(X_train,y_train)\n",
    "sgd_clf.predict([some_digit])\n",
    "\n",
    "some_digit_scores = sgd_clf.decision_function([some_digit])\n",
    "display('some_digit_scores',some_digit_scores)\n",
    "display('argmax',np.argmax(some_digit_scores))\n",
    "display('classes_',sgd_clf.classes_)\n",
    "display('classes_[5])',sgd_clf.classes_[5])\n",
    "\n"
   ]
  },
  {
   "cell_type": "markdown",
   "metadata": {},
   "source": [
    "### OneVsOneClassifier"
   ]
  },
  {
   "cell_type": "code",
   "execution_count": null,
   "metadata": {},
   "outputs": [],
   "source": [
    "ovo_clf = OneVsOneClassifier(SGDClassifier(max_iter=5))\n",
    "ovo_clf.fit(X_train,y_train)\n",
    "\n",
    "display(ovo_clf.predict([some_digit]))\n",
    "display(len(ovo_clf.estimators_))"
   ]
  },
  {
   "cell_type": "markdown",
   "metadata": {},
   "source": [
    "### RandomForestClassifier"
   ]
  },
  {
   "cell_type": "code",
   "execution_count": null,
   "metadata": {},
   "outputs": [],
   "source": [
    "forest_clf = RandomForestClassifier(n_estimators=10)\n",
    "forest_clf.fit(X_train,y_train)\n",
    "display(forest_clf.predict([some_digit]))\n",
    "display(forest_clf.predict_proba([some_digit]))"
   ]
  },
  {
   "cell_type": "markdown",
   "metadata": {},
   "source": [
    "### evaluate classifiers - cross_val_score()"
   ]
  },
  {
   "cell_type": "code",
   "execution_count": null,
   "metadata": {},
   "outputs": [],
   "source": [
    "display(cross_val_score(sgd_clf,X_train,y_train,cv=3,scoring='accuracy'))\n",
    "#scaling the input to increase accuracy above 90%\n",
    "scaler = StandardScaler()\n",
    "X_trained_scaled = scaler.fit_transform(X_train.astype('float'))\n",
    "display(cross_val_score(sgd_clf,X_trained_scaled,y_train,cv=3,scoring='accuracy'))"
   ]
  },
  {
   "cell_type": "markdown",
   "metadata": {},
   "source": [
    "### confusion matrix"
   ]
  },
  {
   "cell_type": "code",
   "execution_count": null,
   "metadata": {},
   "outputs": [],
   "source": [
    "y_train_pred = cross_val_predict(sgd_clf,X_trained_scaled,y_train,cv=3)\n",
    "conf_mat = confusion_matrix(y_train,y_train_pred)\n",
    "display(conf_mat)"
   ]
  },
  {
   "cell_type": "code",
   "execution_count": null,
   "metadata": {},
   "outputs": [],
   "source": [
    "def plot_conf_matrix(conf_mat,fmt='d'):\n",
    "    plt.figure(figsize=(8,8))\n",
    "    sns.heatmap(conf_mat,square=True,annot=True,cmap='Blues',fmt=fmt,cbar=False)\n",
    "    plt.xlabel('Predicted digit',fontsize=12)\n",
    "    plt.ylabel('True digit',fontsize=12)\n",
    "\n",
    "plot_conf_matrix(conf_mat)"
   ]
  },
  {
   "cell_type": "code",
   "execution_count": 22,
   "metadata": {},
   "outputs": [
    {
     "data": {
      "text/plain": [
       "(array([[4.6, 3.6, 1. , 0.2],\n",
       "        [5.7, 4.4, 1.5, 0.4],\n",
       "        [6.7, 3.1, 4.4, 1.4],\n",
       "        [4.8, 3.4, 1.6, 0.2],\n",
       "        [4.4, 3.2, 1.3, 0.2],\n",
       "        [6.3, 2.5, 5. , 1.9],\n",
       "        [6.4, 3.2, 4.5, 1.5],\n",
       "        [5.2, 3.5, 1.5, 0.2],\n",
       "        [5. , 3.6, 1.4, 0.2],\n",
       "        [5.2, 4.1, 1.5, 0.1],\n",
       "        [5.8, 2.7, 5.1, 1.9],\n",
       "        [6. , 3.4, 4.5, 1.6],\n",
       "        [6.7, 3.1, 4.7, 1.5],\n",
       "        [5.4, 3.9, 1.3, 0.4],\n",
       "        [5.4, 3.7, 1.5, 0.2],\n",
       "        [5.5, 2.4, 3.7, 1. ],\n",
       "        [6.3, 2.8, 5.1, 1.5],\n",
       "        [6.4, 3.1, 5.5, 1.8],\n",
       "        [6.6, 3. , 4.4, 1.4],\n",
       "        [7.2, 3.6, 6.1, 2.5],\n",
       "        [5.7, 2.9, 4.2, 1.3],\n",
       "        [7.6, 3. , 6.6, 2.1],\n",
       "        [5.6, 3. , 4.5, 1.5],\n",
       "        [5.1, 3.5, 1.4, 0.2],\n",
       "        [7.7, 2.8, 6.7, 2. ],\n",
       "        [5.8, 2.7, 4.1, 1. ],\n",
       "        [5.2, 3.4, 1.4, 0.2],\n",
       "        [5. , 3.5, 1.3, 0.3],\n",
       "        [5.1, 3.8, 1.9, 0.4],\n",
       "        [5. , 2. , 3.5, 1. ],\n",
       "        [6.3, 2.7, 4.9, 1.8],\n",
       "        [4.8, 3.4, 1.9, 0.2],\n",
       "        [5. , 3. , 1.6, 0.2],\n",
       "        [5.1, 3.3, 1.7, 0.5],\n",
       "        [5.6, 2.7, 4.2, 1.3],\n",
       "        [5.1, 3.4, 1.5, 0.2],\n",
       "        [5.7, 3. , 4.2, 1.2],\n",
       "        [7.7, 3.8, 6.7, 2.2],\n",
       "        [4.6, 3.2, 1.4, 0.2],\n",
       "        [6.2, 2.9, 4.3, 1.3],\n",
       "        [5.7, 2.5, 5. , 2. ],\n",
       "        [5.5, 4.2, 1.4, 0.2],\n",
       "        [6. , 3. , 4.8, 1.8],\n",
       "        [5.8, 2.7, 5.1, 1.9],\n",
       "        [6. , 2.2, 4. , 1. ],\n",
       "        [5.4, 3. , 4.5, 1.5],\n",
       "        [6.2, 3.4, 5.4, 2.3],\n",
       "        [5.5, 2.3, 4. , 1.3],\n",
       "        [5.4, 3.9, 1.7, 0.4],\n",
       "        [5. , 2.3, 3.3, 1. ],\n",
       "        [6.4, 2.7, 5.3, 1.9],\n",
       "        [5. , 3.3, 1.4, 0.2],\n",
       "        [5. , 3.2, 1.2, 0.2],\n",
       "        [5.5, 2.4, 3.8, 1.1],\n",
       "        [6.7, 3. , 5. , 1.7],\n",
       "        [4.9, 3.1, 1.5, 0.2],\n",
       "        [5.8, 2.8, 5.1, 2.4],\n",
       "        [5. , 3.4, 1.5, 0.2],\n",
       "        [5. , 3.5, 1.6, 0.6],\n",
       "        [5.9, 3.2, 4.8, 1.8],\n",
       "        [5.1, 2.5, 3. , 1.1],\n",
       "        [6.9, 3.2, 5.7, 2.3],\n",
       "        [6. , 2.7, 5.1, 1.6],\n",
       "        [6.1, 2.6, 5.6, 1.4],\n",
       "        [7.7, 3. , 6.1, 2.3],\n",
       "        [5.5, 2.5, 4. , 1.3],\n",
       "        [4.4, 2.9, 1.4, 0.2],\n",
       "        [4.3, 3. , 1.1, 0.1],\n",
       "        [6. , 2.2, 5. , 1.5],\n",
       "        [7.2, 3.2, 6. , 1.8],\n",
       "        [4.6, 3.1, 1.5, 0.2],\n",
       "        [5.1, 3.5, 1.4, 0.3],\n",
       "        [4.4, 3. , 1.3, 0.2],\n",
       "        [6.3, 2.5, 4.9, 1.5],\n",
       "        [6.3, 3.4, 5.6, 2.4],\n",
       "        [4.6, 3.4, 1.4, 0.3],\n",
       "        [6.8, 3. , 5.5, 2.1],\n",
       "        [6.3, 3.3, 6. , 2.5],\n",
       "        [4.7, 3.2, 1.3, 0.2],\n",
       "        [6.1, 2.9, 4.7, 1.4],\n",
       "        [6.5, 2.8, 4.6, 1.5],\n",
       "        [6.2, 2.8, 4.8, 1.8],\n",
       "        [7. , 3.2, 4.7, 1.4],\n",
       "        [6.4, 3.2, 5.3, 2.3],\n",
       "        [5.1, 3.8, 1.6, 0.2],\n",
       "        [6.9, 3.1, 5.4, 2.1],\n",
       "        [5.9, 3. , 4.2, 1.5],\n",
       "        [6.5, 3. , 5.2, 2. ],\n",
       "        [5.7, 2.6, 3.5, 1. ],\n",
       "        [5.2, 2.7, 3.9, 1.4],\n",
       "        [6.1, 3. , 4.6, 1.4],\n",
       "        [4.5, 2.3, 1.3, 0.3],\n",
       "        [6.6, 2.9, 4.6, 1.3],\n",
       "        [5.5, 2.6, 4.4, 1.2],\n",
       "        [5.3, 3.7, 1.5, 0.2],\n",
       "        [5.6, 3. , 4.1, 1.3],\n",
       "        [7.3, 2.9, 6.3, 1.8],\n",
       "        [6.7, 3.3, 5.7, 2.1],\n",
       "        [5.1, 3.7, 1.5, 0.4],\n",
       "        [4.9, 2.4, 3.3, 1. ],\n",
       "        [6.7, 3.3, 5.7, 2.5],\n",
       "        [7.2, 3. , 5.8, 1.6],\n",
       "        [4.9, 3.6, 1.4, 0.1],\n",
       "        [6.7, 3.1, 5.6, 2.4],\n",
       "        [4.9, 3. , 1.4, 0.2],\n",
       "        [6.9, 3.1, 4.9, 1.5],\n",
       "        [7.4, 2.8, 6.1, 1.9],\n",
       "        [6.3, 2.9, 5.6, 1.8],\n",
       "        [5.7, 2.8, 4.1, 1.3],\n",
       "        [6.5, 3. , 5.5, 1.8],\n",
       "        [6.3, 2.3, 4.4, 1.3],\n",
       "        [6.4, 2.9, 4.3, 1.3],\n",
       "        [5.6, 2.8, 4.9, 2. ],\n",
       "        [5.9, 3. , 5.1, 1.8],\n",
       "        [5.4, 3.4, 1.7, 0.2],\n",
       "        [6.1, 2.8, 4. , 1.3],\n",
       "        [4.9, 2.5, 4.5, 1.7],\n",
       "        [5.8, 4. , 1.2, 0.2],\n",
       "        [5.8, 2.6, 4. , 1.2],\n",
       "        [7.1, 3. , 5.9, 2.1]]), array([[6.1, 2.8, 4.7, 1.2],\n",
       "        [5.7, 3.8, 1.7, 0.3],\n",
       "        [7.7, 2.6, 6.9, 2.3],\n",
       "        [6. , 2.9, 4.5, 1.5],\n",
       "        [6.8, 2.8, 4.8, 1.4],\n",
       "        [5.4, 3.4, 1.5, 0.4],\n",
       "        [5.6, 2.9, 3.6, 1.3],\n",
       "        [6.9, 3.1, 5.1, 2.3],\n",
       "        [6.2, 2.2, 4.5, 1.5],\n",
       "        [5.8, 2.7, 3.9, 1.2],\n",
       "        [6.5, 3.2, 5.1, 2. ],\n",
       "        [4.8, 3. , 1.4, 0.1],\n",
       "        [5.5, 3.5, 1.3, 0.2],\n",
       "        [4.9, 3.1, 1.5, 0.1],\n",
       "        [5.1, 3.8, 1.5, 0.3],\n",
       "        [6.3, 3.3, 4.7, 1.6],\n",
       "        [6.5, 3. , 5.8, 2.2],\n",
       "        [5.6, 2.5, 3.9, 1.1],\n",
       "        [5.7, 2.8, 4.5, 1.3],\n",
       "        [6.4, 2.8, 5.6, 2.2],\n",
       "        [4.7, 3.2, 1.6, 0.2],\n",
       "        [6.1, 3. , 4.9, 1.8],\n",
       "        [5. , 3.4, 1.6, 0.4],\n",
       "        [6.4, 2.8, 5.6, 2.1],\n",
       "        [7.9, 3.8, 6.4, 2. ],\n",
       "        [6.7, 3. , 5.2, 2.3],\n",
       "        [6.7, 2.5, 5.8, 1.8],\n",
       "        [6.8, 3.2, 5.9, 2.3],\n",
       "        [4.8, 3. , 1.4, 0.3],\n",
       "        [4.8, 3.1, 1.6, 0.2]]), array([0, 0, 1, 0, 0, 2, 1, 0, 0, 0, 2, 1, 1, 0, 0, 1, 2, 2, 1, 2, 1, 2,\n",
       "        1, 0, 2, 1, 0, 0, 0, 1, 2, 0, 0, 0, 1, 0, 1, 2, 0, 1, 2, 0, 2, 2,\n",
       "        1, 1, 2, 1, 0, 1, 2, 0, 0, 1, 1, 0, 2, 0, 0, 1, 1, 2, 1, 2, 2, 1,\n",
       "        0, 0, 2, 2, 0, 0, 0, 1, 2, 0, 2, 2, 0, 1, 1, 2, 1, 2, 0, 2, 1, 2,\n",
       "        1, 1, 1, 0, 1, 1, 0, 1, 2, 2, 0, 1, 2, 2, 0, 2, 0, 1, 2, 2, 1, 2,\n",
       "        1, 1, 2, 2, 0, 1, 2, 0, 1, 2]), array([1, 0, 2, 1, 1, 0, 1, 2, 1, 1, 2, 0, 0, 0, 0, 1, 2, 1, 1, 2, 0, 2,\n",
       "        0, 2, 2, 2, 2, 2, 0, 0]))"
      ]
     },
     "execution_count": 22,
     "metadata": {},
     "output_type": "execute_result"
    }
   ],
   "source": [
    "#Ex train multi-class SGDClassifer\n",
    "iris = datasets.load_iris()\n",
    "X = iris.data\n",
    "y = iris.target\n",
    "\n",
    "X_train,X_test,y_train ,y_test = train_test_split(X,y,test_size=0.2,random_state=42)\n",
    "X_train,X_test ,y_train ,y_test\n"
   ]
  },
  {
   "cell_type": "code",
   "execution_count": 31,
   "metadata": {},
   "outputs": [
    {
     "data": {
      "text/plain": [
       "array([0.75609756, 0.875     , 0.97435897])"
      ]
     },
     "metadata": {},
     "output_type": "display_data"
    },
    {
     "data": {
      "text/plain": [
       "array([[40,  0,  0],\n",
       "       [ 1, 37,  3],\n",
       "       [ 0, 12, 27]], dtype=int64)"
      ]
     },
     "metadata": {},
     "output_type": "display_data"
    }
   ],
   "source": [
    "#SGDClassifier\n",
    "sgd_clf = SGDClassifier(max_iter=50,random_state=42)\n",
    "sgd_clf.fit(X_train,y_train)\n",
    "\n",
    "display(cross_val_score(sgd_clf,X_train,y_train,cv=3,scoring='accuracy'))\n",
    "\n",
    "#conf_matrix X_trained_scaled\n",
    "y_train_pred = cross_val_predict(sgd_clf,X_train,y_train,cv=3)\n",
    "conf_mat = confusion_matrix(y_train,y_train_pred)\n",
    "display(conf_mat)\n",
    "\n",
    "def plot_conf_matrix(conf_mat,fmt='d'):\n",
    "    plt.figure(figsize=(8,8))\n",
    "    sns.heatmap(conf_mat,square=True,annot=True,cmap='Blues',fmt=fmt,cbar=False)\n",
    "    plt.xlabel('Predicted digit',fontsize=12)\n",
    "    plt.ylabel('True digit',fontsize=12)\n",
    "\n",
    "#plot_conf_matrix(conf_mat)"
   ]
  },
  {
   "cell_type": "code",
   "execution_count": 32,
   "metadata": {},
   "outputs": [
    {
     "data": {
      "text/plain": [
       "array([0.96774194, 0.8       , 0.96666667, 1.        ])"
      ]
     },
     "metadata": {},
     "output_type": "display_data"
    },
    {
     "data": {
      "text/plain": [
       "array([[40,  0,  0],\n",
       "       [ 1, 36,  4],\n",
       "       [ 0,  3, 36]], dtype=int64)"
      ]
     },
     "metadata": {},
     "output_type": "display_data"
    }
   ],
   "source": [
    "#SGDClassifier + scaling \n",
    "scaler = StandardScaler()\n",
    "X_trained_scaled = scaler.fit_transform(X_train.astype('float'))\n",
    "\n",
    "display(cross_val_score(sgd_clf,X_trained_scaled,y_train,cv=4,scoring='accuracy'))\n",
    "\n",
    "#conf_matrix X_trained_scaled\n",
    "y_train_pred_scaled = cross_val_predict(sgd_clf,X_trained_scaled,y_train,cv=4)\n",
    "conf_mat = confusion_matrix(y_train,y_train_pred_scaled)\n",
    "display(conf_mat)"
   ]
  },
  {
   "cell_type": "code",
   "execution_count": 33,
   "metadata": {},
   "outputs": [
    {
     "data": {
      "text/plain": [
       "array([[ 2.33173261,  1.33290436, -0.33299468],\n",
       "       [ 2.33139042,  1.33286527, -0.33295571],\n",
       "       [ 2.33158027,  1.33287084, -0.33296698],\n",
       "       [ 2.33125852,  1.33283741, -0.3329326 ],\n",
       "       [ 2.33176351,  1.33290275, -0.33299509]])"
      ]
     },
     "metadata": {},
     "output_type": "display_data"
    },
    {
     "data": {
      "text/plain": [
       "array([0, 0, 0, 0, 0])"
      ]
     },
     "metadata": {},
     "output_type": "display_data"
    },
    {
     "data": {
      "text/plain": [
       "array([0, 0, 0, 0, 0])"
      ]
     },
     "metadata": {},
     "output_type": "display_data"
    },
    {
     "data": {
      "text/plain": [
       "array([[40,  0,  0],\n",
       "       [ 0, 39,  2],\n",
       "       [ 0, 15, 24]], dtype=int64)"
      ]
     },
     "metadata": {},
     "output_type": "display_data"
    }
   ],
   "source": [
    "#Ex OneVsOneClassifier\n",
    "ovo_clf = OneVsOneClassifier(SGDClassifier(max_iter=50,random_state=42))\n",
    "ovo_clf.fit(X_train,y_train)\n",
    "\n",
    "len(ovo_clf.estimators_)\n",
    "\n",
    "display(ovo_clf.decision_function(X[:5]))\n",
    "display(ovo_clf.predict(X[:5]))\n",
    "display(y[:5])\n",
    "\n",
    "#conf_matrix X_trained_scaled\n",
    "y_train_pred_ovo = cross_val_predict(ovo_clf,X_train,y_train,cv=3)\n",
    "conf_mat = confusion_matrix(y_train,y_train_pred_ovo)\n",
    "display(conf_mat)"
   ]
  },
  {
   "cell_type": "code",
   "execution_count": 34,
   "metadata": {},
   "outputs": [
    {
     "data": {
      "text/plain": [
       "array([[31,  9,  0],\n",
       "       [ 6, 35,  0],\n",
       "       [ 5, 22, 12]], dtype=int64)"
      ]
     },
     "metadata": {},
     "output_type": "display_data"
    }
   ],
   "source": [
    "#Ex OneVsRestClassifier\n",
    "ovr_clf = OneVsRestClassifier(SGDClassifier(max_iter=50,random_state=42))\n",
    "ovr_clf.fit(X_train,y_train)\n",
    "\n",
    "len(ovr_clf.estimators_)\n",
    "\n",
    "#display(ovr_clf.decision_function(X[:5]))\n",
    "#display(ovr_clf.predict(X[:5]))\n",
    "#display(y[:5])\n",
    "\n",
    "\n",
    "#conf_matrix X_trained_scaled\n",
    "y_train_pred_ovr = cross_val_predict(ovr_clf,X_train,y_train,cv=3)\n",
    "conf_mat = confusion_matrix(y_train,y_train_pred_ovr)\n",
    "display(conf_mat)"
   ]
  },
  {
   "cell_type": "code",
   "execution_count": null,
   "metadata": {},
   "outputs": [],
   "source": []
  }
 ],
 "metadata": {
  "kernelspec": {
   "display_name": "Python 3",
   "language": "python",
   "name": "python3"
  },
  "language_info": {
   "codemirror_mode": {
    "name": "ipython",
    "version": 3
   },
   "file_extension": ".py",
   "mimetype": "text/x-python",
   "name": "python",
   "nbconvert_exporter": "python",
   "pygments_lexer": "ipython3",
   "version": "3.7.4"
  }
 },
 "nbformat": 4,
 "nbformat_minor": 2
}
