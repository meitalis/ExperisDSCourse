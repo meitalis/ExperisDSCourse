{
 "cells": [
  {
   "cell_type": "code",
   "execution_count": 2,
   "metadata": {},
   "outputs": [],
   "source": [
    "import pandas as pd\n",
    "import numpy as np\n",
    "from scipy.io import loadmat\n",
    "import matplotlib.pyplot as plt\n",
    "from sklearn.linear_model import SGDClassifier\n",
    "from sklearn.multiclass import OneVsOneClassifier\n",
    "from sklearn.multiclass import OneVsRestClassifier\n",
    "from sklearn.ensemble import RandomForestClassifier\n",
    "from sklearn.model_selection import cross_val_score\n",
    "from sklearn.model_selection import cross_val_predict\n",
    "from sklearn.preprocessing import StandardScaler\n",
    "from sklearn.metrics import confusion_matrix\n",
    "import seaborn as sns \n",
    "from sklearn import datasets\n",
    "from sklearn.model_selection import train_test_split ,StratifiedShuffleSplit , GridSearchCV\n",
    "from sklearn.neighbors import KNeighborsClassifier\n",
    "from sklearn.pipeline import Pipeline\n",
    "from sklearn.naive_bayes import MultinomialNB\n",
    "from sklearn.naive_bayes import GaussianNB\n",
    "from sklearn.preprocessing import LabelEncoder,OneHotEncoder\n",
    "from sklearn.feature_selection import SelectKBest,chi2,SelectPercentile,mutual_info_classif,f_classif\n",
    "from scipy.stats import pearsonr"
   ]
  },
  {
   "cell_type": "code",
   "execution_count": 4,
   "metadata": {},
   "outputs": [
    {
     "data": {
      "text/plain": [
       "(70000, 140)"
      ]
     },
     "metadata": {},
     "output_type": "display_data"
    },
    {
     "data": {
      "text/plain": [
       "(59500, 140)"
      ]
     },
     "metadata": {},
     "output_type": "display_data"
    },
    {
     "data": {
      "text/plain": [
       "(10500, 140)"
      ]
     },
     "metadata": {},
     "output_type": "display_data"
    },
    {
     "data": {
      "text/plain": [
       "(70000, 784)"
      ]
     },
     "metadata": {},
     "output_type": "display_data"
    },
    {
     "data": {
      "text/plain": [
       "(70000, 140)"
      ]
     },
     "metadata": {},
     "output_type": "display_data"
    }
   ],
   "source": [
    "#Ex MultinomialNB\n",
    "mnist_path = 'mnist-original.mat'\n",
    "\n",
    "mnist = loadmat(mnist_path)\n",
    "X = mnist['data'].T\n",
    "y = mnist['label'][0]\n",
    "\n",
    "\n",
    "\n",
    "X_new = SelectKBest(chi2, k=700).fit_transform(X, y)\n",
    "X_new =SelectPercentile(f_classif, percentile=20).fit_transform(X_new, y)\n",
    "display(X_new.shape)\n",
    "\n",
    "sss = StratifiedShuffleSplit(n_splits=10, test_size=0.15,train_size=0.85, random_state=0)\n",
    "train_index, test_index = next(sss.split(X=X_new, y=y))   \n",
    "\n",
    "X_train, X_test = X_new[train_index], X_new[test_index]\n",
    "y_train, y_test = y[train_index], y[test_index]\n",
    "display(X_train.shape,X_test.shape)\n",
    "\n",
    "display(X.shape)\n",
    "display(X_new.shape)\n",
    "#np.corrcoef(X_new)\n",
    "\n"
   ]
  },
  {
   "cell_type": "code",
   "execution_count": null,
   "metadata": {},
   "outputs": [],
   "source": [
    "#Ex MultinomialNB\n",
    "\n",
    "mnb = MultinomialNB() \n",
    "score_mnb = cross_val_score(mnb,X_train,y_train,cv=3)\n",
    "display(score_mnb)\n",
    "\n",
    "gnb = GaussianNB() \n",
    "score_gnb = cross_val_score(gnb,X_train,y_train,cv=3)\n",
    "display(score_gnb)\n",
    "\n",
    "voc_sgd = OneVsOneClassifier(SGDClassifier(random_state= 42))\n",
    "score_voc_sgd = cross_val_score(voc_sgd,X_train,y_train,cv=3)\n",
    "display(score_voc_sgd)\n",
    "#gnb.fit(X_train,y_train)\n",
    "#gnb.score(X_test,y_test)"
   ]
  },
  {
   "cell_type": "code",
   "execution_count": null,
   "metadata": {},
   "outputs": [],
   "source": []
  }
 ],
 "metadata": {
  "kernelspec": {
   "display_name": "Python 3",
   "language": "python",
   "name": "python3"
  },
  "language_info": {
   "codemirror_mode": {
    "name": "ipython",
    "version": 3
   },
   "file_extension": ".py",
   "mimetype": "text/x-python",
   "name": "python",
   "nbconvert_exporter": "python",
   "pygments_lexer": "ipython3",
   "version": "3.7.4"
  }
 },
 "nbformat": 4,
 "nbformat_minor": 2
}
