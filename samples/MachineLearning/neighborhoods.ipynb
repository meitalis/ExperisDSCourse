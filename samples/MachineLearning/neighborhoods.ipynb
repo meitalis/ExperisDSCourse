{
 "cells": [
  {
   "cell_type": "code",
   "execution_count": 2,
   "metadata": {},
   "outputs": [],
   "source": [
    "import pandas as pd\n",
    "import numpy as np\n",
    "import matplotlib.pyplot as plt\n",
    "import seaborn as sns\n",
    "from sklearn.datasets import load_digits\n",
    "from sklearn.linear_model import LinearRegression\n",
    "from sklearn.metrics import mean_squared_error as mse\n",
    "from sklearn.feature_selection import SelectKBest,chi2\n"
   ]
  },
  {
   "cell_type": "markdown",
   "metadata": {},
   "source": [
    "### feature selection"
   ]
  },
  {
   "cell_type": "code",
   "execution_count": 11,
   "metadata": {},
   "outputs": [
    {
     "data": {
      "text/plain": [
       "array([[ 0.,  0.,  5., ...,  0.,  0.,  0.],\n",
       "       [ 0.,  0.,  0., ..., 10.,  0.,  0.],\n",
       "       [ 0.,  0.,  0., ..., 16.,  9.,  0.],\n",
       "       ...,\n",
       "       [ 0.,  0.,  1., ...,  6.,  0.,  0.],\n",
       "       [ 0.,  0.,  2., ..., 12.,  0.,  0.],\n",
       "       [ 0.,  0., 10., ..., 12.,  1.,  0.]])"
      ]
     },
     "execution_count": 11,
     "metadata": {},
     "output_type": "execute_result"
    }
   ],
   "source": [
    "\n",
    "X,y = load_digits(return_X_y=True)\n",
    "X.shape ,y.shape\n",
    "X\n",
    "X_n = SelectKBest(chi2,k=20).fit_transform(X,y)"
   ]
  },
  {
   "cell_type": "code",
   "execution_count": 36,
   "metadata": {},
   "outputs": [
    {
     "data": {
      "text/plain": [
       "'ratios_cols'"
      ]
     },
     "metadata": {},
     "output_type": "display_data"
    },
    {
     "data": {
      "text/plain": [
       "array([0.53692308, 0.23230769, 0.23076923])"
      ]
     },
     "metadata": {},
     "output_type": "display_data"
    },
    {
     "data": {
      "text/plain": [
       "'expected_A'"
      ]
     },
     "metadata": {},
     "output_type": "display_data"
    },
    {
     "data": {
      "text/plain": [
       "array([80.53846154, 34.84615385, 34.61538462])"
      ]
     },
     "metadata": {},
     "output_type": "display_data"
    },
    {
     "data": {
      "text/plain": [
       "'chi2_A'"
      ]
     },
     "metadata": {},
     "output_type": "display_data"
    },
    {
     "data": {
      "text/plain": [
       "2.4008804721152197"
      ]
     },
     "metadata": {},
     "output_type": "display_data"
    },
    {
     "data": {
      "text/plain": [
       "'chi2_B'"
      ]
     },
     "metadata": {},
     "output_type": "display_data"
    },
    {
     "data": {
      "text/plain": [
       "12.665291983191755"
      ]
     },
     "metadata": {},
     "output_type": "display_data"
    },
    {
     "data": {
      "text/plain": [
       "'chi2_C'"
      ]
     },
     "metadata": {},
     "output_type": "display_data"
    },
    {
     "data": {
      "text/plain": [
       "0.5788511167194829"
      ]
     },
     "metadata": {},
     "output_type": "display_data"
    },
    {
     "data": {
      "text/plain": [
       "'chi2_D'"
      ]
     },
     "metadata": {},
     "output_type": "display_data"
    },
    {
     "data": {
      "text/plain": [
       "8.92617928655614"
      ]
     },
     "metadata": {},
     "output_type": "display_data"
    }
   ],
   "source": [
    "sum_all = 650\n",
    "total_col = np.array([349,151,150])\n",
    "ratios_cols = total_col/sum_all \n",
    "display('ratios_cols',ratios_cols)\n",
    "\n",
    "expected_A = ratios_cols * 150 \n",
    "display('expected_A',expected_A)\n",
    "observed_A = np.array([90,30,30])\n",
    "chi_squared_stat_A = (((observed_A-expected_A)**2)/expected_A).sum()\n",
    "display('chi2_A',chi_squared_stat_A)\n",
    "\n",
    "\n",
    "expected_B = ratios_cols * 150 \n",
    "#display('expected_B',expected_B)\n",
    "observed_B = np.array([60,50,40])\n",
    "chi_squared_stat_B = (((observed_B-expected_B)**2)/expected_B).sum()\n",
    "display('chi2_B',chi_squared_stat_B)\n",
    "\n",
    "expected_C = ratios_cols * 200\n",
    "#display('expected_C',expected_C)\n",
    "observed_C = np.array([104,51,45])\n",
    "chi_squared_stat_C = (((observed_C-expected_C)**2)/expected_C).sum()\n",
    "display('chi2_C',chi_squared_stat_C)\n",
    "\n",
    "expected_D = ratios_cols * 150\n",
    "#display('expected_D',expected_D)\n",
    "observed_D = np.array([95,20,35])\n",
    "chi_squared_stat_D = (((observed_D-expected_D)**2)/expected_D).sum()\n",
    "display('chi2_D',chi_squared_stat_D)\n",
    "\n"
   ]
  },
  {
   "cell_type": "code",
   "execution_count": null,
   "metadata": {},
   "outputs": [],
   "source": []
  }
 ],
 "metadata": {
  "kernelspec": {
   "display_name": "Python 3",
   "language": "python",
   "name": "python3"
  },
  "language_info": {
   "codemirror_mode": {
    "name": "ipython",
    "version": 3
   },
   "file_extension": ".py",
   "mimetype": "text/x-python",
   "name": "python",
   "nbconvert_exporter": "python",
   "pygments_lexer": "ipython3",
   "version": "3.7.4"
  }
 },
 "nbformat": 4,
 "nbformat_minor": 2
}
