{
 "cells": [
  {
   "cell_type": "markdown",
   "metadata": {},
   "source": [
    "# for regression & classification"
   ]
  },
  {
   "cell_type": "code",
   "execution_count": 2,
   "metadata": {},
   "outputs": [],
   "source": [
    "import pandas as pd\n",
    "import numpy as np\n",
    "from scipy.io import loadmat\n",
    "import matplotlib.pyplot as plt\n",
    "from sklearn.linear_model import SGDClassifier\n",
    "from sklearn.multiclass import OneVsOneClassifier\n",
    "from sklearn.multiclass import OneVsRestClassifier\n",
    "from sklearn.ensemble import RandomForestClassifier\n",
    "from sklearn.model_selection import cross_val_score\n",
    "from sklearn.model_selection import cross_val_predict\n",
    "from sklearn.preprocessing import StandardScaler\n",
    "from sklearn.metrics import confusion_matrix\n",
    "import seaborn as sns \n",
    "from sklearn import datasets\n",
    "from sklearn.model_selection import train_test_split ,StratifiedShuffleSplit , GridSearchCV\n",
    "from sklearn.neighbors import KNeighborsClassifier\n",
    "from sklearn.pipeline import Pipeline\n",
    "\n"
   ]
  },
  {
   "cell_type": "code",
   "execution_count": null,
   "metadata": {},
   "outputs": [],
   "source": [
    "iris = datasets.load_iris()\n",
    "X = iris.data[:,:2]\n",
    "y = iris.target\n",
    "class_names = iris.target_names\n",
    "class_names"
   ]
  },
  {
   "cell_type": "markdown",
   "metadata": {},
   "source": [
    "## KNeighborsClassifier"
   ]
  },
  {
   "cell_type": "code",
   "execution_count": null,
   "metadata": {},
   "outputs": [],
   "source": [
    "scaler = StandardScaler()\n",
    "X_scaled = scaler.fit_transform(X.astype('float'))\n",
    "\n",
    "X_train,X_test,y_train ,y_test = train_test_split(X_scaled,y,test_size=0.2,random_state=42)\n",
    "\n",
    "knn = KNeighborsClassifier(n_neighbors=5)\n",
    "knn.fit(X_train,y_train)\n",
    "knn.score(X_test,y_test)"
   ]
  },
  {
   "cell_type": "code",
   "execution_count": null,
   "metadata": {},
   "outputs": [],
   "source": [
    "def plot_decision_boundaries(X,y,clf,resolution=0.2):\n",
    "    #plot the decision surface\n",
    "    x1_min,x1_max = X[:,0].min() - 1 ,X[:,0].max() + 1\n",
    "    x2_min,x2_max = X[:,1].min() - 1 ,X[:,1].max() + 1\n",
    "    \n",
    "    xx1,xx2 = np.meshgrid(np.arange(x1_min,x1_max,resolution),\n",
    "                         np.arange(x2_min,x2_max,resolution))\n",
    "\n",
    "    Z = clf.predict(np.c_[xx1.ravel(),xx2.ravel()])\n",
    "    Z = Z.reshape(xx1.shape)\n",
    "    \n",
    "    plt.contourf(xx1,xx2,Z,alpha=0.4)\n",
    "    \n",
    "    # Plot class samples\n",
    "    plt.scatter(X[:,0],X[:,1],c=y,s = 20, edgecolors='k')\n",
    "    \n",
    "    plt.xlabel('Sepal length')\n",
    "    plt.ylabel('Sepal width')\n",
    "    \n",
    "plot_decision_boundaries(X_scaled,y,knn)\n",
    "plt.title('KNN (k=5)')\n",
    "    "
   ]
  },
  {
   "cell_type": "code",
   "execution_count": null,
   "metadata": {},
   "outputs": [],
   "source": [
    "neighbours,scores,scores_mean = [],[],[]\n",
    "\n",
    "for n in range(1,75):\n",
    "    neighbours.append(n)\n",
    "    knn = KNeighborsClassifier(n_neighbors=n)\n",
    "    score = cross_val_score(knn,X_scaled,y,cv=3)\n",
    "    scores.append(score)\n",
    "    scores_mean.append(score.mean())\n",
    "    \n",
    "display(scores,scores_mean)\n",
    "    \n",
    "plt.plot(neighbours,scores_mean)\n",
    "plt.xlabel('k')\n",
    "plt.ylabel('Accuracy')\n",
    "plt.title('KNN')\n",
    "plt.show()"
   ]
  },
  {
   "cell_type": "markdown",
   "metadata": {},
   "source": [
    "#### Ex KNeighborsClassifier"
   ]
  },
  {
   "cell_type": "code",
   "execution_count": null,
   "metadata": {},
   "outputs": [],
   "source": [
    "#Ex KNeighborsClassifier\n",
    "mnist_path = 'mnist-original.mat'\n",
    "\n",
    "mnist = loadmat(mnist_path)\n",
    "X = mnist['data'].T\n",
    "y = mnist['label'][0]\n",
    "\n",
    "#shuffle\n",
    "all_samples = 70000\n",
    "shuffle_index = np.random.permutation(all_samples)\n",
    "X_shuffle,y_shuffle = X[shuffle_index],y[shuffle_index]\n",
    "\n",
    "# split to train & test \n",
    "train_size = 3000\n",
    "X_train,y_train = X_shuffle[:train_size],y_shuffle[:train_size]\n",
    "\n",
    "test_size = train_size + 3000\n",
    "X_test,y_test = X_shuffle[train_size:test_size],y_shuffle[train_size:test_size]\n",
    "\n",
    "display(X_train.shape,X_test.shape)\n",
    "\n",
    "\n"
   ]
  },
  {
   "cell_type": "code",
   "execution_count": null,
   "metadata": {},
   "outputs": [],
   "source": [
    "clf = Pipeline([('cls',KNeighborsClassifier())])\n",
    "\n",
    "param_grid = {\n",
    "    'cls__weights': ['uniform','distance'],\n",
    "    'cls__n_neighbors': [3,4,5,6,7,8]\n",
    "}\n",
    "\n",
    "grid_search = GridSearchCV(clf,param_grid,cv=3)\n",
    "grid_search.fit(X_train,y_train)\n",
    "\n",
    "print(grid_search.best_params_)\n",
    "\n",
    "results = grid_search.cv_results_\n",
    "for mean_score,params in zip(results['mean_test_score'],results['params']):\n",
    "    print(mean_score,params)"
   ]
  },
  {
   "cell_type": "code",
   "execution_count": null,
   "metadata": {},
   "outputs": [],
   "source": [
    "knn = KNeighborsClassifier(n_neighbors=3,weights='distance') \n",
    "score = cross_val_score(knn,X_test,y_test,cv=3)\n",
    "display(score)"
   ]
  },
  {
   "cell_type": "code",
   "execution_count": 17,
   "metadata": {},
   "outputs": [
    {
     "data": {
      "text/plain": [
       "(4200, 784)"
      ]
     },
     "metadata": {},
     "output_type": "display_data"
    },
    {
     "data": {
      "text/plain": [
       "(3500, 784)"
      ]
     },
     "metadata": {},
     "output_type": "display_data"
    },
    {
     "name": "stdout",
     "output_type": "stream",
     "text": [
      "{'cls__algorithm': 'ball_tree', 'cls__n_neighbors': 3, 'cls__p': 2, 'cls__weights': 'distance'}\n",
      "0.9019047619047619 {'cls__algorithm': 'ball_tree', 'cls__n_neighbors': 1, 'cls__p': 1, 'cls__weights': 'uniform'}\n",
      "0.9019047619047619 {'cls__algorithm': 'ball_tree', 'cls__n_neighbors': 1, 'cls__p': 1, 'cls__weights': 'distance'}\n",
      "0.909047619047619 {'cls__algorithm': 'ball_tree', 'cls__n_neighbors': 1, 'cls__p': 2, 'cls__weights': 'uniform'}\n",
      "0.909047619047619 {'cls__algorithm': 'ball_tree', 'cls__n_neighbors': 1, 'cls__p': 2, 'cls__weights': 'distance'}\n",
      "0.9016666666666666 {'cls__algorithm': 'ball_tree', 'cls__n_neighbors': 3, 'cls__p': 1, 'cls__weights': 'uniform'}\n",
      "0.9069047619047619 {'cls__algorithm': 'ball_tree', 'cls__n_neighbors': 3, 'cls__p': 1, 'cls__weights': 'distance'}\n",
      "0.9142857142857143 {'cls__algorithm': 'ball_tree', 'cls__n_neighbors': 3, 'cls__p': 2, 'cls__weights': 'uniform'}\n",
      "0.9192857142857143 {'cls__algorithm': 'ball_tree', 'cls__n_neighbors': 3, 'cls__p': 2, 'cls__weights': 'distance'}\n",
      "0.8973809523809524 {'cls__algorithm': 'ball_tree', 'cls__n_neighbors': 5, 'cls__p': 1, 'cls__weights': 'uniform'}\n",
      "0.9011904761904762 {'cls__algorithm': 'ball_tree', 'cls__n_neighbors': 5, 'cls__p': 1, 'cls__weights': 'distance'}\n",
      "0.9114285714285715 {'cls__algorithm': 'ball_tree', 'cls__n_neighbors': 5, 'cls__p': 2, 'cls__weights': 'uniform'}\n",
      "0.9173809523809524 {'cls__algorithm': 'ball_tree', 'cls__n_neighbors': 5, 'cls__p': 2, 'cls__weights': 'distance'}\n",
      "0.8952380952380953 {'cls__algorithm': 'ball_tree', 'cls__n_neighbors': 7, 'cls__p': 1, 'cls__weights': 'uniform'}\n",
      "0.9019047619047619 {'cls__algorithm': 'ball_tree', 'cls__n_neighbors': 7, 'cls__p': 1, 'cls__weights': 'distance'}\n",
      "0.9045238095238095 {'cls__algorithm': 'ball_tree', 'cls__n_neighbors': 7, 'cls__p': 2, 'cls__weights': 'uniform'}\n",
      "0.9123809523809524 {'cls__algorithm': 'ball_tree', 'cls__n_neighbors': 7, 'cls__p': 2, 'cls__weights': 'distance'}\n",
      "0.8883333333333333 {'cls__algorithm': 'ball_tree', 'cls__n_neighbors': 9, 'cls__p': 1, 'cls__weights': 'uniform'}\n",
      "0.8942857142857142 {'cls__algorithm': 'ball_tree', 'cls__n_neighbors': 9, 'cls__p': 1, 'cls__weights': 'distance'}\n",
      "0.9023809523809524 {'cls__algorithm': 'ball_tree', 'cls__n_neighbors': 9, 'cls__p': 2, 'cls__weights': 'uniform'}\n",
      "0.9092857142857143 {'cls__algorithm': 'ball_tree', 'cls__n_neighbors': 9, 'cls__p': 2, 'cls__weights': 'distance'}\n",
      "0.8802380952380953 {'cls__algorithm': 'ball_tree', 'cls__n_neighbors': 11, 'cls__p': 1, 'cls__weights': 'uniform'}\n",
      "0.8857142857142857 {'cls__algorithm': 'ball_tree', 'cls__n_neighbors': 11, 'cls__p': 1, 'cls__weights': 'distance'}\n",
      "0.8997619047619048 {'cls__algorithm': 'ball_tree', 'cls__n_neighbors': 11, 'cls__p': 2, 'cls__weights': 'uniform'}\n",
      "0.9030952380952381 {'cls__algorithm': 'ball_tree', 'cls__n_neighbors': 11, 'cls__p': 2, 'cls__weights': 'distance'}\n",
      "0.9019047619047619 {'cls__algorithm': 'brute', 'cls__n_neighbors': 1, 'cls__p': 1, 'cls__weights': 'uniform'}\n",
      "0.9019047619047619 {'cls__algorithm': 'brute', 'cls__n_neighbors': 1, 'cls__p': 1, 'cls__weights': 'distance'}\n",
      "0.909047619047619 {'cls__algorithm': 'brute', 'cls__n_neighbors': 1, 'cls__p': 2, 'cls__weights': 'uniform'}\n",
      "0.909047619047619 {'cls__algorithm': 'brute', 'cls__n_neighbors': 1, 'cls__p': 2, 'cls__weights': 'distance'}\n",
      "0.9016666666666666 {'cls__algorithm': 'brute', 'cls__n_neighbors': 3, 'cls__p': 1, 'cls__weights': 'uniform'}\n",
      "0.9069047619047619 {'cls__algorithm': 'brute', 'cls__n_neighbors': 3, 'cls__p': 1, 'cls__weights': 'distance'}\n",
      "0.9142857142857143 {'cls__algorithm': 'brute', 'cls__n_neighbors': 3, 'cls__p': 2, 'cls__weights': 'uniform'}\n",
      "0.9192857142857143 {'cls__algorithm': 'brute', 'cls__n_neighbors': 3, 'cls__p': 2, 'cls__weights': 'distance'}\n",
      "0.8973809523809524 {'cls__algorithm': 'brute', 'cls__n_neighbors': 5, 'cls__p': 1, 'cls__weights': 'uniform'}\n",
      "0.9011904761904762 {'cls__algorithm': 'brute', 'cls__n_neighbors': 5, 'cls__p': 1, 'cls__weights': 'distance'}\n",
      "0.9114285714285715 {'cls__algorithm': 'brute', 'cls__n_neighbors': 5, 'cls__p': 2, 'cls__weights': 'uniform'}\n",
      "0.9173809523809524 {'cls__algorithm': 'brute', 'cls__n_neighbors': 5, 'cls__p': 2, 'cls__weights': 'distance'}\n",
      "0.8952380952380953 {'cls__algorithm': 'brute', 'cls__n_neighbors': 7, 'cls__p': 1, 'cls__weights': 'uniform'}\n",
      "0.9019047619047619 {'cls__algorithm': 'brute', 'cls__n_neighbors': 7, 'cls__p': 1, 'cls__weights': 'distance'}\n",
      "0.9045238095238095 {'cls__algorithm': 'brute', 'cls__n_neighbors': 7, 'cls__p': 2, 'cls__weights': 'uniform'}\n",
      "0.9123809523809524 {'cls__algorithm': 'brute', 'cls__n_neighbors': 7, 'cls__p': 2, 'cls__weights': 'distance'}\n",
      "0.8883333333333333 {'cls__algorithm': 'brute', 'cls__n_neighbors': 9, 'cls__p': 1, 'cls__weights': 'uniform'}\n",
      "0.8942857142857142 {'cls__algorithm': 'brute', 'cls__n_neighbors': 9, 'cls__p': 1, 'cls__weights': 'distance'}\n",
      "0.9023809523809524 {'cls__algorithm': 'brute', 'cls__n_neighbors': 9, 'cls__p': 2, 'cls__weights': 'uniform'}\n",
      "0.9092857142857143 {'cls__algorithm': 'brute', 'cls__n_neighbors': 9, 'cls__p': 2, 'cls__weights': 'distance'}\n",
      "0.8802380952380953 {'cls__algorithm': 'brute', 'cls__n_neighbors': 11, 'cls__p': 1, 'cls__weights': 'uniform'}\n",
      "0.8857142857142857 {'cls__algorithm': 'brute', 'cls__n_neighbors': 11, 'cls__p': 1, 'cls__weights': 'distance'}\n",
      "0.8997619047619048 {'cls__algorithm': 'brute', 'cls__n_neighbors': 11, 'cls__p': 2, 'cls__weights': 'uniform'}\n",
      "0.9030952380952381 {'cls__algorithm': 'brute', 'cls__n_neighbors': 11, 'cls__p': 2, 'cls__weights': 'distance'}\n"
     ]
    }
   ],
   "source": [
    "#grid search with StratifiedShuffleSplit\n",
    "mnist_path = 'mnist-original.mat'\n",
    "\n",
    "mnist = loadmat(mnist_path)\n",
    "X = mnist['data'].T\n",
    "y = mnist['label'][0]\n",
    "\n",
    "sss = StratifiedShuffleSplit(n_splits=10, test_size=0.05,train_size=0.06, random_state=0)\n",
    "train_index, test_index = next(sss.split(X=X, y=y))\n",
    "     \n",
    "\n",
    "X_train, X_test = X[train_index], X[test_index]\n",
    "y_train, y_test = y[train_index], y[test_index]\n",
    "display(X_train.shape,X_test.shape)\n",
    "\n",
    "#clf = Pipeline([('cls',KNeighborsClassifier(algorithm='ball_tree'))])\n",
    "clf = Pipeline([('cls',KNeighborsClassifier())])\n",
    "\n",
    "param_grid = {\n",
    "   'cls__weights': ['uniform','distance'],\n",
    "    'cls__n_neighbors': np.arange(1, 12, 2),\n",
    "    'cls__algorithm':['ball_tree','brute'],\n",
    "    'cls__p':[1,2]\n",
    "}\n",
    "\n",
    "grid_search = GridSearchCV(clf,param_grid,cv=3)\n",
    "grid_search.fit(X_train,y_train)\n",
    "\n",
    "print(grid_search.best_params_)\n",
    "\n",
    "results = grid_search.cv_results_\n",
    "for mean_score,params in zip(results['mean_test_score'],results['params']):\n",
    "    print(mean_score,params)"
   ]
  },
  {
   "cell_type": "code",
   "execution_count": 16,
   "metadata": {},
   "outputs": [
    {
     "data": {
      "text/plain": [
       "array([0.89046942, 0.91428571, 0.88952654])"
      ]
     },
     "metadata": {},
     "output_type": "display_data"
    }
   ],
   "source": [
    "knn = KNeighborsClassifier(n_neighbors=3,weights='distance',p=2) \n",
    "score = cross_val_score(knn,X_test,y_test,cv=3)\n",
    "display(score)"
   ]
  },
  {
   "cell_type": "code",
   "execution_count": null,
   "metadata": {},
   "outputs": [],
   "source": []
  },
  {
   "cell_type": "code",
   "execution_count": null,
   "metadata": {},
   "outputs": [],
   "source": []
  }
 ],
 "metadata": {
  "kernelspec": {
   "display_name": "Python 3",
   "language": "python",
   "name": "python3"
  },
  "language_info": {
   "codemirror_mode": {
    "name": "ipython",
    "version": 3
   },
   "file_extension": ".py",
   "mimetype": "text/x-python",
   "name": "python",
   "nbconvert_exporter": "python",
   "pygments_lexer": "ipython3",
   "version": "3.7.4"
  }
 },
 "nbformat": 4,
 "nbformat_minor": 2
}
