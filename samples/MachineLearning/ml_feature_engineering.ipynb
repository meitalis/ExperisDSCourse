{
 "cells": [
  {
   "cell_type": "code",
   "execution_count": 17,
   "metadata": {},
   "outputs": [],
   "source": [
    "from sklearn.feature_selection import SelectKBest,chi2\n",
    "from sklearn.feature_selection import VarianceThreshold\n",
    "from sklearn.datasets import load_digits\n",
    "import numpy as np\n"
   ]
  },
  {
   "cell_type": "markdown",
   "metadata": {},
   "source": [
    "# Feature Engineering\n",
    "\n",
    "feature engineering: is the process of using domain knowledge of the data to create features that make ML algo. work\n",
    "it typically involves the following steps:\n",
    "1. **Feature selection** selecting the most useful features to train on among existing\n",
    "    are used for the following reasons: \n",
    "        * simplification of models to make them easier to interpret by research/users\n",
    "        * shorter train times\n",
    "        * avoid the curse of dimensionality\n",
    "        * improve generalization by reducing overfitting\n",
    "        \n",
    "        use ***sklearn.feature_selection***\n",
    "2. **Feature extraction** combining existing features to produce a more useful one"
   ]
  },
  {
   "cell_type": "markdown",
   "metadata": {},
   "source": [
    "## Feature Selection - Remove features with low variance"
   ]
  },
  {
   "cell_type": "markdown",
   "metadata": {},
   "source": [
    "**VarianceThreshold** is a simple baseline approach to feature selection\n",
    "it removes all features whose variance doesnt meet some threshold\n",
    "by default, it removes all zero-variance features' i.e features that have the same value in all samples\n"
   ]
  },
  {
   "cell_type": "code",
   "execution_count": 6,
   "metadata": {},
   "outputs": [
    {
     "data": {
      "text/plain": [
       "array([[0, 1],\n",
       "       [1, 0],\n",
       "       [0, 0],\n",
       "       [1, 1],\n",
       "       [1, 0],\n",
       "       [1, 1]])"
      ]
     },
     "execution_count": 6,
     "metadata": {},
     "output_type": "execute_result"
    }
   ],
   "source": [
    "X = [[0,0,1],[0,1,0],[1,0,0],[0,1,1],[0,1,0],[0,1,1]]\n",
    "p = 0.8\n",
    "sel = VarianceThreshold(threshold=p * (1-p))\n",
    "sel.fit_transform(X)"
   ]
  },
  {
   "cell_type": "markdown",
   "metadata": {},
   "source": [
    "## Feature Selection - Based on Statistical Test"
   ]
  },
  {
   "cell_type": "markdown",
   "metadata": {},
   "source": [
    "scikit-learn offers the following selection routines as transformer objects:\n",
    "**SelectKBest** removes all but the highest scoring features\n",
    "**SelectPercentile** removes all but a user-specified highest scoring percentage of features\n",
    "**SelectFpr/SelectFdr** select the features with p values below α\n",
    "\n",
    "these objects take as input a scoring function:\n",
    "\n",
    "for regression: f_regression, mutual_info_regression\n",
    "\n",
    "for classification: chi2, f_classif, mutual_info_classif"
   ]
  },
  {
   "cell_type": "markdown",
   "metadata": {},
   "source": [
    "### Chi-Squared Test"
   ]
  },
  {
   "cell_type": "markdown",
   "metadata": {},
   "source": [
    "chi square test is used when the variables being considered are categorical variables\n",
    "it determines whether there is a significant difference between the expected frequencies and the observed frequencies in one or more categories. \n",
    "the larger the chi-squared value, the more likely the variables are related\n",
    "the chi-squared stats are computed between each feature and the class variable"
   ]
  },
  {
   "cell_type": "code",
   "execution_count": 15,
   "metadata": {},
   "outputs": [
    {
     "data": {
      "text/plain": [
       "(1797, 64)"
      ]
     },
     "metadata": {},
     "output_type": "display_data"
    },
    {
     "data": {
      "text/plain": [
       "(1797, 20)"
      ]
     },
     "execution_count": 15,
     "metadata": {},
     "output_type": "execute_result"
    }
   ],
   "source": [
    "X,y = load_digits(return_X_y=True)\n",
    "display(X.shape)\n",
    "\n",
    "X_new = SelectKBest(chi2,k=20).fit_transform(X,y)\n",
    "X_new.shape"
   ]
  },
  {
   "cell_type": "code",
   "execution_count": 19,
   "metadata": {},
   "outputs": [
    {
     "data": {
      "text/plain": [
       "'ratios_cols'"
      ]
     },
     "metadata": {},
     "output_type": "display_data"
    },
    {
     "data": {
      "text/plain": [
       "array([0.53692308, 0.23230769, 0.23076923])"
      ]
     },
     "metadata": {},
     "output_type": "display_data"
    },
    {
     "data": {
      "text/plain": [
       "'expected_A'"
      ]
     },
     "metadata": {},
     "output_type": "display_data"
    },
    {
     "data": {
      "text/plain": [
       "array([80.53846154, 34.84615385, 34.61538462])"
      ]
     },
     "metadata": {},
     "output_type": "display_data"
    },
    {
     "data": {
      "text/plain": [
       "'chi2_A'"
      ]
     },
     "metadata": {},
     "output_type": "display_data"
    },
    {
     "data": {
      "text/plain": [
       "2.4008804721152197"
      ]
     },
     "metadata": {},
     "output_type": "display_data"
    },
    {
     "data": {
      "text/plain": [
       "'chi2_B'"
      ]
     },
     "metadata": {},
     "output_type": "display_data"
    },
    {
     "data": {
      "text/plain": [
       "12.665291983191755"
      ]
     },
     "metadata": {},
     "output_type": "display_data"
    },
    {
     "data": {
      "text/plain": [
       "'chi2_C'"
      ]
     },
     "metadata": {},
     "output_type": "display_data"
    },
    {
     "data": {
      "text/plain": [
       "0.5788511167194829"
      ]
     },
     "metadata": {},
     "output_type": "display_data"
    },
    {
     "data": {
      "text/plain": [
       "'chi2_D'"
      ]
     },
     "metadata": {},
     "output_type": "display_data"
    },
    {
     "data": {
      "text/plain": [
       "8.92617928655614"
      ]
     },
     "metadata": {},
     "output_type": "display_data"
    }
   ],
   "source": [
    "#exercise sample for chi-squared\n",
    "\n",
    "sum_all = 650\n",
    "total_col = np.array([349,151,150])\n",
    "ratios_cols = total_col/sum_all \n",
    "display('ratios_cols',ratios_cols)\n",
    "\n",
    "expected_A = ratios_cols * 150 \n",
    "display('expected_A',expected_A)\n",
    "observed_A = np.array([90,30,30])\n",
    "chi_squared_stat_A = (((observed_A-expected_A)**2)/expected_A).sum()\n",
    "display('chi2_A',chi_squared_stat_A)\n",
    "\n",
    "\n",
    "expected_B = ratios_cols * 150 \n",
    "#display('expected_B',expected_B)\n",
    "observed_B = np.array([60,50,40])\n",
    "chi_squared_stat_B = (((observed_B-expected_B)**2)/expected_B).sum()\n",
    "display('chi2_B',chi_squared_stat_B)\n",
    "\n",
    "expected_C = ratios_cols * 200\n",
    "#display('expected_C',expected_C)\n",
    "observed_C = np.array([104,51,45])\n",
    "chi_squared_stat_C = (((observed_C-expected_C)**2)/expected_C).sum()\n",
    "display('chi2_C',chi_squared_stat_C)\n",
    "\n",
    "expected_D = ratios_cols * 150\n",
    "#display('expected_D',expected_D)\n",
    "observed_D = np.array([95,20,35])\n",
    "chi_squared_stat_D = (((observed_D-expected_D)**2)/expected_D).sum()\n",
    "display('chi2_D',chi_squared_stat_D)"
   ]
  },
  {
   "cell_type": "markdown",
   "metadata": {},
   "source": [
    "### Feature Extraction"
   ]
  },
  {
   "cell_type": "markdown",
   "metadata": {},
   "source": [
    "try out variuos attribute combinations.\n",
    "sample way to extract:\n",
    "1. check df.corr() - check for correlation between the attributes\n",
    "2. do any mathematical operation to create a new feature\n",
    "\n",
    "this is an iterative process\n",
    "\n",
    "@see housing"
   ]
  },
  {
   "cell_type": "code",
   "execution_count": null,
   "metadata": {},
   "outputs": [],
   "source": []
  }
 ],
 "metadata": {
  "kernelspec": {
   "display_name": "Python 3",
   "language": "python",
   "name": "python3"
  },
  "language_info": {
   "codemirror_mode": {
    "name": "ipython",
    "version": 3
   },
   "file_extension": ".py",
   "mimetype": "text/x-python",
   "name": "python",
   "nbconvert_exporter": "python",
   "pygments_lexer": "ipython3",
   "version": "3.7.4"
  }
 },
 "nbformat": 4,
 "nbformat_minor": 2
}
