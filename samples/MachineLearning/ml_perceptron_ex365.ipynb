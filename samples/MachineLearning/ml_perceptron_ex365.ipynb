{
 "cells": [
  {
   "cell_type": "code",
   "execution_count": 2,
   "metadata": {},
   "outputs": [],
   "source": [
    "from sklearn.base import BaseEstimator\n",
    "import numpy as np"
   ]
  },
  {
   "cell_type": "code",
   "execution_count": 4,
   "metadata": {},
   "outputs": [],
   "source": [
    "class Perceptron(BaseEstimator):\n",
    "    \"\"\"\n",
    "    eta: float \n",
    "        Learning eate (between 0.0 abd 1.0)\n",
    "    n_iter: int\n",
    "        Number if passes over the training set (epochs)\n",
    "    random_state int\n",
    "        random number generator seed for random weight initialization\n",
    "    \n",
    "    Attributes\n",
    "    ----------\n",
    "    w_: 1d-array\n",
    "        weights after fitting\n",
    "    \n",
    "    errors_ list\n",
    "        number of misclassification\n",
    "    \"\"\"\n",
    "    \n",
    "    def __init__(self,eta=0.01,n_iter=50,random_state=0):\n",
    "        self.eta = eta\n",
    "        self.n_iter = n_iter\n",
    "        self.random_state = random_state\n",
    "    \n",
    "    def fit(self,X,y):\n",
    "        \"\"\" \n",
    "        Parameters\n",
    "        ---------\n",
    "        X: array-like, shape = [n_samples,n_features]\n",
    "            training vector\n",
    "        y = array-like, shape = [n_samples]\n",
    "            target values\n",
    "        \"\"\"\n",
    "        \n",
    "        rng = np.random.RandomState(self.random_state)\n",
    "        self.w_ = rng.normal(loc=0.0,scale=0.01,size=X.shape[1] + 1)\n",
    "        \n",
    "        self.errors_ = []\n",
    "        \n",
    "        for i in range(self.n_iter):\n",
    "            errors  = 0\n",
    "            for x_i,target in zip(X,y):\n",
    "                update = self.eta * (target - self.predict(x_i))\n",
    "                self.w_[1:] += update * x_i\n",
    "                self.w_[0] += update # update the bias unit\n",
    "                errors += int(update !=0.0)\n",
    "            self.errors_.append(errors)\n",
    "            \n",
    "        return self\n",
    "    \n",
    "    def net_input(self,X):\n",
    "        \"\"\" calculate net input\n",
    "        \"\"\"\n",
    "        return np.dot(X,self.w[1:]) + self.w_[0]\n",
    "    \n",
    "    def predict(self,X):\n",
    "        \"\"\" Return class label\n",
    "        \"\"\"\n",
    "        if self.net_input(X) >= 0.0:\n",
    "            return 1\n",
    "        else:\n",
    "            return -1\n",
    "        \n",
    "    \n",
    "        "
   ]
  },
  {
   "cell_type": "markdown",
   "metadata": {},
   "source": [
    "### ex 365"
   ]
  },
  {
   "cell_type": "code",
   "execution_count": null,
   "metadata": {},
   "outputs": [],
   "source": []
  },
  {
   "cell_type": "code",
   "execution_count": 50,
   "metadata": {},
   "outputs": [
    {
     "ename": "AttributeError",
     "evalue": "'numpy.ndarray' object has no attribute 'count'",
     "output_type": "error",
     "traceback": [
      "\u001b[1;31m---------------------------------------------------------------------------\u001b[0m",
      "\u001b[1;31mAttributeError\u001b[0m                            Traceback (most recent call last)",
      "\u001b[1;32m<ipython-input-50-d82dd15cdc29>\u001b[0m in \u001b[0;36m<module>\u001b[1;34m\u001b[0m\n\u001b[0;32m      1\u001b[0m \u001b[0ml\u001b[0m \u001b[1;33m=\u001b[0m \u001b[0mnp\u001b[0m\u001b[1;33m.\u001b[0m\u001b[0mrandom\u001b[0m\u001b[1;33m.\u001b[0m\u001b[0mchoice\u001b[0m\u001b[1;33m(\u001b[0m\u001b[1;33m[\u001b[0m\u001b[1;36m0\u001b[0m\u001b[1;33m,\u001b[0m \u001b[1;36m1\u001b[0m\u001b[1;33m]\u001b[0m\u001b[1;33m,\u001b[0m \u001b[0msize\u001b[0m\u001b[1;33m=\u001b[0m\u001b[1;33m(\u001b[0m\u001b[1;36m21\u001b[0m\u001b[1;33m,\u001b[0m\u001b[1;33m)\u001b[0m\u001b[1;33m)\u001b[0m\u001b[1;33m\u001b[0m\u001b[1;33m\u001b[0m\u001b[0m\n\u001b[1;32m----> 2\u001b[1;33m \u001b[0mtype\u001b[0m\u001b[1;33m(\u001b[0m\u001b[0ml\u001b[0m\u001b[1;33m.\u001b[0m\u001b[0mcount\u001b[0m\u001b[1;33m(\u001b[0m\u001b[1;36m1\u001b[0m\u001b[1;33m)\u001b[0m\u001b[1;33m)\u001b[0m\u001b[1;33m\u001b[0m\u001b[1;33m\u001b[0m\u001b[0m\n\u001b[0m",
      "\u001b[1;31mAttributeError\u001b[0m: 'numpy.ndarray' object has no attribute 'count'"
     ]
    }
   ],
   "source": [
    "l = np.random.choice([0, 1], size=(21,))\n",
    "type(l.count(1))"
   ]
  },
  {
   "cell_type": "code",
   "execution_count": 42,
   "metadata": {},
   "outputs": [
    {
     "data": {
      "text/plain": [
       "array([0.96025129, 0.29987081, 0.53961973, 0.81076529, 0.54186368,\n",
       "       0.47812897, 0.86463856, 0.4673721 , 0.65065525, 0.04043575])"
      ]
     },
     "execution_count": 42,
     "metadata": {},
     "output_type": "execute_result"
    }
   ],
   "source": [
    "np.random.uniform(0, 1,size=10)"
   ]
  },
  {
   "cell_type": "code",
   "execution_count": 84,
   "metadata": {},
   "outputs": [
    {
     "data": {
      "text/plain": [
       "list"
      ]
     },
     "execution_count": 84,
     "metadata": {},
     "output_type": "execute_result"
    }
   ],
   "source": [
    "X = [np.random.choice([0, 1], size=(21,)) for i in range(100)]\n",
    "X[:5]\n",
    "\n",
    "type(X)"
   ]
  },
  {
   "cell_type": "code",
   "execution_count": 76,
   "metadata": {},
   "outputs": [
    {
     "name": "stdout",
     "output_type": "stream",
     "text": [
      "[array(1), array(0), array(0), array(1), array(1), array(1), array(1), array(1), array(1), array(1), array(0), array(1), array(0), array(1), array(0), array(1), array(0), array(1), array(0), array(1), array(1), array(1), array(0), array(1), array(0), array(1), array(1), array(0), array(0), array(0), array(1), array(0), array(1), array(0), array(0), array(1), array(0), array(0), array(1), array(1), array(0), array(1), array(1), array(0), array(0), array(0), array(1), array(1), array(1), array(1), array(1), array(1), array(1), array(1), array(1), array(0), array(0), array(0), array(1), array(1), array(1), array(0), array(1), array(0), array(1), array(1), array(0), array(1), array(0), array(0), array(0), array(0), array(1), array(0), array(1), array(0), array(0), array(0), array(1), array(1), array(1), array(0), array(1), array(1), array(1), array(1), array(1), array(0), array(0), array(1), array(1), array(1), array(0), array(1), array(0), array(1), array(1), array(0), array(1), array(1), array(1), array(0), array(0), array(1), array(1), array(1), array(1), array(1), array(1), array(1), array(0), array(1), array(0), array(1), array(0), array(1), array(0), array(1), array(0), array(1), array(1), array(1), array(0), array(1), array(0), array(1), array(1), array(0), array(0), array(0), array(1), array(0), array(1), array(0), array(0), array(1), array(0), array(0), array(1), array(1), array(0), array(1), array(1), array(0), array(0), array(0), array(1), array(1), array(1), array(1), array(1), array(1), array(1), array(1), array(1), array(0), array(0), array(0), array(1), array(1), array(1), array(0), array(1), array(0), array(1), array(1), array(0), array(1), array(0), array(0), array(0), array(0), array(1), array(0), array(1), array(0), array(0), array(0), array(1), array(1), array(1), array(0), array(1), array(1), array(1), array(1), array(1), array(0), array(0), array(1), array(1), array(1), array(0), array(1), array(0), array(1), array(1), array(0), array(1), array(1), array(1), array(0), array(0), array(1), array(1), array(1), array(1), array(1), array(1), array(1), array(0), array(1), array(0), array(1), array(0), array(1), array(0), array(1), array(0), array(1), array(1), array(1), array(0), array(1), array(0), array(1), array(1), array(0), array(0), array(0), array(1), array(0), array(1), array(0), array(0), array(1), array(0), array(0), array(1), array(1), array(0), array(1), array(1), array(0), array(0), array(0), array(1), array(1), array(1), array(1), array(1), array(1), array(1), array(1), array(1), array(0), array(0), array(0), array(1), array(1), array(1), array(0), array(1), array(0), array(1), array(1), array(0), array(1), array(0), array(0), array(0), array(0), array(1), array(0), array(1), array(0), array(0), array(0), array(1), array(1), array(1), array(0), array(1), array(1), array(1), array(1), array(1), array(0), array(0), array(1), array(1), array(1), array(0), array(1), array(0), array(1), array(1), array(0), array(1), array(1), array(1), array(0), array(0), array(1), array(1), array(1), array(1), array(1), array(1), array(1), array(0), array(1), array(0), array(1), array(0), array(1), array(0), array(1), array(0), array(1), array(1), array(1), array(0), array(1), array(0), array(1), array(1), array(0), array(0), array(0), array(1), array(0), array(1), array(0), array(0), array(1), array(0), array(0), array(1), array(1), array(0), array(1), array(1), array(0), array(0), array(0), array(1), array(1), array(1), array(1), array(1), array(1), array(1), array(1), array(1), array(0), array(0), array(0), array(1), array(1), array(1), array(0), array(1), array(0), array(1), array(1), array(0), array(1), array(0), array(0), array(0), array(0), array(1), array(0), array(1), array(0), array(0), array(0), array(1), array(1), array(1), array(0), array(1), array(1), array(1), array(1), array(1), array(0), array(0), array(1), array(1), array(1), array(0), array(1), array(0), array(1), array(1), array(0), array(1), array(1)]\n"
     ]
    }
   ],
   "source": [
    "\n",
    "for i in X:\n",
    "    zero_c = np.count_nonzero(i == 0)\n",
    "    one_c = np.count_nonzero(i == 1)\n",
    "    #print(zero_c,one_c,np.where(zero_c > one_c ,0, 1))\n",
    "    np.append(y,np.where(zero_c > one_c ,0, 1))\n",
    "    \n",
    "print(y)\n",
    "\n",
    "y1 = X\n",
    "    "
   ]
  },
  {
   "cell_type": "code",
   "execution_count": 77,
   "metadata": {},
   "outputs": [
    {
     "name": "stderr",
     "output_type": "stream",
     "text": [
      "C:\\Users\\user\\Anaconda3\\lib\\importlib\\_bootstrap.py:219: RuntimeWarning: numpy.ufunc size changed, may indicate binary incompatibility. Expected 192 from C header, got 216 from PyObject\n",
      "  return f(*args, **kwds)\n",
      "C:\\Users\\user\\Anaconda3\\lib\\importlib\\_bootstrap.py:219: RuntimeWarning: numpy.ufunc size changed, may indicate binary incompatibility. Expected 192 from C header, got 216 from PyObject\n",
      "  return f(*args, **kwds)\n"
     ]
    }
   ],
   "source": [
    "import pandas as pd"
   ]
  },
  {
   "cell_type": "code",
   "execution_count": 83,
   "metadata": {},
   "outputs": [
    {
     "data": {
      "text/plain": [
       "0     1\n",
       "1    -1\n",
       "2    -1\n",
       "3     1\n",
       "4     1\n",
       "     ..\n",
       "95    1\n",
       "96    1\n",
       "97   -1\n",
       "98    1\n",
       "99    1\n",
       "Length: 100, dtype: int64"
      ]
     },
     "execution_count": 83,
     "metadata": {},
     "output_type": "execute_result"
    }
   ],
   "source": [
    "pd.DataFrame(X).apply(lambda x:round(np.count_nonzero(x)/21)*2 -1,axis=1)"
   ]
  },
  {
   "cell_type": "code",
   "execution_count": null,
   "metadata": {},
   "outputs": [],
   "source": [
    "ppn = Perceptron(eta=0.1,n_iter=10)\n",
    "ppn.fit(X,y)"
   ]
  }
 ],
 "metadata": {
  "kernelspec": {
   "display_name": "Python 3",
   "language": "python",
   "name": "python3"
  },
  "language_info": {
   "codemirror_mode": {
    "name": "ipython",
    "version": 3
   },
   "file_extension": ".py",
   "mimetype": "text/x-python",
   "name": "python",
   "nbconvert_exporter": "python",
   "pygments_lexer": "ipython3",
   "version": "3.6.4"
  }
 },
 "nbformat": 4,
 "nbformat_minor": 2
}
