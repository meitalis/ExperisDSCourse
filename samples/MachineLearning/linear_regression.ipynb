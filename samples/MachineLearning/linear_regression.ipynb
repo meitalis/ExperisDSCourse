{
 "cells": [
  {
   "cell_type": "code",
   "execution_count": 29,
   "metadata": {},
   "outputs": [
    {
     "name": "stderr",
     "output_type": "stream",
     "text": [
      "C:\\Users\\user\\Anaconda3\\lib\\importlib\\_bootstrap.py:219: RuntimeWarning: numpy.ufunc size changed, may indicate binary incompatibility. Expected 192 from C header, got 216 from PyObject\n",
      "  return f(*args, **kwds)\n"
     ]
    }
   ],
   "source": [
    "from sklearn.linear_model import LinearRegression\n",
    "import pandas as pd\n",
    "import numpy as np\n",
    "import matplotlib.pyplot as plt\n",
    "import seaborn as sns\n"
   ]
  },
  {
   "cell_type": "code",
   "execution_count": 4,
   "metadata": {},
   "outputs": [],
   "source": [
    "model = LinearRegression()"
   ]
  },
  {
   "cell_type": "code",
   "execution_count": 7,
   "metadata": {},
   "outputs": [
    {
     "data": {
      "text/plain": [
       "(   Diameter  Toppings\n",
       " 0         6         2\n",
       " 1         8         1\n",
       " 2        10         0\n",
       " 3        14         2\n",
       " 4        18         0,    Price\n",
       " 0    7.0\n",
       " 1    9.0\n",
       " 2   13.0\n",
       " 3   17.5\n",
       " 4   18.0)"
      ]
     },
     "execution_count": 7,
     "metadata": {},
     "output_type": "execute_result"
    }
   ],
   "source": [
    "diameter = [6,8,10,14,18]\n",
    "toppings = [2,1,0,2,0]\n",
    "price = [7,9,13,17.5,18]\n",
    "\n",
    "X_train = pd.DataFrame({'Diameter':diameter,\n",
    "                   'Toppings':toppings})\n",
    "\n",
    "y_train = pd.DataFrame({'Price':price})\n",
    "X_train,y_train"
   ]
  },
  {
   "cell_type": "code",
   "execution_count": 8,
   "metadata": {},
   "outputs": [
    {
     "data": {
      "text/plain": [
       "(array([[1.01041667, 0.39583333]]), array([1.1875]))"
      ]
     },
     "execution_count": 8,
     "metadata": {},
     "output_type": "execute_result"
    }
   ],
   "source": [
    "model.fit(X_train,y_train)\n",
    "model.coef_,model.intercept_\n"
   ]
  },
  {
   "cell_type": "code",
   "execution_count": 23,
   "metadata": {},
   "outputs": [
    {
     "data": {
      "text/plain": [
       "array([[ 1.,  6.,  2.],\n",
       "       [ 1.,  8.,  1.],\n",
       "       [ 1., 10.,  0.],\n",
       "       [ 1., 14.,  2.],\n",
       "       [ 1., 18.,  0.]])"
      ]
     },
     "execution_count": 23,
     "metadata": {},
     "output_type": "execute_result"
    }
   ],
   "source": [
    "x_b = np.column_stack((np.ones(5),X_train))\n",
    "x_b\n"
   ]
  },
  {
   "cell_type": "code",
   "execution_count": 44,
   "metadata": {},
   "outputs": [
    {
     "data": {
      "text/html": [
       "<div>\n",
       "<style scoped>\n",
       "    .dataframe tbody tr th:only-of-type {\n",
       "        vertical-align: middle;\n",
       "    }\n",
       "\n",
       "    .dataframe tbody tr th {\n",
       "        vertical-align: top;\n",
       "    }\n",
       "\n",
       "    .dataframe thead th {\n",
       "        text-align: right;\n",
       "    }\n",
       "</style>\n",
       "<table border=\"1\" class=\"dataframe\">\n",
       "  <thead>\n",
       "    <tr style=\"text-align: right;\">\n",
       "      <th></th>\n",
       "      <th>Price</th>\n",
       "    </tr>\n",
       "  </thead>\n",
       "  <tbody>\n",
       "    <tr>\n",
       "      <td>0</td>\n",
       "      <td>1.187500</td>\n",
       "    </tr>\n",
       "    <tr>\n",
       "      <td>1</td>\n",
       "      <td>1.010417</td>\n",
       "    </tr>\n",
       "    <tr>\n",
       "      <td>2</td>\n",
       "      <td>0.395833</td>\n",
       "    </tr>\n",
       "  </tbody>\n",
       "</table>\n",
       "</div>"
      ],
      "text/plain": [
       "      Price\n",
       "0  1.187500\n",
       "1  1.010417\n",
       "2  0.395833"
      ]
     },
     "execution_count": 44,
     "metadata": {},
     "output_type": "execute_result"
    }
   ],
   "source": [
    "theta_best = np.linalg.inv(x_b.T @ x_b) @ x_b.T @y_train\n",
    "theta_best"
   ]
  },
  {
   "cell_type": "code",
   "execution_count": 50,
   "metadata": {},
   "outputs": [
    {
     "data": {
      "text/html": [
       "<div>\n",
       "<style scoped>\n",
       "    .dataframe tbody tr th:only-of-type {\n",
       "        vertical-align: middle;\n",
       "    }\n",
       "\n",
       "    .dataframe tbody tr th {\n",
       "        vertical-align: top;\n",
       "    }\n",
       "\n",
       "    .dataframe thead th {\n",
       "        text-align: right;\n",
       "    }\n",
       "</style>\n",
       "<table border=\"1\" class=\"dataframe\">\n",
       "  <thead>\n",
       "    <tr style=\"text-align: right;\">\n",
       "      <th></th>\n",
       "      <th>Diameter</th>\n",
       "      <th>Toppings</th>\n",
       "    </tr>\n",
       "  </thead>\n",
       "  <tbody>\n",
       "    <tr>\n",
       "      <td>0</td>\n",
       "      <td>6</td>\n",
       "      <td>2</td>\n",
       "    </tr>\n",
       "    <tr>\n",
       "      <td>1</td>\n",
       "      <td>8</td>\n",
       "      <td>1</td>\n",
       "    </tr>\n",
       "    <tr>\n",
       "      <td>2</td>\n",
       "      <td>10</td>\n",
       "      <td>0</td>\n",
       "    </tr>\n",
       "    <tr>\n",
       "      <td>3</td>\n",
       "      <td>14</td>\n",
       "      <td>2</td>\n",
       "    </tr>\n",
       "    <tr>\n",
       "      <td>4</td>\n",
       "      <td>18</td>\n",
       "      <td>0</td>\n",
       "    </tr>\n",
       "  </tbody>\n",
       "</table>\n",
       "</div>"
      ],
      "text/plain": [
       "   Diameter  Toppings\n",
       "0         6         2\n",
       "1         8         1\n",
       "2        10         0\n",
       "3        14         2\n",
       "4        18         0"
      ]
     },
     "execution_count": 50,
     "metadata": {},
     "output_type": "execute_result"
    }
   ],
   "source": [
    "X_train"
   ]
  },
  {
   "cell_type": "code",
   "execution_count": 58,
   "metadata": {},
   "outputs": [
    {
     "data": {
      "text/plain": [
       "<mpl_toolkits.mplot3d.art3d.Path3DCollection at 0x2960318a7c8>"
      ]
     },
     "execution_count": 58,
     "metadata": {},
     "output_type": "execute_result"
    },
    {
     "data": {
      "image/png": "[encoded data removed]",
      "text/plain": [
       "<Figure size 432x288 with 1 Axes>"
      ]
     },
     "metadata": {
      "needs_background": "light"
     },
     "output_type": "display_data"
    }
   ],
   "source": [
    "import matplotlib.pyplot as plt\n",
    "from mpl_toolkits.mplot3d import Axes3D\n",
    "fig = plt.figure()\n",
    "ax = fig.add_subplot(111, projection='3d')\n",
    "\n",
    "x_model = np.arange(20)\n",
    "y_model = np.arange(20)\n",
    "z_model = theta_best.iloc[0,0] + x_model * theta_best.iloc[1,0] + y_model * theta_best.iloc[2,0] \n",
    "x_model,y_model,z_model\n",
    "\n",
    "ax.plot(x_model,y_model,z_model)\n",
    "ax.scatter3D(X_train.Diameter,X_train.Toppings,y_train)"
   ]
  },
  {
   "cell_type": "markdown",
   "metadata": {},
   "source": [
    "### Gradient Descent"
   ]
  },
  {
   "cell_type": "code",
   "execution_count": 94,
   "metadata": {
    "scrolled": true
   },
   "outputs": [
    {
     "name": "stdout",
     "output_type": "stream",
     "text": [
      "org theta [[-0.35399391]\n",
      " [-1.37495129]]\n",
      "sqrt_comp 2.5970284424746586\n",
      "sqrt_comp 1.5241740256126848\n",
      "sqrt_comp 0.8945841052832386\n",
      "sqrt_comp 0.525153181827616\n",
      "sqrt_comp 0.30843467231158683\n",
      "sqrt_comp 0.18139097055848816\n",
      "sqrt_comp 0.10705725173621848\n",
      "sqrt_comp 0.06378343347415749\n",
      "sqrt_comp 0.038915699575274874\n",
      "sqrt_comp 0.02505311628742256\n",
      "sqrt_comp 0.01776293641669568\n",
      "sqrt_comp 0.01420296516675401\n",
      "sqrt_comp 0.012515435546716577\n",
      "sqrt_comp 0.01164414191521402\n",
      "sqrt_comp 0.011097960969505214\n",
      "sqrt_comp 0.010679086746313942\n",
      "sqrt_comp 0.010313304965161968\n",
      "sqrt_comp 0.009973468710310409\n",
      "sqrt_comp 0.009649624860156634\n",
      "sqrt_comp 0.009338005170581438\n",
      "sqrt_comp 0.009037057201195717\n",
      "sqrt_comp 0.00874602484362802\n",
      "sqrt_comp 0.008464442065292859\n",
      "sqrt_comp 0.00819195242009622\n",
      "sqrt_comp 0.007928244598234683\n",
      "sqrt_comp 0.0076730292907536525\n",
      "sqrt_comp 0.007426030764917952\n",
      "sqrt_comp 0.007186983681106381\n",
      "sqrt_comp 0.006955631781001808\n",
      "sqrt_comp 0.006731727247484197\n",
      "sqrt_comp 0.006515030309139058\n",
      "sqrt_comp 0.006305308937222498\n",
      "sqrt_comp 0.006102338580743533\n",
      "sqrt_comp 0.005905901920179648\n",
      "sqrt_comp 0.005715788632703497\n",
      "sqrt_comp 0.0055317951662529445\n",
      "sqrt_comp 0.0053537245213230895\n",
      "sqrt_comp 0.005181386039952519\n",
      "sqrt_comp 0.005014595201548405\n",
      "sqrt_comp 0.004853173425316602\n",
      "sqrt_comp 0.004696947879048714\n",
      "sqrt_comp 0.004545751294075008\n",
      "sqrt_comp 0.004399421786168126\n",
      "sqrt_comp 0.004257802682219208\n",
      "sqrt_comp 0.004120742352485131\n",
      "sqrt_comp 0.003988094048246494\n",
      "sqrt_comp 0.0038597157446810144\n",
      "sqrt_comp 0.0037354699887999256\n",
      "sqrt_comp 0.0036152237522817043\n",
      "sqrt_comp 0.0034988482890364906\n",
      "sqrt_comp 0.0033862189973634976\n",
      "sqrt_comp 0.003277215286537057\n",
      "sqrt_comp 0.0031717204476957445\n",
      "sqrt_comp 0.0030696215288797905\n",
      "sqrt_comp 0.002970809214100414\n",
      "sqrt_comp 0.0028751777062897507\n",
      "sqrt_comp 0.002782624614031337\n",
      "sqrt_comp 0.0026930508419266545\n",
      "sqrt_comp 0.0026063604844976974\n",
      "sqrt_comp 0.002522460723500466\n",
      "sqrt_comp 0.0024412617285479725\n",
      "sqrt_comp 0.0023626765609267983\n",
      "sqrt_comp 0.0022866210805147116\n",
      "sqrt_comp 0.0022130138556943164\n",
      "sqrt_comp 0.0021417760761625556\n",
      "sqrt_comp 0.00207283146855104\n",
      "sqrt_comp 0.002006106214760412\n",
      "sqrt_comp 0.0019415288729249002\n",
      "sqrt_comp 0.0018790303009217104\n",
      "sqrt_comp 0.0018185435823379944\n",
      "sqrt_comp 0.0017600039548279986\n",
      "sqrt_comp 0.0017033487407693527\n",
      "sqrt_comp 0.0016485172801573638\n",
      "sqrt_comp 0.0015954508656583933\n",
      "sqrt_comp 0.0015440926797489162\n",
      "sqrt_comp 0.0014943877338836327\n",
      "sqrt_comp 0.001446282809620478\n",
      "sqrt_comp 0.0013997264016392579\n",
      "sqrt_comp 0.0013546686625979184\n",
      "sqrt_comp 0.0013110613497578601\n",
      "sqrt_comp 0.0012688577733332234\n",
      "sqrt_comp 0.0012280127465025628\n",
      "sqrt_comp 0.0011884825370223463\n",
      "sqrt_comp 0.0011502248204098358\n",
      "sqrt_comp 0.0011131986346236437\n",
      "sqrt_comp 0.001077364336205238\n",
      "sqrt_comp 0.001042683557836115\n",
      "sqrt_comp 0.001009119167254567\n",
      "sqrt_comp 0.0009766352275024837\n",
      "sqrt_comp 0.000945196958446785\n",
      "sqrt_comp 0.0009147706995388962\n",
      "sqrt_comp 0.000885323873777321\n",
      "sqrt_comp 0.0008568249528278587\n",
      "sqrt_comp 0.0008292434232629684\n",
      "sqrt_comp 0.0008025497538982366\n",
      "sqrt_comp 0.0007767153641652228\n",
      "sqrt_comp 0.0007517125935190899\n",
      "sqrt_comp 0.0007275146718151173\n",
      "sqrt_comp 0.0007040956906538385\n",
      "sqrt_comp 0.0006814305756335497\n",
      "sqrt_comp 0.0006594950595101391\n",
      "sqrt_comp 0.0006382656562098662\n",
      "sqrt_comp 0.0006177196356853559\n",
      "sqrt_comp 0.0005978349995791092\n",
      "sqrt_comp 0.0005785904576670899\n",
      "sqrt_comp 0.0005599654050694121\n",
      "sqrt_comp 0.0005419399001814997\n",
      "sqrt_comp 0.0005244946433299398\n",
      "sqrt_comp 0.0005076109561039634\n",
      "sqrt_comp 0.0004912707613573997\n",
      "sqrt_comp 0.0004754565638554368\n",
      "sqrt_comp 0.0004601514315419128\n",
      "sqrt_comp 0.000445338977410036\n",
      "sqrt_comp 0.00043100334195587546\n",
      "sqrt_comp 0.00041712917620090345\n",
      "sqrt_comp 0.0004037016252555607\n",
      "sqrt_comp 0.00039070631241440933\n",
      "sqrt_comp 0.0003781293237641992\n",
      "sqrt_comp 0.0003659571932860568\n",
      "sqrt_comp 0.0003541768884379876\n",
      "sqrt_comp 0.0003427757961997758\n",
      "sqrt_comp 0.0003317417095689992\n",
      "sqrt_comp 0.0003210628144924414\n",
      "sqrt_comp 0.00031072767721527605\n",
      "sqrt_comp 0.0003007252320400606\n",
      "sqrt_comp 0.0002910447694777573\n",
      "sqrt_comp 0.00028167592478274697\n",
      "sqrt_comp 0.00027260866685434884\n",
      "sqrt_comp 0.0002638332874960032\n",
      "sqrt_comp 0.00025534039102392424\n",
      "sqrt_comp 0.0002471208842035353\n",
      "sqrt_comp 0.00023916596651443308\n",
      "sqrt_comp 0.00023146712072963602\n",
      "sqrt_comp 0.00022401610379540362\n",
      "sqrt_comp 0.0002168049380028453\n",
      "sqrt_comp 0.00020982590245169306\n",
      "sqrt_comp 0.00020307152477768483\n",
      "sqrt_comp 0.00019653457315677085\n",
      "sqrt_comp 0.00019020804855854906\n",
      "sqrt_comp 0.0001840851772565322\n",
      "sqrt_comp 0.0001781594035711988\n",
      "sqrt_comp 0.0001724243828522429\n",
      "sqrt_comp 0.00016687397468793217\n",
      "sqrt_comp 0.00016150223632895787\n",
      "sqrt_comp 0.00015630341632293432\n",
      "sqrt_comp 0.00015127194836222002\n",
      "sqrt_comp 0.00014640244531812142\n",
      "sqrt_comp 0.00014168969347756855\n",
      "sqrt_comp 0.0001371286469570316\n",
      "sqrt_comp 0.00013271442230423287\n",
      "sqrt_comp 0.00012844229326515062\n",
      "sqrt_comp 0.00012430768572664025\n",
      "sqrt_comp 0.00012030617281838227\n",
      "sqrt_comp 0.00011643347017149028\n",
      "sqrt_comp 0.0001126854313345227\n",
      "sqrt_comp 0.00010905804333029927\n",
      "sqrt_comp 0.00010554742236089982\n",
      "sqrt_comp 0.00010214980965030505\n",
      "sqrt_comp 9.886156741920062e-05\n",
      "sqrt_comp 9.567917498850106e-05\n",
      "sqrt_comp 9.259922501113993e-05\n",
      "sqrt_comp 8.961841982600176e-05\n",
      "sqrt_comp 8.673356792256642e-05\n",
      "sqrt_comp 8.394158052777966e-05\n",
      "sqrt_comp 8.123946829691283e-05\n",
      "sqrt_comp 7.86243381127116e-05\n",
      "sqrt_comp 7.60933899899421e-05\n",
      "sqrt_comp 7.3643914074125e-05\n",
      "sqrt_comp 7.12732877444225e-05\n",
      "sqrt_comp 6.897897280105213e-05\n",
      "count 170\n"
     ]
    },
    {
     "data": {
      "text/plain": [
       "array([[4.22059985],\n",
       "       [2.96984396]])"
      ]
     },
     "execution_count": 94,
     "metadata": {},
     "output_type": "execute_result"
    }
   ],
   "source": [
    "rng = np.random.RandomState(0)\n",
    "X = 2 * rng.rand(100,1)\n",
    "\n",
    "y = 4 + 3 * X + rng.randn(100,1)\n",
    "\n",
    "x_b = np.column_stack((np.ones(100),X))\n",
    "\n",
    "eta = 0.1\n",
    "n_iterations = 1000\n",
    "m = 100\n",
    "\n",
    "theta = rng.randn(2,1)\n",
    "print(\"org theta\",theta)\n",
    "tolerance = 0.00007\n",
    "count = 0\n",
    "\n",
    "for iter in range(n_iterations):\n",
    "    count += 1\n",
    "    gra = 2 /m * x_b.T @ (x_b @ theta -y)\n",
    "    prev_theta = theta\n",
    "    theta = theta - eta * gra\n",
    "    \n",
    "    sqrt_comp = np.sqrt(((prev_theta - theta)**2).sum())\n",
    "    print('sqrt_comp',sqrt_comp)\n",
    "    if sqrt_comp < tolerance:\n",
    "        print(\"count\", count)\n",
    "        break\n",
    "    \n",
    "\n",
    "theta"
   ]
  },
  {
   "cell_type": "code",
   "execution_count": null,
   "metadata": {},
   "outputs": [],
   "source": []
  }
 ],
 "metadata": {
  "kernelspec": {
   "display_name": "Python 3",
   "language": "python",
   "name": "python3"
  },
  "language_info": {
   "codemirror_mode": {
    "name": "ipython",
    "version": 3
   },
   "file_extension": ".py",
   "mimetype": "text/x-python",
   "name": "python",
   "nbconvert_exporter": "python",
   "pygments_lexer": "ipython3",
   "version": "3.7.4"
  }
 },
 "nbformat": 4,
 "nbformat_minor": 2
}
