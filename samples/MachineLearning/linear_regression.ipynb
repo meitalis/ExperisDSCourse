{
 "cells": [
  {
   "cell_type": "code",
   "execution_count": null,
   "metadata": {},
   "outputs": [],
   "source": [
    "from sklearn.linear_model import LinearRegression\n",
    "import pandas as pd\n",
    "import numpy as np\n",
    "import matplotlib.pyplot as plt\n",
    "import seaborn as sns\n"
   ]
  },
  {
   "cell_type": "code",
   "execution_count": null,
   "metadata": {},
   "outputs": [],
   "source": [
    "model = LinearRegression()"
   ]
  },
  {
   "cell_type": "code",
   "execution_count": null,
   "metadata": {},
   "outputs": [],
   "source": [
    "diameter = [6,8,10,14,18]\n",
    "toppings = [2,1,0,2,0]\n",
    "price = [7,9,13,17.5,18]\n",
    "\n",
    "X_train = pd.DataFrame({'Diameter':diameter,\n",
    "                   'Toppings':toppings})\n",
    "\n",
    "y_train = pd.DataFrame({'Price':price})\n",
    "X_train,y_train"
   ]
  },
  {
   "cell_type": "code",
   "execution_count": null,
   "metadata": {},
   "outputs": [],
   "source": [
    "model.fit(X_train,y_train)\n",
    "model.coef_,model.intercept_\n"
   ]
  },
  {
   "cell_type": "code",
   "execution_count": null,
   "metadata": {},
   "outputs": [],
   "source": [
    "x_b = np.column_stack((np.ones(5),X_train))\n",
    "x_b\n"
   ]
  },
  {
   "cell_type": "code",
   "execution_count": null,
   "metadata": {},
   "outputs": [],
   "source": [
    "theta_best = np.linalg.inv(x_b.T @ x_b) @ x_b.T @y_train\n",
    "theta_best"
   ]
  },
  {
   "cell_type": "code",
   "execution_count": null,
   "metadata": {},
   "outputs": [],
   "source": [
    "X_train"
   ]
  },
  {
   "cell_type": "code",
   "execution_count": null,
   "metadata": {},
   "outputs": [],
   "source": [
    "import matplotlib.pyplot as plt\n",
    "from mpl_toolkits.mplot3d import Axes3D\n",
    "fig = plt.figure()\n",
    "ax = fig.add_subplot(111, projection='3d')\n",
    "\n",
    "x_model = np.arange(20)\n",
    "y_model = np.arange(20)\n",
    "z_model = theta_best.iloc[0,0] + x_model * theta_best.iloc[1,0] + y_model * theta_best.iloc[2,0] \n",
    "x_model,y_model,z_model\n",
    "\n",
    "ax.plot(x_model,y_model,z_model)\n",
    "ax.scatter3D(X_train.Diameter,X_train.Toppings,y_train)"
   ]
  },
  {
   "cell_type": "markdown",
   "metadata": {},
   "source": [
    "### Gradient Descent"
   ]
  },
  {
   "cell_type": "code",
   "execution_count": null,
   "metadata": {
    "scrolled": true
   },
   "outputs": [],
   "source": [
    "#%%timeit\n",
    "\n",
    "m = 10000\n",
    "rng = np.random.RandomState(0)\n",
    "X = 2 * rng.rand(m,1)\n",
    "\n",
    "y = 4 + 3 * X + rng.randn(m,1)\n",
    "\n",
    "x_b = np.column_stack((np.ones(m),X))\n",
    "\n",
    "eta = 0.1\n",
    "n_iterations = 1000\n",
    "\n",
    "theta = rng.randn(2,1)\n",
    "#print(\"org theta\",theta)\n",
    "tolerance_theta = 0.00002\n",
    "tolerance_gra = 0.00005\n",
    "count = 0\n",
    "\n",
    "for iter in range(n_iterations):\n",
    "    count += 1\n",
    "    gra = 2 /m * x_b.T @ (x_b @ theta -y)\n",
    "    \n",
    "    prev_theta = theta\n",
    "    theta = theta - eta * gra\n",
    "\n",
    "    sqrt_comp_grad = np.sqrt((gra**2).sum())\n",
    "    #print(\"sqrt_comp_grad\",sqrt_comp_grad)\n",
    "\n",
    "    sqrt_comp = np.sqrt(((prev_theta - theta)**2).sum())\n",
    "    #print('sqrt_comp',sqrt_comp)\n",
    "    if sqrt_comp_grad < tolerance_gra:\n",
    "        print(\"count\", count,\"sqrt_comp_grad\",sqrt_comp_grad)\n",
    "        break\n",
    "\n",
    "    #if sqrt_comp < tolerance_theta:\n",
    "    #    print(\"count\", count)\n",
    "    #    break\n",
    "\n",
    "\n",
    "theta"
   ]
  },
  {
   "cell_type": "markdown",
   "metadata": {},
   "source": [
    "## Stochastic Gradient Descent"
   ]
  },
  {
   "cell_type": "code",
   "execution_count": null,
   "metadata": {},
   "outputs": [],
   "source": [
    "%%timeit\n",
    "m = 100000\n",
    "rng = np.random.RandomState(0)\n",
    "X = 2 * rng.rand(m,1)\n",
    "y = 4 + 3 * X + rng.randn(m,1)\n",
    "\n",
    "x_b = np.column_stack((np.ones(m),X))\n",
    "\n",
    "theta = rng.randn(2,1)\n",
    "\n",
    "count = 0\n",
    "\n",
    "n_epochs = 50\n",
    "t0,t1 = 5,50\n",
    "\n",
    "def learning_schedule(t):\n",
    "    return t0/ (t +t1)\n",
    "\n",
    "theta = rng.randn(2,1)\n",
    "\n",
    "for epoch in range(n_epochs):\n",
    "    for i in range(m):\n",
    "        random_index = rng.randint(m)\n",
    "        x_i = x_b[random_index:random_index +1]\n",
    "        y_i = y[random_index:random_index +1]\n",
    "        gradients = 2 * x_i.T @ (x_i @ theta - y_i)\n",
    "        eta  = learning_schedule(epoch * m + i)\n",
    "        theta = theta - eta * gradients\n",
    "\n",
    "theta"
   ]
  },
  {
   "cell_type": "markdown",
   "metadata": {},
   "source": [
    "### Mini Gradient Descent"
   ]
  },
  {
   "cell_type": "code",
   "execution_count": null,
   "metadata": {},
   "outputs": [],
   "source": [
    "m = 100000\n",
    "rng = np.random.RandomState(0)\n",
    "X = 2 * rng.rand(m,1)\n",
    "y = 4 + 3 * X + rng.randn(m,1)\n",
    "\n",
    "x_b = np.column_stack((np.ones(m),X))\n",
    "\n",
    "theta = rng.randn(2,1)\n",
    "\n",
    "count = 0\n",
    "\n",
    "n_epochs = 50\n",
    "t0,t1 = 5,50\n",
    "batch_size = 10\n",
    "\n",
    "def learning_schedule(t):\n",
    "    return t0/ (t +t1)\n",
    "\n",
    "theta = rng.randn(2,1)\n",
    "\n",
    "for epoch in range(n_epochs):\n",
    "    for i in range(m):\n",
    "        random_indexes = rng.randint(m,size=batch_size)\n",
    "        np.random.shuffle(x_b)\n",
    "        x_idxes = x_b[random_indexes]\n",
    "        #print('x_idxes',x_idxes.shape)\n",
    "        y_idxes = y[random_indexes]\n",
    "        #print('y_idxes',y_idxes.shape)\n",
    "        gradients = 2 * x_idxes.T @ (x_idxes @ theta - y_idxes)\n",
    "        eta  = learning_schedule(epoch * m + i)\n",
    "        theta = theta - eta * gradients\n",
    "\n",
    "theta\n",
    "\n"
   ]
  },
  {
   "cell_type": "code",
   "execution_count": null,
   "metadata": {},
   "outputs": [],
   "source": [
    "m = 20\n",
    "rng = np.random.RandomState(0)\n",
    "idx = rng.randint(m,size=5)\n",
    "idx\n",
    "\n",
    "X = 2 * rng.rand(m,1)\n",
    "x_b = np.column_stack((np.ones(m),X))\n",
    "\n",
    "np.random.shuffle(x_b)\n",
    "\n",
    "#display(idx, X)\n",
    "display(idx, x_b[idx])"
   ]
  },
  {
   "cell_type": "markdown",
   "metadata": {},
   "source": [
    "## polynomianl regression\n",
    "### find the best polynomianl fir ti the function f(x) = sin(x) in the range o,10"
   ]
  },
  {
   "cell_type": "code",
   "execution_count": 31,
   "metadata": {},
   "outputs": [
    {
     "name": "stderr",
     "output_type": "stream",
     "text": [
      "C:\\Users\\user\\Anaconda3\\lib\\site-packages\\sklearn\\model_selection\\_search.py:814: DeprecationWarning: The default of the `iid` parameter will change from True to False in version 0.22 and will be removed in 0.24. This will change numeric results when test-set sizes are unequal.\n",
      "  DeprecationWarning)\n"
     ]
    },
    {
     "data": {
      "text/plain": [
       "GridSearchCV(cv=7, error_score='raise-deprecating',\n",
       "             estimator=Pipeline(memory=None,\n",
       "                                steps=[('polynomialfeatures',\n",
       "                                        PolynomialFeatures(degree=2,\n",
       "                                                           include_bias=True,\n",
       "                                                           interaction_only=False,\n",
       "                                                           order='C')),\n",
       "                                       ('linearregression',\n",
       "                                        LinearRegression(copy_X=True,\n",
       "                                                         fit_intercept=True,\n",
       "                                                         n_jobs=None,\n",
       "                                                         normalize=False))],\n",
       "                                verbose=False),\n",
       "             iid='warn', n_jobs=None,\n",
       "             param_grid={'linearregression__fit_intercept': [True, False],\n",
       "                         'linearregression__normalize': [True, False],\n",
       "                         'polynomialfeatures__degree': array([ 0,  1,  2,  3,  4,  5,  6,  7,  8,  9, 10, 11, 12, 13, 14, 15, 16,\n",
       "       17, 18, 19, 20, 21, 22, 23, 24, 25, 26, 27, 28, 29])},\n",
       "             pre_dispatch='2*n_jobs', refit=True, return_train_score=False,\n",
       "             scoring=None, verbose=0)"
      ]
     },
     "execution_count": 31,
     "metadata": {},
     "output_type": "execute_result"
    }
   ],
   "source": [
    "from sklearn.model_selection import GridSearchCV\n",
    "from sklearn.pipeline import make_pipeline\n",
    "from sklearn.preprocessing import PolynomialFeatures\n",
    "import numpy as np\n",
    "from sklearn.linear_model import LinearRegression\n",
    "\n",
    "#x = np.linspace(0,10,100).reshape(-1,1)\n",
    "x =  10 * np.random.rand(50,1)\n",
    "y = np.sin(x)\n",
    "\n",
    "def PolynominalRegression(degree = 2,**kwargs):\n",
    "    return make_pipeline(PolynomialFeatures(degree),\n",
    "                        LinearRegression(**kwargs))\n",
    "\n",
    "param_grid = {'polynomialfeatures__degree':np.arange(30),\n",
    "             'linearregression__fit_intercept':[True,False],\n",
    "             'linearregression__normalize':[True,False]}\n",
    "\n",
    "grid = GridSearchCV(PolynominalRegression(),param_grid,cv=7)\n",
    "grid.fit(x,y)"
   ]
  },
  {
   "cell_type": "code",
   "execution_count": 32,
   "metadata": {},
   "outputs": [
    {
     "data": {
      "text/plain": [
       "{'linearregression__fit_intercept': True,\n",
       " 'linearregression__normalize': True,\n",
       " 'polynomialfeatures__degree': 20}"
      ]
     },
     "execution_count": 32,
     "metadata": {},
     "output_type": "execute_result"
    }
   ],
   "source": [
    "grid.best_params_"
   ]
  },
  {
   "cell_type": "code",
   "execution_count": null,
   "metadata": {},
   "outputs": [],
   "source": []
  }
 ],
 "metadata": {
  "kernelspec": {
   "display_name": "Python 3",
   "language": "python",
   "name": "python3"
  }
 },
 "nbformat": 4,
 "nbformat_minor": 2
}
