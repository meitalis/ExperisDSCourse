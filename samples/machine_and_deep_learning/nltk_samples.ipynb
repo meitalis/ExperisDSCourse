{
 "cells": [
  {
   "cell_type": "code",
   "execution_count": 3,
   "metadata": {},
   "outputs": [],
   "source": [
    "import nltk\n",
    "import re\n",
    "from nltk.corpus import reuters"
   ]
  },
  {
   "cell_type": "code",
   "execution_count": 2,
   "metadata": {},
   "outputs": [
    {
     "name": "stdout",
     "output_type": "stream",
     "text": [
      "showing info https://raw.githubusercontent.com/nltk/nltk_data/gh-pages/index.xml\n"
     ]
    },
    {
     "data": {
      "text/plain": [
       "True"
      ]
     },
     "execution_count": 2,
     "metadata": {},
     "output_type": "execute_result"
    }
   ],
   "source": [
    "nltk.download()"
   ]
  },
  {
   "cell_type": "code",
   "execution_count": 11,
   "metadata": {},
   "outputs": [
    {
     "data": {
      "text/plain": [
       "10788"
      ]
     },
     "execution_count": 11,
     "metadata": {},
     "output_type": "execute_result"
    }
   ],
   "source": [
    "#10788 all documents\n",
    "len(reuters.fileids())"
   ]
  },
  {
   "cell_type": "code",
   "execution_count": 4,
   "metadata": {},
   "outputs": [
    {
     "data": {
      "text/plain": [
       "['test/14826', 'test/14828', 'test/14829', 'test/14832', 'test/14833']"
      ]
     },
     "execution_count": 4,
     "metadata": {},
     "output_type": "execute_result"
    }
   ],
   "source": [
    "#document\n",
    "reuters.fileids()[:5]"
   ]
  },
  {
   "cell_type": "code",
   "execution_count": 5,
   "metadata": {},
   "outputs": [
    {
     "data": {
      "text/plain": [
       "\"CHINA DAILY SAYS VERMIN EAT 7-12 PCT GRAIN STOCKS\\n  A survey of 19 provinces and seven cities\\n  showed vermin consume between seven and 12 pct of China's grain\\n  stocks, the China Daily said.\\n      It also said that each year 1.575 mln tonnes, or 25 pct, of\\n  China's fruit output are left to rot, and 2.1 mln tonnes, or up\\n  to 30 pct, of its vegetables. The paper blamed the waste on\\n  inadequate storage and bad preservation methods.\\n      It said the government had launched a national programme to\\n  reduce waste, calling for improved technology in storage and\\n  preservation, and greater production of additives. The paper\\n  gave no further details.\\n  \\n\\n\""
      ]
     },
     "execution_count": 5,
     "metadata": {},
     "output_type": "execute_result"
    }
   ],
   "source": [
    "#text of specific document\n",
    "reuters.raw('test/14828')"
   ]
  },
  {
   "cell_type": "code",
   "execution_count": 7,
   "metadata": {},
   "outputs": [
    {
     "data": {
      "text/plain": [
       "['CHINA', 'DAILY', 'SAYS', 'VERMIN', 'EAT', '7', '-', '12', 'PCT', 'GRAIN']"
      ]
     },
     "execution_count": 7,
     "metadata": {},
     "output_type": "execute_result"
    }
   ],
   "source": [
    "#access the tokens specific document\n",
    "reuters.words('test/14828')[:10]"
   ]
  },
  {
   "cell_type": "code",
   "execution_count": 19,
   "metadata": {},
   "outputs": [
    {
     "data": {
      "text/plain": [
       "(['grain'], ['trade'])"
      ]
     },
     "execution_count": 19,
     "metadata": {},
     "output_type": "execute_result"
    }
   ],
   "source": [
    "#category\n",
    "reuters.categories('test/14828') ,reuters.categories('test/14826')"
   ]
  },
  {
   "cell_type": "code",
   "execution_count": 18,
   "metadata": {},
   "outputs": [
    {
     "data": {
      "text/plain": [
       "['test/14828', 'test/14832', 'test/14841', 'test/14858', 'test/15033']"
      ]
     },
     "execution_count": 18,
     "metadata": {},
     "output_type": "execute_result"
    }
   ],
   "source": [
    "reuters.fileids('grain')[:5]"
   ]
  },
  {
   "cell_type": "code",
   "execution_count": 32,
   "metadata": {},
   "outputs": [
    {
     "data": {
      "text/plain": [
       "['test/14840',\n",
       " 'test/15198',\n",
       " 'test/15329',\n",
       " 'test/15357',\n",
       " 'test/15540',\n",
       " 'test/15584',\n",
       " 'test/15725',\n",
       " 'test/15737',\n",
       " 'test/16097',\n",
       " 'test/16115']"
      ]
     },
     "execution_count": 32,
     "metadata": {},
     "output_type": "execute_result"
    }
   ],
   "source": [
    "reuters.fileids('coffee')[:10]"
   ]
  },
  {
   "cell_type": "code",
   "execution_count": 25,
   "metadata": {},
   "outputs": [],
   "source": [
    "from sklearn.feature_extraction.text import TfidfVectorizer\n",
    "import pandas as pd\n",
    "import numpy as np"
   ]
  },
  {
   "cell_type": "code",
   "execution_count": 26,
   "metadata": {},
   "outputs": [],
   "source": [
    "tv = TfidfVectorizer()\n"
   ]
  },
  {
   "cell_type": "code",
   "execution_count": 39,
   "metadata": {},
   "outputs": [
    {
     "data": {
      "text/html": [
       "<div>\n",
       "<style scoped>\n",
       "    .dataframe tbody tr th:only-of-type {\n",
       "        vertical-align: middle;\n",
       "    }\n",
       "\n",
       "    .dataframe tbody tr th {\n",
       "        vertical-align: top;\n",
       "    }\n",
       "\n",
       "    .dataframe thead th {\n",
       "        text-align: right;\n",
       "    }\n",
       "</style>\n",
       "<table border=\"1\" class=\"dataframe\">\n",
       "  <thead>\n",
       "    <tr style=\"text-align: right;\">\n",
       "      <th></th>\n",
       "      <th>Document</th>\n",
       "      <th>Category</th>\n",
       "    </tr>\n",
       "  </thead>\n",
       "  <tbody>\n",
       "    <tr>\n",
       "      <td>0</td>\n",
       "      <td>INDONESIAN COMMODITY EXCHANGE MAY EXPAND\\n  Th...</td>\n",
       "      <td>test/14840</td>\n",
       "    </tr>\n",
       "    <tr>\n",
       "      <td>1</td>\n",
       "      <td>COLOMBIA BUSINESS ASKED TO DIVERSIFY FROM COFF...</td>\n",
       "      <td>test/15198</td>\n",
       "    </tr>\n",
       "    <tr>\n",
       "      <td>2</td>\n",
       "      <td>COFFEE COULD DROP TO 70/80 CTS, CARDENAS SAYS\\...</td>\n",
       "      <td>test/15329</td>\n",
       "    </tr>\n",
       "    <tr>\n",
       "      <td>3</td>\n",
       "      <td>COLOMBIA COFFEE REGISTRATIONS REMAIN OPEN\\n  C...</td>\n",
       "      <td>test/15357</td>\n",
       "    </tr>\n",
       "    <tr>\n",
       "      <td>4</td>\n",
       "      <td>BRAZILIAN COFFEE RAINFALL\\n  THE FOLLOWING RAI...</td>\n",
       "      <td>test/15540</td>\n",
       "    </tr>\n",
       "    <tr>\n",
       "      <td>5</td>\n",
       "      <td>PRICES GENERALLY LOWER AT NAIROBI COFFEE AUCTI...</td>\n",
       "      <td>test/15584</td>\n",
       "    </tr>\n",
       "    <tr>\n",
       "      <td>6</td>\n",
       "      <td>COLOMBIA JAN EXPORTS UP BUT COFFEE VALUES FALL...</td>\n",
       "      <td>test/15725</td>\n",
       "    </tr>\n",
       "    <tr>\n",
       "      <td>7</td>\n",
       "      <td>EXPORTS OTHER THAN COFFEE RISE SHARPLY IN COLO...</td>\n",
       "      <td>test/15737</td>\n",
       "    </tr>\n",
       "    <tr>\n",
       "      <td>8</td>\n",
       "      <td>UGANDA PULLS OUT OF COFFEE MARKET - TRADE SOUR...</td>\n",
       "      <td>test/16097</td>\n",
       "    </tr>\n",
       "    <tr>\n",
       "      <td>9</td>\n",
       "      <td>PATON REPORTS U.S. GREEN COFFEE ROASTINGS HIGH...</td>\n",
       "      <td>test/16115</td>\n",
       "    </tr>\n",
       "  </tbody>\n",
       "</table>\n",
       "</div>"
      ],
      "text/plain": [
       "                                            Document    Category\n",
       "0  INDONESIAN COMMODITY EXCHANGE MAY EXPAND\\n  Th...  test/14840\n",
       "1  COLOMBIA BUSINESS ASKED TO DIVERSIFY FROM COFF...  test/15198\n",
       "2  COFFEE COULD DROP TO 70/80 CTS, CARDENAS SAYS\\...  test/15329\n",
       "3  COLOMBIA COFFEE REGISTRATIONS REMAIN OPEN\\n  C...  test/15357\n",
       "4  BRAZILIAN COFFEE RAINFALL\\n  THE FOLLOWING RAI...  test/15540\n",
       "5  PRICES GENERALLY LOWER AT NAIROBI COFFEE AUCTI...  test/15584\n",
       "6  COLOMBIA JAN EXPORTS UP BUT COFFEE VALUES FALL...  test/15725\n",
       "7  EXPORTS OTHER THAN COFFEE RISE SHARPLY IN COLO...  test/15737\n",
       "8  UGANDA PULLS OUT OF COFFEE MARKET - TRADE SOUR...  test/16097\n",
       "9  PATON REPORTS U.S. GREEN COFFEE ROASTINGS HIGH...  test/16115"
      ]
     },
     "execution_count": 39,
     "metadata": {},
     "output_type": "execute_result"
    }
   ],
   "source": [
    "corpus = [reuters.raw(doc) for doc in reuters.fileids('coffee')[:10]]\n",
    "labels = reuters.fileids('coffee')[:10]\n",
    "corpus_df = pd.DataFrame({'Document':corpus,\n",
    "                         'Category':labels})\n",
    "corpus_df"
   ]
  },
  {
   "cell_type": "code",
   "execution_count": 40,
   "metadata": {},
   "outputs": [],
   "source": [
    "wpt = nltk.WordPunctTokenizer()\n",
    "stop_words = nltk.corpus.stopwords.words('english')"
   ]
  },
  {
   "cell_type": "code",
   "execution_count": 41,
   "metadata": {},
   "outputs": [],
   "source": [
    "def normalize_document(doc):\n",
    "    doc = re.sub(r'[^a-zA-Z0-9\\s]','',doc)\n",
    "    doc = doc.lower().strip()\n",
    "    \n",
    "    tokens = wpt.tokenize(doc)\n",
    "    \n",
    "    filtered_tokens = [token for token in tokens if token not in stop_words]\n",
    "    \n",
    "    doc = ' '.join(filtered_tokens)\n",
    "    \n",
    "    return doc"
   ]
  },
  {
   "cell_type": "code",
   "execution_count": 42,
   "metadata": {},
   "outputs": [
    {
     "data": {
      "text/plain": [
       "0    indonesian commodity exchange may expand indon...\n",
       "1    colombia business asked diversify coffee colom...\n",
       "2    coffee could drop 7080 cts cardenas says inter...\n",
       "3    colombia coffee registrations remain open colo...\n",
       "4    brazilian coffee rainfall following rainfall r...\n",
       "5    prices generally lower nairobi coffee auction ...\n",
       "6    colombia jan exports coffee values fall value ...\n",
       "7    exports coffee rise sharply colombia colombian...\n",
       "8    uganda pulls coffee market trade sources ugand...\n",
       "9    paton reports us green coffee roastings higher...\n",
       "Name: Document, dtype: object"
      ]
     },
     "execution_count": 42,
     "metadata": {},
     "output_type": "execute_result"
    }
   ],
   "source": [
    "norm_corpus = corpus_df['Document'].map(lambda doc: normalize_document(doc))\n",
    "norm_corpus"
   ]
  },
  {
   "cell_type": "code",
   "execution_count": 44,
   "metadata": {},
   "outputs": [
    {
     "data": {
      "text/html": [
       "<div>\n",
       "<style scoped>\n",
       "    .dataframe tbody tr th:only-of-type {\n",
       "        vertical-align: middle;\n",
       "    }\n",
       "\n",
       "    .dataframe tbody tr th {\n",
       "        vertical-align: top;\n",
       "    }\n",
       "\n",
       "    .dataframe thead th {\n",
       "        text-align: right;\n",
       "    }\n",
       "</style>\n",
       "<table border=\"1\" class=\"dataframe\">\n",
       "  <thead>\n",
       "    <tr style=\"text-align: right;\">\n",
       "      <th></th>\n",
       "      <th>100</th>\n",
       "      <th>10790</th>\n",
       "      <th>11895</th>\n",
       "      <th>12664</th>\n",
       "      <th>13</th>\n",
       "      <th>1322804</th>\n",
       "      <th>1375</th>\n",
       "      <th>139860</th>\n",
       "      <th>14</th>\n",
       "      <th>140950</th>\n",
       "      <th>...</th>\n",
       "      <th>weeks</th>\n",
       "      <th>without</th>\n",
       "      <th>worlds</th>\n",
       "      <th>worth</th>\n",
       "      <th>would</th>\n",
       "      <th>year</th>\n",
       "      <th>years</th>\n",
       "      <th>yohai</th>\n",
       "      <th>york</th>\n",
       "      <th>yoweri</th>\n",
       "    </tr>\n",
       "  </thead>\n",
       "  <tbody>\n",
       "    <tr>\n",
       "      <td>0</td>\n",
       "      <td>0.000</td>\n",
       "      <td>0.000</td>\n",
       "      <td>0.000</td>\n",
       "      <td>0.000</td>\n",
       "      <td>0.000</td>\n",
       "      <td>0.000</td>\n",
       "      <td>0.000</td>\n",
       "      <td>0.000</td>\n",
       "      <td>0.000</td>\n",
       "      <td>0.000</td>\n",
       "      <td>...</td>\n",
       "      <td>0.000</td>\n",
       "      <td>0.000</td>\n",
       "      <td>0.041</td>\n",
       "      <td>0.041</td>\n",
       "      <td>0.069</td>\n",
       "      <td>0.000</td>\n",
       "      <td>0.000</td>\n",
       "      <td>0.000</td>\n",
       "      <td>0.000</td>\n",
       "      <td>0.000</td>\n",
       "    </tr>\n",
       "    <tr>\n",
       "      <td>1</td>\n",
       "      <td>0.000</td>\n",
       "      <td>0.000</td>\n",
       "      <td>0.000</td>\n",
       "      <td>0.000</td>\n",
       "      <td>0.000</td>\n",
       "      <td>0.000</td>\n",
       "      <td>0.000</td>\n",
       "      <td>0.000</td>\n",
       "      <td>0.000</td>\n",
       "      <td>0.000</td>\n",
       "      <td>...</td>\n",
       "      <td>0.000</td>\n",
       "      <td>0.000</td>\n",
       "      <td>0.000</td>\n",
       "      <td>0.000</td>\n",
       "      <td>0.000</td>\n",
       "      <td>0.000</td>\n",
       "      <td>0.000</td>\n",
       "      <td>0.141</td>\n",
       "      <td>0.000</td>\n",
       "      <td>0.000</td>\n",
       "    </tr>\n",
       "    <tr>\n",
       "      <td>2</td>\n",
       "      <td>0.000</td>\n",
       "      <td>0.135</td>\n",
       "      <td>0.000</td>\n",
       "      <td>0.000</td>\n",
       "      <td>0.000</td>\n",
       "      <td>0.000</td>\n",
       "      <td>0.000</td>\n",
       "      <td>0.000</td>\n",
       "      <td>0.000</td>\n",
       "      <td>0.000</td>\n",
       "      <td>...</td>\n",
       "      <td>0.000</td>\n",
       "      <td>0.000</td>\n",
       "      <td>0.000</td>\n",
       "      <td>0.000</td>\n",
       "      <td>0.000</td>\n",
       "      <td>0.000</td>\n",
       "      <td>0.000</td>\n",
       "      <td>0.000</td>\n",
       "      <td>0.135</td>\n",
       "      <td>0.000</td>\n",
       "    </tr>\n",
       "    <tr>\n",
       "      <td>3</td>\n",
       "      <td>0.000</td>\n",
       "      <td>0.000</td>\n",
       "      <td>0.000</td>\n",
       "      <td>0.000</td>\n",
       "      <td>0.081</td>\n",
       "      <td>0.081</td>\n",
       "      <td>0.000</td>\n",
       "      <td>0.000</td>\n",
       "      <td>0.000</td>\n",
       "      <td>0.000</td>\n",
       "      <td>...</td>\n",
       "      <td>0.000</td>\n",
       "      <td>0.081</td>\n",
       "      <td>0.000</td>\n",
       "      <td>0.000</td>\n",
       "      <td>0.207</td>\n",
       "      <td>0.043</td>\n",
       "      <td>0.081</td>\n",
       "      <td>0.000</td>\n",
       "      <td>0.000</td>\n",
       "      <td>0.000</td>\n",
       "    </tr>\n",
       "    <tr>\n",
       "      <td>4</td>\n",
       "      <td>0.000</td>\n",
       "      <td>0.000</td>\n",
       "      <td>0.000</td>\n",
       "      <td>0.000</td>\n",
       "      <td>0.000</td>\n",
       "      <td>0.000</td>\n",
       "      <td>0.000</td>\n",
       "      <td>0.000</td>\n",
       "      <td>0.000</td>\n",
       "      <td>0.000</td>\n",
       "      <td>...</td>\n",
       "      <td>0.000</td>\n",
       "      <td>0.000</td>\n",
       "      <td>0.000</td>\n",
       "      <td>0.000</td>\n",
       "      <td>0.000</td>\n",
       "      <td>0.000</td>\n",
       "      <td>0.000</td>\n",
       "      <td>0.000</td>\n",
       "      <td>0.000</td>\n",
       "      <td>0.000</td>\n",
       "    </tr>\n",
       "    <tr>\n",
       "      <td>5</td>\n",
       "      <td>0.000</td>\n",
       "      <td>0.000</td>\n",
       "      <td>0.083</td>\n",
       "      <td>0.083</td>\n",
       "      <td>0.000</td>\n",
       "      <td>0.000</td>\n",
       "      <td>0.166</td>\n",
       "      <td>0.083</td>\n",
       "      <td>0.083</td>\n",
       "      <td>0.083</td>\n",
       "      <td>...</td>\n",
       "      <td>0.083</td>\n",
       "      <td>0.000</td>\n",
       "      <td>0.000</td>\n",
       "      <td>0.000</td>\n",
       "      <td>0.000</td>\n",
       "      <td>0.045</td>\n",
       "      <td>0.000</td>\n",
       "      <td>0.000</td>\n",
       "      <td>0.000</td>\n",
       "      <td>0.000</td>\n",
       "    </tr>\n",
       "    <tr>\n",
       "      <td>6</td>\n",
       "      <td>0.000</td>\n",
       "      <td>0.000</td>\n",
       "      <td>0.000</td>\n",
       "      <td>0.000</td>\n",
       "      <td>0.000</td>\n",
       "      <td>0.000</td>\n",
       "      <td>0.000</td>\n",
       "      <td>0.000</td>\n",
       "      <td>0.000</td>\n",
       "      <td>0.000</td>\n",
       "      <td>...</td>\n",
       "      <td>0.000</td>\n",
       "      <td>0.000</td>\n",
       "      <td>0.000</td>\n",
       "      <td>0.000</td>\n",
       "      <td>0.000</td>\n",
       "      <td>0.134</td>\n",
       "      <td>0.000</td>\n",
       "      <td>0.000</td>\n",
       "      <td>0.000</td>\n",
       "      <td>0.000</td>\n",
       "    </tr>\n",
       "    <tr>\n",
       "      <td>7</td>\n",
       "      <td>0.000</td>\n",
       "      <td>0.000</td>\n",
       "      <td>0.000</td>\n",
       "      <td>0.000</td>\n",
       "      <td>0.000</td>\n",
       "      <td>0.000</td>\n",
       "      <td>0.000</td>\n",
       "      <td>0.000</td>\n",
       "      <td>0.000</td>\n",
       "      <td>0.000</td>\n",
       "      <td>...</td>\n",
       "      <td>0.000</td>\n",
       "      <td>0.000</td>\n",
       "      <td>0.000</td>\n",
       "      <td>0.000</td>\n",
       "      <td>0.000</td>\n",
       "      <td>0.139</td>\n",
       "      <td>0.000</td>\n",
       "      <td>0.000</td>\n",
       "      <td>0.000</td>\n",
       "      <td>0.000</td>\n",
       "    </tr>\n",
       "    <tr>\n",
       "      <td>8</td>\n",
       "      <td>0.068</td>\n",
       "      <td>0.000</td>\n",
       "      <td>0.000</td>\n",
       "      <td>0.000</td>\n",
       "      <td>0.000</td>\n",
       "      <td>0.000</td>\n",
       "      <td>0.000</td>\n",
       "      <td>0.000</td>\n",
       "      <td>0.000</td>\n",
       "      <td>0.000</td>\n",
       "      <td>...</td>\n",
       "      <td>0.000</td>\n",
       "      <td>0.000</td>\n",
       "      <td>0.000</td>\n",
       "      <td>0.000</td>\n",
       "      <td>0.000</td>\n",
       "      <td>0.073</td>\n",
       "      <td>0.000</td>\n",
       "      <td>0.000</td>\n",
       "      <td>0.000</td>\n",
       "      <td>0.068</td>\n",
       "    </tr>\n",
       "    <tr>\n",
       "      <td>9</td>\n",
       "      <td>0.000</td>\n",
       "      <td>0.000</td>\n",
       "      <td>0.000</td>\n",
       "      <td>0.000</td>\n",
       "      <td>0.000</td>\n",
       "      <td>0.000</td>\n",
       "      <td>0.000</td>\n",
       "      <td>0.000</td>\n",
       "      <td>0.000</td>\n",
       "      <td>0.000</td>\n",
       "      <td>...</td>\n",
       "      <td>0.000</td>\n",
       "      <td>0.000</td>\n",
       "      <td>0.000</td>\n",
       "      <td>0.000</td>\n",
       "      <td>0.000</td>\n",
       "      <td>0.132</td>\n",
       "      <td>0.000</td>\n",
       "      <td>0.000</td>\n",
       "      <td>0.000</td>\n",
       "      <td>0.000</td>\n",
       "    </tr>\n",
       "  </tbody>\n",
       "</table>\n",
       "<p>10 rows × 533 columns</p>\n",
       "</div>"
      ],
      "text/plain": [
       "     100  10790  11895  12664     13  1322804   1375  139860     14  140950  \\\n",
       "0  0.000  0.000  0.000  0.000  0.000    0.000  0.000   0.000  0.000   0.000   \n",
       "1  0.000  0.000  0.000  0.000  0.000    0.000  0.000   0.000  0.000   0.000   \n",
       "2  0.000  0.135  0.000  0.000  0.000    0.000  0.000   0.000  0.000   0.000   \n",
       "3  0.000  0.000  0.000  0.000  0.081    0.081  0.000   0.000  0.000   0.000   \n",
       "4  0.000  0.000  0.000  0.000  0.000    0.000  0.000   0.000  0.000   0.000   \n",
       "5  0.000  0.000  0.083  0.083  0.000    0.000  0.166   0.083  0.083   0.083   \n",
       "6  0.000  0.000  0.000  0.000  0.000    0.000  0.000   0.000  0.000   0.000   \n",
       "7  0.000  0.000  0.000  0.000  0.000    0.000  0.000   0.000  0.000   0.000   \n",
       "8  0.068  0.000  0.000  0.000  0.000    0.000  0.000   0.000  0.000   0.000   \n",
       "9  0.000  0.000  0.000  0.000  0.000    0.000  0.000   0.000  0.000   0.000   \n",
       "\n",
       "   ...  weeks  without  worlds  worth  would   year  years  yohai   york  \\\n",
       "0  ...  0.000    0.000   0.041  0.041  0.069  0.000  0.000  0.000  0.000   \n",
       "1  ...  0.000    0.000   0.000  0.000  0.000  0.000  0.000  0.141  0.000   \n",
       "2  ...  0.000    0.000   0.000  0.000  0.000  0.000  0.000  0.000  0.135   \n",
       "3  ...  0.000    0.081   0.000  0.000  0.207  0.043  0.081  0.000  0.000   \n",
       "4  ...  0.000    0.000   0.000  0.000  0.000  0.000  0.000  0.000  0.000   \n",
       "5  ...  0.083    0.000   0.000  0.000  0.000  0.045  0.000  0.000  0.000   \n",
       "6  ...  0.000    0.000   0.000  0.000  0.000  0.134  0.000  0.000  0.000   \n",
       "7  ...  0.000    0.000   0.000  0.000  0.000  0.139  0.000  0.000  0.000   \n",
       "8  ...  0.000    0.000   0.000  0.000  0.000  0.073  0.000  0.000  0.000   \n",
       "9  ...  0.000    0.000   0.000  0.000  0.000  0.132  0.000  0.000  0.000   \n",
       "\n",
       "   yoweri  \n",
       "0   0.000  \n",
       "1   0.000  \n",
       "2   0.000  \n",
       "3   0.000  \n",
       "4   0.000  \n",
       "5   0.000  \n",
       "6   0.000  \n",
       "7   0.000  \n",
       "8   0.068  \n",
       "9   0.000  \n",
       "\n",
       "[10 rows x 533 columns]"
      ]
     },
     "execution_count": 44,
     "metadata": {},
     "output_type": "execute_result"
    }
   ],
   "source": [
    "tv_matrix = tv.fit_transform(norm_corpus)\n",
    "vocab = tv.get_feature_names()\n",
    "df = pd.DataFrame(np.round(tv_matrix.toarray(),3),columns=vocab)\n",
    "df"
   ]
  },
  {
   "cell_type": "code",
   "execution_count": 65,
   "metadata": {},
   "outputs": [
    {
     "data": {
      "text/plain": [
       "exchange    0.531\n",
       "rubber      0.327\n",
       "trading     0.327\n",
       "Name: 0, dtype: float64"
      ]
     },
     "execution_count": 65,
     "metadata": {},
     "output_type": "execute_result"
    }
   ],
   "source": [
    "df.iloc[0].nlargest(3)"
   ]
  },
  {
   "cell_type": "code",
   "execution_count": null,
   "metadata": {},
   "outputs": [],
   "source": []
  }
 ],
 "metadata": {
  "kernelspec": {
   "display_name": "Python 3",
   "language": "python",
   "name": "python3"
  },
  "language_info": {
   "codemirror_mode": {
    "name": "ipython",
    "version": 3
   },
   "file_extension": ".py",
   "mimetype": "text/x-python",
   "name": "python",
   "nbconvert_exporter": "python",
   "pygments_lexer": "ipython3",
   "version": "3.7.4"
  }
 },
 "nbformat": 4,
 "nbformat_minor": 2
}
