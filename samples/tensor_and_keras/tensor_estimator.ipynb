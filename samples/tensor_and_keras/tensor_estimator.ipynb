{
 "cells": [
  {
   "cell_type": "code",
   "execution_count": 36,
   "metadata": {},
   "outputs": [],
   "source": [
    "from sklearn.preprocessing import StandardScaler\n",
    "from sklearn.datasets import fetch_california_housing\n",
    "import tensorflow.compat.v1 as tf\n",
    "import numpy as np\n",
    "tf.disable_eager_execution()\n",
    "\n",
    "from sklearn.datasets import make_moons\n",
    "from sklearn.datasets import load_digits\n",
    "from sklearn.model_selection import train_test_split\n",
    "from sklearn.metrics import accuracy_score\n",
    "import pandas as pd"
   ]
  },
  {
   "cell_type": "code",
   "execution_count": 64,
   "metadata": {},
   "outputs": [
    {
     "name": "stdout",
     "output_type": "stream",
     "text": [
      "     SepalLength  SepalWidth  PetalLength  PetalWidth\n",
      "0            6.4         2.8          5.6         2.2\n",
      "1            5.0         2.3          3.3         1.0\n",
      "2            4.9         2.5          4.5         1.7\n",
      "3            4.9         3.1          1.5         0.1\n",
      "4            5.7         3.8          1.7         0.3\n",
      "..           ...         ...          ...         ...\n",
      "115          5.5         2.6          4.4         1.2\n",
      "116          5.7         3.0          4.2         1.2\n",
      "117          4.4         2.9          1.4         0.2\n",
      "118          4.8         3.0          1.4         0.1\n",
      "119          5.5         2.4          3.7         1.0\n",
      "\n",
      "[120 rows x 4 columns]\n"
     ]
    }
   ],
   "source": [
    "# create input function\n",
    "TRAIN_URL = \"http://download.tensorflow.org/data/iris_training.csv\"\n",
    "TEST_URL = \"http://download.tensorflow.org/data/iris_test.csv\"\n",
    "CSV_COLUMN_NAMES = ['SepalLength','SepalWidth',\n",
    "                   'PetalLength','PetalWidth','Species']\n",
    "SPECIES = ['Setosa','Versocolor','Virginica']\n",
    "\n",
    "def load_data():\n",
    "    train_path = tf.keras.utils.get_file(TRAIN_URL.split('/')[-1],TRAIN_URL)\n",
    "    test_path = tf.keras.utils.get_file(TEST_URL.split('/')[-1],TEST_URL)\n",
    "    \n",
    "    train = pd.read_csv(train_path,names=CSV_COLUMN_NAMES,header=0)\n",
    "    X_train, y_train = train,train.pop('Species')\n",
    "    \n",
    "    test = pd.read_csv(test_path,names=CSV_COLUMN_NAMES,header=0)\n",
    "    X_test, y_test = test,test.pop('Species')\n",
    "    \n",
    "    return (X_train,y_train), (X_test,y_test)\n",
    "\n",
    "(X_train,y_train), (X_test,y_test) = load_data()\n",
    "print (X_train)"
   ]
  },
  {
   "cell_type": "code",
   "execution_count": 65,
   "metadata": {},
   "outputs": [],
   "source": [
    "def train_input_fn(features,labels,batch_size):\n",
    "    dataset = tf.data.Dataset.from_tensor_slices((dict(features),labels))\n",
    "    return dataset.shuffle(1000,seed=42).repeat().batch(batch_size)\n",
    "\n"
   ]
  },
  {
   "cell_type": "code",
   "execution_count": 66,
   "metadata": {},
   "outputs": [],
   "source": [
    "def eval_input_fn(features,labels,batch_size):\n",
    "    features = dict(features)\n",
    "    if labels is None:\n",
    "        inputs = features\n",
    "    else:\n",
    "        inputs = (features,labels)\n",
    "    \n",
    "    dataset = tf.data.Dataset.from_tensor_slices(inputs)\n",
    "    \n",
    "    return dataset.batch(batch_size)\n",
    "    "
   ]
  },
  {
   "cell_type": "code",
   "execution_count": 67,
   "metadata": {},
   "outputs": [
    {
     "data": {
      "text/plain": [
       "[NumericColumn(key='SepalLength', shape=(1,), default_value=None, dtype=tf.float32, normalizer_fn=None),\n",
       " NumericColumn(key='SepalWidth', shape=(1,), default_value=None, dtype=tf.float32, normalizer_fn=None),\n",
       " NumericColumn(key='PetalLength', shape=(1,), default_value=None, dtype=tf.float32, normalizer_fn=None),\n",
       " NumericColumn(key='PetalWidth', shape=(1,), default_value=None, dtype=tf.float32, normalizer_fn=None)]"
      ]
     },
     "execution_count": 67,
     "metadata": {},
     "output_type": "execute_result"
    }
   ],
   "source": [
    "feature_columns = []\n",
    "for key in X_train.columns:\n",
    "    feature_columns.append(tf.feature_column.numeric_column(key=key))\n",
    "\n",
    "feature_columns\n"
   ]
  },
  {
   "cell_type": "code",
   "execution_count": 68,
   "metadata": {
    "scrolled": true
   },
   "outputs": [
    {
     "name": "stdout",
     "output_type": "stream",
     "text": [
      "WARNING:tensorflow:Using temporary folder as model directory: C:\\Users\\user\\AppData\\Local\\Temp\\tmpu8m1qx36\n",
      "INFO:tensorflow:Using config: {'_model_dir': 'C:\\\\Users\\\\user\\\\AppData\\\\Local\\\\Temp\\\\tmpu8m1qx36', '_tf_random_seed': 42, '_save_summary_steps': 100, '_save_checkpoints_steps': None, '_save_checkpoints_secs': 600, '_session_config': allow_soft_placement: true\n",
      "graph_options {\n",
      "  rewrite_options {\n",
      "    meta_optimizer_iterations: ONE\n",
      "  }\n",
      "}\n",
      ", '_keep_checkpoint_max': 5, '_keep_checkpoint_every_n_hours': 10000, '_log_step_count_steps': 100, '_train_distribute': None, '_device_fn': None, '_protocol': None, '_eval_distribute': None, '_experimental_distribute': None, '_experimental_max_worker_delay_secs': None, '_session_creation_timeout_secs': 7200, '_service': None, '_cluster_spec': <tensorflow.python.training.server_lib.ClusterSpec object at 0x0000028445A5D448>, '_task_type': 'worker', '_task_id': 0, '_global_id_in_cluster': 0, '_master': '', '_evaluation_master': '', '_is_chief': True, '_num_ps_replicas': 0, '_num_worker_replicas': 1}\n",
      "INFO:tensorflow:Calling model_fn.\n",
      "WARNING:tensorflow:Layer dnn is casting an input tensor from dtype float64 to the layer's dtype of float32, which is new behavior in TensorFlow 2.  The layer has dtype float32 because it's dtype defaults to floatx.\n",
      "\n",
      "If you intended to run this layer in float32, you can safely ignore this warning. If in doubt, this warning is likely only an issue if you are porting a TensorFlow 1.X model to TensorFlow 2.\n",
      "\n",
      "To change all layers to have dtype float64 by default, call `tf.keras.backend.set_floatx('float64')`. To change just this layer, pass dtype='float64' to the layer constructor. If you are the author of this layer, you can disable autocasting by passing autocast=False to the base Layer constructor.\n",
      "\n",
      "INFO:tensorflow:Done calling model_fn.\n",
      "INFO:tensorflow:Create CheckpointSaverHook.\n",
      "INFO:tensorflow:Graph was finalized.\n",
      "INFO:tensorflow:Running local_init_op.\n",
      "INFO:tensorflow:Done running local_init_op.\n",
      "INFO:tensorflow:Saving checkpoints for 0 into C:\\Users\\user\\AppData\\Local\\Temp\\tmpu8m1qx36\\model.ckpt.\n",
      "INFO:tensorflow:loss = 205.27269, step = 0\n",
      "INFO:tensorflow:global_step/sec: 496.337\n",
      "INFO:tensorflow:loss = 22.863594, step = 100 (0.202 sec)\n",
      "INFO:tensorflow:global_step/sec: 946.05\n",
      "INFO:tensorflow:loss = 10.547917, step = 200 (0.107 sec)\n",
      "INFO:tensorflow:global_step/sec: 928.116\n",
      "INFO:tensorflow:loss = 8.796019, step = 300 (0.107 sec)\n",
      "INFO:tensorflow:global_step/sec: 1022.67\n",
      "INFO:tensorflow:loss = 8.56163, step = 400 (0.098 sec)\n",
      "INFO:tensorflow:global_step/sec: 1022.88\n",
      "INFO:tensorflow:loss = 9.440876, step = 500 (0.098 sec)\n",
      "INFO:tensorflow:global_step/sec: 895.18\n",
      "INFO:tensorflow:loss = 6.691152, step = 600 (0.113 sec)\n",
      "INFO:tensorflow:global_step/sec: 973.78\n",
      "INFO:tensorflow:loss = 4.4644885, step = 700 (0.102 sec)\n",
      "INFO:tensorflow:global_step/sec: 1023.14\n",
      "INFO:tensorflow:loss = 7.984378, step = 800 (0.098 sec)\n",
      "INFO:tensorflow:global_step/sec: 945.92\n",
      "INFO:tensorflow:loss = 5.8827105, step = 900 (0.106 sec)\n",
      "INFO:tensorflow:Saving checkpoints for 1000 into C:\\Users\\user\\AppData\\Local\\Temp\\tmpu8m1qx36\\model.ckpt.\n",
      "INFO:tensorflow:Loss for final step: 9.484947.\n",
      "INFO:tensorflow:Calling model_fn.\n",
      "WARNING:tensorflow:Layer dnn is casting an input tensor from dtype float64 to the layer's dtype of float32, which is new behavior in TensorFlow 2.  The layer has dtype float32 because it's dtype defaults to floatx.\n",
      "\n",
      "If you intended to run this layer in float32, you can safely ignore this warning. If in doubt, this warning is likely only an issue if you are porting a TensorFlow 1.X model to TensorFlow 2.\n",
      "\n",
      "To change all layers to have dtype float64 by default, call `tf.keras.backend.set_floatx('float64')`. To change just this layer, pass dtype='float64' to the layer constructor. If you are the author of this layer, you can disable autocasting by passing autocast=False to the base Layer constructor.\n",
      "\n",
      "INFO:tensorflow:Done calling model_fn.\n",
      "INFO:tensorflow:Starting evaluation at 2020-02-06T16:30:06Z\n",
      "INFO:tensorflow:Graph was finalized.\n",
      "INFO:tensorflow:Restoring parameters from C:\\Users\\user\\AppData\\Local\\Temp\\tmpu8m1qx36\\model.ckpt-1000\n",
      "INFO:tensorflow:Running local_init_op.\n",
      "INFO:tensorflow:Done running local_init_op.\n",
      "INFO:tensorflow:Finished evaluation at 2020-02-06-16:30:07\n",
      "INFO:tensorflow:Saving dict for global step 1000: accuracy = 0.96666664, average_loss = 0.0627212, global_step = 1000, loss = 1.881636\n",
      "INFO:tensorflow:Saving 'checkpoint_path' summary for global step 1000: C:\\Users\\user\\AppData\\Local\\Temp\\tmpu8m1qx36\\model.ckpt-1000\n",
      "eval_result {'accuracy': 0.96666664, 'average_loss': 0.0627212, 'loss': 1.881636, 'global_step': 1000}\n",
      "eval_result 0.96666664\n"
     ]
    }
   ],
   "source": [
    "config = tf.estimator.RunConfig(tf_random_seed=42)\n",
    "\n",
    "classifier = tf.estimator.DNNClassifier(feature_columns=feature_columns,\n",
    "                                       hidden_units=[10,10],\n",
    "                                       n_classes=3,\n",
    "                                       config=config)\n",
    "\n",
    "batch_size = 100\n",
    "train_step = 1000\n",
    "\n",
    "classifier.train(\n",
    "    input_fn=lambda:train_input_fn(X_train,y_train,batch_size),\n",
    "    steps=train_step)\n",
    "\n",
    "\n",
    "eval_result = classifier.evaluate(\n",
    "    input_fn=lambda:eval_input_fn(X_test,y_test,batch_size))\n",
    "\n",
    "print('eval_result',eval_result)\n",
    "print('eval_result',eval_result['accuracy'])\n",
    "\n"
   ]
  },
  {
   "cell_type": "code",
   "execution_count": 72,
   "metadata": {},
   "outputs": [
    {
     "name": "stdout",
     "output_type": "stream",
     "text": [
      "INFO:tensorflow:Calling model_fn.\n",
      "INFO:tensorflow:Done calling model_fn.\n"
     ]
    },
    {
     "name": "stderr",
     "output_type": "stream",
     "text": [
      "Exception ignored in: <generator object Estimator.predict at 0x000002844878D6C8>\n",
      "Traceback (most recent call last):\n",
      "  File \"C:\\Users\\user\\Anaconda3\\lib\\site-packages\\tensorflow_estimator\\python\\estimator\\estimator.py\", line 650, in predict\n",
      "    for key, value in six.iteritems(preds_evaluated)\n",
      "  File \"C:\\Users\\user\\Anaconda3\\lib\\contextlib.py\", line 130, in __exit__\n",
      "    self.gen.throw(type, value, traceback)\n",
      "  File \"C:\\Users\\user\\Anaconda3\\lib\\site-packages\\tensorflow_core\\python\\framework\\ops.py\", line 5483, in get_controller\n",
      "    yield g\n",
      "  File \"C:\\Users\\user\\Anaconda3\\lib\\contextlib.py\", line 130, in __exit__\n",
      "    self.gen.throw(type, value, traceback)\n",
      "  File \"C:\\Users\\user\\Anaconda3\\lib\\site-packages\\tensorflow_core\\python\\framework\\ops.py\", line 5298, in get_controller\n",
      "    type(default))\n",
      "AssertionError: Nesting violated for default stack of <class 'tensorflow.python.framework.ops.Graph'> objects\n"
     ]
    },
    {
     "name": "stdout",
     "output_type": "stream",
     "text": [
      "INFO:tensorflow:Graph was finalized.\n",
      "INFO:tensorflow:Restoring parameters from C:\\Users\\user\\AppData\\Local\\Temp\\tmpu8m1qx36\\model.ckpt-1000\n",
      "INFO:tensorflow:Running local_init_op.\n",
      "INFO:tensorflow:Done running local_init_op.\n",
      "Prediction is \"Setosa\" (99.8%), expected \"Setosa\"\n",
      "Prediction is \"Versocolor\" (99.8%), expected \"Versocolor\"\n",
      "Prediction is \"Virginica\" (92.2%), expected \"Virginica\"\n"
     ]
    }
   ],
   "source": [
    "\n",
    "X_pred = {'SepalLength': [5.1,5.9,6.9],\n",
    "          'SepalWidth': [3.3,3.0,3.1],\n",
    "          'PetalLength': [1.7,4.2,5.4],\n",
    "          'PetalWidth': [0.5,1.5,2.1]}\n",
    "\n",
    "expected = ['Setosa','Versocolor','Virginica']\n",
    "predictions = classifier.predict(\n",
    "    input_fn=lambda:eval_input_fn(X_pred,\n",
    "                                 labels = None,\n",
    "                                 batch_size = batch_size))\n",
    "\n",
    "template = ( 'Prediction is \"{}\" ({:.1f}%), expected \"{}\"')\n",
    "            \n",
    "for pred_dict,label in zip(predictions,expected):\n",
    "    class_id = pred_dict['class_ids'][0]\n",
    "    prob = pred_dict['probabilities'][class_id]\n",
    "    \n",
    "    print(template.format(SPECIES[class_id],\n",
    "                         100 * prob , label))\n"
   ]
  },
  {
   "cell_type": "markdown",
   "metadata": {},
   "source": [
    "## What does batch, repeat, and shuffle do with TensorFlow Dataset\n",
    "dataset.shuffle(buffer_size=3) will allocate a buffer of size 3 for picking random entries. This buffer will be connected to the source dataset. We could image it like this:\n",
    "Let's assume that the entry 2 was taken from the random buffer. Free space is filled by the next element from the source buffer, that is 4:\n",
    "We continue reading till nothing is left:\n",
    "\n",
    "[1,2,3] <= [4,5,6]\n",
    "\n",
    "2 <= [1,3,4] <= [5,6]\n",
    "\n",
    "1 <= [3,4,5] <= [6]\n",
    "\n",
    "5 <= [3,4,6] <= []\n",
    "\n",
    "3 <= [4,6]   <= []\n",
    "\n",
    "6 <= [4]      <= []\n",
    "\n",
    "4 <= []      <= []\n",
    "\n",
    "As soon as all the entries are read from the dataset and you try to read the next element, the dataset will throw an error. That's where ds.repeat() comes into play. It will re-initialize the dataset, making it again like this:\n",
    "\n",
    "[1,2,3] <= [4,5,6]\n",
    "\n",
    "What will ds.batch() produce\n",
    "\n",
    "The ds.batch() will take first batch_size entries and make a batch out of them. So, batch size of 3 for our example dataset will produce two batch records:\n",
    "\n",
    "[2,1,5]\n",
    "[3,6,4]"
   ]
  },
  {
   "cell_type": "markdown",
   "metadata": {},
   "source": []
  },
  {
   "cell_type": "code",
   "execution_count": null,
   "metadata": {},
   "outputs": [],
   "source": []
  }
 ],
 "metadata": {
  "kernelspec": {
   "display_name": "Python 3",
   "language": "python",
   "name": "python3"
  },
  "language_info": {
   "codemirror_mode": {
    "name": "ipython",
    "version": 3
   },
   "file_extension": ".py",
   "mimetype": "text/x-python",
   "name": "python",
   "nbconvert_exporter": "python",
   "pygments_lexer": "ipython3",
   "version": "3.7.4"
  }
 },
 "nbformat": 4,
 "nbformat_minor": 2
}
