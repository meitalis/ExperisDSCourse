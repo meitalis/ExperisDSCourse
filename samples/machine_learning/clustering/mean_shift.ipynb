{
 "cells": [
  {
   "cell_type": "code",
   "execution_count": 39,
   "metadata": {},
   "outputs": [],
   "source": [
    "import numpy as np\n",
    "import pandas as pd\n",
    "import matplotlib.pyplot as plt\n",
    "from sklearn import datasets\n",
    "from sklearn.base import BaseEstimator\n",
    "from sklearn.model_selection import train_test_split\n",
    "from scipy.io import loadmat\n",
    "from sklearn.model_selection import  StratifiedShuffleSplit,GridSearchCV\n",
    "from sklearn.preprocessing import StandardScaler\n",
    "from sklearn.cluster import KMeans\n",
    "from sklearn.cluster import AgglomerativeClustering\n",
    "from sklearn.metrics import accuracy_score,confusion_matrix\n",
    "from sklearn.model_selection import StratifiedKFold\n",
    "\n",
    "import matplotlib as mpl\n",
    "from sklearn.mixture import GaussianMixture"
   ]
  },
  {
   "cell_type": "code",
   "execution_count": 4,
   "metadata": {},
   "outputs": [],
   "source": [
    "iris = datasets.load_iris()\n",
    "X = iris.data[:, :2]\n",
    "y = iris.target\n"
   ]
  },
  {
   "cell_type": "code",
   "execution_count": 133,
   "metadata": {},
   "outputs": [],
   "source": [
    "X = np.array([[1, 2],\n",
    "              [1.5, 1.8],\n",
    "              [5, 8 ],\n",
    "              [8, 8],\n",
    "              [1, 0.6],\n",
    "              [9,11],\n",
    "              [8,2],\n",
    "              [10,2],\n",
    "              [9,3],])\n",
    "\n",
    "# plt.scatter(X[:,0], X[:,1], s=150)\n",
    "# plt.show()\n",
    "\n",
    "colors = 10*[\"g\",\"r\",\"c\",\"b\",\"k\"]\n",
    "#print(colors)\n",
    "\n",
    "class Mean_Shift:\n",
    "    def __init__(self, tol=0.001,radius=4):\n",
    "        self.radius = radius\n",
    "        self.tol = tol\n",
    "\n",
    "    def fit(self, data):\n",
    "        \n",
    "        new_centroids = []\n",
    "        new_points_centroids = {}\n",
    "        current_centroid = [0,0]\n",
    "        \n",
    "        for current_point in data:\n",
    "            in_radius = []\n",
    "            centroid_tol = self.tol + 1\n",
    "            \n",
    "            while centroid_tol > self.tol:\n",
    "                for point in data:\n",
    "                    dist = self.euclid_distance(point,current_centroid)\n",
    "                    if  dist < self.radius:\n",
    "                        in_radius.append(point)\n",
    "\n",
    "                new_centroid = np.average(in_radius,axis=0)\n",
    "                centroid_tol = self.euclid_distance(new_centroid,current_centroid)\n",
    "                if centroid_tol <= self.tol:\n",
    "                    if not any(list(map(lambda x: np.array_equal(x, new_centroid), new_centroids))):\n",
    "                        new_centroids.append(new_centroid)\n",
    "                else:\n",
    "                    current_centroid  = new_centroid\n",
    "            \n",
    "        print('new_centroids',new_centroids)\n",
    "          \n",
    "                \n",
    "      \n",
    "    def euclid_distance(self,x, xi):\n",
    "        return np.sqrt(np.sum((x - xi)**2))\n",
    "\n"
   ]
  },
  {
   "cell_type": "code",
   "execution_count": 134,
   "metadata": {},
   "outputs": [
    {
     "name": "stdout",
     "output_type": "stream",
     "text": [
      "new_centroids [array([1.16666667, 1.46666667])]\n"
     ]
    }
   ],
   "source": [
    "\n",
    "clf = Mean_Shift(tol = 0.01)\n",
    "clf.fit(X)\n",
    "\n",
    "# centroids = clf.centroids\n",
    "\n",
    "# plt.scatter(X[:,0], X[:,1], s=150)\n",
    "\n",
    "# for c in centroids:\n",
    "#     plt.scatter(centroids[c][0], centroids[c][1], color='k', marker='*', s=150)\n",
    "\n",
    "# plt.show()"
   ]
  },
  {
   "cell_type": "code",
   "execution_count": null,
   "metadata": {},
   "outputs": [],
   "source": []
  },
  {
   "cell_type": "code",
   "execution_count": null,
   "metadata": {},
   "outputs": [],
   "source": []
  }
 ],
 "metadata": {
  "kernelspec": {
   "display_name": "Python 3",
   "language": "python",
   "name": "python3"
  },
  "language_info": {
   "codemirror_mode": {
    "name": "ipython",
    "version": 3
   },
   "file_extension": ".py",
   "mimetype": "text/x-python",
   "name": "python",
   "nbconvert_exporter": "python",
   "pygments_lexer": "ipython3",
   "version": "3.7.4"
  }
 },
 "nbformat": 4,
 "nbformat_minor": 2
}
