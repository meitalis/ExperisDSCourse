{
 "cells": [
  {
   "cell_type": "code",
   "execution_count": 2,
   "metadata": {},
   "outputs": [],
   "source": [
    "from sklearn.base import BaseEstimator\n",
    "import numpy as np"
   ]
  },
  {
   "cell_type": "code",
   "execution_count": 4,
   "metadata": {},
   "outputs": [],
   "source": [
    "class Perceptron(BaseEstimator):\n",
    "    \"\"\"\n",
    "    eta: float \n",
    "        Learning eate (between 0.0 abd 1.0)\n",
    "    n_iter: int\n",
    "        Number if passes over the training set (epochs)\n",
    "    random_state int\n",
    "        random number generator seed for random weight initialization\n",
    "    \n",
    "    Attributes\n",
    "    ----------\n",
    "    w_: 1d-array\n",
    "        weights after fitting\n",
    "    \n",
    "    errors_ list\n",
    "        number of misclassification\n",
    "    \"\"\"\n",
    "    \n",
    "    def __init__(self,eta=0.01,n_iter=50,random_state=0):\n",
    "        self.eta = eta\n",
    "        self.n_iter = n_iter\n",
    "        self.random_state = random_state\n",
    "    \n",
    "    def fit(self,X,y):\n",
    "        \"\"\" \n",
    "        Parameters\n",
    "        ---------\n",
    "        X: array-like, shape = [n_samples,n_features]\n",
    "            training vector\n",
    "        y = array-like, shape = [n_samples]\n",
    "            target values\n",
    "        \"\"\"\n",
    "        \n",
    "        rng = np.random.RandomState(self.random_state)\n",
    "        self.w_ = rng.normal(loc=0.0,scale=0.01,size=X.shape[1] + 1)\n",
    "        \n",
    "        self.errors_ = []\n",
    "        \n",
    "        for i in range(self.n_iter):\n",
    "            errors  = 0\n",
    "            for x_i,target in zip(X,y):\n",
    "                update = self.eta * (target - self.predict(x_i))\n",
    "                self.w_[1:] += update * x_i\n",
    "                self.w_[0] += update # update the bias unit\n",
    "                errors += int(update !=0.0)\n",
    "            self.errors_.append(errors)\n",
    "            \n",
    "        return self\n",
    "    \n",
    "    def net_input(self,X):\n",
    "        \"\"\" calculate net input\n",
    "        \"\"\"\n",
    "        return np.dot(X,self.w[a:]) + self.w_[0]\n",
    "    \n",
    "    def predict(self,X):\n",
    "        \"\"\" Return class label\n",
    "        \"\"\"\n",
    "        if self.net_input(X) >= 0.0:\n",
    "            return 1\n",
    "        else:\n",
    "            return -1\n",
    "        \n",
    "    \n",
    "        "
   ]
  },
  {
   "cell_type": "code",
   "execution_count": null,
   "metadata": {},
   "outputs": [],
   "source": [
    "#continue to write iris example"
   ]
  }
 ],
 "metadata": {
  "kernelspec": {
   "display_name": "Python 3",
   "language": "python",
   "name": "python3"
  },
  "language_info": {
   "codemirror_mode": {
    "name": "ipython",
    "version": 3
   },
   "file_extension": ".py",
   "mimetype": "text/x-python",
   "name": "python",
   "nbconvert_exporter": "python",
   "pygments_lexer": "ipython3",
   "version": "3.6.4"
  }
 },
 "nbformat": 4,
 "nbformat_minor": 2
}
