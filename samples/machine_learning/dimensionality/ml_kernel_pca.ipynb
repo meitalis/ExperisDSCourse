{
 "cells": [
  {
   "cell_type": "code",
   "execution_count": null,
   "metadata": {},
   "outputs": [],
   "source": [
    "from sklearn.datasets import load_digits\n",
    "from sklearn.decomposition import KernelPCA\n",
    "from sklearn.model_selection import train_test_split\n",
    "\n",
    "X,y = load_digits(return_X_y=True)\n",
    "\n",
    "X_train,X_test,y_train ,y_test = train_test_split(X,y,test_size=0.2,random_state=42)\n",
    "#print(X.shape)\n",
    "\n",
    "transformer = KernelPCA(n_components=7, kernel='rbf')\n",
    "X_transformed = transformer.fit_transform(X_train[:101])\n",
    "#print(X_transformed.shape)\n",
    "print(X_transformed[100])\n",
    "\n",
    "print('*******')\n",
    "transformer_1 = KernelPCA(n_components=7, kernel='rbf')\n",
    "X_transformed_1 = transformer_1.fit_transform(X_train[:100])\n",
    "#print(X_transformed_1.shape)\n",
    "\n",
    "trans_101 = transformer_1.transform(X_train[100:101])\n",
    "print(trans_101)\n",
    "\n",
    "X_train[100]"
   ]
  },
  {
   "cell_type": "code",
   "execution_count": null,
   "metadata": {},
   "outputs": [],
   "source": []
  },
  {
   "cell_type": "code",
   "execution_count": 15,
   "metadata": {},
   "outputs": [],
   "source": [
    "\n",
    "from sklearn.metrics import mean_squared_error\n",
    "import numpy as np\n",
    "from sklearn.model_selection import GridSearchCV\n",
    "from sklearn.preprocessing import MinMaxScaler,StandardScaler\n",
    "from sklearn.datasets import load_digits\n",
    "from sklearn.decomposition import KernelPCA\n",
    "from sklearn.model_selection import train_test_split\n",
    "\n",
    "X,y = load_digits(return_X_y=True)\n",
    "\n",
    "scaler = StandardScaler()\n",
    "\n",
    "X_scaled = scaler.fit_transform(X)\n",
    "X_train,X_test,y_train ,y_test = train_test_split(X_scaled,y,test_size=0.2,random_state=42)\n",
    "\n"
   ]
  },
  {
   "cell_type": "code",
   "execution_count": 29,
   "metadata": {},
   "outputs": [
    {
     "name": "stdout",
     "output_type": "stream",
     "text": [
      "{'gamma': 0.0005, 'kernel': 'rbf'}\n",
      "-0.9788020293612666 {'gamma': 0.0001, 'kernel': 'rbf'}\n",
      "-0.9789714463853483 {'gamma': 0.0001, 'kernel': 'sigmoid'}\n",
      "-0.9787719765334542 {'gamma': 0.00010816326530612245, 'kernel': 'rbf'}\n",
      "-0.9789700909802073 {'gamma': 0.00010816326530612245, 'kernel': 'sigmoid'}\n",
      "-0.9787396110823566 {'gamma': 0.00011632653061224491, 'kernel': 'rbf'}\n",
      "-0.9789686290393291 {'gamma': 0.00011632653061224491, 'kernel': 'sigmoid'}\n",
      "-0.9787049403734545 {'gamma': 0.00012448979591836735, 'kernel': 'rbf'}\n",
      "-0.9789670605425987 {'gamma': 0.00012448979591836735, 'kernel': 'sigmoid'}\n",
      "-0.9786679720946175 {'gamma': 0.0001326530612244898, 'kernel': 'rbf'}\n",
      "-0.9789653854656127 {'gamma': 0.0001326530612244898, 'kernel': 'sigmoid'}\n",
      "-0.9786287142734075 {'gamma': 0.00014081632653061227, 'kernel': 'rbf'}\n",
      "-0.9789636037811735 {'gamma': 0.00014081632653061227, 'kernel': 'sigmoid'}\n",
      "-0.9785871752881282 {'gamma': 0.00014897959183673472, 'kernel': 'rbf'}\n",
      "-0.978961715460171 {'gamma': 0.00014897959183673472, 'kernel': 'sigmoid'}\n",
      "-0.9785433638745142 {'gamma': 0.00015714285714285716, 'kernel': 'rbf'}\n",
      "-0.978959720471817 {'gamma': 0.00015714285714285716, 'kernel': 'sigmoid'}\n",
      "-0.9784972891313388 {'gamma': 0.0001653061224489796, 'kernel': 'rbf'}\n",
      "-0.978957618783248 {'gamma': 0.0001653061224489796, 'kernel': 'sigmoid'}\n",
      "-0.9784489605299355 {'gamma': 0.00017346938775510205, 'kernel': 'rbf'}\n",
      "-0.9789554103584673 {'gamma': 0.00017346938775510205, 'kernel': 'sigmoid'}\n",
      "-0.9783983879348335 {'gamma': 0.0001816326530612245, 'kernel': 'rbf'}\n",
      "-0.9789530951564643 {'gamma': 0.0001816326530612245, 'kernel': 'sigmoid'}\n",
      "-0.9783455816456251 {'gamma': 0.00018979591836734694, 'kernel': 'rbf'}\n",
      "-0.978950673128158 {'gamma': 0.00018979591836734694, 'kernel': 'sigmoid'}\n",
      "-0.9782905524742229 {'gamma': 0.00019795918367346938, 'kernel': 'rbf'}\n",
      "-0.9789481442114958 {'gamma': 0.00019795918367346938, 'kernel': 'sigmoid'}\n",
      "-0.9782333118771873 {'gamma': 0.00020612244897959186, 'kernel': 'rbf'}\n",
      "-0.9789455083234332 {'gamma': 0.00020612244897959186, 'kernel': 'sigmoid'}\n",
      "-0.9781738721698188 {'gamma': 0.0002142857142857143, 'kernel': 'rbf'}\n",
      "-0.9789427653464171 {'gamma': 0.0002142857142857143, 'kernel': 'sigmoid'}\n",
      "-0.9781122468552742 {'gamma': 0.00022244897959183677, 'kernel': 'rbf'}\n",
      "-0.9789399151047236 {'gamma': 0.00022244897959183677, 'kernel': 'sigmoid'}\n",
      "-0.9780484511004217 {'gamma': 0.00023061224489795922, 'kernel': 'rbf'}\n",
      "-0.9789369573213048 {'gamma': 0.00023061224489795922, 'kernel': 'sigmoid'}\n",
      "-0.9779825023575888 {'gamma': 0.00023877551020408166, 'kernel': 'rbf'}\n",
      "-0.9789338915356607 {'gamma': 0.00023877551020408166, 'kernel': 'sigmoid'}\n",
      "-0.9779144210112799 {'gamma': 0.0002469387755102041, 'kernel': 'rbf'}\n",
      "-0.9789307169413809 {'gamma': 0.0002469387755102041, 'kernel': 'sigmoid'}\n",
      "-0.9778442306144527 {'gamma': 0.00025510204081632655, 'kernel': 'rbf'}\n",
      "-0.9789274320583753 {'gamma': 0.00025510204081632655, 'kernel': 'sigmoid'}\n",
      "-0.9777719566740912 {'gamma': 0.000263265306122449, 'kernel': 'rbf'}\n",
      "-0.9789240340999465 {'gamma': 0.000263265306122449, 'kernel': 'sigmoid'}\n",
      "-0.9776976223383874 {'gamma': 0.00027142857142857144, 'kernel': 'rbf'}\n",
      "-0.9789205180624481 {'gamma': 0.00027142857142857144, 'kernel': 'sigmoid'}\n",
      "-0.9776212401852334 {'gamma': 0.0002795918367346939, 'kernel': 'rbf'}\n",
      "-0.9789168772469291 {'gamma': 0.0002795918367346939, 'kernel': 'sigmoid'}\n",
      "-0.9775428037010844 {'gamma': 0.00028775510204081633, 'kernel': 'rbf'}\n",
      "-0.9789131110600708 {'gamma': 0.00028775510204081633, 'kernel': 'sigmoid'}\n",
      "-0.9774622872064445 {'gamma': 0.0002959183673469388, 'kernel': 'rbf'}\n",
      "-0.9789092350371739 {'gamma': 0.0002959183673469388, 'kernel': 'sigmoid'}\n",
      "-0.9773796585298979 {'gamma': 0.0003040816326530613, 'kernel': 'rbf'}\n",
      "-0.9789052652322859 {'gamma': 0.0003040816326530613, 'kernel': 'sigmoid'}\n",
      "-0.9772948950022999 {'gamma': 0.0003122448979591837, 'kernel': 'rbf'}\n",
      "-0.9789012025103423 {'gamma': 0.0003122448979591837, 'kernel': 'sigmoid'}\n",
      "-0.9772079903361615 {'gamma': 0.00032040816326530617, 'kernel': 'rbf'}\n",
      "-0.9788970417013543 {'gamma': 0.00032040816326530617, 'kernel': 'sigmoid'}\n",
      "-0.9771189515446821 {'gamma': 0.0003285714285714286, 'kernel': 'rbf'}\n",
      "-0.9788927788301847 {'gamma': 0.0003285714285714286, 'kernel': 'sigmoid'}\n",
      "-0.9770277926597077 {'gamma': 0.00033673469387755106, 'kernel': 'rbf'}\n",
      "-0.978888411713243 {'gamma': 0.00033673469387755106, 'kernel': 'sigmoid'}\n",
      "-0.9769345299535579 {'gamma': 0.0003448979591836735, 'kernel': 'rbf'}\n",
      "-0.9788839392278266 {'gamma': 0.0003448979591836735, 'kernel': 'sigmoid'}\n",
      "-0.976839179491953 {'gamma': 0.00035306122448979595, 'kernel': 'rbf'}\n",
      "-0.9788793607940545 {'gamma': 0.00035306122448979595, 'kernel': 'sigmoid'}\n",
      "-0.9767417562497538 {'gamma': 0.0003612244897959184, 'kernel': 'rbf'}\n",
      "-0.9788746761079019 {'gamma': 0.0003612244897959184, 'kernel': 'sigmoid'}\n",
      "-0.976642273983548 {'gamma': 0.00036938775510204084, 'kernel': 'rbf'}\n",
      "-0.9788698850103328 {'gamma': 0.00036938775510204084, 'kernel': 'sigmoid'}\n",
      "-0.9765407453867965 {'gamma': 0.0003775510204081633, 'kernel': 'rbf'}\n",
      "-0.9788649874220651 {'gamma': 0.0003775510204081633, 'kernel': 'sigmoid'}\n",
      "-0.9764371823097122 {'gamma': 0.0003857142857142857, 'kernel': 'rbf'}\n",
      "-0.9788599833098454 {'gamma': 0.0003857142857142857, 'kernel': 'sigmoid'}\n",
      "-0.9763315959614712 {'gamma': 0.00039387755102040817, 'kernel': 'rbf'}\n",
      "-0.9788548726682796 {'gamma': 0.00039387755102040817, 'kernel': 'sigmoid'}\n",
      "-0.9762239970717755 {'gamma': 0.0004020408163265306, 'kernel': 'rbf'}\n",
      "-0.9788496555096386 {'gamma': 0.0004020408163265306, 'kernel': 'sigmoid'}\n",
      "-0.9761143960111042 {'gamma': 0.0004102040816326531, 'kernel': 'rbf'}\n",
      "-0.9788443318579139 {'gamma': 0.0004102040816326531, 'kernel': 'sigmoid'}\n",
      "-0.9760028028754608 {'gamma': 0.00041836734693877556, 'kernel': 'rbf'}\n",
      "-0.978838901745221 {'gamma': 0.00041836734693877556, 'kernel': 'sigmoid'}\n",
      "-0.9758892275417201 {'gamma': 0.000426530612244898, 'kernel': 'rbf'}\n",
      "-0.9788333652095474 {'gamma': 0.000426530612244898, 'kernel': 'sigmoid'}\n",
      "-0.9757736796978197 {'gamma': 0.00043469387755102045, 'kernel': 'rbf'}\n",
      "-0.978827722293293 {'gamma': 0.00043469387755102045, 'kernel': 'sigmoid'}\n",
      "-0.9756561688493376 {'gamma': 0.0004428571428571429, 'kernel': 'rbf'}\n",
      "-0.9788219730422902 {'gamma': 0.0004428571428571429, 'kernel': 'sigmoid'}\n",
      "-0.9755367043006791 {'gamma': 0.00045102040816326534, 'kernel': 'rbf'}\n",
      "-0.9788161175051264 {'gamma': 0.00045102040816326534, 'kernel': 'sigmoid'}\n",
      "-0.9754152951047237 {'gamma': 0.0004591836734693878, 'kernel': 'rbf'}\n",
      "-0.9788101557326506 {'gamma': 0.0004591836734693878, 'kernel': 'sigmoid'}\n",
      "-0.9752919499683635 {'gamma': 0.00046734693877551023, 'kernel': 'rbf'}\n",
      "-0.9788040877776111 {'gamma': 0.00046734693877551023, 'kernel': 'sigmoid'}\n",
      "-0.9751666770911755 {'gamma': 0.0004755102040816327, 'kernel': 'rbf'}\n",
      "-0.9787979136943711 {'gamma': 0.0004755102040816327, 'kernel': 'sigmoid'}\n",
      "-0.9750394838975018 {'gamma': 0.0004836734693877551, 'kernel': 'rbf'}\n",
      "-0.9787916335386817 {'gamma': 0.0004836734693877551, 'kernel': 'sigmoid'}\n",
      "-0.9749103765933244 {'gamma': 0.0004918367346938776, 'kernel': 'rbf'}\n",
      "-0.9787852473674948 {'gamma': 0.0004918367346938776, 'kernel': 'sigmoid'}\n",
      "-0.9747793594303917 {'gamma': 0.0005, 'kernel': 'rbf'}\n",
      "-0.9787787552388019 {'gamma': 0.0005, 'kernel': 'sigmoid'}\n"
     ]
    }
   ],
   "source": [
    "def my_scorer(estimator, X, y=None):\n",
    "    X_reduced = estimator.transform(X)\n",
    "    X_preimage = estimator.inverse_transform(X_reduced)\n",
    "    return -1 * mean_squared_error(X, X_preimage)\n",
    "\n",
    "param_grid = [{\n",
    "        \"gamma\": np.linspace(0.0001, 0.0005),\n",
    "        \"kernel\": [\"rbf\",'sigmoid']\n",
    "    }]\n",
    "\n",
    "kpca=KernelPCA(n_components=8,fit_inverse_transform=True, n_jobs=-1) \n",
    "grid_search = GridSearchCV(kpca, param_grid, cv=3, scoring=my_scorer)\n",
    "grid_search.fit(X_train,y_train)\n",
    "\n",
    "\n",
    "print(grid_search.best_params_)\n",
    "\n",
    "results = grid_search.cv_results_\n",
    "for mean_score,params in zip(results['mean_test_score'],results['params']):\n",
    "    print(mean_score,params)"
   ]
  },
  {
   "cell_type": "code",
   "execution_count": 19,
   "metadata": {},
   "outputs": [],
   "source": [
    "transformer = KernelPCA(n_components=8, kernel='rbf',gamma=0.0005)\n",
    "X_transformed = transformer.fit_transform(X_train)"
   ]
  },
  {
   "cell_type": "code",
   "execution_count": 26,
   "metadata": {},
   "outputs": [
    {
     "data": {
      "text/plain": [
       "(array([[33,  0,  0,  0,  0,  0,  0,  0,  0,  0],\n",
       "        [ 0, 27,  0,  0,  0,  1,  0,  0,  0,  0],\n",
       "        [ 0,  0, 32,  0,  0,  0,  0,  0,  1,  0],\n",
       "        [ 0,  0,  1, 29,  0,  0,  0,  0,  2,  2],\n",
       "        [ 0,  0,  0,  0, 46,  0,  0,  0,  0,  0],\n",
       "        [ 0,  0,  0,  0,  0, 43,  1,  0,  1,  2],\n",
       "        [ 1,  0,  0,  0,  0,  0, 34,  0,  0,  0],\n",
       "        [ 0,  0,  0,  0,  0,  0,  0, 33,  0,  1],\n",
       "        [ 0,  2,  0,  1,  0,  1,  0,  1, 25,  0],\n",
       "        [ 0,  0,  0,  5,  0,  1,  0,  0,  3, 31]], dtype=int64), 0.925)"
      ]
     },
     "execution_count": 26,
     "metadata": {},
     "output_type": "execute_result"
    }
   ],
   "source": [
    "from sklearn.neighbors import KNeighborsClassifier\n",
    "from sklearn.metrics import accuracy_score,confusion_matrix\n",
    "\n",
    "knn = KNeighborsClassifier(n_neighbors=10)\n",
    "knn.fit(X_transformed,y_train)\n",
    "\n",
    "X_transformed_test = transformer.transform(X_test)\n",
    "y_test_pred = knn.predict(X_transformed_test)\n",
    "\n",
    "confusion_matrix(y_test,y_test_pred) , accuracy_score(y_test,y_test_pred)\n"
   ]
  },
  {
   "cell_type": "code",
   "execution_count": 22,
   "metadata": {
    "scrolled": true
   },
   "outputs": [
    {
     "data": {
      "text/plain": [
       "KNeighborsClassifier(algorithm='auto', leaf_size=30, metric='minkowski',\n",
       "                     metric_params=None, n_jobs=None, n_neighbors=3, p=2,\n",
       "                     weights='uniform')"
      ]
     },
     "execution_count": 22,
     "metadata": {},
     "output_type": "execute_result"
    }
   ],
   "source": [
    "knn = KNeighborsClassifier(n_neighbors=3)\n",
    "knn.fit(X_train,y_train)\n"
   ]
  },
  {
   "cell_type": "code",
   "execution_count": null,
   "metadata": {},
   "outputs": [],
   "source": []
  },
  {
   "cell_type": "code",
   "execution_count": null,
   "metadata": {},
   "outputs": [],
   "source": []
  },
  {
   "cell_type": "code",
   "execution_count": null,
   "metadata": {},
   "outputs": [],
   "source": []
  },
  {
   "cell_type": "code",
   "execution_count": null,
   "metadata": {},
   "outputs": [],
   "source": [
    "from sklearn.pipeline import Pipeline\n",
    "\n",
    "preprocessor = Pipeline([('scaler',StandardScaler()),\n",
    "               ('kpca',KernelPCA(fit_inverse_transform=True, n_jobs=-1) )])\n",
    "\n",
    "classifier = KNeighborsClassifier()\n",
    "\n",
    "pipeline = Pipeline([('pre',preprocessor),\n",
    "               ('cls',classifier)])\n",
    "\n",
    "param_grid = [{\n",
    "        \"pre__kpca__gamma\": np.linspace(0.00001, 0.0005),\n",
    "        \"pre__kpca__kernel\": [\"rbf\",'sigmoid'],\n",
    "        \"pre__kpca__n_components\": range(6,8),\n",
    "        \"cls__n_neighbors\": range(1,10)\n",
    "    }]\n",
    "\n",
    "grid_search = GridSearchCV(pipeline, param_grid, cv=3)\n",
    "grid_search.fit(X_train,y_train)\n",
    "\n",
    "print(grid_search.best_params_)\n",
    "\n",
    "results = grid_search.cv_results_\n",
    "for mean_score,params in zip(results['mean_test_score'],results['params']):\n",
    "    print(mean_score,params)\n",
    "\n"
   ]
  },
  {
   "cell_type": "code",
   "execution_count": null,
   "metadata": {},
   "outputs": [],
   "source": []
  }
 ],
 "metadata": {
  "kernelspec": {
   "display_name": "Python 3",
   "language": "python",
   "name": "python3"
  }
 },
 "nbformat": 4,
 "nbformat_minor": 2
}
