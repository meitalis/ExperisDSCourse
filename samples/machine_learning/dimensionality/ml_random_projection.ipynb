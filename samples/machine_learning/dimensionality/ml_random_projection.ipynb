{
 "cells": [
  {
   "cell_type": "code",
   "execution_count": 75,
   "metadata": {},
   "outputs": [],
   "source": [
    "from sklearn.base import BaseEstimator\n",
    "import numpy as np\n",
    "\n",
    " \n",
    "class MyRandomProjection(BaseEstimator):\n",
    "    def __init__(self, n_components='auto', eps=0.1, dense_output=True,random_state=20):\n",
    "        \n",
    "        self.n_components = n_components\n",
    "        self.eps = eps\n",
    "        self.dense_output = dense_output\n",
    "        self.random_state = random_state\n",
    "        \n",
    "    def fit_transform(self,X,d):\n",
    "        \n",
    "        rm = self.make_random_matrix(d,X.shape[1])\n",
    "        \n",
    "        print(rm.shape,X.T.shape)\n",
    "        return rm @ X.T\n",
    "        \n",
    "    def make_random_matrix(self, n_components, n_features):\n",
    "        rng = np.random.RandomState(self.random_state) \n",
    "    \n",
    "        components = rng.normal(loc=0.0,\n",
    "                                scale=1.0 / np.sqrt(n_components),\n",
    "                                size=(n_components, n_features))\n",
    "        return components\n",
    "\n",
    "\n"
   ]
  },
  {
   "cell_type": "code",
   "execution_count": 74,
   "metadata": {},
   "outputs": [
    {
     "name": "stdout",
     "output_type": "stream",
     "text": [
      "(3000, 10000) (10000, 100)\n"
     ]
    },
    {
     "data": {
      "text/plain": [
       "(3000, 100)"
      ]
     },
     "execution_count": 74,
     "metadata": {},
     "output_type": "execute_result"
    }
   ],
   "source": [
    "import numpy as np\n",
    "\n",
    "X = np.random.rand(100, 10000)\n",
    "transformer = MyRandomProjection()\n",
    "X_new = transformer.fit_transform(X,3000)\n",
    "X_new.shape\n"
   ]
  },
  {
   "cell_type": "code",
   "execution_count": 76,
   "metadata": {},
   "outputs": [
    {
     "name": "stdout",
     "output_type": "stream",
     "text": [
      "shape origin (1797, 64)\n",
      "(15, 64) (64, 1797)\n",
      "shape new (1797, 15)\n"
     ]
    }
   ],
   "source": [
    "from sklearn.datasets import load_digits\n",
    "import matplotlib.pyplot as plt \n",
    "\n",
    "digits = load_digits()\n",
    "\n",
    "X = digits.data \n",
    "y = digits.target \n",
    "\n",
    "print('shape origin',X.shape)\n",
    "transformer = MyRandomProjection()\n",
    "X_new = transformer.fit_transform(X,15)\n",
    "X_new = X_new.T\n",
    "print('shape new',X_new.shape)\n",
    "#X_centered = X - X.mean(axis = 0)"
   ]
  },
  {
   "cell_type": "code",
   "execution_count": 63,
   "metadata": {},
   "outputs": [
    {
     "data": {
      "text/plain": [
       "0.9222222222222223"
      ]
     },
     "execution_count": 63,
     "metadata": {},
     "output_type": "execute_result"
    }
   ],
   "source": [
    "from sklearn.model_selection import train_test_split\n",
    "from sklearn.neighbors import KNeighborsClassifier\n",
    "\n",
    "X_train,X_test,y_train ,y_test = train_test_split(X_new,y,test_size=0.2,random_state=42)\n",
    "\n",
    "knn = KNeighborsClassifier(n_neighbors=5)\n",
    "knn.fit(X_train,y_train)\n",
    "knn.score(X_test,y_test)"
   ]
  },
  {
   "cell_type": "code",
   "execution_count": 64,
   "metadata": {},
   "outputs": [],
   "source": [
    "from sklearn.base import BaseEstimator\n",
    "import numpy as np\n",
    "\n",
    " \n",
    "class MyRandomProjectionEnsamble(BaseEstimator):\n",
    "    def __init__(self, n_components='auto', eps=0.1, dense_output=True,random_state=20):\n",
    "        \n",
    "        self.n_components = n_components\n",
    "        self.eps = eps\n",
    "        self.dense_output = dense_output\n",
    "        self.random_state = random_state\n",
    "        \n",
    "    def fit_transform(self,X,d):\n",
    "        \n",
    "        rm = self.make_random_matrix(d,X.shape[1])\n",
    "        \n",
    "        print(rm.shape,X.T.shape)\n",
    "        return rm @ X.T\n",
    "        \n",
    "    def make_random_matrix(self,n_matrix, n_components, n_features):\n",
    "        matrix_components = []\n",
    "        \n",
    "        for i in range(n_matrix):\n",
    "            rng = np.random.RandomState() \n",
    "            matrix_components.append(rng.normal(loc=0.0,\n",
    "                                        scale=1.0 / np.sqrt(n_components),\n",
    "                                        size=(n_components, n_features)))\n",
    "        return matrix_components\n",
    "\n",
    "\n"
   ]
  },
  {
   "cell_type": "code",
   "execution_count": null,
   "metadata": {},
   "outputs": [],
   "source": []
  }
 ],
 "metadata": {
  "kernelspec": {
   "display_name": "Python 3",
   "language": "python",
   "name": "python3"
  },
  "language_info": {
   "codemirror_mode": {
    "name": "ipython",
    "version": 3
   },
   "file_extension": ".py",
   "mimetype": "text/x-python",
   "name": "python",
   "nbconvert_exporter": "python",
   "pygments_lexer": "ipython3",
   "version": "3.7.4"
  }
 },
 "nbformat": 4,
 "nbformat_minor": 2
}
