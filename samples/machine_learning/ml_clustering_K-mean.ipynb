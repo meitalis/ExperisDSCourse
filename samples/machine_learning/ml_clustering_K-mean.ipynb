{
 "cells": [
  {
   "cell_type": "code",
   "execution_count": 1,
   "metadata": {},
   "outputs": [],
   "source": [
    "import numpy as np\n",
    "import pandas as pd\n",
    "import matplotlib.pyplot as plt\n",
    "from sklearn import datasets"
   ]
  },
  {
   "cell_type": "markdown",
   "metadata": {},
   "source": [
    "#### Kmean on iris DS"
   ]
  },
  {
   "cell_type": "code",
   "execution_count": 82,
   "metadata": {},
   "outputs": [
    {
     "name": "stdout",
     "output_type": "stream",
     "text": [
      "[[5.6 3. ]\n",
      " [6.3 2.5]\n",
      " [5.4 3.4]]\n"
     ]
    },
    {
     "data": {
      "text/plain": [
       "<matplotlib.collections.PathCollection at 0x210eed2e688>"
      ]
     },
     "execution_count": 82,
     "metadata": {},
     "output_type": "execute_result"
    },
    {
     "data": {
      "image/png": "[encoded data removed]",
      "text/plain": [
       "<Figure size 432x288 with 1 Axes>"
      ]
     },
     "metadata": {
      "needs_background": "light"
     },
     "output_type": "display_data"
    }
   ],
   "source": [
    "iris = datasets.load_iris()\n",
    "X = iris.data[:, :2] \n",
    "y = iris.target\n",
    "\n",
    "xmin1 = X[0].min()\n",
    "xmin2 = X[1].min()\n",
    "#print(xmin1,xmin2)\n",
    "\n",
    "xmax1 = X[0].max()\n",
    "xmax2 = X[1].max()\n",
    "#print(xmax1,xmax2)\n",
    "\n",
    "#xmean1 = X[0].mean()\n",
    "#xmean2 = X[1].mean()\n",
    "#print('mean',xmean1,xmean2)\n",
    "\n",
    "#xstd1 = X[0].std()\n",
    "#xstd2 = X[1].std()\n",
    "#print('std',xstd1,xstd2)\n",
    "\n",
    "#x_1 = np.random.uniform(low=xmin1, high=xmax1,size=3)\n",
    "#x_2 = np.random.uniform(low=xmin2, high=xmax2,size=3)\n",
    "df = pd.DataFrame(X)\n",
    "centers = df.sample(3,random_state=50)\n",
    "# print('sample')\n",
    "# print(centers)\n",
    "# print('************************')\n",
    "# print(centers.iloc[0][0],centers.iloc[0][1])\n",
    "\n",
    "\n",
    "#np.random.randint(low=1, high=100, size=4)\n",
    "#np.random.randint(low=1, high=100, size=4)\n",
    "\n",
    "k = 3\n",
    "\n",
    "#centroids = np.array([[xmin1,xmin2], [xmean1,xmean2] ,[xmax1,xmax2]]) \n",
    "centroids = np.array([[centers.iloc[0][0],centers.iloc[0][1]], [centers.iloc[1][0],centers.iloc[1][1]] ,[centers.iloc[2][0],centers.iloc[2][1]]]) \n",
    "print(centroids)\n",
    "\n",
    "plt.scatter(X[:,0], X[:,1],marker='+',c=y, s=50)\n",
    "plt.scatter(centroids[:,0], centroids[:,1], marker='*', c='g', s=150)\n",
    "\n",
    "\n"
   ]
  },
  {
   "cell_type": "code",
   "execution_count": 89,
   "metadata": {},
   "outputs": [
    {
     "name": "stdout",
     "output_type": "stream",
     "text": [
      "counter 0 delta_inertia 1\n"
     ]
    },
    {
     "data": {
      "text/plain": [
       "'clusters argmin='"
      ]
     },
     "metadata": {},
     "output_type": "display_data"
    },
    {
     "data": {
      "text/plain": [
       "array([2, 2, 2, 2, 2, 2, 2, 2, 2, 2, 2, 2, 2, 2, 2, 2, 2, 2, 2, 2, 2, 2,\n",
       "       2, 2, 2, 2, 2, 2, 2, 2, 2, 2, 2, 2, 2, 2, 2, 2, 2, 2, 2, 0, 2, 2,\n",
       "       2, 2, 2, 2, 2, 2, 1, 1, 1, 0, 1, 0, 0, 0, 1, 0, 0, 0, 1, 1, 0, 1,\n",
       "       0, 0, 1, 0, 0, 1, 1, 1, 1, 1, 1, 1, 0, 0, 0, 0, 0, 1, 0, 0, 1, 1,\n",
       "       0, 0, 0, 0, 0, 0, 0, 0, 0, 1, 0, 0, 0, 0, 1, 1, 1, 1, 0, 1, 1, 1,\n",
       "       1, 1, 1, 0, 0, 1, 1, 1, 1, 1, 1, 0, 1, 1, 1, 1, 1, 0, 1, 1, 1, 1,\n",
       "       1, 1, 1, 1, 0, 1, 0, 1, 1, 1, 0, 1, 1, 1, 1, 1, 0, 0], dtype=int64)"
      ]
     },
     "metadata": {},
     "output_type": "display_data"
    },
    {
     "name": "stdout",
     "output_type": "stream",
     "text": [
      "current_inertia 42.6944238417099\n",
      "counter 1 delta_inertia 41.6944238417099\n"
     ]
    },
    {
     "data": {
      "text/plain": [
       "'clusters argmin='"
      ]
     },
     "metadata": {},
     "output_type": "display_data"
    },
    {
     "data": {
      "text/plain": [
       "array([2, 2, 2, 2, 2, 2, 2, 2, 2, 2, 2, 2, 2, 2, 2, 2, 2, 2, 2, 2, 2, 2,\n",
       "       2, 2, 2, 2, 2, 2, 2, 2, 2, 2, 2, 2, 2, 2, 2, 2, 2, 2, 2, 0, 2, 2,\n",
       "       2, 2, 2, 2, 2, 2, 1, 1, 1, 0, 1, 0, 0, 0, 1, 0, 0, 0, 1, 1, 0, 1,\n",
       "       0, 0, 1, 0, 0, 1, 1, 1, 1, 1, 1, 1, 0, 0, 0, 0, 0, 1, 0, 0, 1, 1,\n",
       "       0, 0, 0, 0, 0, 0, 0, 0, 0, 1, 0, 0, 0, 0, 1, 1, 1, 1, 0, 1, 1, 1,\n",
       "       1, 1, 1, 0, 0, 1, 1, 1, 1, 1, 1, 0, 1, 1, 1, 1, 1, 0, 1, 1, 1, 1,\n",
       "       1, 1, 1, 1, 0, 1, 0, 1, 1, 1, 0, 1, 1, 1, 1, 1, 0, 0], dtype=int64)"
      ]
     },
     "metadata": {},
     "output_type": "display_data"
    },
    {
     "name": "stdout",
     "output_type": "stream",
     "text": [
      "current_inertia 42.6944238417099\n"
     ]
    },
    {
     "data": {
      "text/plain": [
       "array([[5.65348837, 2.77906977],\n",
       "       [6.68275862, 2.93103448],\n",
       "       [5.01632653, 3.45102041]])"
      ]
     },
     "metadata": {},
     "output_type": "display_data"
    },
    {
     "name": "stdout",
     "output_type": "stream",
     "text": [
      "final delta_inertia 0.0 counter 2\n"
     ]
    },
    {
     "data": {
      "text/plain": [
       "<matplotlib.collections.PathCollection at 0x210f0050a48>"
      ]
     },
     "execution_count": 89,
     "metadata": {},
     "output_type": "execute_result"
    },
    {
     "data": {
      "image/png": "[encoded data removed]",
      "text/plain": [
       "<Figure size 432x288 with 1 Axes>"
      ]
     },
     "metadata": {
      "needs_background": "light"
     },
     "output_type": "display_data"
    }
   ],
   "source": [
    "centroids_old = np.zeros(centroids.shape) # to store old centers\n",
    "#display('centroids_old',centroids_old)\n",
    "centroids_new = centroids.copy() # Store new centers\n",
    "#display('centroids_new',centroids_new)\n",
    "\n",
    "n = X.shape[0]\n",
    "clusters = np.zeros(n)\n",
    "distances = np.zeros((n,k))\n",
    "inertia = np.zeros((k,1))\n",
    "#display('clusters',clusters)\n",
    "#display('distances',distances)\n",
    "\n",
    "#print(centroids_new - centroids_old)\n",
    "#print(((centroids_new - centroids_old)**2))\n",
    "#print(((centroids_new - centroids_old)**2).sum(axis=1))\n",
    "\n",
    "tolerance = 0.0001\n",
    "prev_inertia, current_inertia = 0,1 \n",
    "\n",
    "delta_inertia = current_inertia - prev_inertia #np.sqrt(((centroids_new - centroids_old)**2).sum(axis=1)) \n",
    "#display('error',error)\n",
    "counter = 0\n",
    "while delta_inertia > tolerance:\n",
    "    print('counter', counter,'delta_inertia',delta_inertia)\n",
    "    #display('X',X)\n",
    "    for i in range(k):\n",
    "    #         print(data - centroids[i])\n",
    "    #         print(((data - centroids[i])**2))\n",
    "    #         print(((data - centroids[i])**2).sum(axis=1))\n",
    "    #         print(np.sqrt(((data - centroids[i])**2).sum(axis=1)))\n",
    "        distances[:,i] = np.sqrt(((X - centroids[i])**2).sum(axis=1))\n",
    "        #print('distances k=',i,distances[:,i])\n",
    "\n",
    "    clusters = np.argmin(distances, axis = 1)\n",
    "    display('clusters argmin=',clusters)\n",
    "\n",
    "    centroids_old = centroids_new.copy()\n",
    "\n",
    "    for i in range(k):\n",
    "#         print(X[clusters == 1])\n",
    "#         print(np.mean(X[clusters == i], axis=0))\n",
    "        centroids_new[i] = np.mean(X[clusters == i], axis=0)\n",
    "   \n",
    "        \n",
    "    for i in range(k):\n",
    "        \n",
    "        idx = np.where(clusters==i)\n",
    "        #print('idx',idx)\n",
    "        inertia[i] = np.sum(((X[idx] - centroids_new[i])**2).sum(axis=1))\n",
    "        #print('inertia',inertia)\n",
    "\n",
    "    prev_inertia = current_inertia\n",
    "    current_inertia = inertia.sum()\n",
    "    delta_inertia = current_inertia - prev_inertia\n",
    "    counter += 1\n",
    "    print('current_inertia',current_inertia)\n",
    "\n",
    "display(centroids_new)\n",
    "print('final delta_inertia',delta_inertia,'counter',counter)\n",
    "\n",
    "plt.scatter(X[:,0], X[:,1],marker='+',c=y, s=50)\n",
    "plt.scatter(centroids_new[:,0], centroids_new[:,1], marker='*', c='g', s=150)"
   ]
  },
  {
   "cell_type": "code",
   "execution_count": null,
   "metadata": {},
   "outputs": [],
   "source": []
  },
  {
   "cell_type": "markdown",
   "metadata": {},
   "source": [
    "#### Kmeans sample page 397"
   ]
  },
  {
   "cell_type": "code",
   "execution_count": null,
   "metadata": {
    "scrolled": true
   },
   "outputs": [],
   "source": [
    "k = 3\n",
    "\n",
    "centroids = np.array([[0,0],[16,0],[16,6]],dtype=float)\n",
    "data = np.array([[0,0],[8,0],[8,6],[16,0],[0,6],[16,6],[5,5]])\n",
    "\n",
    "\n",
    "plt.scatter(data[:,0], data[:,1],marker='+', s=50)\n",
    "plt.scatter(centroids[:,0], centroids[:,1], marker='*', c='g', s=150)\n",
    "\n",
    "    "
   ]
  },
  {
   "cell_type": "code",
   "execution_count": null,
   "metadata": {},
   "outputs": [],
   "source": [
    "#run k = 1\n",
    "\n",
    "centroids_old = np.zeros(centroids.shape) # to store old centers\n",
    "display('centroids_old',centroids_old)\n",
    "centroids_new = centroids.copy() # Store new centers\n",
    "display('centroids_new',centroids_new)\n",
    "\n",
    "n = data.shape[0]\n",
    "clusters = np.zeros(n)\n",
    "distances = np.zeros((n,k))\n",
    "inertia = np.zeros((k,1))\n",
    "#display('clusters',clusters)\n",
    "#display('distances',distances)\n",
    "\n",
    "#print(centroids_new - centroids_old)\n",
    "#print(((centroids_new - centroids_old)**2))\n",
    "#print(((centroids_new - centroids_old)**2).sum(axis=1))\n",
    "\n",
    "tolerance = 0.0001\n",
    "prev_inertia, current_inertia = 0,1 \n",
    "\n",
    "delta_inertia = current_inertia - prev_inertia #np.sqrt(((centroids_new - centroids_old)**2).sum(axis=1)) \n",
    "#display('error',error)\n",
    "\n",
    "while delta_inertia > tolerance:\n",
    "\n",
    "    display('data',data)\n",
    "    for i in range(k):\n",
    "    #         print(data - centroids[i])\n",
    "    #         print(((data - centroids[i])**2))\n",
    "    #         print(((data - centroids[i])**2).sum(axis=1))\n",
    "    #         print(np.sqrt(((data - centroids[i])**2).sum(axis=1)))\n",
    "        distances[:,i] = np.sqrt(((data - centroids[i])**2).sum(axis=1))\n",
    "        print('distances k=',i,distances[:,i])\n",
    "\n",
    "    clusters = np.argmin(distances, axis = 1)\n",
    "    display('clusters argmin=',clusters)\n",
    "\n",
    "    centroids_old = centroids_new.copy()\n",
    "\n",
    "    for i in range(k):\n",
    "        print(np.mean(data[clusters == i], axis=0))\n",
    "        centroids_new[i] = np.mean(data[clusters == i], axis=0)\n",
    "\n",
    "    display(centroids_new)\n",
    "    error -= 1 \n",
    "    \n",
    "    for i in range(k):\n",
    "        \n",
    "        idx = np.where(clusters==i)\n",
    "        print('idx',idx)\n",
    "        inertia[i] = np.sum(((data[idx] - centroids_new[i])**2).sum(axis=1))\n",
    "        print('inertia',inertia)\n",
    "\n",
    "    prev_inertia = current_inertia\n",
    "    current_inertia = inertia.sum()\n",
    "    delta_inertia = current_inertia - prev_inertia\n",
    "    print('current_inertia',current_inertia)\n",
    "\n",
    "print('final delta_inertia',delta_inertia)\n",
    "\n",
    "plt.scatter(data[:,0], data[:,1],marker='+', s=50)\n",
    "plt.scatter(centroids_new[:,0], centroids_new[:,1], marker='*', c='g', s=150)"
   ]
  }
 ],
 "metadata": {
  "kernelspec": {
   "display_name": "Python 3",
   "language": "python",
   "name": "python3"
  },
  "language_info": {
   "codemirror_mode": {
    "name": "ipython",
    "version": 3
   },
   "file_extension": ".py",
   "mimetype": "text/x-python",
   "name": "python",
   "nbconvert_exporter": "python",
   "pygments_lexer": "ipython3",
   "version": "3.7.4"
  }
 },
 "nbformat": 4,
 "nbformat_minor": 2
}
