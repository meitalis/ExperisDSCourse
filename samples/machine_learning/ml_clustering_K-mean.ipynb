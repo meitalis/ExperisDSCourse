{
 "cells": [
  {
   "cell_type": "code",
   "execution_count": 31,
   "metadata": {},
   "outputs": [],
   "source": [
    "import numpy as np\n",
    "import pandas as pd\n",
    "import matplotlib.pyplot as plt\n",
    "from sklearn import datasets\n",
    "from sklearn.base import BaseEstimator\n",
    "from sklearn.model_selection import train_test_split"
   ]
  },
  {
   "cell_type": "markdown",
   "metadata": {},
   "source": [
    "#### write KMeans Class"
   ]
  },
  {
   "cell_type": "code",
   "execution_count": 39,
   "metadata": {},
   "outputs": [],
   "source": [
    "class MyKMeans(BaseEstimator):\n",
    "    def __init__(self, n_clusters=3, n_init=10,max_iter=300, tol=0.0001,random_state=None ):\n",
    "\n",
    "        self.n_clusters = n_clusters #n_samples should be >= n_clusters\n",
    "        self.max_iter = max_iter #Number of iterations should be a positive number\n",
    "        self.tol = tol\n",
    "        self.n_init = n_init #must be bigger than zero\n",
    "        self.random_state = random_state\n",
    "     \n",
    "    def fit(self, X, y=None, sample_weight=None):\n",
    "            \n",
    "        df = pd.DataFrame(X)\n",
    "        k_samples = df.sample(self.n_clusters,random_state = self.random_state)\n",
    "        centroids = np.array(k_samples) \n",
    "        \n",
    "        plt.scatter(X[:,0], X[:,1],marker='+',c=y, s=50)\n",
    "        plt.scatter(centroids[:,0], centroids[:,1], marker='*', c='g', s=150)\n",
    "        \n",
    "        centroids_old = np.zeros(centroids.shape) # to store old centers\n",
    "        self.centroids_new = centroids.copy() # Store new centers\n",
    "        \n",
    "        n = X.shape[0]\n",
    "        self.clusters = np.zeros(n)\n",
    "        distances = np.zeros((n,self.n_clusters))\n",
    "        inertia = np.zeros((self.n_clusters,1))\n",
    "        \n",
    "        prev_inertia, current_inertia = 0,1 \n",
    "\n",
    "        delta_inertia = np.abs(current_inertia - prev_inertia) \n",
    "        counter = 0\n",
    "        \n",
    "        while delta_inertia > self.tol:\n",
    "    \n",
    "            for i in range(self.n_clusters):\n",
    "                distances[:,i] = np.sqrt(((X - self.centroids_new[i])**2).sum(axis=1))\n",
    "\n",
    "\n",
    "            self.clusters = np.argmin(distances, axis = 1)\n",
    "\n",
    "            centroids_old = self.centroids_new.copy()\n",
    "\n",
    "            for i in range(self.n_clusters):\n",
    "                self.centroids_new[i] = np.mean(X[self.clusters == i], axis=0)\n",
    "\n",
    "\n",
    "            for i in range(self.n_clusters):\n",
    "                idx = np.where(self.clusters==i)\n",
    "                inertia[i] = np.sum(((X[idx] - self.centroids_new[i])**2).sum(axis=1))\n",
    "\n",
    "\n",
    "            prev_inertia = current_inertia\n",
    "            current_inertia = inertia.sum()\n",
    "            delta_inertia = np.abs(current_inertia - prev_inertia)\n",
    "            counter += 1\n",
    "            print('current_inertia',current_inertia,'prev_inertia',prev_inertia)\n",
    "   \n",
    "\n",
    "        display(self.centroids_new)\n",
    "        print('final delta_inertia',delta_inertia,'counter',counter)\n",
    "\n",
    "        plt.scatter(X[:,0], X[:,1],marker='+',c=y, s=50)\n",
    "        plt.scatter(self.centroids_new[:,0], self.centroids_new[:,1], marker='*', c='r', s=150)\n",
    "\n",
    "    def predict(self,X):\n",
    "        n = X.shape[0]\n",
    "        print(n)\n",
    "        distances = np.zeros((n,self.n_clusters))\n",
    "        for i in range(self.n_clusters):\n",
    "            distances[:,i] = np.sqrt(((X - self.centroids_new[i])**2).sum(axis=1))\n",
    "\n",
    "        predict_clusters = np.argmin(distances, axis = 1)\n",
    "        return predict_clusters\n",
    "        \n"
   ]
  },
  {
   "cell_type": "code",
   "execution_count": 42,
   "metadata": {},
   "outputs": [
    {
     "name": "stdout",
     "output_type": "stream",
     "text": [
      "(120, 2)\n",
      "current_inertia 76.78405513784463 prev_inertia 1\n",
      "current_inertia 45.2622623015873 prev_inertia 76.78405513784463\n",
      "current_inertia 34.79656666666667 prev_inertia 45.2622623015873\n",
      "current_inertia 32.590372230192884 prev_inertia 34.79656666666667\n",
      "current_inertia 32.219644191229555 prev_inertia 32.590372230192884\n",
      "current_inertia 32.01253298936835 prev_inertia 32.219644191229555\n",
      "current_inertia 31.96614837398374 prev_inertia 32.01253298936835\n",
      "current_inertia 31.96614837398374 prev_inertia 31.96614837398374\n"
     ]
    },
    {
     "data": {
      "text/plain": [
       "array([[6.8       , 3.06666667],\n",
       "       [5.805     , 2.6775    ],\n",
       "       [5.00243902, 3.44390244]])"
      ]
     },
     "metadata": {},
     "output_type": "display_data"
    },
    {
     "name": "stdout",
     "output_type": "stream",
     "text": [
      "final delta_inertia 0.0 counter 8\n",
      "(30, 2)\n",
      "30\n"
     ]
    },
    {
     "data": {
      "text/plain": [
       "array([0, 1, 1, 2, 0, 0, 2, 1, 2, 2, 1, 0, 2, 1, 1, 0, 1, 0, 1, 0, 1, 1,\n",
       "       1, 2, 0, 1, 2, 1, 2, 2], dtype=int64)"
      ]
     },
     "execution_count": 42,
     "metadata": {},
     "output_type": "execute_result"
    },
    {
     "data": {
      "image/png": "[encoded data removed]",
      "text/plain": [
       "<Figure size 432x288 with 1 Axes>"
      ]
     },
     "metadata": {
      "needs_background": "light"
     },
     "output_type": "display_data"
    }
   ],
   "source": [
    "iris = datasets.load_iris()\n",
    "X = iris.data[:, :2] \n",
    "y = iris.target\n",
    "\n",
    "\n",
    "X_train,X_test,y_train,y_test=train_test_split(X,y,test_size=0.2)\n",
    "\n",
    "model = MyKMeans()\n",
    "print(X_train.shape)\n",
    "model.fit(X_train,y_train)\n",
    "print(X_test.shape)\n",
    "model.predict(X_test)"
   ]
  },
  {
   "cell_type": "code",
   "execution_count": 59,
   "metadata": {},
   "outputs": [],
   "source": [
    "def plot_decision_boundaries(clusterer,X,resolution=1000,show_centroids=True):\n",
    "    mins = X.min(axis=0) - 0.1\n",
    "    maxs = X.max(axis=0) + 0.1\n",
    "    xx,yy = np.meshgrid(np.linspace(mins[0],maxs[0],resolution),\n",
    "                       np.linspace(mins[1],maxs[1],resolution))\n",
    "    Z = clusterer.predict(np.c_[xx.ravel(),yy.ravel()])\n",
    "    Z = Z.reshape(xx.shape)\n",
    "    \n",
    "    plt.contourf(Z,extent=(mins[0],maxs[0],mins[1],maxs[1]),cmap=plt.cm.Spectral)\n",
    "    plt.contour(Z,extent=(mins[0],maxs[0],mins[1],maxs[1]),linewidths=1,colors='k')\n",
    "    \n",
    "    plt.scatter(X[:,0], X[:,1],marker='+',c=y, s=50)\n",
    "    plt.scatter(clusterer.centroids_new[:,0], clusterer.centroids_new[:,1], marker='*', c='r', s=150)\n",
    "\n",
    "    #plot_data(X)\n",
    "    \n",
    "#     if show_centroids:\n",
    "#         plot_cntroids(clusterer.cluster_centers_)\n",
    "    \n",
    "    plt.xlabel(\"$x_1$\",fontsize=14)\n",
    "    plt.xlabel(\"$x_2$\",fontsize=14,rotation=8)\n",
    "        "
   ]
  },
  {
   "cell_type": "code",
   "execution_count": 60,
   "metadata": {},
   "outputs": [
    {
     "name": "stdout",
     "output_type": "stream",
     "text": [
      "current_inertia 34.88800662829235 prev_inertia 1\n",
      "current_inertia 32.30297656002534 prev_inertia 34.88800662829235\n",
      "current_inertia 32.011605467156265 prev_inertia 32.30297656002534\n",
      "current_inertia 31.952043233082705 prev_inertia 32.011605467156265\n",
      "current_inertia 31.952043233082705 prev_inertia 31.952043233082705\n"
     ]
    },
    {
     "data": {
      "text/plain": [
       "array([[5.84      , 2.6875    ],\n",
       "       [6.81315789, 3.07105263],\n",
       "       [5.        , 3.42142857]])"
      ]
     },
     "metadata": {},
     "output_type": "display_data"
    },
    {
     "name": "stdout",
     "output_type": "stream",
     "text": [
      "final delta_inertia 0.0 counter 5\n",
      "1000000\n"
     ]
    },
    {
     "data": {
      "image/png": "[encoded data removed]",
      "text/plain": [
       "<Figure size 432x288 with 1 Axes>"
      ]
     },
     "metadata": {
      "needs_background": "light"
     },
     "output_type": "display_data"
    },
    {
     "data": {
      "image/png": "[encoded data removed]",
      "text/plain": [
       "<Figure size 576x288 with 1 Axes>"
      ]
     },
     "metadata": {
      "needs_background": "light"
     },
     "output_type": "display_data"
    }
   ],
   "source": [
    "model = MyKMeans()\n",
    "model.fit(X_train,y_train)\n",
    "\n",
    "plt.figure(figsize=(8,4))\n",
    "plot_decision_boundaries(model,X)\n",
    "plt.show()"
   ]
  },
  {
   "cell_type": "markdown",
   "metadata": {},
   "source": [
    "#### Kmean on iris DS"
   ]
  },
  {
   "cell_type": "code",
   "execution_count": null,
   "metadata": {},
   "outputs": [],
   "source": [
    "iris = datasets.load_iris()\n",
    "X = iris.data[:, :2] \n",
    "y = iris.target\n",
    "\n",
    "xmin1 = X[0].min()\n",
    "xmin2 = X[1].min()\n",
    "#print(xmin1,xmin2)\n",
    "\n",
    "xmax1 = X[0].max()\n",
    "xmax2 = X[1].max()\n",
    "#print(xmax1,xmax2)\n",
    "\n",
    "#xmean1 = X[0].mean()\n",
    "#xmean2 = X[1].mean()\n",
    "#print('mean',xmean1,xmean2)\n",
    "\n",
    "#xstd1 = X[0].std()\n",
    "#xstd2 = X[1].std()\n",
    "#print('std',xstd1,xstd2)\n",
    "\n",
    "#x_1 = np.random.uniform(low=xmin1, high=xmax1,size=3)\n",
    "#x_2 = np.random.uniform(low=xmin2, high=xmax2,size=3)\n",
    "\n",
    "k = 3\n",
    "\n",
    "df = pd.DataFrame(X)\n",
    "centers = df.sample(k)\n",
    "# print('sample')\n",
    "# print(centers)\n",
    "# print('************************')\n",
    "# print(centers.iloc[0][0],centers.iloc[0][1])\n",
    "\n",
    "\n",
    "#np.random.randint(low=1, high=100, size=4)\n",
    "#np.random.randint(low=1, high=100, size=4)\n",
    "\n",
    "\n",
    "\n",
    "#centroids = np.array([[xmin1,xmin2], [xmean1,xmean2] ,[xmax1,xmax2]]) \n",
    "centroids = np.array(centers) #np.array([[centers.iloc[0][0],centers.iloc[0][1]], [centers.iloc[1][0],centers.iloc[1][1]] ,[centers.iloc[2][0],centers.iloc[2][1]]]) \n",
    "print(centroids)\n",
    "\n",
    "plt.scatter(X[:,0], X[:,1],marker='+',c=y, s=50)\n",
    "plt.scatter(centroids[:,0], centroids[:,1], marker='*', c='g', s=150)\n",
    "\n",
    "\n"
   ]
  },
  {
   "cell_type": "code",
   "execution_count": null,
   "metadata": {},
   "outputs": [],
   "source": [
    "centroids_old = np.zeros(centroids.shape) # to store old centers\n",
    "#display('centroids_old',centroids_old)\n",
    "centroids_new = centroids.copy() # Store new centers\n",
    "#display('centroids_new',centroids_new)\n",
    "\n",
    "n = X.shape[0]\n",
    "clusters = np.zeros(n)\n",
    "distances = np.zeros((n,k))\n",
    "inertia = np.zeros((k,1))\n",
    "#display('clusters',clusters)\n",
    "#display('distances',distances)\n",
    "\n",
    "#print(centroids_new - centroids_old)\n",
    "#print(((centroids_new - centroids_old)**2))\n",
    "#print(((centroids_new - centroids_old)**2).sum(axis=1))\n",
    "\n",
    "tolerance = 0.0001\n",
    "prev_inertia, current_inertia = 0,1 \n",
    "\n",
    "delta_inertia = np.abs(current_inertia - prev_inertia) #np.sqrt(((centroids_new - centroids_old)**2).sum(axis=1)) \n",
    "#display('error',error)\n",
    "counter = 0\n",
    "while delta_inertia > tolerance:\n",
    "    print('counter', counter,'delta_inertia',delta_inertia)\n",
    "    #display('X',X)\n",
    "    for i in range(k):\n",
    "    #         print(data - centroids[i])\n",
    "    #         print(((data - centroids[i])**2))\n",
    "    #         print(((data - centroids[i])**2).sum(axis=1))\n",
    "    #         print(np.sqrt(((data - centroids[i])**2).sum(axis=1)))\n",
    "        distances[:,i] = np.sqrt(((X - centroids_new[i])**2).sum(axis=1))\n",
    "        #print('distances k=',i,distances[:,i])\n",
    "\n",
    "    clusters = np.argmin(distances, axis = 1)\n",
    "    #display('clusters argmin=',clusters)\n",
    "\n",
    "    centroids_old = centroids_new.copy()\n",
    "\n",
    "    for i in range(k):\n",
    "#         print(X[clusters == 1])\n",
    "#         print(np.mean(X[clusters == i], axis=0))\n",
    "        centroids_new[i] = np.mean(X[clusters == i], axis=0)\n",
    "   \n",
    "        \n",
    "    for i in range(k):\n",
    "        \n",
    "        idx = np.where(clusters==i)\n",
    "        #print('idx',idx)\n",
    "        inertia[i] = np.sum(((X[idx] - centroids_new[i])**2).sum(axis=1))\n",
    "        #print('inertia',inertia)\n",
    "\n",
    "    prev_inertia = current_inertia\n",
    "    current_inertia = inertia.sum()\n",
    "    delta_inertia = np.abs(current_inertia - prev_inertia)\n",
    "    counter += 1\n",
    "    print('current_inertia',current_inertia,'prev_inertia',prev_inertia)\n",
    "   \n",
    "\n",
    "display(centroids_new)\n",
    "print('final delta_inertia',delta_inertia,'counter',counter)\n",
    "\n",
    "plt.scatter(X[:,0], X[:,1],marker='+',c=y, s=50)\n",
    "plt.scatter(centroids_new[:,0], centroids_new[:,1], marker='*', c='g', s=150)"
   ]
  },
  {
   "cell_type": "markdown",
   "metadata": {},
   "source": [
    "#### Kmeans sample page 397"
   ]
  },
  {
   "cell_type": "code",
   "execution_count": null,
   "metadata": {
    "scrolled": true
   },
   "outputs": [],
   "source": [
    "k = 3\n",
    "\n",
    "centroids = np.array([[0,0],[16,0],[16,6]],dtype=float)\n",
    "data = np.array([[0,0],[8,0],[8,6],[16,0],[0,6],[16,6],[5,5]])\n",
    "\n",
    "\n",
    "plt.scatter(data[:,0], data[:,1],marker='+', s=50)\n",
    "plt.scatter(centroids[:,0], centroids[:,1], marker='*', c='g', s=150)\n",
    "\n",
    "    "
   ]
  },
  {
   "cell_type": "code",
   "execution_count": null,
   "metadata": {},
   "outputs": [],
   "source": [
    "#run k = 1\n",
    "\n",
    "centroids_old = np.zeros(centroids.shape) # to store old centers\n",
    "display('centroids_old',centroids_old)\n",
    "centroids_new = centroids.copy() # Store new centers\n",
    "display('centroids_new',centroids_new)\n",
    "\n",
    "n = data.shape[0]\n",
    "clusters = np.zeros(n)\n",
    "distances = np.zeros((n,k))\n",
    "inertia = np.zeros((k,1))\n",
    "#display('clusters',clusters)\n",
    "#display('distances',distances)\n",
    "\n",
    "#print(centroids_new - centroids_old)\n",
    "#print(((centroids_new - centroids_old)**2))\n",
    "#print(((centroids_new - centroids_old)**2).sum(axis=1))\n",
    "\n",
    "tolerance = 0.0001\n",
    "prev_inertia, current_inertia = 0,1 \n",
    "\n",
    "delta_inertia = current_inertia - prev_inertia #np.sqrt(((centroids_new - centroids_old)**2).sum(axis=1)) \n",
    "#display('error',error)\n",
    "\n",
    "while delta_inertia > tolerance:\n",
    "\n",
    "    display('data',data)\n",
    "    for i in range(k):\n",
    "    #         print(data - centroids[i])\n",
    "    #         print(((data - centroids[i])**2))\n",
    "    #         print(((data - centroids[i])**2).sum(axis=1))\n",
    "    #         print(np.sqrt(((data - centroids[i])**2).sum(axis=1)))\n",
    "        distances[:,i] = np.sqrt(((data - centroids[i])**2).sum(axis=1))\n",
    "        print('distances k=',i,distances[:,i])\n",
    "\n",
    "    clusters = np.argmin(distances, axis = 1)\n",
    "    display('clusters argmin=',clusters)\n",
    "\n",
    "    centroids_old = centroids_new.copy()\n",
    "\n",
    "    for i in range(k):\n",
    "        print(np.mean(data[clusters == i], axis=0))\n",
    "        centroids_new[i] = np.mean(data[clusters == i], axis=0)\n",
    "\n",
    "    display(centroids_new)\n",
    "    error -= 1 \n",
    "    \n",
    "    for i in range(k):\n",
    "        \n",
    "        idx = np.where(clusters==i)\n",
    "        print('idx',idx)\n",
    "        inertia[i] = np.sum(((data[idx] - centroids_new[i])**2).sum(axis=1))\n",
    "        print('inertia',inertia)\n",
    "\n",
    "    prev_inertia = current_inertia\n",
    "    current_inertia = inertia.sum()\n",
    "    delta_inertia = current_inertia - prev_inertia\n",
    "    print('current_inertia',current_inertia)\n",
    "\n",
    "print('final delta_inertia',delta_inertia)\n",
    "\n",
    "plt.scatter(data[:,0], data[:,1],marker='+', s=50)\n",
    "plt.scatter(centroids_new[:,0], centroids_new[:,1], marker='*', c='g', s=150)"
   ]
  }
 ],
 "metadata": {
  "kernelspec": {
   "display_name": "Python 3",
   "language": "python",
   "name": "python3"
  },
  "language_info": {
   "codemirror_mode": {
    "name": "ipython",
    "version": 3
   },
   "file_extension": ".py",
   "mimetype": "text/x-python",
   "name": "python",
   "nbconvert_exporter": "python",
   "pygments_lexer": "ipython3",
   "version": "3.7.4"
  }
 },
 "nbformat": 4,
 "nbformat_minor": 2
}
