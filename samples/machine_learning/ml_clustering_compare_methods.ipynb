{
 "cells": [
  {
   "cell_type": "code",
   "execution_count": 1,
   "metadata": {},
   "outputs": [],
   "source": [
    "import numpy as np\n",
    "import pandas as pd\n",
    "import matplotlib.pyplot as plt\n",
    "from sklearn import datasets\n",
    "from sklearn.base import BaseEstimator\n",
    "from sklearn.model_selection import train_test_split\n",
    "from scipy.io import loadmat\n",
    "from sklearn.model_selection import  StratifiedShuffleSplit,GridSearchCV\n",
    "from sklearn.preprocessing import StandardScaler\n",
    "from sklearn.cluster import KMeans\n",
    "from sklearn.cluster import AgglomerativeClustering\n",
    "from sklearn.metrics import accuracy_score,confusion_matrix\n",
    "from sklearn.model_selection import StratifiedKFold\n",
    "\n",
    "import matplotlib as mpl\n",
    "from sklearn.mixture import GaussianMixture"
   ]
  },
  {
   "cell_type": "code",
   "execution_count": null,
   "metadata": {},
   "outputs": [],
   "source": [
    "#page 418 ex \n",
    "\n",
    "mnist_path = 'mnist-original.mat'\n",
    "\n",
    "mnist = loadmat(mnist_path)\n",
    "X = mnist['data'].T\n",
    "y = mnist['label'][0]\n",
    "#display(X.shape , y.shape)\n",
    "\n",
    "# v = X.copy()\n",
    "# X[v>=128] = 0\n",
    "# X[v<128] = 255\n",
    "\n",
    "\n",
    "# Scale all X values\n",
    "#scaler = StandardScaler()\n",
    "#X_scaled  = scaler.fit_transform(X)\n",
    "\n",
    "sss = StratifiedShuffleSplit(n_splits=10, test_size=0.05,train_size=0.05, random_state=0)\n",
    "train_index, test_index = next(sss.split(X=X, y=y))   \n",
    "\n",
    "X_train, X_test = X[train_index], X[test_index]\n",
    "y_train, y_test = y[train_index], y[test_index]\n",
    "\n",
    "\n",
    "print('X_train shape ', X_train.shape,'X_test shape' , X_test.shape)\n",
    "print('Y_train shape ', y_train.shape,'Y_test shape' , y_test.shape)\n"
   ]
  },
  {
   "cell_type": "code",
   "execution_count": null,
   "metadata": {},
   "outputs": [],
   "source": [
    "k = 10\n",
    "kmeans = KMeans(n_clusters=k,random_state=0)\n",
    "y_pred = kmeans.fit_predict(X_train)\n",
    "kmeans.cluster_centers_"
   ]
  },
  {
   "cell_type": "code",
   "execution_count": null,
   "metadata": {},
   "outputs": [],
   "source": [
    "fig, axs = plt.subplots(2,5)\n",
    "for ax, center in zip(axs.flatten(), kmeans.cluster_centers_):\n",
    "    some_digit= center.reshape(28,28)\n",
    "    ax.imshow(some_digit, cmap='binary')\n",
    "plt.show()"
   ]
  },
  {
   "cell_type": "code",
   "execution_count": null,
   "metadata": {},
   "outputs": [],
   "source": [
    "confusion_matrix(y_train,y_pred)"
   ]
  },
  {
   "cell_type": "code",
   "execution_count": null,
   "metadata": {},
   "outputs": [],
   "source": [
    "clusters=np.array([])\n",
    "\n",
    "for i in range(10):\n",
    "    idx = np.where(y_train==i)\n",
    "    unique, counts = np.unique(y_pred[idx], return_counts=True)\n",
    "    print ('digit',i, 'cluster', unique[counts.argmax()])\n",
    "    clusters = np.hstack((clusters,unique[counts.argmax()]))\n",
    "\n",
    "print(clusters)\n",
    "df = pd.DataFrame(y_pred)\n",
    "df = df.replace(clusters,np.arange(10))\n",
    "df\n",
    "#df\n"
   ]
  },
  {
   "cell_type": "code",
   "execution_count": null,
   "metadata": {},
   "outputs": [],
   "source": [
    "#AgglomerativeClustering l2,l1m\n",
    "agg = AgglomerativeClustering(n_clusters=10,affinity='manhattan',linkage='single')\n",
    "y_pred = agg.fit_predict(X_train)\n",
    "print(np.unique(y_pred))\n",
    "print(accuracy_score(y_train,y_pred))"
   ]
  },
  {
   "cell_type": "code",
   "execution_count": null,
   "metadata": {},
   "outputs": [],
   "source": [
    "#AgglomerativeClustering l2,l1m\n",
    "agg = AgglomerativeClustering(n_clusters=10,affinity='l2',linkage='single')\n",
    "y_pred = agg.fit_predict(X_train)\n",
    "print(np.unique(y_pred))\n",
    "print(accuracy_score(y_train,y_pred))"
   ]
  },
  {
   "cell_type": "code",
   "execution_count": null,
   "metadata": {},
   "outputs": [],
   "source": [
    "#AgglomerativeClustering l2,l1m\n",
    "agg = AgglomerativeClustering(n_clusters=10,affinity='euclidean',linkage='ward')\n",
    "y_pred = agg.fit_predict(X_train)\n",
    "print(np.unique(y_pred))\n",
    "print(accuracy_score(y_train,y_pred))"
   ]
  },
  {
   "cell_type": "code",
   "execution_count": null,
   "metadata": {},
   "outputs": [],
   "source": []
  },
  {
   "cell_type": "code",
   "execution_count": null,
   "metadata": {},
   "outputs": [],
   "source": [
    "from sklearn.datasets import make_blobs\n",
    "blob_centers = np.array([[0.2,2.3],\n",
    "                        [-1.5,2.3],\n",
    "                        [-2.8,1.8],\n",
    "                        [-2.8,2.8],\n",
    "                        [-2.8,1.3]])\n",
    "blob_std = np.array([0.4,0.3,0.1,0.1,0.1])\n",
    "\n",
    "X,y = make_blobs(n_samples=2000,centers=blob_centers,cluster_std=blob_std)\n",
    "\n",
    "def plot_clsters(X,y=None):\n",
    "    plt.scatter(X[:,0],X[:,1],c=y,s=1)\n",
    "    plt.xlabel(\"$x_1$\",fontsize=14)\n",
    "    plt.xlabel(\"$x_2$\",fontsize=14,rotation=8)\n",
    "\n",
    "plt.figure(figsize=(8,4))\n",
    "plot_clsters(X)\n",
    "plt.show()"
   ]
  },
  {
   "cell_type": "code",
   "execution_count": null,
   "metadata": {},
   "outputs": [],
   "source": [
    "#check ward \n",
    "model = AgglomerativeClustering(n_clusters=5,affinity='manhattan',linkage='single')\n",
    "y_pred = model.fit_predict(X)\n",
    "plt.scatter(X[:,0],X[:,1],c=y_pred,s=10,cmap='viridis')\n",
    "\n"
   ]
  },
  {
   "cell_type": "code",
   "execution_count": null,
   "metadata": {},
   "outputs": [],
   "source": [
    "model = AgglomerativeClustering(n_clusters=5,affinity='euclidean',linkage='ward')\n",
    "y_pred = model.fit_predict(X)\n",
    "plt.scatter(X[:,0],X[:,1],c=y_pred,s=10,cmap='viridis')\n"
   ]
  },
  {
   "cell_type": "code",
   "execution_count": null,
   "metadata": {},
   "outputs": [],
   "source": [
    "#dbscan in blob samples\n",
    "from sklearn.cluster import DBSCAN\n",
    "\n",
    "dbscan = DBSCAN(eps=0.2,min_samples=10).fit(X)\n",
    "labels = dbscan.labels_\n",
    "\n",
    "plt.scatter(X[:,0],X[:,1],c=labels,s=10,cmap='viridis')\n",
    "\n"
   ]
  },
  {
   "cell_type": "code",
   "execution_count": 60,
   "metadata": {},
   "outputs": [
    {
     "data": {
      "text/plain": [
       "(150, 2)"
      ]
     },
     "metadata": {},
     "output_type": "display_data"
    },
    {
     "data": {
      "text/plain": [
       "0.525"
      ]
     },
     "execution_count": 60,
     "metadata": {},
     "output_type": "execute_result"
    },
    {
     "data": {
      "image/png": "[encoded data removed]",
      "text/plain": [
       "<Figure size 432x288 with 1 Axes>"
      ]
     },
     "metadata": {
      "needs_background": "light"
     },
     "output_type": "display_data"
    }
   ],
   "source": [
    "#GMM - Gauian Mixure\n",
    "\n",
    "\n",
    "iris = datasets.load_iris()\n",
    "X = iris.data[:, :2] \n",
    "y = iris.target\n",
    "display(X.shape)\n",
    "\n",
    "X_train,X_test,y_train,y_test=train_test_split(X,y,test_size=0.2)\n",
    "\n",
    "gmm = GaussianMixture(n_components=3,covariance_type='full').fit(X_train)\n",
    "labels = gmm.predict(X_train)\n",
    "\n",
    "plt.scatter(X_train[:,0],X_train[:,1],c=labels,s=10,cmap='viridis')\n",
    "accuracy_score(y_train,labels)\n"
   ]
  },
  {
   "cell_type": "code",
   "execution_count": null,
   "metadata": {},
   "outputs": [],
   "source": [
    "# gmm = GaussianMixture(n_components=4,covariance_type='tied').fit(X_train)\n",
    "# labels = gmm.predict(X_train)\n",
    "\n",
    "# plt.scatter(X_train[:,0],X_train[:,1],c=labels,s=10,cmap='viridis')"
   ]
  },
  {
   "cell_type": "code",
   "execution_count": null,
   "metadata": {},
   "outputs": [],
   "source": [
    "# gmm = GaussianMixture(n_components=4,covariance_type='diag').fit(X_train)\n",
    "# labels = gmm.predict(X_train)\n",
    "\n",
    "# plt.scatter(X_train[:,0],X_train[:,1],c=labels,s=10,cmap='viridis')"
   ]
  },
  {
   "cell_type": "code",
   "execution_count": null,
   "metadata": {},
   "outputs": [],
   "source": [
    "\n",
    "# gmm = GaussianMixture(n_components=4,covariance_type='spherical').fit(X_train)\n",
    "# labels = gmm.predict(X_train)\n",
    "\n",
    "# plt.scatter(X_train[:,0],X_train[:,1],c=labels,s=10,cmap='viridis')"
   ]
  },
  {
   "cell_type": "code",
   "execution_count": 56,
   "metadata": {},
   "outputs": [
    {
     "data": {
      "text/plain": [
       "(111, 2)"
      ]
     },
     "metadata": {},
     "output_type": "display_data"
    },
    {
     "data": {
      "text/plain": [
       "(39, 2)"
      ]
     },
     "metadata": {},
     "output_type": "display_data"
    },
    {
     "name": "stdout",
     "output_type": "stream",
     "text": [
      "n_classes 3\n",
      "n_estimators 4\n"
     ]
    },
    {
     "data": {
      "image/png": "[encoded data removed]",
      "text/plain": [
       "<Figure size 432x432 with 4 Axes>"
      ]
     },
     "metadata": {
      "needs_background": "light"
     },
     "output_type": "display_data"
    }
   ],
   "source": [
    "#GMM Iris\n",
    "from scipy.stats import mode\n",
    "\n",
    "iris = datasets.load_iris()\n",
    "\n",
    "skf = StratifiedKFold(n_splits=4)\n",
    "train_index, test_index = next(iter(skf.split(iris.data, iris.target)))\n",
    "X_train = iris.data[train_index][:, :2]\n",
    "y_train = iris.target[train_index]\n",
    "X_test = iris.data[test_index][:, :2]\n",
    "y_test = iris.target[test_index]\n",
    "\n",
    "display(X_train.shape,X_test.shape)\n",
    "\n",
    "n_classes = len(np.unique(y_train))\n",
    "print('n_classes',n_classes)\n",
    "\n",
    "\n",
    "# Try GMMs using different types of covariances.\n",
    "estimators = {cov_type: GaussianMixture(n_components=n_classes,\n",
    "              covariance_type=cov_type, max_iter=20, random_state=0)\n",
    "              for cov_type in ['spherical', 'diag', 'full', 'tied']}\n",
    "\n",
    "n_estimators = len(estimators)\n",
    "print('n_estimators',n_estimators)\n",
    "\n",
    "plt.figure(figsize=(3 * n_estimators // 2, 6))\n",
    "plt.subplots_adjust(bottom=.01, top=0.95, hspace=.15, wspace=.05,\n",
    "                    left=.01, right=.99)\n",
    "\n",
    "colors = ['navy', 'turquoise', 'darkorange']\n",
    "\n",
    "for index, (name, estimator) in enumerate(estimators.items()):\n",
    "    \n",
    "    h = plt.subplot(2, n_estimators // 2, index + 1)\n",
    "    \n",
    "    for n, color in enumerate(colors):\n",
    "        data = X_train[y_train == n]\n",
    "        plt.scatter(data[:, 0], data[:, 1], s=2,color=color,\n",
    "                    label=iris.target_names[n])\n",
    "    \n",
    "    # Plot the test data with crosses\n",
    "    for n, color in enumerate(colors):\n",
    "        data = X_test[y_test == n]\n",
    "        plt.scatter(data[:, 0], data[:, 1], marker='x', color=color)\n",
    "    \n",
    "#     # Since we have class labels for the training data, we can\n",
    "#     # initialize the GMM parameters in a supervised manner.\n",
    "#     estimator.means_init = np.array([X_train[y_train == i].mean(axis=0)\n",
    "#                                     for i in range(n_classes)])\n",
    "\n",
    "    estimator.fit(X_train)\n",
    "    \n",
    "    \n",
    "    #make_ellipses(estimator, h)\n",
    "\n",
    "\n",
    "\n",
    "    y_train_pred = estimator.predict(X_train)\n",
    "    \n",
    "    \n",
    "    labels = np.zeros_like(y_train_pred)\n",
    "    for i in range(len(colors)):\n",
    "        mask = (y_train_pred == i)\n",
    "        #print(mode(y_train_pred[mask]))\n",
    "        labels[mask] = mode(y_train_pred[mask])[0]\n",
    "    \n",
    "    train_accuracy = accuracy_score(y_train,labels)\n",
    "    #train_accuracy = np.mean(y_train_pred.ravel() == y_train.ravel()) * 100\n",
    "    plt.text(0.05, 0.9, 'Train accuracy: %.1f' % train_accuracy,\n",
    "              transform=h.transAxes)\n",
    "\n",
    "#     y_test_pred = estimator.predict(X_test)\n",
    "#     test_accuracy = np.mean(y_test_pred.ravel() == y_test.ravel()) * 100\n",
    "#     plt.text(0.05, 0.8, 'Test accuracy: %.1f' % test_accuracy,\n",
    "#              transform=h.transAxes)\n",
    "\n",
    "#     plt.xticks(())\n",
    "#     plt.yticks(())\n",
    "#     plt.title(name)\n",
    "    \n",
    "\n",
    "def make_ellipses(gmm, ax):\n",
    "    for n, color in enumerate(colors):\n",
    "        if gmm.covariance_type == 'full':\n",
    "            covariances = gmm.covariances_[n][:2, :2]\n",
    "        elif gmm.covariance_type == 'tied':\n",
    "            covariances = gmm.covariances_[:2, :2]\n",
    "        elif gmm.covariance_type == 'diag':\n",
    "            covariances = np.diag(gmm.covariances_[n][:2])\n",
    "        elif gmm.covariance_type == 'spherical':\n",
    "            covariances = np.eye(gmm.means_.shape[1]) * gmm.covariances_[n]\n",
    "        v, w = np.linalg.eigh(covariances)\n",
    "        u = w[0] / np.linalg.norm(w[0])\n",
    "        angle = np.arctan2(u[1], u[0])\n",
    "        angle = 180 * angle / np.pi  # convert to degrees\n",
    "        v = 2. * np.sqrt(2.) * np.sqrt(v)\n",
    "        ell = mpl.patches.Ellipse(gmm.means_[n, :2], v[0], v[1],\n",
    "                                  180 + angle, color=color)\n",
    "        ell.set_clip_box(ax.bbox)\n",
    "        ell.set_alpha(0.5)\n",
    "        ax.add_artist(ell)\n",
    "        ax.set_aspect('equal', 'datalim')\n",
    "\n",
    "\n",
    "\n",
    "\n",
    "\n",
    "plt.legend(scatterpoints=1, loc='lower right', prop=dict(size=12))\n",
    "\n",
    "\n",
    "plt.show()"
   ]
  },
  {
   "cell_type": "code",
   "execution_count": null,
   "metadata": {},
   "outputs": [],
   "source": []
  }
 ],
 "metadata": {
  "kernelspec": {
   "display_name": "Python 3",
   "language": "python",
   "name": "python3"
  },
  "language_info": {
   "codemirror_mode": {
    "name": "ipython",
    "version": 3
   },
   "file_extension": ".py",
   "mimetype": "text/x-python",
   "name": "python",
   "nbconvert_exporter": "python",
   "pygments_lexer": "ipython3",
   "version": "3.7.4"
  }
 },
 "nbformat": 4,
 "nbformat_minor": 2
}
