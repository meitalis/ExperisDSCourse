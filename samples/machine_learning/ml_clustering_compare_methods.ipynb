{
 "cells": [
  {
   "cell_type": "code",
   "execution_count": 7,
   "metadata": {},
   "outputs": [],
   "source": [
    "import numpy as np\n",
    "import pandas as pd\n",
    "import matplotlib.pyplot as plt\n",
    "from sklearn import datasets\n",
    "from sklearn.base import BaseEstimator\n",
    "from sklearn.model_selection import train_test_split\n",
    "from scipy.io import loadmat\n",
    "from sklearn.model_selection import  StratifiedShuffleSplit,GridSearchCV\n",
    "from sklearn.preprocessing import StandardScaler\n",
    "from sklearn.cluster import KMeans\n",
    "from sklearn.cluster import AgglomerativeClustering\n",
    "from sklearn.metrics import accuracy_score,confusion_matrix\n"
   ]
  },
  {
   "cell_type": "code",
   "execution_count": 3,
   "metadata": {},
   "outputs": [
    {
     "name": "stdout",
     "output_type": "stream",
     "text": [
      "X_train shape  (3500, 784) X_test shape (3500, 784)\n",
      "Y_train shape  (3500,) Y_test shape (3500,)\n"
     ]
    }
   ],
   "source": [
    "#page 418 ex \n",
    "\n",
    "mnist_path = 'mnist-original.mat'\n",
    "\n",
    "mnist = loadmat(mnist_path)\n",
    "X = mnist['data'].T\n",
    "y = mnist['label'][0]\n",
    "#display(X.shape , y.shape)\n",
    "\n",
    "# v = X.copy()\n",
    "# X[v>=128] = 0\n",
    "# X[v<128] = 255\n",
    "\n",
    "\n",
    "# Scale all X values\n",
    "#scaler = StandardScaler()\n",
    "#X_scaled  = scaler.fit_transform(X)\n",
    "\n",
    "sss = StratifiedShuffleSplit(n_splits=10, test_size=0.05,train_size=0.05, random_state=0)\n",
    "train_index, test_index = next(sss.split(X=X, y=y))   \n",
    "\n",
    "X_train, X_test = X[train_index], X[test_index]\n",
    "y_train, y_test = y[train_index], y[test_index]\n",
    "\n",
    "\n",
    "print('X_train shape ', X_train.shape,'X_test shape' , X_test.shape)\n",
    "print('Y_train shape ', y_train.shape,'Y_test shape' , y_test.shape)\n"
   ]
  },
  {
   "cell_type": "code",
   "execution_count": 4,
   "metadata": {},
   "outputs": [
    {
     "data": {
      "text/plain": [
       "array([[0., 0., 0., ..., 0., 0., 0.],\n",
       "       [0., 0., 0., ..., 0., 0., 0.],\n",
       "       [0., 0., 0., ..., 0., 0., 0.],\n",
       "       ...,\n",
       "       [0., 0., 0., ..., 0., 0., 0.],\n",
       "       [0., 0., 0., ..., 0., 0., 0.],\n",
       "       [0., 0., 0., ..., 0., 0., 0.]])"
      ]
     },
     "execution_count": 4,
     "metadata": {},
     "output_type": "execute_result"
    }
   ],
   "source": [
    "k = 10\n",
    "kmeans = KMeans(n_clusters=k,random_state=0)\n",
    "y_pred = kmeans.fit_predict(X_train)\n",
    "kmeans.cluster_centers_"
   ]
  },
  {
   "cell_type": "code",
   "execution_count": 5,
   "metadata": {},
   "outputs": [
    {
     "data": {
      "image/png": "[encoded data removed]",
      "text/plain": [
       "<Figure size 432x288 with 10 Axes>"
      ]
     },
     "metadata": {
      "needs_background": "light"
     },
     "output_type": "display_data"
    }
   ],
   "source": [
    "fig, axs = plt.subplots(2,5)\n",
    "for ax, center in zip(axs.flatten(), kmeans.cluster_centers_):\n",
    "    some_digit= center.reshape(28,28)\n",
    "    ax.imshow(some_digit, cmap='binary')\n",
    "plt.show()"
   ]
  },
  {
   "cell_type": "code",
   "execution_count": 8,
   "metadata": {},
   "outputs": [
    {
     "data": {
      "text/plain": [
       "array([[  1,   1,   5,   0, 136,   1,   0,   0,  16, 185],\n",
       "       [  1, 184,   1, 206,   0,   0,   1,   0,   1,   0],\n",
       "       [259,  19,   5,  29,   8,   5,   8,   5,  10,   1],\n",
       "       [ 16,   5,   2,  26,  13,   3,  46,   7, 238,   1],\n",
       "       [  2,  14,  10,  13,   3,  98,   5, 196,   0,   0],\n",
       "       [  2,  24,   5,  23,  19,  25,  77,  27, 114,   0],\n",
       "       [ 11,  11, 282,  10,  16,   0,   1,   3,   5,   5],\n",
       "       [  3,  26,   1,  18,   0, 235,   3,  77,   1,   1],\n",
       "       [  3,  20,   4,  19,   2,   9, 184,  10,  90,   0],\n",
       "       [  0,   9,   0,  14,   0, 134,   5, 180,   6,   0]], dtype=int64)"
      ]
     },
     "execution_count": 8,
     "metadata": {},
     "output_type": "execute_result"
    }
   ],
   "source": [
    "confusion_matrix(y_train,y_pred)"
   ]
  },
  {
   "cell_type": "code",
   "execution_count": 23,
   "metadata": {},
   "outputs": [
    {
     "name": "stdout",
     "output_type": "stream",
     "text": [
      "digit 0 cluster 9\n",
      "digit 1 cluster 3\n",
      "digit 2 cluster 0\n",
      "digit 3 cluster 8\n",
      "digit 4 cluster 7\n",
      "digit 5 cluster 8\n",
      "digit 6 cluster 2\n",
      "digit 7 cluster 5\n",
      "digit 8 cluster 6\n",
      "digit 9 cluster 7\n",
      "[9. 3. 0. 8. 7. 8. 2. 5. 6. 7.]\n"
     ]
    },
    {
     "data": {
      "text/html": [
       "<div>\n",
       "<style scoped>\n",
       "    .dataframe tbody tr th:only-of-type {\n",
       "        vertical-align: middle;\n",
       "    }\n",
       "\n",
       "    .dataframe tbody tr th {\n",
       "        vertical-align: top;\n",
       "    }\n",
       "\n",
       "    .dataframe thead th {\n",
       "        text-align: right;\n",
       "    }\n",
       "</style>\n",
       "<table border=\"1\" class=\"dataframe\">\n",
       "  <thead>\n",
       "    <tr style=\"text-align: right;\">\n",
       "      <th></th>\n",
       "      <th>0</th>\n",
       "    </tr>\n",
       "  </thead>\n",
       "  <tbody>\n",
       "    <tr>\n",
       "      <td>0</td>\n",
       "      <td>5</td>\n",
       "    </tr>\n",
       "    <tr>\n",
       "      <td>1</td>\n",
       "      <td>2</td>\n",
       "    </tr>\n",
       "    <tr>\n",
       "      <td>2</td>\n",
       "      <td>1</td>\n",
       "    </tr>\n",
       "    <tr>\n",
       "      <td>3</td>\n",
       "      <td>6</td>\n",
       "    </tr>\n",
       "    <tr>\n",
       "      <td>4</td>\n",
       "      <td>0</td>\n",
       "    </tr>\n",
       "    <tr>\n",
       "      <td>...</td>\n",
       "      <td>...</td>\n",
       "    </tr>\n",
       "    <tr>\n",
       "      <td>3495</td>\n",
       "      <td>9</td>\n",
       "    </tr>\n",
       "    <tr>\n",
       "      <td>3496</td>\n",
       "      <td>1</td>\n",
       "    </tr>\n",
       "    <tr>\n",
       "      <td>3497</td>\n",
       "      <td>7</td>\n",
       "    </tr>\n",
       "    <tr>\n",
       "      <td>3498</td>\n",
       "      <td>7</td>\n",
       "    </tr>\n",
       "    <tr>\n",
       "      <td>3499</td>\n",
       "      <td>5</td>\n",
       "    </tr>\n",
       "  </tbody>\n",
       "</table>\n",
       "<p>3500 rows × 1 columns</p>\n",
       "</div>"
      ],
      "text/plain": [
       "      0\n",
       "0     5\n",
       "1     2\n",
       "2     1\n",
       "3     6\n",
       "4     0\n",
       "...  ..\n",
       "3495  9\n",
       "3496  1\n",
       "3497  7\n",
       "3498  7\n",
       "3499  5\n",
       "\n",
       "[3500 rows x 1 columns]"
      ]
     },
     "execution_count": 23,
     "metadata": {},
     "output_type": "execute_result"
    }
   ],
   "source": [
    "clusters=np.array([])\n",
    "\n",
    "for i in range(10):\n",
    "    idx = np.where(y_train==i)\n",
    "    unique, counts = np.unique(y_pred[idx], return_counts=True)\n",
    "    print ('digit',i, 'cluster', unique[counts.argmax()])\n",
    "    clusters = np.hstack((clusters,unique[counts.argmax()]))\n",
    "\n",
    "print(clusters)\n",
    "df = pd.DataFrame(y_pred)\n",
    "df = df.replace(clusters,np.arange(10))\n",
    "df\n",
    "#df\n",
    "\n",
    "\n",
    "\n",
    "\n",
    "\n",
    "\n",
    "\n",
    "\n"
   ]
  },
  {
   "cell_type": "code",
   "execution_count": null,
   "metadata": {},
   "outputs": [],
   "source": [
    "#AgglomerativeClustering l2,l1m\n",
    "agg = AgglomerativeClustering(n_clusters=10,affinity='manhattan',linkage='single')\n",
    "y_pred = agg.fit_predict(X_train)\n",
    "print(np.unique(y_pred))\n",
    "print(accuracy_score(y_train,y_pred))"
   ]
  },
  {
   "cell_type": "code",
   "execution_count": null,
   "metadata": {},
   "outputs": [],
   "source": [
    "#AgglomerativeClustering l2,l1m\n",
    "agg = AgglomerativeClustering(n_clusters=10,affinity='l2',linkage='single')\n",
    "y_pred = agg.fit_predict(X_train)\n",
    "print(np.unique(y_pred))\n",
    "print(accuracy_score(y_train,y_pred))"
   ]
  },
  {
   "cell_type": "code",
   "execution_count": null,
   "metadata": {},
   "outputs": [],
   "source": [
    "#AgglomerativeClustering l2,l1m\n",
    "agg = AgglomerativeClustering(n_clusters=10,affinity='euclidean',linkage='ward')\n",
    "y_pred = agg.fit_predict(X_train)\n",
    "print(np.unique(y_pred))\n",
    "print(accuracy_score(y_train,y_pred))"
   ]
  },
  {
   "cell_type": "code",
   "execution_count": null,
   "metadata": {},
   "outputs": [],
   "source": []
  }
 ],
 "metadata": {
  "kernelspec": {
   "display_name": "Python 3",
   "language": "python",
   "name": "python3"
  },
  "language_info": {
   "codemirror_mode": {
    "name": "ipython",
    "version": 3
   },
   "file_extension": ".py",
   "mimetype": "text/x-python",
   "name": "python",
   "nbconvert_exporter": "python",
   "pygments_lexer": "ipython3",
   "version": "3.7.4"
  }
 },
 "nbformat": 4,
 "nbformat_minor": 2
}
