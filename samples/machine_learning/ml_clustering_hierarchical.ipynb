{
 "cells": [
  {
   "cell_type": "code",
   "execution_count": 29,
   "metadata": {},
   "outputs": [],
   "source": [
    "from sklearn.cluster import AgglomerativeClustering\n",
    "import pandas as pd\n",
    "import numpy as np\n",
    "import matplotlib.pyplot as plt\n",
    "from sklearn import datasets\n",
    "from sklearn.base import BaseEstimator\n",
    "from sklearn.model_selection import train_test_split\n",
    "from scipy.io import loadmat\n",
    "from sklearn.model_selection import  StratifiedShuffleSplit,GridSearchCV\n",
    "from sklearn.preprocessing import StandardScaler\n",
    "from sklearn.cluster import KMeans\n",
    "from sklearn.cluster import AgglomerativeClustering\n",
    "from sklearn.metrics import accuracy_score,confusion_matrix"
   ]
  },
  {
   "cell_type": "code",
   "execution_count": 7,
   "metadata": {},
   "outputs": [
    {
     "name": "stdout",
     "output_type": "stream",
     "text": [
      "cluster label: [0 4 2 0 1 2 3 1]\n"
     ]
    }
   ],
   "source": [
    "X = pd.DataFrame(([1,4,1],[1,2,3],[0,0,1],[-1,4,0],[1,0,-2],[-1,-1,1],[0,-4,0],[1,0,-3]))\n",
    "\n",
    "agg = AgglomerativeClustering(n_clusters=5,affinity='manhattan',linkage='single')\n",
    "labels = agg.fit_predict(X)\n",
    "print('cluster label:',labels)\n",
    "\n"
   ]
  },
  {
   "cell_type": "code",
   "execution_count": 19,
   "metadata": {},
   "outputs": [],
   "source": [
    "# def plot_decision_boundaries(clusterer,X,resolution=1000,show_centroids=True):\n",
    "#     mins = X.min(axis=0) - 0.1\n",
    "#     maxs = X.max(axis=0) + 0.1\n",
    "#     xx,yy = np.meshgrid(np.linspace(mins[0],maxs[0],resolution),\n",
    "#                        np.linspace(mins[1],maxs[1],resolution))\n",
    "#     Z = clusterer.predict(np.c_[xx.ravel(),yy.ravel()])\n",
    "#     Z = Z.reshape(xx.shape)\n",
    "    \n",
    "#     plt.contourf(Z,extent=(mins[0],maxs[0],mins[1],maxs[1]),cmap=plt.cm.Spectral)\n",
    "#     plt.contour(Z,extent=(mins[0],maxs[0],mins[1],maxs[1]),linewidths=1,colors='k')\n",
    "    \n",
    "#     plt.scatter(X[:,0], X[:,1],marker='+',c=y, s=50)\n",
    "#     plt.scatter(clusterer.centroids_new[:,0], clusterer.centroids_new[:,1], marker='*', c='r', s=150)\n",
    "\n",
    "#     #plot_data(X)\n",
    "    \n",
    "# #     if show_centroids:\n",
    "# #         plot_cntroids(clusterer.cluster_centers_)\n",
    "    \n",
    "#     plt.xlabel(\"$x_1$\",fontsize=14)\n",
    "#     plt.xlabel(\"$x_2$\",fontsize=14,rotation=8)\n",
    "        "
   ]
  }
 ],
 "metadata": {
  "kernelspec": {
   "display_name": "Python 3",
   "language": "python",
   "name": "python3"
  },
  "language_info": {
   "codemirror_mode": {
    "name": "ipython",
    "version": 3
   },
   "file_extension": ".py",
   "mimetype": "text/x-python",
   "name": "python",
   "nbconvert_exporter": "python",
   "pygments_lexer": "ipython3",
   "version": "3.7.4"
  }
 },
 "nbformat": 4,
 "nbformat_minor": 2
}
