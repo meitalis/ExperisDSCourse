{
 "cells": [
  {
   "cell_type": "code",
   "execution_count": 15,
   "metadata": {},
   "outputs": [],
   "source": [
    "from sklearn import datasets\n",
    "from sklearn.svm import SVC\n",
    "import matplotlib.pyplot as plt\n",
    "import numpy as np\n",
    "from scipy.io import loadmat\n",
    "from sklearn.preprocessing import StandardScaler\n",
    "from sklearn.pipeline import Pipeline\n",
    "from sklearn.model_selection import  StratifiedShuffleSplit,GridSearchCV\n",
    "from sklearn.model_selection import cross_val_predict\n",
    "from sklearn.metrics import confusion_matrix\n",
    "from sklearn.metrics import accuracy_score"
   ]
  },
  {
   "cell_type": "markdown",
   "metadata": {},
   "source": [
    "#### ex page 334"
   ]
  },
  {
   "cell_type": "code",
   "execution_count": null,
   "metadata": {},
   "outputs": [],
   "source": [
    "# 334\n",
    "iris = datasets.load_iris()\n",
    "\n",
    "print(iris.data)\n",
    "X = iris.data[:,2:4]# we only take the first two features.\n",
    "print(X)\n",
    "\n",
    "y = iris.target\n",
    "print(list(iris.target_names))\n",
    "\n",
    "print(y)\n",
    "y[y==1] = 0 #setosa', 'versicolor - > 0\n",
    "y[y==2] = 1 #virginica\n",
    "print(y)\n"
   ]
  },
  {
   "cell_type": "code",
   "execution_count": null,
   "metadata": {},
   "outputs": [],
   "source": [
    "def plot_svc_decision_function(model,ax=None,plot_support=True):\n",
    "    ax = ax or plt.gca()\n",
    "    xlim = ax.get_xlim()\n",
    "    ylim = ax.get_ylim()\n",
    "    \n",
    "    x = np.linspace(xlim[0],xlim[1],30)\n",
    "    y = np.linspace(ylim[0],ylim[1],30)\n",
    "    X,Y = np.meshgrid(x,y)\n",
    "    xy = np.column_stack([X.ravel(),Y.ravel()])\n",
    "    v = model.decision_function(xy).reshape(X.shape)\n",
    "    print(v)\n",
    "    ax.contour(X,Y,v,colors='k',\n",
    "              levels=[-1,0,1],alpha=0.5,\n",
    "              linestyles=['--','-','--'])\n",
    "    \n",
    "    if plot_support:\n",
    "        ax.scatter(model.support_vectors_[:,0],\n",
    "                  model.support_vectors_[:,1],\n",
    "                  s=300,lw=1,edgecolor='black',color='none')\n",
    "        "
   ]
  },
  {
   "cell_type": "code",
   "execution_count": null,
   "metadata": {},
   "outputs": [],
   "source": [
    "fig,ax = plt.subplots(1,2,figsize=(16,6))\n",
    "                      \n",
    "for axi,C in zip(ax,[1,200.0]):\n",
    "    model = SVC(kernel='linear',C=C).fit(X,y)\n",
    "    axi.scatter(X[:,0],X[:,1],c=y,s=50,cmap='autumn')\n",
    "    plot_svc_decision_function(model,axi)\n",
    "    axi.set_title(f'C={C:.1f}',size=14)\n",
    "    \n",
    "    axi.set_xlabel('Petal length')\n",
    "    axi.set_ylabel('Petal width')\n",
    "\n",
    "\n",
    "        \n",
    "\n",
    "                 \n",
    "\n"
   ]
  },
  {
   "cell_type": "markdown",
   "metadata": {},
   "source": [
    "#### ex page 347"
   ]
  },
  {
   "cell_type": "code",
   "execution_count": 20,
   "metadata": {},
   "outputs": [
    {
     "data": {
      "text/plain": [
       "(70000, 784)"
      ]
     },
     "metadata": {},
     "output_type": "display_data"
    },
    {
     "data": {
      "text/plain": [
       "(70000,)"
      ]
     },
     "metadata": {},
     "output_type": "display_data"
    },
    {
     "data": {
      "text/plain": [
       "(3500, 784)"
      ]
     },
     "metadata": {},
     "output_type": "display_data"
    },
    {
     "data": {
      "text/plain": [
       "(1400, 784)"
      ]
     },
     "metadata": {},
     "output_type": "display_data"
    }
   ],
   "source": [
    "mnist_path = 'mnist-original.mat'\n",
    "\n",
    "mnist = loadmat(mnist_path)\n",
    "X = mnist['data'].T\n",
    "y = mnist['label'][0]\n",
    "display(X.shape , y.shape)\n",
    "\n",
    "\n",
    "sss = StratifiedShuffleSplit(n_splits=10, test_size=0.02,train_size=0.05, random_state=0)\n",
    "train_index, test_index = next(sss.split(X=X, y=y))   \n",
    "\n",
    "X_train, X_test = X[train_index], X[test_index]\n",
    "y_train, y_test = y[train_index], y[test_index]\n",
    "display(X_train.shape,X_test.shape)\n",
    "\n",
    "\n"
   ]
  },
  {
   "cell_type": "code",
   "execution_count": null,
   "metadata": {},
   "outputs": [],
   "source": [
    "\n",
    "clf = Pipeline([('scale',StandardScaler()),\n",
    "                ('cls',SVC())])\n",
    "\n",
    "param_grid = {\n",
    "    'cls__C': [0.001,1,10,100,1000],\n",
    "    'cls__kernel': ['poly','rbf'],\n",
    "    'cls__gamma': [0.1,5,10,20],\n",
    "    'cls__degree': np.arange(1,20,2),\n",
    "    'cls__coef0': np.arange(1,20,2)\n",
    "    \n",
    "}\n",
    "\n",
    "grid_search = GridSearchCV(clf,param_grid,cv=3)\n",
    "grid_search.fit(X_train,y_train)\n",
    "\n",
    "print(grid_search.best_params_)\n",
    "\n",
    "results = grid_search.cv_results_\n",
    "for mean_score,params in zip(results['mean_test_score'],results['params']):\n",
    "    print(mean_score,params)"
   ]
  },
  {
   "cell_type": "code",
   "execution_count": null,
   "metadata": {},
   "outputs": [],
   "source": [
    "\n",
    "clf = Pipeline([('scale',StandardScaler()),\n",
    "                ('cls',SVC(C=1,degree=3,kernel='poly'))])\n",
    "\n",
    "clf.fit(X_train,y_train)\n",
    "\n",
    "\n",
    "y_test_pred = cross_val_predict(clf,X_test,y_test,cv=10)\n",
    "conf_mat = confusion_matrix(y_test,y_test_pred)\n",
    "conf_mat\n",
    "\n"
   ]
  },
  {
   "cell_type": "code",
   "execution_count": 27,
   "metadata": {},
   "outputs": [
    {
     "data": {
      "text/plain": [
       "0.8807142857142857"
      ]
     },
     "execution_count": 27,
     "metadata": {},
     "output_type": "execute_result"
    }
   ],
   "source": [
    "accuracy_score(y_test,y_test_pred)"
   ]
  },
  {
   "cell_type": "code",
   "execution_count": null,
   "metadata": {},
   "outputs": [],
   "source": []
  }
 ],
 "metadata": {
  "kernelspec": {
   "display_name": "Python 3",
   "language": "python",
   "name": "python3"
  },
  "language_info": {
   "codemirror_mode": {
    "name": "ipython",
    "version": 3
   },
   "file_extension": ".py",
   "mimetype": "text/x-python",
   "name": "python",
   "nbconvert_exporter": "python",
   "pygments_lexer": "ipython3",
   "version": "3.7.4"
  }
 },
 "nbformat": 4,
 "nbformat_minor": 2
}
