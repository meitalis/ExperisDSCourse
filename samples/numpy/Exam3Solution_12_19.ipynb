{
 "cells": [
  {
   "cell_type": "code",
   "execution_count": 3,
   "metadata": {},
   "outputs": [],
   "source": [
    "import numpy as np"
   ]
  },
  {
   "cell_type": "markdown",
   "metadata": {},
   "source": [
    "Q1"
   ]
  },
  {
   "cell_type": "code",
   "execution_count": 2,
   "metadata": {},
   "outputs": [
    {
     "name": "stdout",
     "output_type": "stream",
     "text": [
      "[2.   2.75 3.5  4.25 5.  ]\n"
     ]
    }
   ],
   "source": [
    "a = np.linspace(2, 5, 5)\n",
    "print(a)"
   ]
  },
  {
   "cell_type": "code",
   "execution_count": 3,
   "metadata": {},
   "outputs": [
    {
     "name": "stdout",
     "output_type": "stream",
     "text": [
      "[[3 4 5]\n",
      " [6 7 8]]\n"
     ]
    }
   ],
   "source": [
    "a = np.arange(12).reshape(4, 3)\n",
    "print(a[1:3])"
   ]
  },
  {
   "cell_type": "code",
   "execution_count": 4,
   "metadata": {},
   "outputs": [
    {
     "name": "stdout",
     "output_type": "stream",
     "text": [
      "[[ 3  2  1  0]\n",
      " [ 7  6  5  4]\n",
      " [11 10  9  8]]\n"
     ]
    }
   ],
   "source": [
    "a = np.arange(12).reshape(3, 4)\n",
    "print(a[:, ::-1])"
   ]
  },
  {
   "cell_type": "code",
   "execution_count": 5,
   "metadata": {},
   "outputs": [
    {
     "name": "stdout",
     "output_type": "stream",
     "text": [
      "[[  0  20 300]\n",
      " [  0  50 600]]\n"
     ]
    }
   ],
   "source": [
    "a = np.array([[1, 2, 3], [4, 5, 6]])\n",
    "b = np.array([0, 10, 100])\n",
    "print(a * b)"
   ]
  },
  {
   "cell_type": "code",
   "execution_count": 6,
   "metadata": {},
   "outputs": [
    {
     "name": "stdout",
     "output_type": "stream",
     "text": [
      "[320 650]\n"
     ]
    }
   ],
   "source": [
    "a = np.array([[1, 2, 3], [4, 5, 6]])\n",
    "b = np.array([0, 10, 100])\n",
    "print(np.dot(a, b))"
   ]
  },
  {
   "cell_type": "code",
   "execution_count": 7,
   "metadata": {},
   "outputs": [
    {
     "name": "stdout",
     "output_type": "stream",
     "text": [
      "[[  1   1   1]\n",
      " [  2   4   8]\n",
      " [  3   9  27]\n",
      " [  4  16  64]\n",
      " [  5  25 125]]\n"
     ]
    }
   ],
   "source": [
    "a = np.arange(1, 6)\n",
    "print(np.vstack((a, a ** 2, a ** 3)).T)"
   ]
  },
  {
   "cell_type": "code",
   "execution_count": 4,
   "metadata": {},
   "outputs": [
    {
     "name": "stdout",
     "output_type": "stream",
     "text": [
      "[[ 7 16 15]\n",
      " [ 8 20 18]\n",
      " [ 2  2  6]]\n",
      "[[ 39  84  93]\n",
      " [ 48 102 114]\n",
      " [  6  18  12]]\n"
     ]
    }
   ],
   "source": [
    "a = np.array([[1,3,4], [2,3,5], [0,1,-1]])\n",
    "print(a@a)\n",
    "print(a@a@a)"
   ]
  },
  {
   "cell_type": "code",
   "execution_count": 3,
   "metadata": {},
   "outputs": [
    {
     "name": "stdout",
     "output_type": "stream",
     "text": [
      "[[0 1 0]\n",
      " [2 3 0]\n",
      " [4 5 0]\n",
      " [6 7 0]]\n"
     ]
    }
   ],
   "source": [
    "a = np.arange(8).reshape((4, 2))\n",
    "a = np.insert(a, 2, 0, axis=1)\n",
    "print(a)"
   ]
  },
  {
   "cell_type": "code",
   "execution_count": 5,
   "metadata": {},
   "outputs": [
    {
     "data": {
      "text/plain": [
       "1.9"
      ]
     },
     "execution_count": 5,
     "metadata": {},
     "output_type": "execute_result"
    }
   ],
   "source": [
    "dtype = [('name', 'S10'), ('height', 'f4'), ('age', 'i4')]\n",
    "values = [('Arthur', 1.8, 41), ('Lancelot', 1.9, 38), ('Galahad', 1.7, 38)]\n",
    "a = np.array(values, dtype=dtype) \n",
    "a['height'][1]"
   ]
  },
  {
   "cell_type": "code",
   "execution_count": 11,
   "metadata": {},
   "outputs": [
    {
     "name": "stdout",
     "output_type": "stream",
     "text": [
      "poly([12.])\n"
     ]
    }
   ],
   "source": [
    "from numpy.polynomial import Polynomial\n",
    "p = Polynomial([4, 5, 1, 2])\n",
    "print(p.deriv(3))"
   ]
  },
  {
   "cell_type": "markdown",
   "metadata": {},
   "source": [
    "Q2"
   ]
  },
  {
   "cell_type": "code",
   "execution_count": 12,
   "metadata": {},
   "outputs": [],
   "source": [
    "def even_(arr):\n",
    "    even = (a % 2 == 0) & ~(a % 10 == 0)\n",
    "    return arr[even] "
   ]
  },
  {
   "cell_type": "code",
   "execution_count": 13,
   "metadata": {},
   "outputs": [
    {
     "name": "stdout",
     "output_type": "stream",
     "text": [
      "[ 4  2  7 11  8  5 10 14]\n",
      "[ 4  2  8 14]\n"
     ]
    }
   ],
   "source": [
    "a = np.array([4, 2, 7, 11, 8, 5, 10, 14])\n",
    "print(a)\n",
    "print(even_(a))"
   ]
  },
  {
   "cell_type": "markdown",
   "metadata": {},
   "source": [
    "Q3"
   ]
  },
  {
   "cell_type": "code",
   "execution_count": 14,
   "metadata": {},
   "outputs": [],
   "source": [
    "def count_rows(arr, num):\n",
    "    return np.sum(np.any(arr == num, axis=1))      "
   ]
  },
  {
   "cell_type": "code",
   "execution_count": 15,
   "metadata": {},
   "outputs": [
    {
     "name": "stdout",
     "output_type": "stream",
     "text": [
      "[[5 2 7 6]\n",
      " [8 3 0 3]\n",
      " [1 7 3 7]\n",
      " [0 2 1 2]]\n"
     ]
    }
   ],
   "source": [
    "a = np.array([[5, 2, 7, 6], [8, 3, 0, 3], [1, 7, 3, 7], [0, 2, 1, 2]])\n",
    "print(a)"
   ]
  },
  {
   "cell_type": "code",
   "execution_count": 16,
   "metadata": {},
   "outputs": [
    {
     "name": "stdout",
     "output_type": "stream",
     "text": [
      "2\n"
     ]
    }
   ],
   "source": [
    "print(count_rows(a, 7))"
   ]
  },
  {
   "cell_type": "markdown",
   "metadata": {},
   "source": [
    "Q4"
   ]
  },
  {
   "cell_type": "code",
   "execution_count": 11,
   "metadata": {},
   "outputs": [
    {
     "name": "stdout",
     "output_type": "stream",
     "text": [
      "[[10 12  7  3 12]\n",
      " [ 3 10  6  2  8]\n",
      " [18 24 17  6 10]\n",
      " [15 21 10  8 12]\n",
      " [ 1 18 22  4 15]]\n"
     ]
    }
   ],
   "source": [
    "a = np.array([[10, 12, 7, 3, 12], \n",
    "              [3, 10, 6, 2, 8],\n",
    "              [18, 24, 17, 6, 10],\n",
    "              [15, 21, 10, 8, 12],\n",
    "              [1, 18, 22, 4, 15]])\n",
    "print(a)"
   ]
  },
  {
   "cell_type": "code",
   "execution_count": 18,
   "metadata": {},
   "outputs": [
    {
     "name": "stdout",
     "output_type": "stream",
     "text": [
      "[10]\n",
      "[8]\n"
     ]
    }
   ],
   "source": [
    "cols_min = np.argmin(a, axis=0)\n",
    "cols_max = np.argmax(a, axis=0)\n",
    "\n",
    "rows_min = np.argmin(a, axis=1)\n",
    "rows_max = np.argmax(a, axis=1)\n",
    "    \n",
    "number_or_row = np.arange(a.shape[0])\n",
    "\n",
    "idx1 = np.where(rows_max[cols_min[number_or_row]] == number_or_row)[0]\n",
    "idx2 = np.where(rows_min[cols_max[number_or_row]] == number_or_row)[0]\n",
    "    \n",
    "saddle1 = a[idx1, cols_min[idx1]]\n",
    "saddle2 = a[idx2, cols_max[idx2]]\n",
    "\n",
    "print(saddle1)\n",
    "print(saddle2)"
   ]
  },
  {
   "cell_type": "code",
   "execution_count": 19,
   "metadata": {},
   "outputs": [
    {
     "data": {
      "text/plain": [
       "array([[10, 12,  7,  3, 12],\n",
       "       [ 3, 10,  6,  2,  8],\n",
       "       [18, 24, 17,  6, 10],\n",
       "       [15, 21, 10,  8, 12],\n",
       "       [ 1, 18, 22,  4, 15]])"
      ]
     },
     "execution_count": 19,
     "metadata": {},
     "output_type": "execute_result"
    }
   ],
   "source": [
    "a"
   ]
  },
  {
   "cell_type": "code",
   "execution_count": 49,
   "metadata": {},
   "outputs": [
    {
     "data": {
      "text/plain": [
       "array([2, 2, 4, 3, 4], dtype=int64)"
      ]
     },
     "execution_count": 49,
     "metadata": {},
     "output_type": "execute_result"
    }
   ],
   "source": [
    "cols_max = np.argmax(a, axis=0)\n",
    "\n",
    "cols_max"
   ]
  },
  {
   "cell_type": "code",
   "execution_count": 50,
   "metadata": {},
   "outputs": [
    {
     "data": {
      "text/plain": [
       "array([0, 1, 2, 3, 4])"
      ]
     },
     "execution_count": 50,
     "metadata": {},
     "output_type": "execute_result"
    }
   ],
   "source": [
    "number_or_row = np.arange(a.shape[0])\n",
    "\n",
    "number_or_row"
   ]
  },
  {
   "cell_type": "code",
   "execution_count": 30,
   "metadata": {},
   "outputs": [
    {
     "data": {
      "text/plain": [
       "array([2, 2, 4, 3, 4], dtype=int64)"
      ]
     },
     "execution_count": 30,
     "metadata": {},
     "output_type": "execute_result"
    }
   ],
   "source": [
    "cols_max[number_or_row]"
   ]
  },
  {
   "cell_type": "code",
   "execution_count": 51,
   "metadata": {},
   "outputs": [
    {
     "data": {
      "text/plain": [
       "array([3, 3, 3, 3, 0], dtype=int64)"
      ]
     },
     "execution_count": 51,
     "metadata": {},
     "output_type": "execute_result"
    }
   ],
   "source": [
    "rows_min = np.argmin(a, axis=1)\n",
    "rows_min"
   ]
  },
  {
   "cell_type": "code",
   "execution_count": 32,
   "metadata": {},
   "outputs": [
    {
     "data": {
      "text/plain": [
       "array([3, 3, 0, 3, 0], dtype=int64)"
      ]
     },
     "execution_count": 32,
     "metadata": {},
     "output_type": "execute_result"
    }
   ],
   "source": [
    "rows_min[cols_max[number_or_row]]"
   ]
  },
  {
   "cell_type": "code",
   "execution_count": 33,
   "metadata": {},
   "outputs": [
    {
     "data": {
      "text/plain": [
       "array([False, False, False,  True, False])"
      ]
     },
     "execution_count": 33,
     "metadata": {},
     "output_type": "execute_result"
    }
   ],
   "source": [
    "#take the row that is a valid intersection\n",
    "rows_min[cols_max[number_or_row]] == number_or_row"
   ]
  },
  {
   "cell_type": "code",
   "execution_count": 46,
   "metadata": {},
   "outputs": [
    {
     "data": {
      "text/plain": [
       "(array([3], dtype=int64),)"
      ]
     },
     "execution_count": 46,
     "metadata": {},
     "output_type": "execute_result"
    }
   ],
   "source": [
    "#now we have a valid intersection, take the row by np.where...\n",
    "idx2 = np.where(rows_min[cols_max[number_or_row]] == number_or_row)\n",
    "idx2"
   ]
  },
  {
   "cell_type": "code",
   "execution_count": 47,
   "metadata": {},
   "outputs": [],
   "source": [
    "#grab by row and column\n",
    "saddle2 = a[idx2, cols_max[idx2]]"
   ]
  },
  {
   "cell_type": "code",
   "execution_count": 45,
   "metadata": {},
   "outputs": [
    {
     "data": {
      "text/plain": [
       "array([[8]])"
      ]
     },
     "execution_count": 45,
     "metadata": {},
     "output_type": "execute_result"
    }
   ],
   "source": [
    "saddle2"
   ]
  },
  {
   "cell_type": "code",
   "execution_count": null,
   "metadata": {},
   "outputs": [],
   "source": []
  }
 ],
 "metadata": {
  "kernelspec": {
   "display_name": "Python 3",
   "language": "python",
   "name": "python3"
  },
  "language_info": {
   "codemirror_mode": {
    "name": "ipython",
    "version": 3
   },
   "file_extension": ".py",
   "mimetype": "text/x-python",
   "name": "python",
   "nbconvert_exporter": "python",
   "pygments_lexer": "ipython3",
   "version": "3.7.4"
  }
 },
 "nbformat": 4,
 "nbformat_minor": 2
}
