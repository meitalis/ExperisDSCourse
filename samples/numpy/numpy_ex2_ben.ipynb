{
 "cells": [
  {
   "cell_type": "markdown",
   "metadata": {},
   "source": [
    "# Numerical Python: NumPy II\n"
   ]
  },
  {
   "cell_type": "markdown",
   "metadata": {},
   "source": [
    "[NumPy](http://www.numpy.org/) \n",
    "\n",
    "# [![Numpy logo](https://numfocus.org/wp-content/uploads/2016/07/numpy-logo-300.png)](https://matplotlib.org/gallery/mplot3d/voxels_numpy_logo.html)"
   ]
  },
  {
   "cell_type": "markdown",
   "metadata": {},
   "source": [
    "In our last lecture we explored the basics of the numpy module.  \n",
    "We talked about why we need numpy, how to build various numpy arrays and their fundamental attributes. We ended the class by looking at numpy's ufuncs, which is where numpy power lays.  \n",
    "Today we are going to explore some more advanced capabilities of numpy :\n",
    "1. __Aggregation__\n",
    "1. __Broadcasting__\n",
    "1. __fancy indexing and boolean indexing__\n",
    "\n",
    "First thing first, let import numpy"
   ]
  },
  {
   "cell_type": "code",
   "execution_count": 2,
   "metadata": {},
   "outputs": [],
   "source": [
    "import numpy as np\n",
    "# This will make sure float print come out nicely\n",
    "np.set_printoptions(precision=2)\n",
    "np.set_printoptions(suppress=True)"
   ]
  },
  {
   "cell_type": "markdown",
   "metadata": {},
   "source": [
    "*** \n",
    "# Numpy aggregation"
   ]
  },
  {
   "cell_type": "markdown",
   "metadata": {},
   "source": [
    "In most data science application we start exploring the data by querying different statistics.   \n",
    "Numpy allows us to do that quickly by using aggregation functions (you aggregate information as you iterate over the array), which summarize the values in an array.\n",
    "Some of the most common aggregation are : \n",
    "```py\n",
    "sum, mean, std, var, min, max.   \n",
    "```\n",
    "To view the entire aggregation list visit : [Numpy aggregation](https://jakevdp.github.io/PythonDataScienceHandbook/02.04-computation-on-arrays-aggregates.html) (There is a table in the middle of the notebook)   \n",
    "Here are some examples:"
   ]
  },
  {
   "cell_type": "code",
   "execution_count": null,
   "metadata": {},
   "outputs": [],
   "source": [
    "np.random.seed(1101)\n",
    "a = np.random.randint(10, 20, size=10)\n",
    "a"
   ]
  },
  {
   "cell_type": "code",
   "execution_count": null,
   "metadata": {},
   "outputs": [],
   "source": [
    "a.min(), a.max()"
   ]
  },
  {
   "cell_type": "code",
   "execution_count": null,
   "metadata": {},
   "outputs": [],
   "source": [
    "a.mean(), a.std()"
   ]
  },
  {
   "cell_type": "code",
   "execution_count": null,
   "metadata": {},
   "outputs": [],
   "source": [
    "a.argmin()"
   ]
  },
  {
   "cell_type": "markdown",
   "metadata": {},
   "source": [
    "### Aggregation over multi dimensional arrays\n",
    "As the title suggests we can aggregate over many dimensions, and summarize a statistics over an entire matrix for example:"
   ]
  },
  {
   "cell_type": "code",
   "execution_count": null,
   "metadata": {},
   "outputs": [],
   "source": [
    "M = np.random.rand(5, 5)\n",
    "M.max(), M.min(), M.mean()"
   ]
  },
  {
   "cell_type": "markdown",
   "metadata": {},
   "source": [
    "But, in many cases you are not interested in statistics of the entire matrix but one of the axis of it, say the columns for example. All you have to do for that is just specify the axis upon which you wish to aggregate.\n",
    "\n",
    "<img src=\"http://www.elimhk.com/myblog/wp-content/uploads/2017/04/axis.png\" width=\"\">\n",
    "\n",
    "To remember what would be the output shape of an aggregation over an axis, I like to think about collapsing that axis. So if you have an array with shape (10, 3) and you aggregate over axis 0, you'll end up with (1, 3), since you \"collapsed\" the 0 axis."
   ]
  },
  {
   "cell_type": "code",
   "execution_count": null,
   "metadata": {},
   "outputs": [],
   "source": [
    "a = np.arange(10).reshape(2, 5)\n",
    "a, a.sum()"
   ]
  },
  {
   "cell_type": "code",
   "execution_count": null,
   "metadata": {},
   "outputs": [],
   "source": [
    "a.sum(axis=0) # How many values are we expecting to get?"
   ]
  },
  {
   "cell_type": "code",
   "execution_count": null,
   "metadata": {},
   "outputs": [],
   "source": [
    "a.sum(axis=1) # How many values are we expecting to get?"
   ]
  },
  {
   "cell_type": "code",
   "execution_count": null,
   "metadata": {},
   "outputs": [],
   "source": [
    "np.random.seed(109)\n",
    "a = np.random.randint(low=0, high=100, size=(10, 2))\n",
    "a"
   ]
  },
  {
   "cell_type": "code",
   "execution_count": null,
   "metadata": {},
   "outputs": [],
   "source": [
    "a.mean(axis=0)"
   ]
  },
  {
   "cell_type": "markdown",
   "metadata": {},
   "source": [
    "***\n",
    "## Exercise\n",
    "***"
   ]
  },
  {
   "cell_type": "code",
   "execution_count": 4,
   "metadata": {},
   "outputs": [
    {
     "data": {
      "text/plain": [
       "array([[28, 37, 17, 12],\n",
       "       [34, 24, 22, 20],\n",
       "       [11, 14,  8, 38],\n",
       "       [12, 46, 22,  8],\n",
       "       [41, 42, 12, 30],\n",
       "       [14, 12,  4, 13],\n",
       "       [40,  9,  9, 23],\n",
       "       [18,  0, 36,  8],\n",
       "       [ 5, 21, 17, 45],\n",
       "       [32, 45, 11, 31],\n",
       "       [29, 21, 44, 45],\n",
       "       [34, 24,  0, 23],\n",
       "       [29, 47, 25,  0],\n",
       "       [40, 11, 47, 33],\n",
       "       [41,  2,  9, 39],\n",
       "       [40, 11, 38,  7],\n",
       "       [ 9, 13, 17, 14],\n",
       "       [27, 22,  2, 35],\n",
       "       [21, 42, 23, 37],\n",
       "       [10, 41,  7, 35],\n",
       "       [13,  5, 33, 32],\n",
       "       [48, 30, 14, 43],\n",
       "       [48, 20, 29, 43],\n",
       "       [13, 10, 21,  6],\n",
       "       [30, 29,  8,  3],\n",
       "       [ 0,  2, 25, 23],\n",
       "       [ 5, 38, 39, 11],\n",
       "       [21, 37, 22, 15],\n",
       "       [30, 25, 26, 34],\n",
       "       [44, 24,  0, 28]])"
      ]
     },
     "execution_count": 4,
     "metadata": {},
     "output_type": "execute_result"
    }
   ],
   "source": [
    "np.random.seed(1111)\n",
    "X = np.random.randint(low=0, high=50, size=(30, 4))\n",
    "X"
   ]
  },
  {
   "cell_type": "markdown",
   "metadata": {},
   "source": [
    "__Get the mean values of each column in X__"
   ]
  },
  {
   "cell_type": "code",
   "execution_count": 5,
   "metadata": {},
   "outputs": [
    {
     "data": {
      "text/plain": [
       "array([25.57, 23.47, 19.57, 24.47])"
      ]
     },
     "execution_count": 5,
     "metadata": {},
     "output_type": "execute_result"
    }
   ],
   "source": [
    "# Your code here\n",
    "#array([25.57, 23.47, 19.57, 24.47])\n",
    "X.mean(axis=0)"
   ]
  },
  {
   "cell_type": "markdown",
   "metadata": {},
   "source": [
    "__Get the max value of each row in X__"
   ]
  },
  {
   "cell_type": "code",
   "execution_count": 6,
   "metadata": {},
   "outputs": [
    {
     "data": {
      "text/plain": [
       "array([37, 34, 38, 46, 42, 14, 40, 36, 45, 45, 45, 34, 47, 47, 41, 40, 17,\n",
       "       35, 42, 41, 33, 48, 48, 21, 30, 25, 39, 37, 34, 44])"
      ]
     },
     "execution_count": 6,
     "metadata": {},
     "output_type": "execute_result"
    }
   ],
   "source": [
    "# Your code here\n",
    "# array([37, 34, 38, 46, 42, 14, 40, 36, 45, 45, 45, 34, 47, 47, 41, 40, 17,\n",
    "#        35, 42, 41, 33, 48, 48, 21, 30, 25, 39, 37, 34, 44])\n",
    "X.max(axis=1)"
   ]
  },
  {
   "cell_type": "markdown",
   "metadata": {},
   "source": [
    "Get the median value of all the values of X"
   ]
  },
  {
   "cell_type": "code",
   "execution_count": 7,
   "metadata": {},
   "outputs": [
    {
     "data": {
      "text/plain": [
       "23.0"
      ]
     },
     "execution_count": 7,
     "metadata": {},
     "output_type": "execute_result"
    }
   ],
   "source": [
    "# Your code here\n",
    "#23.0\n",
    "np.median(X)"
   ]
  },
  {
   "cell_type": "markdown",
   "metadata": {},
   "source": [
    "__Get the variance of each column of X plus the variance of each row of Y.__"
   ]
  },
  {
   "cell_type": "code",
   "execution_count": 8,
   "metadata": {},
   "outputs": [
    {
     "data": {
      "text/plain": [
       "array([[33, 17, 41,  6, 24, 40, 32, 36, 25,  0, 28, 24, 16, 17,  6, 16,\n",
       "        28, 18, 36,  2],\n",
       "       [15, 25, 41,  5, 35, 21,  2, 20, 27, 40, 19, 42, 40,  1, 45, 12,\n",
       "        17, 44, 19, 22],\n",
       "       [45, 16, 34, 22,  6, 29, 36, 25,  7, 26, 40, 19, 24, 13, 16, 17,\n",
       "        36, 17,  8, 10],\n",
       "       [10, 23, 36, 14, 30, 28, 29,  0, 35, 46, 25, 46,  2,  0, 38, 12,\n",
       "        26, 16, 33, 26]])"
      ]
     },
     "execution_count": 8,
     "metadata": {},
     "output_type": "execute_result"
    }
   ],
   "source": [
    "np.random.seed(2222)\n",
    "Y = np.random.randint(low=0, high=50, size=(4, 20))\n",
    "Y"
   ]
  },
  {
   "cell_type": "code",
   "execution_count": 9,
   "metadata": {},
   "outputs": [
    {
     "name": "stdout",
     "output_type": "stream",
     "text": [
      "[188.78 201.52 162.85 185.05]\n",
      "[145.99 190.84 124.91 186.79]\n"
     ]
    },
    {
     "data": {
      "text/plain": [
       "array([334.77, 392.36, 287.76, 371.84])"
      ]
     },
     "execution_count": 9,
     "metadata": {},
     "output_type": "execute_result"
    }
   ],
   "source": [
    "# Your code goes here\n",
    "\n",
    "# [188.78 201.52 162.85 185.05]\n",
    "# [145.99 190.84 124.91 186.79]\n",
    "\n",
    "#array([334.77, 392.36, 287.76, 371.84])\n",
    "v_x = np.var(X, axis=0)\n",
    "print(v_x)\n",
    "v_y = np.var(Y, axis=1)\n",
    "print(v_y)\n",
    "v_x + v_y"
   ]
  },
  {
   "cell_type": "markdown",
   "metadata": {},
   "source": [
    "## Wine Example\n",
    "<img src=\"https://www.ironstonevineyards.com/wp-content/uploads/2017/06/wine-club-cheers.jpg\" width=\"300\" height=\"\">"
   ]
  },
  {
   "cell_type": "markdown",
   "metadata": {},
   "source": [
    "We are going to use the wine dataset from sklearn (THE machine learning module in python).    \n",
    "In this data, each row corresponds to a specific type of wine. The row values consist of different chemical compounds of the wine(alcohol, malic acid, magnesium etc...) along side the \"score\" of the wine. The \"goal\" in this data is to use the chemical properties in order to predict the wine score.  \n",
    "In machine learning the \"properties\" are referred to as __features__ while the value we are trying to predict is referred to as the __label__ or __target__.\n",
    "\n",
    "|  Type |Alcohol | Malic acid| ash | ... |\n",
    "|---|---|---|---|---|\n",
    "|Merlot Galil| 12.5 | 2.3| 4.5| ...|\n",
    "|Merlot Arava| 13.2 | 3.1| 2.5| ...|\n",
    "|Cabrniet Negev| 14.1 | 3.3| 4.1| ...|"
   ]
  },
  {
   "cell_type": "code",
   "execution_count": 42,
   "metadata": {},
   "outputs": [
    {
     "data": {
      "text/plain": [
       "array([[  14.23,    1.71,    2.43, ...,    1.04,    3.92, 1065.  ],\n",
       "       [  13.2 ,    1.78,    2.14, ...,    1.05,    3.4 , 1050.  ],\n",
       "       [  13.16,    2.36,    2.67, ...,    1.03,    3.17, 1185.  ],\n",
       "       ...,\n",
       "       [  13.27,    4.28,    2.26, ...,    0.59,    1.56,  835.  ],\n",
       "       [  13.17,    2.59,    2.37, ...,    0.6 ,    1.62,  840.  ],\n",
       "       [  14.13,    4.1 ,    2.74, ...,    0.61,    1.6 ,  560.  ]])"
      ]
     },
     "execution_count": 42,
     "metadata": {},
     "output_type": "execute_result"
    }
   ],
   "source": [
    "from sklearn import datasets # We are going to use sklearn to load a sample dataset.\n",
    "\n",
    "# Load the wine dataset.\n",
    "wine_dataset = datasets.load_wine()\n",
    "\n",
    "# Extract the feature names from the dataset.\n",
    "features_names = wine_dataset['feature_names']\n",
    "\n",
    "# Extract the features matrix from the dataset.\n",
    "X = wine_dataset['data']\n",
    "X\n",
    "\n",
    "\n",
    "\n",
    "\n"
   ]
  },
  {
   "cell_type": "code",
   "execution_count": 39,
   "metadata": {},
   "outputs": [
    {
     "data": {
      "text/plain": [
       "['alcohol',\n",
       " 'malic_acid',\n",
       " 'ash',\n",
       " 'alcalinity_of_ash',\n",
       " 'magnesium',\n",
       " 'total_phenols',\n",
       " 'flavanoids',\n",
       " 'nonflavanoid_phenols',\n",
       " 'proanthocyanins',\n",
       " 'color_intensity',\n",
       " 'hue',\n",
       " 'od280/od315_of_diluted_wines',\n",
       " 'proline']"
      ]
     },
     "execution_count": 39,
     "metadata": {},
     "output_type": "execute_result"
    }
   ],
   "source": [
    "# Let's take a look at what kind of features we have to work with\n",
    "features_names\n",
    "\n",
    "# ['alcohol',\n",
    "#  'malic_acid',\n",
    "#  'ash',\n",
    "#  'alcalinity_of_ash',\n",
    "#  'magnesium',\n",
    "#  'total_phenols',\n",
    "#  'flavanoids',\n",
    "#  'nonflavanoid_phenols',\n",
    "#  'proanthocyanins',\n",
    "#  'color_intensity',\n",
    "#  'hue',\n",
    "#  'od280/od315_of_diluted_wines',\n",
    "#  'proline']"
   ]
  },
  {
   "cell_type": "code",
   "execution_count": 40,
   "metadata": {},
   "outputs": [
    {
     "data": {
      "text/plain": [
       "((178, 13), 13)"
      ]
     },
     "execution_count": 40,
     "metadata": {},
     "output_type": "execute_result"
    }
   ],
   "source": [
    "# Let's see how much data we have, and a small sanity check\n",
    "X.shape, len(features_names)\n",
    "#((178, 13), 13)"
   ]
  },
  {
   "cell_type": "code",
   "execution_count": null,
   "metadata": {},
   "outputs": [],
   "source": [
    "#!conda install scikit-learn"
   ]
  },
  {
   "cell_type": "markdown",
   "metadata": {},
   "source": [
    "***\n",
    "## Exercise\n",
    "***\n",
    "__Extract the alcohol column__"
   ]
  },
  {
   "cell_type": "code",
   "execution_count": 59,
   "metadata": {},
   "outputs": [
    {
     "data": {
      "text/plain": [
       "array([14.23, 13.2 , 13.16, 14.37, 13.24, 14.2 , 14.39, 14.06, 14.83,\n",
       "       13.86, 14.1 , 14.12, 13.75, 14.75, 14.38, 13.63, 14.3 , 13.83,\n",
       "       14.19, 13.64, 14.06, 12.93, 13.71, 12.85, 13.5 , 13.05, 13.39,\n",
       "       13.3 , 13.87, 14.02, 13.73, 13.58, 13.68, 13.76, 13.51, 13.48,\n",
       "       13.28, 13.05, 13.07, 14.22, 13.56, 13.41, 13.88, 13.24, 13.05,\n",
       "       14.21, 14.38, 13.9 , 14.1 , 13.94, 13.05, 13.83, 13.82, 13.77,\n",
       "       13.74, 13.56, 14.22, 13.29, 13.72, 12.37, 12.33, 12.64, 13.67,\n",
       "       12.37, 12.17, 12.37, 13.11, 12.37, 13.34, 12.21, 12.29, 13.86,\n",
       "       13.49, 12.99, 11.96, 11.66, 13.03, 11.84, 12.33, 12.7 , 12.  ,\n",
       "       12.72, 12.08, 13.05, 11.84, 12.67, 12.16, 11.65, 11.64, 12.08,\n",
       "       12.08, 12.  , 12.69, 12.29, 11.62, 12.47, 11.81, 12.29, 12.37,\n",
       "       12.29, 12.08, 12.6 , 12.34, 11.82, 12.51, 12.42, 12.25, 12.72,\n",
       "       12.22, 11.61, 11.46, 12.52, 11.76, 11.41, 12.08, 11.03, 11.82,\n",
       "       12.42, 12.77, 12.  , 11.45, 11.56, 12.42, 13.05, 11.87, 12.07,\n",
       "       12.43, 11.79, 12.37, 12.04, 12.86, 12.88, 12.81, 12.7 , 12.51,\n",
       "       12.6 , 12.25, 12.53, 13.49, 12.84, 12.93, 13.36, 13.52, 13.62,\n",
       "       12.25, 13.16, 13.88, 12.87, 13.32, 13.08, 13.5 , 12.79, 13.11,\n",
       "       13.23, 12.58, 13.17, 13.84, 12.45, 14.34, 13.48, 12.36, 13.69,\n",
       "       12.85, 12.96, 13.78, 13.73, 13.45, 12.82, 13.58, 13.4 , 12.2 ,\n",
       "       12.77, 14.16, 13.71, 13.4 , 13.27, 13.17, 14.13])"
      ]
     },
     "execution_count": 59,
     "metadata": {},
     "output_type": "execute_result"
    }
   ],
   "source": [
    "# Your code here.\n",
    "\n",
    "wine_dataset.data[:,0]\n",
    "X[:,0]"
   ]
  },
  {
   "cell_type": "markdown",
   "metadata": {},
   "source": [
    "__Find the mean, max and min values of the alcohol feature__"
   ]
  },
  {
   "cell_type": "code",
   "execution_count": 48,
   "metadata": {},
   "outputs": [
    {
     "name": "stdout",
     "output_type": "stream",
     "text": [
      "13.00061797752809 14.83 11.03\n"
     ]
    }
   ],
   "source": [
    "# Your code here.\n",
    "#(13.00061797752809, 14.83, 11.03)\n",
    "alc = wine_dataset.data[:,0]\n",
    "print(alc.mean(),alc.max(),alc.min())\n",
    "\n"
   ]
  },
  {
   "cell_type": "markdown",
   "metadata": {},
   "source": [
    "__find the mean value of the flavanoids column divided by the nonflavanoid_phenols column__"
   ]
  },
  {
   "cell_type": "code",
   "execution_count": 58,
   "metadata": {},
   "outputs": [
    {
     "data": {
      "text/plain": [
       "6.8496995472735565"
      ]
     },
     "execution_count": 58,
     "metadata": {},
     "output_type": "execute_result"
    }
   ],
   "source": [
    "# Your code here.\n",
    "# 6.8496995472735565\n",
    "nflavanoids = wine_dataset.data[:,7] \n",
    "\n",
    "flavanoids = wine_dataset.data[:,6]\n",
    "\n",
    "(flavanoids/nflavanoids).mean()\n"
   ]
  },
  {
   "cell_type": "markdown",
   "metadata": {},
   "source": [
    "***\n",
    "## Broadcasting\n",
    "\n",
    "A very powerful mechanism of NumPy arrays is [broadcasting](https://docs.scipy.org/doc/numpy/user/basics.broadcasting.html).\n",
    "Broadcasting is used when an operation is used on two arrays of different shapes.\n",
    "The rules are:\n",
    "\n",
    "1. If arrays dimension differ, left-pad the smaller array's shape with 1s.\n",
    "1. If the shapes differ, change any dimension of size 1 to match the dimension of the other array.\n",
    "1. If shapes still differ, raise an error.\n",
    "\n",
    "Some exmaples:\n",
    "![broadcasting examples](http://www.astroml.org/_images/fig_broadcast_visual_1.png)"
   ]
  },
  {
   "cell_type": "code",
   "execution_count": 60,
   "metadata": {},
   "outputs": [
    {
     "data": {
      "text/plain": [
       "array([5, 6, 7])"
      ]
     },
     "execution_count": 60,
     "metadata": {},
     "output_type": "execute_result"
    }
   ],
   "source": [
    "np.arange(3) + 5"
   ]
  },
  {
   "cell_type": "code",
   "execution_count": 61,
   "metadata": {},
   "outputs": [
    {
     "data": {
      "text/plain": [
       "array([[1., 2., 3.],\n",
       "       [1., 2., 3.],\n",
       "       [1., 2., 3.]])"
      ]
     },
     "execution_count": 61,
     "metadata": {},
     "output_type": "execute_result"
    }
   ],
   "source": [
    "np.ones((3,3)) + np.arange(3)"
   ]
  },
  {
   "cell_type": "code",
   "execution_count": 62,
   "metadata": {},
   "outputs": [
    {
     "data": {
      "text/plain": [
       "array([[0, 1, 2],\n",
       "       [1, 2, 3],\n",
       "       [2, 3, 4]])"
      ]
     },
     "execution_count": 62,
     "metadata": {},
     "output_type": "execute_result"
    }
   ],
   "source": [
    "np.arange(3).reshape((3, 1)) + np.arange(3)"
   ]
  },
  {
   "cell_type": "markdown",
   "metadata": {},
   "source": [
    "Let's see an example where this breaks"
   ]
  },
  {
   "cell_type": "code",
   "execution_count": 67,
   "metadata": {},
   "outputs": [
    {
     "data": {
      "text/plain": [
       "array([[[2., 2., 2.],\n",
       "        [2., 2., 2.],\n",
       "        [2., 2., 2.]],\n",
       "\n",
       "       [[2., 2., 2.],\n",
       "        [2., 2., 2.],\n",
       "        [2., 2., 2.]],\n",
       "\n",
       "       [[2., 2., 2.],\n",
       "        [2., 2., 2.],\n",
       "        [2., 2., 2.]]])"
      ]
     },
     "execution_count": 67,
     "metadata": {},
     "output_type": "execute_result"
    }
   ],
   "source": [
    "np.ones((3,3, 3)) + np.ones((3, 3))"
   ]
  },
  {
   "cell_type": "markdown",
   "metadata": {},
   "source": [
    "As an example, we can use broadcasting to quickly build a multiplication table."
   ]
  },
  {
   "cell_type": "code",
   "execution_count": 68,
   "metadata": {},
   "outputs": [
    {
     "data": {
      "text/plain": [
       "array([[  1,   2,   3,   4,   5,   6,   7,   8,   9,  10],\n",
       "       [  2,   4,   6,   8,  10,  12,  14,  16,  18,  20],\n",
       "       [  3,   6,   9,  12,  15,  18,  21,  24,  27,  30],\n",
       "       [  4,   8,  12,  16,  20,  24,  28,  32,  36,  40],\n",
       "       [  5,  10,  15,  20,  25,  30,  35,  40,  45,  50],\n",
       "       [  6,  12,  18,  24,  30,  36,  42,  48,  54,  60],\n",
       "       [  7,  14,  21,  28,  35,  42,  49,  56,  63,  70],\n",
       "       [  8,  16,  24,  32,  40,  48,  56,  64,  72,  80],\n",
       "       [  9,  18,  27,  36,  45,  54,  63,  72,  81,  90],\n",
       "       [ 10,  20,  30,  40,  50,  60,  70,  80,  90, 100]])"
      ]
     },
     "execution_count": 68,
     "metadata": {},
     "output_type": "execute_result"
    }
   ],
   "source": [
    "# Shape (10,)      shape(10, 1) -> Broadcasting to (10, 10)\n",
    "np.arange(1, 11) * np.arange(1, 11).reshape(10, 1)"
   ]
  },
  {
   "cell_type": "code",
   "execution_count": 69,
   "metadata": {},
   "outputs": [
    {
     "data": {
      "text/plain": [
       "array([[  1,   2,   3,   4,   5,   6,   7,   8,   9,  10],\n",
       "       [  2,   4,   6,   8,  10,  12,  14,  16,  18,  20],\n",
       "       [  3,   6,   9,  12,  15,  18,  21,  24,  27,  30],\n",
       "       [  4,   8,  12,  16,  20,  24,  28,  32,  36,  40],\n",
       "       [  5,  10,  15,  20,  25,  30,  35,  40,  45,  50],\n",
       "       [  6,  12,  18,  24,  30,  36,  42,  48,  54,  60],\n",
       "       [  7,  14,  21,  28,  35,  42,  49,  56,  63,  70],\n",
       "       [  8,  16,  24,  32,  40,  48,  56,  64,  72,  80],\n",
       "       [  9,  18,  27,  36,  45,  54,  63,  72,  81,  90],\n",
       "       [ 10,  20,  30,  40,  50,  60,  70,  80,  90, 100]])"
      ]
     },
     "execution_count": 69,
     "metadata": {},
     "output_type": "execute_result"
    }
   ],
   "source": [
    "np.arange(1, 11).reshape(10, 1) * np.arange(1, 11)"
   ]
  },
  {
   "cell_type": "code",
   "execution_count": 70,
   "metadata": {},
   "outputs": [
    {
     "name": "stdout",
     "output_type": "stream",
     "text": [
      "[ 1  2  3  4  5  6  7  8  9 10]\n",
      "[[ 1]\n",
      " [ 2]\n",
      " [ 3]\n",
      " [ 4]\n",
      " [ 5]\n",
      " [ 6]\n",
      " [ 7]\n",
      " [ 8]\n",
      " [ 9]\n",
      " [10]]\n"
     ]
    }
   ],
   "source": [
    "print(np.arange(1, 11))\n",
    "print(np.arange(1, 11).reshape(10, 1))"
   ]
  },
  {
   "cell_type": "markdown",
   "metadata": {},
   "source": [
    "***\n",
    "# Exercise\n",
    "***\n",
    "Use `a` and `b` to produce the following output:\n",
    "```py\n",
    "array([[ 2,  4,  6,  8],\n",
    "       [ 3,  6,  9, 12]])\n",
    "```"
   ]
  },
  {
   "cell_type": "code",
   "execution_count": 122,
   "metadata": {},
   "outputs": [
    {
     "data": {
      "text/plain": [
       "array([[ 2,  4,  6,  8],\n",
       "       [ 3,  6,  9, 12]])"
      ]
     },
     "execution_count": 122,
     "metadata": {},
     "output_type": "execute_result"
    }
   ],
   "source": [
    "# Your code here\n",
    "np.arange(1, 5) * np.arange(2,4,1).reshape(2, 1)"
   ]
  },
  {
   "cell_type": "markdown",
   "metadata": {},
   "source": [
    "__Given a 1D array `X`, calculate the differences between each two elements of `X` using broadcasting and save it to array `D`, Meaning `D[i,j] = X[i] - X[j]`__"
   ]
  },
  {
   "cell_type": "code",
   "execution_count": 123,
   "metadata": {},
   "outputs": [],
   "source": [
    "X = np.linspace(1, 10, 10)"
   ]
  },
  {
   "cell_type": "code",
   "execution_count": 124,
   "metadata": {},
   "outputs": [
    {
     "data": {
      "text/plain": [
       "array([ 1.,  2.,  3.,  4.,  5.,  6.,  7.,  8.,  9., 10.])"
      ]
     },
     "execution_count": 124,
     "metadata": {},
     "output_type": "execute_result"
    }
   ],
   "source": [
    "X"
   ]
  },
  {
   "cell_type": "code",
   "execution_count": 131,
   "metadata": {},
   "outputs": [
    {
     "data": {
      "text/plain": [
       "array([[ 0.,  1.,  2.,  3.,  4.,  5.,  6.,  7.,  8.,  9.],\n",
       "       [-1.,  0.,  1.,  2.,  3.,  4.,  5.,  6.,  7.,  8.],\n",
       "       [-2., -1.,  0.,  1.,  2.,  3.,  4.,  5.,  6.,  7.],\n",
       "       [-3., -2., -1.,  0.,  1.,  2.,  3.,  4.,  5.,  6.],\n",
       "       [-4., -3., -2., -1.,  0.,  1.,  2.,  3.,  4.,  5.],\n",
       "       [-5., -4., -3., -2., -1.,  0.,  1.,  2.,  3.,  4.],\n",
       "       [-6., -5., -4., -3., -2., -1.,  0.,  1.,  2.,  3.],\n",
       "       [-7., -6., -5., -4., -3., -2., -1.,  0.,  1.,  2.],\n",
       "       [-8., -7., -6., -5., -4., -3., -2., -1.,  0.,  1.],\n",
       "       [-9., -8., -7., -6., -5., -4., -3., -2., -1.,  0.]])"
      ]
     },
     "execution_count": 131,
     "metadata": {},
     "output_type": "execute_result"
    }
   ],
   "source": [
    "# Your code here\n",
    "D = [[i- j for i in X] for j in X]\n",
    "D\n",
    "\n",
    "D = X - X.reshape(10,1)\n",
    "D"
   ]
  },
  {
   "cell_type": "markdown",
   "metadata": {},
   "source": [
    "***\n",
    "__In front of you is an array of prices of different products in shekels, let's call the sum of these products a basket. You would like to know the basket price in each of the following currencies:__\n",
    "1. Dollar (1 shekel -> 0.28)\n",
    "1. Euro   (1 shekel -> 0.26)\n",
    "1. Yuan   (1 shekel -> 2.03)\n",
    "1. Yen    (1 shekel -> 30.11)\n",
    "\n",
    "__Use broadcasting and aggregation to quickly find out the price of the baskets.__"
   ]
  },
  {
   "cell_type": "code",
   "execution_count": 137,
   "metadata": {},
   "outputs": [
    {
     "data": {
      "text/plain": [
       "array([  190.4,   176.8,  1380.4, 20474.8])"
      ]
     },
     "execution_count": 137,
     "metadata": {},
     "output_type": "execute_result"
    }
   ],
   "source": [
    "prices = np.array([50, 25, 80, 100, 150, 275])\n",
    "\n",
    "# Your code here\n",
    "curr = np.array([0.28,0.26,2.03,30.11])\n",
    "prices_m  = curr * prices.sum()\n",
    "prices_m"
   ]
  },
  {
   "cell_type": "markdown",
   "metadata": {},
   "source": [
    "***\n",
    "__A very common procedure in machine learning is to use a normalization technique on the data prior to feeding it to an algorithm.__\n",
    "\n",
    "\n",
    "Use aggregation to center mean (having mean of 0) the columns of the following X matrix."
   ]
  },
  {
   "cell_type": "code",
   "execution_count": 139,
   "metadata": {},
   "outputs": [
    {
     "data": {
      "text/plain": [
       "array([[28, 37, 17, 12],\n",
       "       [34, 24, 22, 20],\n",
       "       [11, 14,  8, 38],\n",
       "       [12, 46, 22,  8],\n",
       "       [41, 42, 12, 30],\n",
       "       [14, 12,  4, 13],\n",
       "       [40,  9,  9, 23],\n",
       "       [18,  0, 36,  8],\n",
       "       [ 5, 21, 17, 45],\n",
       "       [32, 45, 11, 31],\n",
       "       [29, 21, 44, 45],\n",
       "       [34, 24,  0, 23],\n",
       "       [29, 47, 25,  0],\n",
       "       [40, 11, 47, 33],\n",
       "       [41,  2,  9, 39],\n",
       "       [40, 11, 38,  7],\n",
       "       [ 9, 13, 17, 14],\n",
       "       [27, 22,  2, 35],\n",
       "       [21, 42, 23, 37],\n",
       "       [10, 41,  7, 35],\n",
       "       [13,  5, 33, 32],\n",
       "       [48, 30, 14, 43],\n",
       "       [48, 20, 29, 43],\n",
       "       [13, 10, 21,  6],\n",
       "       [30, 29,  8,  3],\n",
       "       [ 0,  2, 25, 23],\n",
       "       [ 5, 38, 39, 11],\n",
       "       [21, 37, 22, 15],\n",
       "       [30, 25, 26, 34],\n",
       "       [44, 24,  0, 28]])"
      ]
     },
     "execution_count": 139,
     "metadata": {},
     "output_type": "execute_result"
    }
   ],
   "source": [
    "np.random.seed(1111)\n",
    "X = np.random.randint(low=0, high=50, size=(30, 4))\n",
    "X"
   ]
  },
  {
   "cell_type": "code",
   "execution_count": 146,
   "metadata": {},
   "outputs": [
    {
     "data": {
      "text/plain": [
       "array([0., 0., 0., 0.])"
      ]
     },
     "execution_count": 146,
     "metadata": {},
     "output_type": "execute_result"
    }
   ],
   "source": [
    "# Your code here\n",
    "X_new = X - X.mean(axis=0)\n",
    "X_new.mean(axis=0)"
   ]
  },
  {
   "cell_type": "markdown",
   "metadata": {},
   "source": [
    "__Use `np.isclose` to validate that all the columns in the new matrix have mean 0.__"
   ]
  },
  {
   "cell_type": "code",
   "execution_count": 153,
   "metadata": {},
   "outputs": [
    {
     "data": {
      "text/plain": [
       "array([ True,  True,  True,  True])"
      ]
     },
     "execution_count": 153,
     "metadata": {},
     "output_type": "execute_result"
    }
   ],
   "source": [
    "# Your code here\n",
    "np.isclose(X_new.mean(axis=0),0)"
   ]
  },
  {
   "cell_type": "markdown",
   "metadata": {},
   "source": [
    "***\n",
    "__Let X,Y be 2 random variables. In front of you is the joint distribution, J, of X and Y.  J[i. j] = $p(x=i, y=j)$  \n",
    "Find out if X and Y are independent.__  \n",
    "Reverse this string ([::-1]) for a hint: \n",
    "```py\n",
    "J nevig eht ot erapmoc dna noitubirtsid tnioj eht etupmoc ,noitagergga gnisu Y dna X fo slanigram eht etupmoC\n",
    "```"
   ]
  },
  {
   "cell_type": "code",
   "execution_count": 154,
   "metadata": {},
   "outputs": [],
   "source": [
    "J = np.array(([\n",
    "    [0.04 , 0.03 , 0.02 , 0.01 ],\n",
    "    [0.075, 0.1  , 0.05 , 0.025],\n",
    "    [0.075, 0.1  , 0.05 , 0.025],\n",
    "    [0.12 , 0.16 , 0.08 , 0.04 ]\n",
    "]))"
   ]
  },
  {
   "cell_type": "code",
   "execution_count": 158,
   "metadata": {},
   "outputs": [
    {
     "data": {
      "text/plain": [
       "'Compute the marginals of X and Y using aggregation, compute the joint distribution and compare to the given J'"
      ]
     },
     "execution_count": 158,
     "metadata": {},
     "output_type": "execute_result"
    }
   ],
   "source": [
    "# Your code here\n",
    "s = \"J nevig eht ot erapmoc dna noitubirtsid tnioj eht etupmoc ,noitagergga gnisu Y dna X fo slanigram eht etupmoC\"\n",
    "s1 = s[::-1]\n",
    "s1"
   ]
  },
  {
   "cell_type": "code",
   "execution_count": 176,
   "metadata": {},
   "outputs": [
    {
     "data": {
      "text/plain": [
       "array([[False, False,  True,  True],\n",
       "       [False, False,  True,  True],\n",
       "       [False, False,  True,  True],\n",
       "       [False, False,  True,  True]])"
      ]
     },
     "execution_count": 176,
     "metadata": {},
     "output_type": "execute_result"
    }
   ],
   "source": [
    "np.isclose(J ,J.sum(axis=0) * J.sum(axis=1).reshape(4,1))\n",
    "#J.sum(axis=1).T.shape"
   ]
  },
  {
   "cell_type": "markdown",
   "metadata": {},
   "source": [
    "***\n",
    "## Boolean indexing and Fancy indexing"
   ]
  },
  {
   "cell_type": "markdown",
   "metadata": {},
   "source": [
    "### Boolean operations\n",
    "Before we talk about boolean indexing we'll talk about boolean ufuncs.  \n",
    "We saw we can operate on numpy arrays in an element wise fashion using arithmetic functions, which will result in the computation of the operation on each element. We can also work element wise using boolean operations which will result in a boolean array indicating whether the boolean operator was True or False on each element."
   ]
  },
  {
   "cell_type": "code",
   "execution_count": 3,
   "metadata": {},
   "outputs": [
    {
     "data": {
      "text/plain": [
       "array([18, 18, 33,  6, 16, 27, 15, 26, 32, 30, 17,  9, 39, 38, 37, 27, 36,\n",
       "       43, 21, 10])"
      ]
     },
     "execution_count": 3,
     "metadata": {},
     "output_type": "execute_result"
    }
   ],
   "source": [
    "np.random.seed(2611)\n",
    "a = np.random.randint(low=0, high=50, size=20)\n",
    "a"
   ]
  },
  {
   "cell_type": "code",
   "execution_count": 4,
   "metadata": {},
   "outputs": [
    {
     "data": {
      "text/plain": [
       "array([ True,  True, False, False, False, False, False, False, False,\n",
       "       False, False, False, False, False, False, False, False, False,\n",
       "       False, False])"
      ]
     },
     "execution_count": 4,
     "metadata": {},
     "output_type": "execute_result"
    }
   ],
   "source": [
    "a == 18"
   ]
  },
  {
   "cell_type": "code",
   "execution_count": 5,
   "metadata": {},
   "outputs": [
    {
     "data": {
      "text/plain": [
       "array([False, False,  True, False, False,  True, False,  True,  True,\n",
       "        True, False, False,  True,  True,  True,  True,  True,  True,\n",
       "        True, False])"
      ]
     },
     "execution_count": 5,
     "metadata": {},
     "output_type": "execute_result"
    }
   ],
   "source": [
    "a > 18"
   ]
  },
  {
   "cell_type": "markdown",
   "metadata": {},
   "source": [
    "Given this boolean array we can now check different properties of our original array.  \n",
    "For example we can check how many entries in our array are 18 - "
   ]
  },
  {
   "cell_type": "code",
   "execution_count": 6,
   "metadata": {},
   "outputs": [
    {
     "data": {
      "text/plain": [
       "2"
      ]
     },
     "execution_count": 6,
     "metadata": {},
     "output_type": "execute_result"
    }
   ],
   "source": [
    "(a == 18).sum()"
   ]
  },
  {
   "cell_type": "markdown",
   "metadata": {},
   "source": [
    "We can check if __all__ or __any__ of the elements possess a certain attribute:"
   ]
  },
  {
   "cell_type": "code",
   "execution_count": 7,
   "metadata": {},
   "outputs": [
    {
     "data": {
      "text/plain": [
       "(True, True, False)"
      ]
     },
     "execution_count": 7,
     "metadata": {},
     "output_type": "execute_result"
    }
   ],
   "source": [
    "(a == 18).any(), (a < 50).any(), (a < 0).any()"
   ]
  },
  {
   "cell_type": "code",
   "execution_count": 8,
   "metadata": {},
   "outputs": [
    {
     "data": {
      "text/plain": [
       "(False, True, False)"
      ]
     },
     "execution_count": 8,
     "metadata": {},
     "output_type": "execute_result"
    }
   ],
   "source": [
    "(a == 18).all(), (a < 50).all(), (a < 0).all()"
   ]
  },
  {
   "cell_type": "markdown",
   "metadata": {},
   "source": [
    "And this obviously work on multi dimensional arrays as well"
   ]
  },
  {
   "cell_type": "code",
   "execution_count": 9,
   "metadata": {},
   "outputs": [
    {
     "data": {
      "text/plain": [
       "array([[19,  6,  8,  9],\n",
       "       [22,  8, 13, 12],\n",
       "       [27,  7, 26, 25],\n",
       "       [19,  6, 27, 13],\n",
       "       [12, 17,  2, 11]])"
      ]
     },
     "execution_count": 9,
     "metadata": {},
     "output_type": "execute_result"
    }
   ],
   "source": [
    "np.random.seed(23)\n",
    "A = np.random.randint(low=0, high=30, size=(5, 4))\n",
    "A"
   ]
  },
  {
   "cell_type": "code",
   "execution_count": 10,
   "metadata": {},
   "outputs": [
    {
     "data": {
      "text/plain": [
       "array([[ True, False, False, False],\n",
       "       [ True, False,  True,  True],\n",
       "       [ True, False,  True,  True],\n",
       "       [ True, False,  True,  True],\n",
       "       [ True,  True, False,  True]])"
      ]
     },
     "execution_count": 10,
     "metadata": {},
     "output_type": "execute_result"
    }
   ],
   "source": [
    "A > 9"
   ]
  },
  {
   "cell_type": "code",
   "execution_count": 11,
   "metadata": {},
   "outputs": [
    {
     "data": {
      "text/plain": [
       "array([[False,  True, False, False],\n",
       "       [False, False, False, False],\n",
       "       [False, False, False, False],\n",
       "       [False,  True, False, False],\n",
       "       [False, False, False, False]])"
      ]
     },
     "execution_count": 11,
     "metadata": {},
     "output_type": "execute_result"
    }
   ],
   "source": [
    "A == 6"
   ]
  },
  {
   "cell_type": "code",
   "execution_count": 12,
   "metadata": {},
   "outputs": [
    {
     "data": {
      "text/plain": [
       "(2, True, False)"
      ]
     },
     "execution_count": 12,
     "metadata": {},
     "output_type": "execute_result"
    }
   ],
   "source": [
    "(A==6).sum(), (A>6).any(), (A>6).all()"
   ]
  },
  {
   "cell_type": "markdown",
   "metadata": {},
   "source": [
    "We can use the axis parameter to aggregate over an axis and not the entire matrix."
   ]
  },
  {
   "cell_type": "code",
   "execution_count": 13,
   "metadata": {},
   "outputs": [
    {
     "data": {
      "text/plain": [
       "(array([0, 2, 0, 0]),\n",
       " array([False, False, False, False,  True]),\n",
       " array([ True, False, False,  True]))"
      ]
     },
     "execution_count": 13,
     "metadata": {},
     "output_type": "execute_result"
    }
   ],
   "source": [
    "(A == 6).sum(axis=0), (A<6).any(axis=1), (A>6).all(axis=0)"
   ]
  },
  {
   "cell_type": "markdown",
   "metadata": {},
   "source": [
    "### Bitwise operation\n",
    "A bitwise operation is a function which takes in 2 boolean values {0, 1} an outputs a boolean value{0, 1}. A bitwise operation is defined by a truth table which holds the output for each combination of values.  \n",
    "Numpy supports 4 boolean bitwise operation :\n",
    "1. & (AND)\n",
    "1. | (OR)\n",
    "1. ^ (XOR)\n",
    "1. ~ (NOT)  \n",
    "\n"
   ]
  },
  {
   "cell_type": "markdown",
   "metadata": {},
   "source": [
    "This enables us to check multiple attributes quickly"
   ]
  },
  {
   "cell_type": "code",
   "execution_count": 14,
   "metadata": {},
   "outputs": [
    {
     "data": {
      "text/plain": [
       "array([[19,  6,  8,  9],\n",
       "       [22,  8, 13, 12],\n",
       "       [27,  7, 26, 25],\n",
       "       [19,  6, 27, 13],\n",
       "       [12, 17,  2, 11]])"
      ]
     },
     "execution_count": 14,
     "metadata": {},
     "output_type": "execute_result"
    }
   ],
   "source": [
    "np.random.seed(23)\n",
    "A = np.random.randint(low=0, high=30, size=(5, 4))\n",
    "A"
   ]
  },
  {
   "cell_type": "code",
   "execution_count": 15,
   "metadata": {},
   "outputs": [
    {
     "data": {
      "text/plain": [
       "array([[False, False, False,  True],\n",
       "       [False, False,  True,  True],\n",
       "       [False, False, False, False],\n",
       "       [False, False, False,  True],\n",
       "       [ True, False, False,  True]])"
      ]
     },
     "execution_count": 15,
     "metadata": {},
     "output_type": "execute_result"
    }
   ],
   "source": [
    "(A > 8) & (A < 15) # Only values between 8 and 30 are evaluated to True"
   ]
  },
  {
   "cell_type": "markdown",
   "metadata": {},
   "source": [
    "__Watch Out__ Bitwise operation precede comparison. For example, the following statements fail:"
   ]
  },
  {
   "cell_type": "code",
   "execution_count": 16,
   "metadata": {},
   "outputs": [
    {
     "ename": "ValueError",
     "evalue": "The truth value of an array with more than one element is ambiguous. Use a.any() or a.all()",
     "output_type": "error",
     "traceback": [
      "\u001b[1;31m---------------------------------------------------------------------------\u001b[0m",
      "\u001b[1;31mValueError\u001b[0m                                Traceback (most recent call last)",
      "\u001b[1;32m<ipython-input-16-df3330b38188>\u001b[0m in \u001b[0;36m<module>\u001b[1;34m()\u001b[0m\n\u001b[1;32m----> 1\u001b[1;33m \u001b[0mA\u001b[0m \u001b[1;33m>\u001b[0m \u001b[1;36m8\u001b[0m \u001b[1;33m&\u001b[0m \u001b[0mA\u001b[0m \u001b[1;33m<\u001b[0m \u001b[1;36m15\u001b[0m\u001b[1;33m\u001b[0m\u001b[0m\n\u001b[0m",
      "\u001b[1;31mValueError\u001b[0m: The truth value of an array with more than one element is ambiguous. Use a.any() or a.all()"
     ]
    }
   ],
   "source": [
    "A > 8 & A < 15"
   ]
  },
  {
   "cell_type": "markdown",
   "metadata": {},
   "source": [
    "> __and__ / **or** vs __&__ / **|** It could be confusing to see the difference between `and` and `&` (`or` and `|`). The `and` and `or` keyword works on \"truthfulness\" of an entire object. When you try to evaluate \n",
    "```py \n",
    "(A > 8) and (A < 15)\n",
    "```\n",
    "The interperter will raise an exception since A>8 can not be evaluated as a boolean value. And `and` is not a ufunc in numpy. But \n",
    "```py\n",
    "(A > 8) | (A < 15)\n",
    "```\n",
    "Works since `|` calls a numpy ufunc which operates in an element by element fashion."
   ]
  },
  {
   "cell_type": "code",
   "execution_count": 17,
   "metadata": {},
   "outputs": [
    {
     "ename": "ValueError",
     "evalue": "The truth value of an array with more than one element is ambiguous. Use a.any() or a.all()",
     "output_type": "error",
     "traceback": [
      "\u001b[1;31m---------------------------------------------------------------------------\u001b[0m",
      "\u001b[1;31mValueError\u001b[0m                                Traceback (most recent call last)",
      "\u001b[1;32m<ipython-input-17-51656c380e96>\u001b[0m in \u001b[0;36m<module>\u001b[1;34m()\u001b[0m\n\u001b[1;32m----> 1\u001b[1;33m \u001b[1;33m(\u001b[0m\u001b[0mA\u001b[0m \u001b[1;33m>\u001b[0m \u001b[1;36m8\u001b[0m\u001b[1;33m)\u001b[0m \u001b[1;32mand\u001b[0m \u001b[1;33m(\u001b[0m\u001b[0mA\u001b[0m \u001b[1;33m<\u001b[0m \u001b[1;36m15\u001b[0m\u001b[1;33m)\u001b[0m\u001b[1;33m\u001b[0m\u001b[0m\n\u001b[0m",
      "\u001b[1;31mValueError\u001b[0m: The truth value of an array with more than one element is ambiguous. Use a.any() or a.all()"
     ]
    }
   ],
   "source": [
    "(A > 8) and (A < 15)"
   ]
  },
  {
   "cell_type": "code",
   "execution_count": 18,
   "metadata": {},
   "outputs": [
    {
     "data": {
      "text/plain": [
       "True"
      ]
     },
     "execution_count": 18,
     "metadata": {},
     "output_type": "execute_result"
    }
   ],
   "source": [
    "(A > 8).any() and (A < 15).any()"
   ]
  },
  {
   "cell_type": "markdown",
   "metadata": {},
   "source": [
    "One of the coolest features of numpy is that you can use boolean array for indexing. This is usually referred to as __masking__.  \n",
    "In the example below, we first build a boolean array, indicating whether a valuea is bigger then 7 or not. \n",
    "Then, we use this boolean array to extract all the values which are bigger than 7. This is a very powerful and convenient feature."
   ]
  },
  {
   "cell_type": "code",
   "execution_count": 19,
   "metadata": {},
   "outputs": [
    {
     "data": {
      "text/plain": [
       "array([19,  8,  9, 22,  8, 13, 12, 27, 26, 25, 19, 27, 13, 12, 17, 11])"
      ]
     },
     "execution_count": 19,
     "metadata": {},
     "output_type": "execute_result"
    }
   ],
   "source": [
    "A[A > 7] # Get all values greater than 7"
   ]
  },
  {
   "cell_type": "code",
   "execution_count": 20,
   "metadata": {},
   "outputs": [
    {
     "data": {
      "text/plain": [
       "array([8, 9, 8, 7, 2])"
      ]
     },
     "execution_count": 20,
     "metadata": {},
     "output_type": "execute_result"
    }
   ],
   "source": [
    "A[(A < 10) & (A != 6)] # Get all values smaller than 10 which are not 6"
   ]
  },
  {
   "cell_type": "markdown",
   "metadata": {},
   "source": [
    "***\n",
    "### Exercise\n",
    "***"
   ]
  },
  {
   "cell_type": "markdown",
   "metadata": {},
   "source": [
    "__Get all the values from A which are between 10 and 20 but not 11__"
   ]
  },
  {
   "cell_type": "code",
   "execution_count": 28,
   "metadata": {},
   "outputs": [
    {
     "data": {
      "text/plain": [
       "array([[ 1,  3,  8,  9,  8],\n",
       "       [18,  4,  5,  1,  3],\n",
       "       [17,  1, 16,  6, 11],\n",
       "       [ 2,  0, 12,  8,  8],\n",
       "       [ 7, 15, 15,  5, 14]])"
      ]
     },
     "execution_count": 28,
     "metadata": {},
     "output_type": "execute_result"
    }
   ],
   "source": [
    "np.random.seed(99)\n",
    "A = np.random.randint(low=0, high=20, size=(5, 5))\n",
    "A"
   ]
  },
  {
   "cell_type": "code",
   "execution_count": 29,
   "metadata": {},
   "outputs": [
    {
     "data": {
      "text/plain": [
       "array([18, 17, 16, 12, 15, 15, 14])"
      ]
     },
     "execution_count": 29,
     "metadata": {},
     "output_type": "execute_result"
    }
   ],
   "source": [
    "# Your code here\n",
    "# array([19, 13, 12, 19, 13, 12, 17])\n",
    "\n",
    "A[ (A > 11) & (A < 20)]\n",
    "# array([18, 17, 16, 12, 15, 15, 14])"
   ]
  },
  {
   "cell_type": "markdown",
   "metadata": {},
   "source": [
    "__Use np.where to find the indices of all the values between 10 and 20 or 30 to 40 in B__"
   ]
  },
  {
   "cell_type": "code",
   "execution_count": 30,
   "metadata": {},
   "outputs": [
    {
     "data": {
      "text/plain": [
       "array([ 8, 31, 37, 24, 24, 29, 15, 12, 16,  7, 37, 19, 12, 16, 31,  5, 24,\n",
       "       28, 21, 27, 15,  1, 10, 32, 11, 18, 15, 22, 22, 33, 35, 16,  6, 33,\n",
       "       24, 18,  8,  7,  7, 16,  3, 26, 27, 24, 17, 15, 38, 10, 17,  8])"
      ]
     },
     "execution_count": 30,
     "metadata": {},
     "output_type": "execute_result"
    }
   ],
   "source": [
    "np.random.seed(2019)\n",
    "B = np.random.randint(low=0, high=41, size=50)\n",
    "B"
   ]
  },
  {
   "cell_type": "code",
   "execution_count": 31,
   "metadata": {},
   "outputs": [
    {
     "data": {
      "text/plain": [
       "(array([ 1,  2,  6,  7,  8, 10, 11, 12, 13, 14, 20, 23, 24, 25, 26, 29, 30,\n",
       "        31, 33, 35, 39, 44, 45, 46, 48], dtype=int64),)"
      ]
     },
     "execution_count": 31,
     "metadata": {},
     "output_type": "execute_result"
    }
   ],
   "source": [
    "# Your code here\n",
    "idx = np.where(((B > 10) & (B< 20)) | ((B > 30) & (B< 40)))\n",
    "idx"
   ]
  },
  {
   "cell_type": "markdown",
   "metadata": {},
   "source": [
    "__Use the same technique to find the indices of all the wines which have `alcohol` level of above 12.5 or `malic acid` of below 2 but not both!__"
   ]
  },
  {
   "cell_type": "code",
   "execution_count": 32,
   "metadata": {},
   "outputs": [],
   "source": [
    "from sklearn import datasets # We are going to use sklearn to load a sample dataset.\n",
    "\n",
    "# Load the wine dataset.\n",
    "wine_dataset = datasets.load_wine()\n",
    "\n",
    "# Extract the feature names from the dataset.\n",
    "features_names = wine_dataset['feature_names']\n",
    "\n",
    "# Extract the features matrix from the dataset.\n",
    "X = wine_dataset['data']"
   ]
  },
  {
   "cell_type": "code",
   "execution_count": 34,
   "metadata": {},
   "outputs": [
    {
     "data": {
      "text/plain": [
       "['alcohol',\n",
       " 'malic_acid',\n",
       " 'ash',\n",
       " 'alcalinity_of_ash',\n",
       " 'magnesium',\n",
       " 'total_phenols',\n",
       " 'flavanoids',\n",
       " 'nonflavanoid_phenols',\n",
       " 'proanthocyanins',\n",
       " 'color_intensity',\n",
       " 'hue',\n",
       " 'od280/od315_of_diluted_wines',\n",
       " 'proline']"
      ]
     },
     "execution_count": 34,
     "metadata": {},
     "output_type": "execute_result"
    }
   ],
   "source": [
    "# Your code here\n",
    "features_names"
   ]
  },
  {
   "cell_type": "code",
   "execution_count": 47,
   "metadata": {},
   "outputs": [
    {
     "data": {
      "text/plain": [
       "array([[14.23,  1.71],\n",
       "       [13.2 ,  1.78],\n",
       "       [13.16,  2.36],\n",
       "       [14.37,  1.95],\n",
       "       [13.24,  2.59],\n",
       "       [14.2 ,  1.76],\n",
       "       [14.39,  1.87],\n",
       "       [14.06,  2.15],\n",
       "       [14.83,  1.64],\n",
       "       [13.86,  1.35],\n",
       "       [14.1 ,  2.16],\n",
       "       [14.12,  1.48],\n",
       "       [13.75,  1.73],\n",
       "       [14.75,  1.73],\n",
       "       [14.38,  1.87],\n",
       "       [13.63,  1.81],\n",
       "       [14.3 ,  1.92],\n",
       "       [13.83,  1.57],\n",
       "       [14.19,  1.59],\n",
       "       [13.64,  3.1 ],\n",
       "       [14.06,  1.63],\n",
       "       [12.93,  3.8 ],\n",
       "       [13.71,  1.86],\n",
       "       [12.85,  1.6 ],\n",
       "       [13.5 ,  1.81],\n",
       "       [13.05,  2.05],\n",
       "       [13.39,  1.77],\n",
       "       [13.3 ,  1.72],\n",
       "       [13.87,  1.9 ],\n",
       "       [14.02,  1.68],\n",
       "       [13.73,  1.5 ],\n",
       "       [13.58,  1.66],\n",
       "       [13.68,  1.83],\n",
       "       [13.76,  1.53],\n",
       "       [13.51,  1.8 ],\n",
       "       [13.48,  1.81],\n",
       "       [13.28,  1.64],\n",
       "       [13.05,  1.65],\n",
       "       [13.07,  1.5 ],\n",
       "       [14.22,  3.99],\n",
       "       [13.56,  1.71],\n",
       "       [13.41,  3.84],\n",
       "       [13.88,  1.89],\n",
       "       [13.24,  3.98],\n",
       "       [13.05,  1.77],\n",
       "       [14.21,  4.04],\n",
       "       [14.38,  3.59],\n",
       "       [13.9 ,  1.68],\n",
       "       [14.1 ,  2.02],\n",
       "       [13.94,  1.73],\n",
       "       [13.05,  1.73],\n",
       "       [13.83,  1.65],\n",
       "       [13.82,  1.75],\n",
       "       [13.77,  1.9 ],\n",
       "       [13.74,  1.67],\n",
       "       [13.56,  1.73],\n",
       "       [14.22,  1.7 ],\n",
       "       [13.29,  1.97],\n",
       "       [13.72,  1.43],\n",
       "       [12.37,  0.94],\n",
       "       [12.33,  1.1 ],\n",
       "       [12.64,  1.36],\n",
       "       [13.67,  1.25],\n",
       "       [12.37,  1.13],\n",
       "       [12.17,  1.45],\n",
       "       [12.37,  1.21],\n",
       "       [13.11,  1.01],\n",
       "       [12.37,  1.17],\n",
       "       [13.34,  0.94],\n",
       "       [12.21,  1.19],\n",
       "       [12.29,  1.61],\n",
       "       [13.86,  1.51],\n",
       "       [13.49,  1.66],\n",
       "       [12.99,  1.67],\n",
       "       [11.96,  1.09],\n",
       "       [11.66,  1.88],\n",
       "       [13.03,  0.9 ],\n",
       "       [11.84,  2.89],\n",
       "       [12.33,  0.99],\n",
       "       [12.7 ,  3.87],\n",
       "       [12.  ,  0.92],\n",
       "       [12.72,  1.81],\n",
       "       [12.08,  1.13],\n",
       "       [13.05,  3.86],\n",
       "       [11.84,  0.89],\n",
       "       [12.67,  0.98],\n",
       "       [12.16,  1.61],\n",
       "       [11.65,  1.67],\n",
       "       [11.64,  2.06],\n",
       "       [12.08,  1.33],\n",
       "       [12.08,  1.83],\n",
       "       [12.  ,  1.51],\n",
       "       [12.69,  1.53],\n",
       "       [12.29,  2.83],\n",
       "       [11.62,  1.99],\n",
       "       [12.47,  1.52],\n",
       "       [11.81,  2.12],\n",
       "       [12.29,  1.41],\n",
       "       [12.37,  1.07],\n",
       "       [12.29,  3.17],\n",
       "       [12.08,  2.08],\n",
       "       [12.6 ,  1.34],\n",
       "       [12.34,  2.45],\n",
       "       [11.82,  1.72],\n",
       "       [12.51,  1.73],\n",
       "       [12.42,  2.55],\n",
       "       [12.25,  1.73],\n",
       "       [12.72,  1.75],\n",
       "       [12.22,  1.29],\n",
       "       [11.61,  1.35],\n",
       "       [11.46,  3.74],\n",
       "       [12.52,  2.43],\n",
       "       [11.76,  2.68],\n",
       "       [11.41,  0.74],\n",
       "       [12.08,  1.39],\n",
       "       [11.03,  1.51],\n",
       "       [11.82,  1.47],\n",
       "       [12.42,  1.61],\n",
       "       [12.77,  3.43],\n",
       "       [12.  ,  3.43],\n",
       "       [11.45,  2.4 ],\n",
       "       [11.56,  2.05],\n",
       "       [12.42,  4.43],\n",
       "       [13.05,  5.8 ],\n",
       "       [11.87,  4.31],\n",
       "       [12.07,  2.16],\n",
       "       [12.43,  1.53],\n",
       "       [11.79,  2.13],\n",
       "       [12.37,  1.63],\n",
       "       [12.04,  4.3 ],\n",
       "       [12.86,  1.35],\n",
       "       [12.88,  2.99],\n",
       "       [12.81,  2.31],\n",
       "       [12.7 ,  3.55],\n",
       "       [12.51,  1.24],\n",
       "       [12.6 ,  2.46],\n",
       "       [12.25,  4.72],\n",
       "       [12.53,  5.51],\n",
       "       [13.49,  3.59],\n",
       "       [12.84,  2.96],\n",
       "       [12.93,  2.81],\n",
       "       [13.36,  2.56],\n",
       "       [13.52,  3.17],\n",
       "       [13.62,  4.95],\n",
       "       [12.25,  3.88],\n",
       "       [13.16,  3.57],\n",
       "       [13.88,  5.04],\n",
       "       [12.87,  4.61],\n",
       "       [13.32,  3.24],\n",
       "       [13.08,  3.9 ],\n",
       "       [13.5 ,  3.12],\n",
       "       [12.79,  2.67],\n",
       "       [13.11,  1.9 ],\n",
       "       [13.23,  3.3 ],\n",
       "       [12.58,  1.29],\n",
       "       [13.17,  5.19],\n",
       "       [13.84,  4.12],\n",
       "       [12.45,  3.03],\n",
       "       [14.34,  1.68],\n",
       "       [13.48,  1.67],\n",
       "       [12.36,  3.83],\n",
       "       [13.69,  3.26],\n",
       "       [12.85,  3.27],\n",
       "       [12.96,  3.45],\n",
       "       [13.78,  2.76],\n",
       "       [13.73,  4.36],\n",
       "       [13.45,  3.7 ],\n",
       "       [12.82,  3.37],\n",
       "       [13.58,  2.58],\n",
       "       [13.4 ,  4.6 ],\n",
       "       [12.2 ,  3.03],\n",
       "       [12.77,  2.39],\n",
       "       [14.16,  2.51],\n",
       "       [13.71,  5.65],\n",
       "       [13.4 ,  3.91],\n",
       "       [13.27,  4.28],\n",
       "       [13.17,  2.59],\n",
       "       [14.13,  4.1 ]])"
      ]
     },
     "execution_count": 47,
     "metadata": {},
     "output_type": "execute_result"
    }
   ],
   "source": [
    "X[:, [0, 1]]"
   ]
  },
  {
   "cell_type": "code",
   "execution_count": 44,
   "metadata": {},
   "outputs": [
    {
     "data": {
      "text/plain": [
       "(array([  2,   4,   7,  10,  19,  21,  25,  39,  41,  43,  45,  46,  48,\n",
       "         59,  60,  63,  64,  65,  67,  69,  70,  74,  75,  78,  79,  80,\n",
       "         82,  83,  84,  86,  87,  89,  90,  91,  94,  95,  97,  98, 103,\n",
       "        106, 108, 109, 111, 113, 114, 115, 116, 117, 118, 123, 126, 128,\n",
       "        131, 132, 133, 135, 137, 138, 139, 140, 141, 142, 143, 145, 146,\n",
       "        147, 148, 149, 150, 151, 153, 155, 156, 161, 162, 163, 164, 165,\n",
       "        166, 167, 168, 169, 171, 172, 173, 174, 175, 176, 177], dtype=int64),)"
      ]
     },
     "execution_count": 44,
     "metadata": {},
     "output_type": "execute_result"
    }
   ],
   "source": [
    "alc = X[:,0]\n",
    "acid = X[:, 1]\n",
    "idx = np.where( ((alc > 12.5) & (acid >= 2)) | ((alc <= 12.5) & (acid < 2))) \n",
    "idx"
   ]
  },
  {
   "cell_type": "markdown",
   "metadata": {},
   "source": [
    "### Fancy indexing\n",
    "Once we have extracted the indices from the features we can use those indices to get all the rows that match our criterion. The idea of using an array of integers as an indexer is called fancy indexing."
   ]
  },
  {
   "cell_type": "code",
   "execution_count": 49,
   "metadata": {},
   "outputs": [
    {
     "data": {
      "text/plain": [
       "array([[  13.16,    2.36,    2.67, ...,    1.03,    3.17, 1185.  ],\n",
       "       [  13.24,    2.59,    2.87, ...,    1.04,    2.93,  735.  ],\n",
       "       [  14.06,    2.15,    2.61, ...,    1.06,    3.58, 1295.  ],\n",
       "       ...,\n",
       "       [  13.27,    4.28,    2.26, ...,    0.59,    1.56,  835.  ],\n",
       "       [  13.17,    2.59,    2.37, ...,    0.6 ,    1.62,  840.  ],\n",
       "       [  14.13,    4.1 ,    2.74, ...,    0.61,    1.6 ,  560.  ]])"
      ]
     },
     "execution_count": 49,
     "metadata": {},
     "output_type": "execute_result"
    }
   ],
   "source": [
    "alc = X[:,0]\n",
    "acid = X[:, 1]\n",
    "mask = ((alc > 12.5) & (acid >= 2)) | ((alc <= 12.5) & (acid < 2))\n",
    "\n",
    "ind = np.where(mask) # Assuming you got mask right.\n",
    "X[np.where(mask)]"
   ]
  },
  {
   "cell_type": "markdown",
   "metadata": {},
   "source": [
    "The idea of Fancy indexing is pretty simple : we can use a scalar to pick a specific element from an array. So let's use an array to access multiple elements in an array."
   ]
  },
  {
   "cell_type": "markdown",
   "metadata": {},
   "source": [
    "<img src=\"https://media.giphy.com/media/dQkcf8GANR0ps57oBH/giphy.gif\" width=\"200\">"
   ]
  },
  {
   "cell_type": "code",
   "execution_count": 51,
   "metadata": {},
   "outputs": [],
   "source": [
    "a = np.arange(20)"
   ]
  },
  {
   "cell_type": "code",
   "execution_count": 52,
   "metadata": {},
   "outputs": [
    {
     "data": {
      "text/plain": [
       "(0, 2, 5, 17)"
      ]
     },
     "execution_count": 52,
     "metadata": {},
     "output_type": "execute_result"
    }
   ],
   "source": [
    "a[0], a[2], a[5], a[17] # Cumbersome way of accessing 4 elements in an array."
   ]
  },
  {
   "cell_type": "code",
   "execution_count": 53,
   "metadata": {},
   "outputs": [
    {
     "data": {
      "text/plain": [
       "array([ 0,  2,  5, 17])"
      ]
     },
     "execution_count": 53,
     "metadata": {},
     "output_type": "execute_result"
    }
   ],
   "source": [
    "ind = [0, 2, 5, 17] # Fancy indexing!\n",
    "a[ind]"
   ]
  },
  {
   "cell_type": "markdown",
   "metadata": {},
   "source": [
    "We can also do fancy indexing on multiple axis"
   ]
  },
  {
   "cell_type": "code",
   "execution_count": 54,
   "metadata": {},
   "outputs": [
    {
     "data": {
      "text/plain": [
       "array([[ 0,  1,  2,  3,  4],\n",
       "       [ 5,  6,  7,  8,  9],\n",
       "       [10, 11, 12, 13, 14],\n",
       "       [15, 16, 17, 18, 19]])"
      ]
     },
     "execution_count": 54,
     "metadata": {},
     "output_type": "execute_result"
    }
   ],
   "source": [
    "A = np.arange(20).reshape(4, 5)\n",
    "A"
   ]
  },
  {
   "cell_type": "code",
   "execution_count": 55,
   "metadata": {},
   "outputs": [
    {
     "data": {
      "text/plain": [
       "array([ 1,  7, 19])"
      ]
     },
     "execution_count": 55,
     "metadata": {},
     "output_type": "execute_result"
    }
   ],
   "source": [
    "row = [0, 1, 3]\n",
    "col = [1, 2, 4]\n",
    "A[row, col]"
   ]
  },
  {
   "cell_type": "markdown",
   "metadata": {},
   "source": [
    "If you want to take the [1, 2, 4] col values from [0, 1, 3] rows we can use __broadcasting!__"
   ]
  },
  {
   "cell_type": "code",
   "execution_count": 58,
   "metadata": {},
   "outputs": [
    {
     "data": {
      "text/plain": [
       "array([[0],\n",
       "       [1],\n",
       "       [3]])"
      ]
     },
     "execution_count": 58,
     "metadata": {},
     "output_type": "execute_result"
    }
   ],
   "source": [
    "row = np.array([0, 1, 3])\n",
    "row\n",
    "row[:, np.newaxis]"
   ]
  },
  {
   "cell_type": "code",
   "execution_count": 59,
   "metadata": {},
   "outputs": [
    {
     "data": {
      "text/plain": [
       "array([[ 1,  2,  4],\n",
       "       [ 6,  7,  9],\n",
       "       [16, 17, 19]])"
      ]
     },
     "execution_count": 59,
     "metadata": {},
     "output_type": "execute_result"
    }
   ],
   "source": [
    "row = np.array([0, 1, 3])\n",
    "A[row[:, np.newaxis], col]"
   ]
  },
  {
   "cell_type": "markdown",
   "metadata": {},
   "source": [
    "and you can also mix between indexing types"
   ]
  },
  {
   "cell_type": "code",
   "execution_count": 60,
   "metadata": {},
   "outputs": [
    {
     "data": {
      "text/plain": [
       "array([[96,  8, 67, 67, 91],\n",
       "       [ 3, 71, 56, 29, 48],\n",
       "       [32, 24, 74,  9, 51],\n",
       "       [11, 55, 62, 67, 69],\n",
       "       [48, 28, 20,  8, 38],\n",
       "       [84, 65,  1, 79, 69],\n",
       "       [74, 73, 62, 21, 29],\n",
       "       [90,  6, 38, 22, 63]])"
      ]
     },
     "execution_count": 60,
     "metadata": {},
     "output_type": "execute_result"
    }
   ],
   "source": [
    "np.random.seed(2020)\n",
    "A = np.random.randint(low=0, high=100, size=(8, 5))\n",
    "A\n",
    "\n",
    "# array([[96,  8, 67, 67, 91],\n",
    "#        [ 3, 71, 56, 29, 48],\n",
    "#        [32, 24, 74,  9, 51],\n",
    "#        [11, 55, 62, 67, 69],\n",
    "#        [48, 28, 20,  8, 38],\n",
    "#        [84, 65,  1, 79, 69],\n",
    "#        [74, 73, 62, 21, 29],\n",
    "#        [90,  6, 38, 22, 63]])"
   ]
  },
  {
   "cell_type": "markdown",
   "metadata": {},
   "source": [
    "Using slicing and fancy indexing:"
   ]
  },
  {
   "cell_type": "code",
   "execution_count": 61,
   "metadata": {},
   "outputs": [
    {
     "data": {
      "text/plain": [
       "array([[71, 56, 48],\n",
       "       [24, 74, 51]])"
      ]
     },
     "execution_count": 61,
     "metadata": {},
     "output_type": "execute_result"
    }
   ],
   "source": [
    "A[1:3, [1, 2, 4]] # Grab row 1 and 2  take col values 1, 2, 4\n",
    "# array([[71, 56, 48],\n",
    "#        [24, 74, 51]])"
   ]
  },
  {
   "cell_type": "markdown",
   "metadata": {},
   "source": [
    "Using boolean and fancy indexing."
   ]
  },
  {
   "cell_type": "code",
   "execution_count": 80,
   "metadata": {},
   "outputs": [
    {
     "name": "stdout",
     "output_type": "stream",
     "text": [
      "[1 4 5 6]\n"
     ]
    },
    {
     "data": {
      "text/plain": [
       "array([[ 3, 48],\n",
       "       [48, 38],\n",
       "       [84, 69],\n",
       "       [74, 29]])"
      ]
     },
     "execution_count": 80,
     "metadata": {},
     "output_type": "execute_result"
    }
   ],
   "source": [
    "# Take the 1st, 4th, 5th and 6th row, and keep only columns that have a mean greater than 50.\n",
    "rows = np.array([1, 4, 5, 6])\n",
    "print(rows)\n",
    "col = A.mean(0) > 50\n",
    "#print(col)\n",
    "\n",
    "A[rows[:, np.newaxis], col]\n",
    "\n",
    "# array([[ 3, 48],\n",
    "#        [48, 38],\n",
    "#        [84, 69],\n",
    "#        [74, 29]])"
   ]
  },
  {
   "cell_type": "code",
   "execution_count": 81,
   "metadata": {},
   "outputs": [
    {
     "name": "stdout",
     "output_type": "stream",
     "text": [
      "[1 4 5 6]\n",
      "[ True False False False  True]\n"
     ]
    },
    {
     "data": {
      "text/plain": [
       "(array([[1],\n",
       "        [4],\n",
       "        [5],\n",
       "        [6]]), array([ True, False, False, False,  True]))"
      ]
     },
     "execution_count": 81,
     "metadata": {},
     "output_type": "execute_result"
    }
   ],
   "source": [
    "rows[:, np.newaxis], col\n",
    "#(array([[1],\n",
    "#         [4],\n",
    "#         [5],\n",
    "#         [6]]), array([ True, False, False, False,  True]))"
   ]
  },
  {
   "cell_type": "code",
   "execution_count": null,
   "metadata": {},
   "outputs": [],
   "source": []
  },
  {
   "cell_type": "markdown",
   "metadata": {},
   "source": [
    "# \"Losing Your Loops\": Fast Numerical Computing with NumPy \n",
    "\n",
    "From the PyCon 2015 conferece, a [presentation](https://speakerdeck.com/jakevdp/losing-your-loops-fast-numerical-computing-with-numpy-pycon-2015) by [Jake VanderPlas](http://vanderplas.com).\n",
    "\n",
    "Also available on [YouTube](https://www.youtube.com/watch?v=EEUXKG97YRw)."
   ]
  },
  {
   "cell_type": "markdown",
   "metadata": {},
   "source": [
    "# References\n",
    "\n",
    "- [Python Data Science Handbook](https://jakevdp.github.io/PythonDataScienceHandbook/) A thorough tour into Numpy. \n",
    "\n",
    "- [Yoav Ram Numpy Notebook](https://github.com/yoavram/SciComPy/blob/master/notebooks/numpy.ipynb) If you want to skim through most topics in Numpy."
   ]
  },
  {
   "cell_type": "markdown",
   "metadata": {},
   "source": [
    "![Python logo](https://www.python.org/static/community_logos/python-logo.png)"
   ]
  }
 ],
 "metadata": {
  "kernelspec": {
   "display_name": "Python 3",
   "language": "python",
   "name": "python3"
  },
  "language_info": {
   "codemirror_mode": {
    "name": "ipython",
    "version": 3
   },
   "file_extension": ".py",
   "mimetype": "text/x-python",
   "name": "python",
   "nbconvert_exporter": "python",
   "pygments_lexer": "ipython3",
   "version": "3.6.4"
  },
  "varInspector": {
   "cols": {
    "lenName": 16,
    "lenType": 16,
    "lenVar": 40
   },
   "kernels_config": {
    "python": {
     "delete_cmd_postfix": "",
     "delete_cmd_prefix": "del ",
     "library": "var_list.py",
     "varRefreshCmd": "print(var_dic_list())"
    },
    "r": {
     "delete_cmd_postfix": ") ",
     "delete_cmd_prefix": "rm(",
     "library": "var_list.r",
     "varRefreshCmd": "cat(var_dic_list()) "
    }
   },
   "position": {
    "height": "159px",
    "left": "1550px",
    "right": "20px",
    "top": "120px",
    "width": "350px"
   },
   "types_to_exclude": [
    "module",
    "function",
    "builtin_function_or_method",
    "instance",
    "_Feature"
   ],
   "window_display": true
  }
 },
 "nbformat": 4,
 "nbformat_minor": 2
}
