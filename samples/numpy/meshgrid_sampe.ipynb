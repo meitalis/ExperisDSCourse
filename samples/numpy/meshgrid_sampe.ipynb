{
 "cells": [
  {
   "cell_type": "code",
   "execution_count": 82,
   "metadata": {},
   "outputs": [
    {
     "data": {
      "text/plain": [
       "(10, 10)"
      ]
     },
     "metadata": {},
     "output_type": "display_data"
    },
    {
     "data": {
      "text/plain": [
       "(10, 10)"
      ]
     },
     "metadata": {},
     "output_type": "display_data"
    },
    {
     "data": {
      "text/plain": [
       "(10, 10)"
      ]
     },
     "metadata": {},
     "output_type": "display_data"
    },
    {
     "data": {
      "text/plain": [
       "(10,)"
      ]
     },
     "metadata": {},
     "output_type": "display_data"
    },
    {
     "data": {
      "text/plain": [
       "(10,)"
      ]
     },
     "metadata": {},
     "output_type": "display_data"
    },
    {
     "data": {
      "text/plain": [
       "<matplotlib.collections.PathCollection at 0x2255798e3c8>"
      ]
     },
     "execution_count": 82,
     "metadata": {},
     "output_type": "execute_result"
    },
    {
     "data": {
      "image/png": "[encoded data removed]",
      "text/plain": [
       "<matplotlib.figure.Figure at 0x22557595e48>"
      ]
     },
     "metadata": {},
     "output_type": "display_data"
    }
   ],
   "source": [
    "# x[0,0] = 0    y[0,0] = 0\n",
    "# x[0,1] = 1    y[0,1] = 0\n",
    "# x[0,2] = 2    y[0,2] = 0\n",
    "# x[0,3] = 3    y[0,3] = 0\n",
    "# x[0,4] = 4    y[0,4] = 0\n",
    "# x[1,0] = 0    y[1,0] = 1\n",
    "# x[1,1] = 1    y[1,1] = 1\n",
    "# ...\n",
    "# x[4,3] = 3    y[4,3] = 4\n",
    "# x[4,4] = 4    y[4,4] = 4\n",
    "# This would result in the following x and y matrices, such that the pairing of the corresponding element in each matrix gives the x and y coordinates of a point in the grid.\n",
    "\n",
    "# x =   0 1 2 3 4        y =   0 0 0 0 0\n",
    "#       0 1 2 3 4              1 1 1 1 1\n",
    "#       0 1 2 3 4              2 2 2 2 2\n",
    "#       0 1 2 3 4              3 3 3 3 3\n",
    "#       0 1 2 3 4              4 4 4 4 4\n",
    "# We can then plot these to verify that they are a gx = np.arange(-5, 5, 1)\n",
    "\n",
    "\n",
    "import numpy as np\n",
    "import matplotlib.pyplot as plt\n",
    "\n",
    "\n",
    "x = np.arange(-5, 5, 1)\n",
    "y = np.arange(5, 15, 1)\n",
    "xx, yy = np.meshgrid(x, y)\n",
    "\n",
    "#display(xx.shape,xx)\n",
    "#display(yy.shape,yy)\n",
    "\n",
    "#display('xx ravel + shape',xx.ravel(),xx.ravel().shape)\n",
    "#display('yy ravel + shape',yy.ravel(),yy.ravel().shape)\n",
    "\n",
    "zz = xx\n",
    "zz = zz.reshape(xx.shape)\n",
    "\n",
    "display(xx.shape,yy.shape,zz.shape)\n",
    "plt.contourf(xx,yy,zz,alpha=0.4)\n",
    "\n",
    "display(x.shape,y.shape)\n",
    "plt.scatter(x,y,c=y,s = 50, edgecolors='k')\n"
   ]
  },
  {
   "cell_type": "code",
   "execution_count": 112,
   "metadata": {},
   "outputs": [
    {
     "data": {
      "text/plain": [
       "(24, 16)"
      ]
     },
     "metadata": {},
     "output_type": "display_data"
    },
    {
     "data": {
      "text/plain": [
       "(24, 16)"
      ]
     },
     "metadata": {},
     "output_type": "display_data"
    },
    {
     "data": {
      "text/plain": [
       "(24, 16)"
      ]
     },
     "metadata": {},
     "output_type": "display_data"
    },
    {
     "data": {
      "text/plain": [
       "Text(0.5,1,'KNN (k=5)')"
      ]
     },
     "execution_count": 112,
     "metadata": {},
     "output_type": "execute_result"
    },
    {
     "data": {
      "image/png": "[encoded data removed]",
      "text/plain": [
       "<matplotlib.figure.Figure at 0x22559a2c940>"
      ]
     },
     "metadata": {},
     "output_type": "display_data"
    }
   ],
   "source": [
    "from sklearn.preprocessing import StandardScaler\n",
    "\n",
    "resolution=0.2\n",
    "\n",
    "#plot the decision surface\n",
    "#display(X_scaled)\n",
    "#x1_min,x1_max = X_scaled[:,0].min() - 1 ,X_scaled[:,0].max() + 1\n",
    "#x2_min,x2_max = X_scaled[:,1].min() - 1 ,X_scaled[:,1].max() + 1\n",
    "\n",
    "x = np.arange(-0.5,2.6,0.2)\n",
    "y = np.arange(-0.2,4.5,0.2)\n",
    "\n",
    "\n",
    "xx1,xx2 = np.meshgrid(x,y)\n",
    "\n",
    "#Z = knn.predict(np.c_[xx1.ravel(),xx2.ravel()])\n",
    "l = [[i * j for j in y ] for i in range(16)]\n",
    "Z =  np.arange(-0.5,76.2,0.2) #np.array(l)\n",
    "Z = Z.reshape(xx1.shape)\n",
    "\n",
    "display(xx1.shape,xx2.shape,Z.shape)\n",
    "plt.contourf(xx1,xx2,Z,alpha=0.4)\n",
    "\n",
    "# Plot class samples\n",
    "#display(X_scaled[:,0].shape,X_scaled[:,1].shape,y.shape)\n",
    "\n",
    "\n",
    "plt.xlabel('Sepal length')\n",
    "plt.ylabel('Sepal width')\n",
    "\n",
    "plt.title('KNN (k=5)')"
   ]
  },
  {
   "cell_type": "code",
   "execution_count": null,
   "metadata": {},
   "outputs": [],
   "source": []
  }
 ],
 "metadata": {
  "kernelspec": {
   "display_name": "Python 3",
   "language": "python",
   "name": "python3"
  },
  "language_info": {
   "codemirror_mode": {
    "name": "ipython",
    "version": 3
   },
   "file_extension": ".py",
   "mimetype": "text/x-python",
   "name": "python",
   "nbconvert_exporter": "python",
   "pygments_lexer": "ipython3",
   "version": "3.6.4"
  }
 },
 "nbformat": 4,
 "nbformat_minor": 2
}
