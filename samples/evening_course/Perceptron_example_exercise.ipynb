{
 "cells": [
  {
   "cell_type": "code",
   "execution_count": 1,
   "metadata": {},
   "outputs": [],
   "source": [
    "from sklearn.base import BaseEstimator\n",
    "import numpy as np\n",
    "import matplotlib.pyplot as plt\n",
    "from matplotlib.colors import ListedColormap\n",
    "class Perceptron(BaseEstimator):\n",
    "    \"\"\"\n",
    "    params: \n",
    "    eta: float learning rate (0.0 : 1.0)\n",
    "    n_iter: int number of iterations \n",
    "    random_state: int random state for intiialization of W\n",
    "    \n",
    "    attributes:\n",
    "    w_: 1d_array weights after fitting\n",
    "    errors_: list Number of misclassifications\n",
    "    \"\"\"\n",
    "    def __init__(self, eta=0.01, n_iter=50, random_state=0):\n",
    "        \"\"\"missing code\n",
    "        Fill in the members of the init function\n",
    "        \"\"\"\n",
    "        \n",
    "    def fit(self, X, y):\n",
    "        \"\"\"\n",
    "        Fir training data\n",
    "        Params:\n",
    "        X: training data samples array-like shape = [n_samples, n_features]\n",
    "        y: training data targets array-like shape = [n_samples]\n",
    "        \"\"\"\n",
    "        rng = np.random.RandomState(self.random_state)\n",
    "        self.w_ = rng.normal(loc=0.0, scale=0.01, size=X.shape[1]+1)\n",
    "        self.errors_ = []\n",
    "        \n",
    "        for i in range(self.n_iter):\n",
    "            errors = 0\n",
    "            print(self.w_)\n",
    "            for x_i, target in zip (X, y):\n",
    "                \"\"\"Missing code \n",
    "                   1. Add the code for calculation of the update value to the weights and for the bias\n",
    "                   2. Add the code for the update of the weights and bias\n",
    "                   weights delta is: update\n",
    "                   weights are: self.w_[1:]\n",
    "                   bias is:  self.w_[0]\n",
    "                   \n",
    "                \"\"\"\n",
    "                errors += int(update != 0.0)\n",
    "            self.errors_.append(errors)\n",
    "        return self\n",
    "    \n",
    "    def net_input(self, X):\n",
    "        return \"\"\" Missing code \n",
    "        return the value of the dot product of the weights and the input and add the bias term\n",
    "        \"\"\"\n",
    "    \n",
    "    def predict(self, X):\n",
    "        if self.net_input(X) >= 0.0:\n",
    "            return 1\n",
    "        else:\n",
    "            return -1\n",
    "        \n",
    "        \n"
   ]
  },
  {
   "cell_type": "code",
   "execution_count": 7,
   "metadata": {},
   "outputs": [],
   "source": [
    "def plot_decision_boundaries(X, y, clf, feature_names, target_names, resolution=0.02):\n",
    "    #clf = ppn\n",
    "    #resolution=0.02\n",
    "    plt.figure(figsize=(7.5,5))\n",
    "    markers = ('s', 'x', 'o', 'v', '^')\n",
    "    colors = ('red', 'blue', 'lightgreen', 'gray', 'cyan')\n",
    "    cmap = ListedColormap(colors[:len(np.unique(y))])\n",
    "\n",
    "    x1_min, x1_max = X[:, 0].min() - 1, X[:, 0].max() + 1\n",
    "    x2_min, x2_max = X[:, 1].min() - 1, X[:, 1].max() + 1\n",
    "\n",
    "    xx1, xx2 = np.meshgrid(np.arange(x1_min, x1_max, resolution), np.arange(x2_min, x2_max, resolution))\n",
    "    Z=[]\n",
    "    for smpl in np.c_[xx1.ravel(), xx2.ravel()]:\n",
    "        Z.append(clf.predict(smpl))\n",
    "    Z = np.array(Z).reshape(xx1.shape)\n",
    "    plt.contourf(xx1, xx2, Z, alpha=0.4, cmap=cmap)\n",
    "\n",
    "    for idx, cl in enumerate(np.unique(y)):\n",
    "        plt.scatter(x=X[y==cl, 0], y=X[y==cl, 1], c=colors[idx], marker=markers[idx],label=target_names[idx], edgecolor='black')\n",
    "    plt.xlabel(feature_names[0])\n",
    "    plt.ylabel(feature_names[1])\n",
    "    plt.legend()\n"
   ]
  },
  {
   "cell_type": "code",
   "execution_count": 2,
   "metadata": {},
   "outputs": [],
   "source": [
    "from sklearn.datasets import load_iris\n",
    "iris = load_iris()\n",
    "\n",
    "X = iris.data[0:100, [0,2]]\n",
    "y = iris.target[0:100]\n",
    "y = np.where(y == 0, -1, 1)"
   ]
  },
  {
   "cell_type": "code",
   "execution_count": 3,
   "metadata": {},
   "outputs": [
    {
     "data": {
      "text/plain": [
       "<matplotlib.legend.Legend at 0x150b4484588>"
      ]
     },
     "execution_count": 3,
     "metadata": {},
     "output_type": "execute_result"
    },
    {
     "data": {
      "image/png": "[encoded data removed]",
      "text/plain": [
       "<Figure size 432x288 with 1 Axes>"
      ]
     },
     "metadata": {
      "needs_background": "light"
     },
     "output_type": "display_data"
    }
   ],
   "source": [
    "#plot data\n",
    "plt.figure()\n",
    "plt.scatter(X[:50, 0], X[:50, 1], color='r', marker ='o', label = 'Setosa')\n",
    "plt.scatter(X[50:100, 0], X[50:100, 1], color='b', marker ='x', label = 'Versicolor')\n",
    "plt.xlabel(iris.feature_names[0])\n",
    "plt.ylabel(iris.feature_names[1])\n",
    "plt.legend()\n"
   ]
  },
  {
   "cell_type": "code",
   "execution_count": 4,
   "metadata": {},
   "outputs": [
    {
     "name": "stdout",
     "output_type": "stream",
     "text": [
      "[0.01764052 0.00400157 0.00978738]\n",
      "[0.01764052 0.04200157 0.07578738]\n",
      "[0.01764052 0.08000157 0.14178738]\n",
      "[-0.00235948  0.02000157  0.17978738]\n",
      "[-0.02235948 -0.08199843  0.15178738]\n",
      "[-0.02235948 -0.08199843  0.15178738]\n",
      "[-0.02235948 -0.08199843  0.15178738]\n",
      "[-0.02235948 -0.08199843  0.15178738]\n",
      "[-0.02235948 -0.08199843  0.15178738]\n",
      "[-0.02235948 -0.08199843  0.15178738]\n"
     ]
    },
    {
     "data": {
      "text/plain": [
       "Text(0, 0.5, 'Number of updates')"
      ]
     },
     "execution_count": 4,
     "metadata": {},
     "output_type": "execute_result"
    },
    {
     "data": {
      "image/png": "[encoded data removed]",
      "text/plain": [
       "<Figure size 432x288 with 1 Axes>"
      ]
     },
     "metadata": {
      "needs_background": "light"
     },
     "output_type": "display_data"
    }
   ],
   "source": [
    "ppn = Perceptron(eta=0.01, n_iter=10)\n",
    "ppn.fit(X,y)\n",
    "plt.plot(range(1, len(ppn.errors_) +1), ppn.errors_, '-ok')\n",
    "plt.xlabel('Epochs')\n",
    "plt.ylabel('Number of updates')"
   ]
  },
  {
   "cell_type": "code",
   "execution_count": 8,
   "metadata": {},
   "outputs": [
    {
     "data": {
      "text/plain": [
       "array([-0.02235948, -0.08199843,  0.15178738])"
      ]
     },
     "execution_count": 8,
     "metadata": {},
     "output_type": "execute_result"
    }
   ],
   "source": [
    "ppn.w_"
   ]
  },
  {
   "cell_type": "code",
   "execution_count": 9,
   "metadata": {},
   "outputs": [
    {
     "data": {
      "image/png": "[encoded data removed]",
      "text/plain": [
       "<Figure size 540x360 with 1 Axes>"
      ]
     },
     "metadata": {
      "needs_background": "light"
     },
     "output_type": "display_data"
    }
   ],
   "source": [
    "plot_decision_boundaries(X, y, ppn, [iris.feature_names[0],iris.feature_names[1]], ['Setosa','Versicolor' ], resolution=0.01)"
   ]
  },
  {
   "cell_type": "code",
   "execution_count": null,
   "metadata": {},
   "outputs": [],
   "source": []
  },
  {
   "cell_type": "code",
   "execution_count": null,
   "metadata": {},
   "outputs": [],
   "source": []
  },
  {
   "cell_type": "code",
   "execution_count": null,
   "metadata": {},
   "outputs": [],
   "source": []
  },
  {
   "cell_type": "code",
   "execution_count": null,
   "metadata": {},
   "outputs": [],
   "source": []
  },
  {
   "cell_type": "code",
   "execution_count": null,
   "metadata": {},
   "outputs": [],
   "source": []
  },
  {
   "cell_type": "code",
   "execution_count": null,
   "metadata": {},
   "outputs": [],
   "source": []
  },
  {
   "cell_type": "code",
   "execution_count": null,
   "metadata": {},
   "outputs": [],
   "source": []
  },
  {
   "cell_type": "code",
   "execution_count": null,
   "metadata": {},
   "outputs": [],
   "source": []
  },
  {
   "cell_type": "code",
   "execution_count": null,
   "metadata": {},
   "outputs": [],
   "source": []
  },
  {
   "cell_type": "code",
   "execution_count": null,
   "metadata": {},
   "outputs": [],
   "source": []
  },
  {
   "cell_type": "code",
   "execution_count": null,
   "metadata": {},
   "outputs": [],
   "source": []
  }
 ],
 "metadata": {
  "kernelspec": {
   "display_name": "Python 3",
   "language": "python",
   "name": "python3"
  },
  "language_info": {
   "codemirror_mode": {
    "name": "ipython",
    "version": 3
   },
   "file_extension": ".py",
   "mimetype": "text/x-python",
   "name": "python",
   "nbconvert_exporter": "python",
   "pygments_lexer": "ipython3",
   "version": "3.7.1"
  }
 },
 "nbformat": 4,
 "nbformat_minor": 2
}
