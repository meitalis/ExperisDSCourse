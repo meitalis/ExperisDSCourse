{
 "cells": [
  {
   "cell_type": "code",
   "execution_count": 2,
   "metadata": {},
   "outputs": [],
   "source": [
    "import matplotlib.pyplot as plt\n",
    "import numpy as np\n",
    "%matplotlib inline"
   ]
  },
  {
   "cell_type": "code",
   "execution_count": 3,
   "metadata": {},
   "outputs": [],
   "source": [
    "data = [(0, 0), (8, 0), (8, 6), (16, 0), (0, 6), (16, 6), (5, 5)]\n",
    "x1 = np.array([x for x, y in data])\n",
    "x2 = np.array([y for x, y in data])"
   ]
  },
  {
   "cell_type": "code",
   "execution_count": 24,
   "metadata": {},
   "outputs": [],
   "source": [
    "def closet_center(x1, x2, c1, c2):\n",
    "    distcances = np.sqrt((x1.reshape(7, 1) - c1)**2 + (x2.reshape(7,1) - c2)**2)\n",
    "    return np.argmin(distcances, axis=1)"
   ]
  },
  {
   "cell_type": "code",
   "execution_count": 30,
   "metadata": {},
   "outputs": [
    {
     "data": {
      "image/png": "[encoded data removed]",
      "text/plain": [
       "<Figure size 432x288 with 1 Axes>"
      ]
     },
     "metadata": {},
     "output_type": "display_data"
    },
    {
     "name": "stdout",
     "output_type": "stream",
     "text": [
      "[0 0 2 1 0 2 0]\n"
     ]
    },
    {
     "data": {
      "image/png": "[encoded data removed]",
      "text/plain": [
       "<Figure size 432x288 with 1 Axes>"
      ]
     },
     "metadata": {},
     "output_type": "display_data"
    },
    {
     "name": "stdout",
     "output_type": "stream",
     "text": [
      "[0 0 2 1 0 2 0]\n",
      "[(3.25, 2.75), (16.0, 0.0), (12.0, 6.0)]\n"
     ]
    }
   ],
   "source": [
    "c = [(0, 0), (16, 0), (16, 6)]\n",
    "\n",
    "assignments = np.zeros(7)\n",
    "c_temp = [(0, 0), (0, 0), (0, 0)]\n",
    "converge = False\n",
    "while not converge:\n",
    "    c1 = np.array([x for x, y in c])\n",
    "    c2 = np.array([y for x, y in c])\n",
    "    plt.scatter(x1, x2)\n",
    "    plt.scatter(c1, c2)\n",
    "    plt.show()\n",
    "    assignments = closet_center(x1, x2, c1, c2)\n",
    "    print(assignments)\n",
    "    c_temp = [(np.mean(x1[assignments == i]), np.mean(x2[assignments == i])) for i in range(3)]\n",
    "    if (np.array([(cc_tmp1[0] == cc1[0]) and (cc_tmp1[1] == cc1[1]) for cc_tmp1, cc1 in zip(c_temp, c)]).all()):\n",
    "        converge = True\n",
    "    else:\n",
    "        c = c_temp\n",
    "\n",
    "print(c)"
   ]
  },
  {
   "cell_type": "code",
   "execution_count": null,
   "metadata": {},
   "outputs": [],
   "source": []
  }
 ],
 "metadata": {
  "kernelspec": {
   "display_name": "Python 3",
   "language": "python",
   "name": "python3"
  },
  "language_info": {
   "codemirror_mode": {
    "name": "ipython",
    "version": 3
   },
   "file_extension": ".py",
   "mimetype": "text/x-python",
   "name": "python",
   "nbconvert_exporter": "python",
   "pygments_lexer": "ipython3",
   "version": "3.6.5"
  }
 },
 "nbformat": 4,
 "nbformat_minor": 2
}
