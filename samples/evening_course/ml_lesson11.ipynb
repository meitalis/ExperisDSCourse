{
 "cells": [
  {
   "cell_type": "code",
   "execution_count": 37,
   "metadata": {},
   "outputs": [
    {
     "name": "stdout",
     "output_type": "stream",
     "text": [
      "[1, 0, 0, 1, 0, 0, 1, 0, 0, 0]\n"
     ]
    }
   ],
   "source": [
    "# ML lesson 11\n",
    "vec_predicted = [1,0,0,1,0,0,1,1,1,0]\n",
    "vec_expected  = [1,1,0,1,0,0,1,0,0,0]\n",
    "print([a*b for a,b in zip(vec_predicted, vec_expected)])\n"
   ]
  },
  {
   "cell_type": "code",
   "execution_count": 10,
   "metadata": {},
   "outputs": [
    {
     "name": "stdout",
     "output_type": "stream",
     "text": [
      "[1, 1, 0, 1, 0, 0, 1, 0, 0, 0]\n"
     ]
    }
   ],
   "source": [
    "type(vec_predicted)\n",
    "print([i for i in vec_expected])"
   ]
  },
  {
   "cell_type": "code",
   "execution_count": 24,
   "metadata": {},
   "outputs": [
    {
     "name": "stdout",
     "output_type": "stream",
     "text": [
      "3 4 2 1\n",
      "precision: 0.6 recall: 0.75\n"
     ]
    }
   ],
   "source": [
    "TP = 0\n",
    "TN = 0 \n",
    "FP = 0\n",
    "FN = 0\n",
    "for i in range(len(vec_expected)):\n",
    "    TP += (vec_expected[i]*vec_predicted[i])\n",
    "    TN += vec_expected[i] == 0 and vec_predicted[i] == 0\n",
    "    FP += vec_expected[i] == 0 and vec_predicted[i] == 1\n",
    "    FN += vec_expected[i] == 1 and vec_predicted[i] == 0\n",
    "    \n",
    "print(TP, TN, FP, FN)\n",
    "recall = TP /(TP+FN)\n",
    "precision = TP/(TP+FP)\n",
    "print('precision:', precision, 'recall:', recall)"
   ]
  },
  {
   "cell_type": "code",
   "execution_count": 30,
   "metadata": {},
   "outputs": [
    {
     "data": {
      "text/plain": [
       "[False]"
      ]
     },
     "execution_count": 30,
     "metadata": {},
     "output_type": "execute_result"
    }
   ],
   "source": [
    "vec_expected == vec_predicted"
   ]
  },
  {
   "cell_type": "code",
   "execution_count": 35,
   "metadata": {},
   "outputs": [],
   "source": [
    "import numpy as np"
   ]
  },
  {
   "cell_type": "code",
   "execution_count": null,
   "metadata": {},
   "outputs": [],
   "source": []
  }
 ],
 "metadata": {
  "kernelspec": {
   "display_name": "Python 3",
   "language": "python",
   "name": "python3"
  },
  "language_info": {
   "codemirror_mode": {
    "name": "ipython",
    "version": 3
   },
   "file_extension": ".py",
   "mimetype": "text/x-python",
   "name": "python",
   "nbconvert_exporter": "python",
   "pygments_lexer": "ipython3",
   "version": "3.7.1"
  }
 },
 "nbformat": 4,
 "nbformat_minor": 2
}
