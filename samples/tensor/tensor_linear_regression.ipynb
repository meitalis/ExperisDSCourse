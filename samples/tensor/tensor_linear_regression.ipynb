{
 "cells": [
  {
   "cell_type": "code",
   "execution_count": 15,
   "metadata": {},
   "outputs": [],
   "source": [
    "import tensorflow.compat.v1 as tf"
   ]
  },
  {
   "cell_type": "code",
   "execution_count": 16,
   "metadata": {},
   "outputs": [
    {
     "name": "stdout",
     "output_type": "stream",
     "text": [
      "2.0.0\n"
     ]
    }
   ],
   "source": [
    "print(tf.__version__)"
   ]
  },
  {
   "cell_type": "code",
   "execution_count": 19,
   "metadata": {},
   "outputs": [],
   "source": [
    "tf.disable_eager_execution()"
   ]
  },
  {
   "cell_type": "code",
   "execution_count": 58,
   "metadata": {},
   "outputs": [
    {
     "data": {
      "text/plain": [
       "b'Hello World!'"
      ]
     },
     "execution_count": 58,
     "metadata": {},
     "output_type": "execute_result"
    }
   ],
   "source": [
    "h = tf.constant(\"Hello\")\n",
    "w = tf.constant(\" World!\")\n",
    "\n",
    "hw = h + w\n",
    "#tf.print(hw)\n",
    "\n",
    "with tf.Session() as sess:\n",
    "      ans = sess.run(hw)\n",
    "\n",
    "ans\n",
    "\n"
   ]
  },
  {
   "cell_type": "code",
   "execution_count": 20,
   "metadata": {},
   "outputs": [
    {
     "name": "stdout",
     "output_type": "stream",
     "text": [
      "WARNING:tensorflow:From C:\\Users\\user\\Anaconda3\\lib\\site-packages\\tensorflow_core\\python\\ops\\resource_variable_ops.py:1630: calling BaseResourceVariable.__init__ (from tensorflow.python.ops.resource_variable_ops) with constraint is deprecated and will be removed in a future version.\n",
      "Instructions for updating:\n",
      "If using Keras pass *_constraint arguments to layers.\n"
     ]
    },
    {
     "data": {
      "text/plain": [
       "<tf.Tensor 'add_9:0' shape=() dtype=int32>"
      ]
     },
     "execution_count": 20,
     "metadata": {},
     "output_type": "execute_result"
    }
   ],
   "source": [
    "#creating computation graph\n",
    "x = tf.Variable(3,name='x')\n",
    "y = tf.Variable(3,name='y')\n",
    "\n",
    "f = x ** 2 * y + y + 2\n",
    "f"
   ]
  },
  {
   "cell_type": "markdown",
   "metadata": {},
   "source": [
    "### TensorFlow session"
   ]
  },
  {
   "cell_type": "code",
   "execution_count": 27,
   "metadata": {},
   "outputs": [
    {
     "name": "stdout",
     "output_type": "stream",
     "text": [
      "32\n",
      "32\n",
      "32\n"
     ]
    }
   ],
   "source": [
    "#tensorflow session\n",
    "sess = tf.Session()\n",
    "sess.run(x.initializer)\n",
    "sess.run(y.initializer)\n",
    "\n",
    "result = sess.run(f)\n",
    "print(result)\n",
    "sess.close()\n",
    "\n",
    "#with\n",
    "with tf.Session() as sess:\n",
    "    x.initializer.run()\n",
    "    y.initializer.run()\n",
    "    result = f.eval()\n",
    "\n",
    "print(result)\n",
    "\n",
    "#global_variable_initializer\n",
    "init = tf.global_variables_initializer()\n",
    "with tf.Session() as sess:\n",
    "    init.run()\n",
    "    result = f.eval()\n",
    "print(result)\n",
    "\n",
    "\n",
    "\n",
    "    "
   ]
  },
  {
   "cell_type": "markdown",
   "metadata": {},
   "source": [
    "## Linear Regression with TensorFlow"
   ]
  },
  {
   "cell_type": "code",
   "execution_count": 54,
   "metadata": {},
   "outputs": [
    {
     "name": "stdout",
     "output_type": "stream",
     "text": [
      "tensor [[-3.69419202e+01]\n",
      " [ 4.36693293e-01]\n",
      " [ 9.43577803e-03]\n",
      " [-1.07322041e-01]\n",
      " [ 6.45065694e-01]\n",
      " [-3.97638942e-06]\n",
      " [-3.78654265e-03]\n",
      " [-4.21314378e-01]\n",
      " [-4.34513755e-01]]\n",
      "theta_numpy [[-3.69419202e+01]\n",
      " [ 4.36693293e-01]\n",
      " [ 9.43577803e-03]\n",
      " [-1.07322041e-01]\n",
      " [ 6.45065694e-01]\n",
      " [-3.97638942e-06]\n",
      " [-3.78654265e-03]\n",
      " [-4.21314378e-01]\n",
      " [-4.34513755e-01]]\n"
     ]
    }
   ],
   "source": [
    "from sklearn.datasets import fetch_california_housing\n",
    "import numpy as np\n",
    "\n",
    "\n",
    "housing = fetch_california_housing()\n",
    "n,m = housing.data.shape\n",
    "housing_data_plus_bias = np.c_[np.ones((n,1)),housing.data]\n",
    "\n",
    "\n",
    "#normal equation with tensor flow\n",
    "X = tf.constant(housing_data_plus_bias,name ='X')\n",
    "y = tf.constant(housing.target.reshape(-1,1),name ='y')\n",
    "\n",
    "XT = tf.transpose(X)\n",
    "\n",
    "\n",
    "theta = tf.matmul(tf.matmul(tf.matrix_inverse(tf.matmul(XT,X)),XT),y)\n",
    "with tf.Session() as sess:\n",
    "    result = theta.eval()\n",
    "print('tensor',result)\n",
    "\n",
    "#pure numpy\n",
    "X = housing_data_plus_bias\n",
    "y = housing.target.reshape(-1,1)\n",
    "theta_numpy = np.linalg.inv(X.T.dot(X)).dot(X.T).dot(y)\n",
    "print('theta_numpy',theta_numpy)\n",
    "#or theta_numpy = np.matmul(np.matmul(np.linalg.inv(np.matmul(X.T,X)),X.T),y)\n",
    "\n"
   ]
  },
  {
   "cell_type": "markdown",
   "metadata": {},
   "source": [
    "### gradient descent\n"
   ]
  },
  {
   "cell_type": "code",
   "execution_count": 74,
   "metadata": {},
   "outputs": [
    {
     "name": "stdout",
     "output_type": "stream",
     "text": [
      "8\n",
      "epoch 0 MSE =  2.7544265\n",
      "epoch 100 MSE =  0.632222\n",
      "epoch 200 MSE =  0.5727804\n",
      "epoch 300 MSE =  0.5585008\n",
      "epoch 400 MSE =  0.54907006\n",
      "epoch 500 MSE =  0.54228795\n",
      "epoch 600 MSE =  0.5373791\n",
      "epoch 700 MSE =  0.533822\n",
      "epoch 800 MSE =  0.53124255\n",
      "epoch 900 MSE =  0.5293705\n",
      "best_theta\n",
      "[[ 2.0685523e+00]\n",
      " [ 7.7407807e-01]\n",
      " [ 1.3119239e-01]\n",
      " [-1.1784512e-01]\n",
      " [ 1.6477819e-01]\n",
      " [ 7.4407941e-04]\n",
      " [-3.9194509e-02]\n",
      " [-8.6135662e-01]\n",
      " [-8.2347971e-01]]\n"
     ]
    }
   ],
   "source": [
    "# gradient descent\n",
    "from sklearn.preprocessing import StandardScaler\n",
    "\n",
    "# gd requires scaling\n",
    "scaler = StandardScaler()\n",
    "scaled_housing_data = scaler.fit_transform(housing.data)\n",
    "scaled_housing_data_bias = np.c_[np.ones((n,1)),scaled_housing_data]\n",
    "\n",
    "# manualy\n",
    "tf.reset_default_graph()\n",
    "\n",
    "n_epoch = 1000\n",
    "learning_rate = 0.01\n",
    "\n",
    "print(m)\n",
    "X = tf.constant(scaled_housing_data_bias,dtype=tf.float32,name='X')\n",
    "y = tf.constant(housing.target.reshape(-1,1),dtype=tf.float32,name='y')\n",
    "theta = tf.Variable(tf.random_uniform([m + 1,1],-1,1,seed=42),name='theta')\n",
    "y_pred = tf.matmul(X,theta,name='predictions')\n",
    "    \n",
    "# init_op = tf.global_variables_initializer()\n",
    "# with tf.Session() as sess:\n",
    "#     sess.run(init_op) \n",
    "#     print ('theta',sess.run(theta))\n",
    "#     print('y_pred',sess.run(y_pred))\n",
    "    \n",
    "error = y_pred - y\n",
    "mse = tf.reduce_mean(tf.square(error),name='mse')\n",
    "gradients = 2 /n * tf.matmul(tf.transpose(X),error)\n",
    "\n",
    "traning_op = tf.assign(theta,theta-learning_rate*gradients)\n",
    "\n",
    "init = tf.global_variables_initializer()\n",
    "\n",
    "with tf.Session() as sess:\n",
    "    sess.run(init)\n",
    "    \n",
    "    for epoch in range(n_epoch):\n",
    "        if epoch % 100 == 0:\n",
    "            print ('epoch',epoch,'MSE = ',mse.eval())\n",
    "        sess.run(traning_op)\n",
    "        \n",
    "    best_theta = theta.eval()\n",
    "print('best_theta')\n",
    "print(best_theta)\n",
    "            "
   ]
  },
  {
   "cell_type": "markdown",
   "metadata": {},
   "source": [
    "### Gradient Descent Optimizer"
   ]
  },
  {
   "cell_type": "code",
   "execution_count": 76,
   "metadata": {},
   "outputs": [
    {
     "name": "stdout",
     "output_type": "stream",
     "text": [
      "epoch 0 MSE =  2.7544265\n",
      "epoch 100 MSE =  0.6322221\n",
      "epoch 200 MSE =  0.5727804\n",
      "epoch 300 MSE =  0.5585008\n",
      "epoch 400 MSE =  0.54907006\n",
      "epoch 500 MSE =  0.542288\n",
      "epoch 600 MSE =  0.5373791\n",
      "epoch 700 MSE =  0.533822\n",
      "epoch 800 MSE =  0.53124255\n",
      "epoch 900 MSE =  0.5293705\n",
      "best_theta\n",
      "[[ 2.06855249e+00]\n",
      " [ 7.74078071e-01]\n",
      " [ 1.31192371e-01]\n",
      " [-1.17845125e-01]\n",
      " [ 1.64778188e-01]\n",
      " [ 7.44073535e-04]\n",
      " [-3.91945057e-02]\n",
      " [-8.61356676e-01]\n",
      " [-8.23479772e-01]]\n"
     ]
    }
   ],
   "source": [
    "# gradient descent with optimizer\n",
    "from sklearn.preprocessing import StandardScaler\n",
    "\n",
    "scaler = StandardScaler()\n",
    "scaled_housing_data = scaler.fit_transform(housing.data)\n",
    "scaled_housing_data_bias = np.c_[np.ones((n,1)),scaled_housing_data]\n",
    "\n",
    "tf.reset_default_graph()\n",
    "n_epoch = 1000\n",
    "learning_rate = 0.01\n",
    "\n",
    "\n",
    "X = tf.constant(scaled_housing_data_bias,dtype=tf.float32,name='X')\n",
    "y = tf.constant(housing.target.reshape(-1,1),dtype=tf.float32,name='y')\n",
    "theta = tf.Variable(tf.random_uniform([m + 1,1],-1,1,seed=42),name='theta')\n",
    "y_pred = tf.matmul(X,theta,name='predictions')\n",
    "error = y_pred - y\n",
    "mse = tf.reduce_mean(tf.square(error),name='mse')\n",
    "\n",
    "gradients_optimizer = tf.train.GradientDescentOptimizer(learning_rate=learning_rate)\n",
    "\n",
    "traning_op = gradients_optimizer.minimize(mse)\n",
    "\n",
    "init = tf.global_variables_initializer()\n",
    "\n",
    "with tf.Session() as sess:\n",
    "    sess.run(init)\n",
    "    \n",
    "    for epoch in range(n_epoch):\n",
    "        if epoch % 100 == 0:\n",
    "            print ('epoch',epoch,'MSE = ',mse.eval())\n",
    "        sess.run(traning_op)\n",
    "        \n",
    "    best_theta = theta.eval()\n",
    "print('best_theta')\n",
    "print(best_theta)\n",
    "            "
   ]
  },
  {
   "cell_type": "markdown",
   "metadata": {},
   "source": [
    "### Momentum Optimizer"
   ]
  },
  {
   "cell_type": "code",
   "execution_count": 77,
   "metadata": {},
   "outputs": [
    {
     "name": "stdout",
     "output_type": "stream",
     "text": [
      "epoch 0 MSE =  2.7544265\n",
      "epoch 100 MSE =  0.52731603\n",
      "epoch 200 MSE =  0.5244147\n",
      "epoch 300 MSE =  0.5243281\n",
      "epoch 400 MSE =  0.5243219\n",
      "epoch 500 MSE =  0.52432114\n",
      "epoch 600 MSE =  0.524321\n",
      "epoch 700 MSE =  0.524321\n",
      "epoch 800 MSE =  0.524321\n",
      "epoch 900 MSE =  0.524321\n",
      "best_theta\n",
      "[[ 2.068558  ]\n",
      " [ 0.8296165 ]\n",
      " [ 0.11875115]\n",
      " [-0.26552156]\n",
      " [ 0.30569187]\n",
      " [-0.00450317]\n",
      " [-0.03932614]\n",
      " [-0.8998925 ]\n",
      " [-0.87054735]]\n"
     ]
    }
   ],
   "source": [
    "# gradient descent with optimizer\n",
    "from sklearn.preprocessing import StandardScaler\n",
    "\n",
    "scaler = StandardScaler()\n",
    "scaled_housing_data = scaler.fit_transform(housing.data)\n",
    "scaled_housing_data_bias = np.c_[np.ones((n,1)),scaled_housing_data]\n",
    "\n",
    "tf.reset_default_graph()\n",
    "n_epoch = 1000\n",
    "learning_rate = 0.01\n",
    "\n",
    "\n",
    "X = tf.constant(scaled_housing_data_bias,dtype=tf.float32,name='X')\n",
    "y = tf.constant(housing.target.reshape(-1,1),dtype=tf.float32,name='y')\n",
    "theta = tf.Variable(tf.random_uniform([m + 1,1],-1,1,seed=42),name='theta')\n",
    "y_pred = tf.matmul(X,theta,name='predictions')\n",
    "error = y_pred - y\n",
    "mse = tf.reduce_mean(tf.square(error),name='mse')\n",
    "\n",
    "gradients_optimizer = tf.train.MomentumOptimizer(learning_rate=learning_rate,momentum=0.9)\n",
    "\n",
    "traning_op = gradients_optimizer.minimize(mse)\n",
    "\n",
    "init = tf.global_variables_initializer()\n",
    "\n",
    "with tf.Session() as sess:\n",
    "    sess.run(init)\n",
    "    \n",
    "    for epoch in range(n_epoch):\n",
    "        if epoch % 100 == 0:\n",
    "            print ('epoch',epoch,'MSE = ',mse.eval())\n",
    "        sess.run(traning_op)\n",
    "        \n",
    "    best_theta = theta.eval()\n",
    "print('best_theta')\n",
    "print(best_theta)\n",
    "            "
   ]
  },
  {
   "cell_type": "markdown",
   "metadata": {},
   "source": [
    "\n",
    "### mini batch gradient descent"
   ]
  },
  {
   "cell_type": "code",
   "execution_count": 79,
   "metadata": {},
   "outputs": [
    {
     "name": "stdout",
     "output_type": "stream",
     "text": [
      "epoch 0 MSE =  2.7544265\n",
      "epoch 1 MSE =  0.87899464\n",
      "epoch 2 MSE =  0.5497306\n",
      "epoch 3 MSE =  0.5361563\n",
      "epoch 4 MSE =  0.53294533\n",
      "epoch 5 MSE =  0.5291698\n",
      "epoch 6 MSE =  0.52780205\n",
      "epoch 7 MSE =  0.5273184\n",
      "epoch 8 MSE =  0.5337286\n",
      "epoch 9 MSE =  0.5291435\n",
      "best_theta\n",
      "[[ 2.0685194 ]\n",
      " [ 0.8433898 ]\n",
      " [ 0.11697166]\n",
      " [-0.28834364]\n",
      " [ 0.253429  ]\n",
      " [-0.00420929]\n",
      " [ 0.02694976]\n",
      " [-0.8980864 ]\n",
      " [-0.8800862 ]]\n"
     ]
    }
   ],
   "source": [
    "from sklearn.preprocessing import StandardScaler\n",
    "\n",
    "scaler = StandardScaler()\n",
    "scaled_housing_data = scaler.fit_transform(housing.data)\n",
    "scaled_housing_data_bias = np.c_[np.ones((n,1)),scaled_housing_data]\n",
    "\n",
    "\n",
    "\n",
    "tf.reset_default_graph()\n",
    "n_epochs = 10\n",
    "batch_size = 100\n",
    "n_batches = int(np.ceil(n / batch_size))\n",
    "\n",
    "learning_rate = 0.01\n",
    "\n",
    "\n",
    "X = tf.placeholder(tf.float32,shape=(None, m + 1),name='X')\n",
    "y = tf.placeholder(tf.float32,shape=(None, 1),name='y')\n",
    "\n",
    "theta = tf.Variable(tf.random_uniform([m + 1,1],-1,1,seed=42),name='theta')\n",
    "y_pred = tf.matmul(X,theta,name='predictions')\n",
    "error = y_pred - y\n",
    "mse = tf.reduce_mean(tf.square(error),name='mse')\n",
    "\n",
    "gradients_optimizer = tf.train.GradientDescentOptimizer(learning_rate=learning_rate)\n",
    "\n",
    "traning_op = gradients_optimizer.minimize(mse)\n",
    "init = tf.global_variables_initializer()\n",
    "\n",
    "\n",
    "\n",
    "def fetch_batch(epoch,batch_index,batch_size):\n",
    "    indices = np.random.randint(n,size=batch_size)\n",
    "    x_batch = scaled_housing_data_bias[indices]\n",
    "    y_batch = housing.target.reshape(-1,1)[indices]\n",
    "    return x_batch,y_batch\n",
    "\n",
    "\n",
    "np.random.seed(0)\n",
    "\n",
    "with tf.Session() as sess:\n",
    "    sess.run(init)\n",
    "    \n",
    "    for epoch in range(n_epochs):\n",
    "        print ('epoch',epoch,'MSE = ',\n",
    "               mse.eval(feed_dict={X: scaled_housing_data_bias,\n",
    "                                   y: housing.target.reshape(-1,1)}))\n",
    "        for batch_index in range(n_batches):\n",
    "            X_batch,y_batch = fetch_batch(epoch,batch_index,batch_size)\n",
    "            sess.run(traning_op,feed_dict={X: X_batch,y: y_batch})\n",
    "        \n",
    "        \n",
    "    best_theta = theta.eval()\n",
    "    \n",
    "print('best_theta')\n",
    "print(best_theta)\n",
    "            "
   ]
  },
  {
   "cell_type": "code",
   "execution_count": null,
   "metadata": {},
   "outputs": [],
   "source": []
  }
 ],
 "metadata": {
  "kernelspec": {
   "display_name": "Python 3",
   "language": "python",
   "name": "python3"
  },
  "language_info": {
   "codemirror_mode": {
    "name": "ipython",
    "version": 3
   },
   "file_extension": ".py",
   "mimetype": "text/x-python",
   "name": "python",
   "nbconvert_exporter": "python",
   "pygments_lexer": "ipython3",
   "version": "3.7.4"
  }
 },
 "nbformat": 4,
 "nbformat_minor": 2
}
