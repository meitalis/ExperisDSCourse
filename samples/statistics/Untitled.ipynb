{
 "cells": [
  {
   "cell_type": "code",
   "execution_count": 67,
   "metadata": {},
   "outputs": [],
   "source": [
    "import numpy as np\n",
    "import matplotlib.pyplot as plt"
   ]
  },
  {
   "cell_type": "code",
   "execution_count": 103,
   "metadata": {
    "scrolled": true
   },
   "outputs": [],
   "source": [
    "def roll(roll_times):\n",
    "    x = 1000\n",
    "    all_means_x = [] \n",
    "    for i in range(x):\n",
    "        dice1 = np.random.randint(1,7,size=roll_times)\n",
    "        #print(\"dice1\",dice1)\n",
    "        dice2 = np.random.randint(1,7,size=roll_times)\n",
    "        #print(\"dice2\",dice2)\n",
    "\n",
    "        sum_dices = dice1 + dice2\n",
    "        #print(sum_dices)\n",
    "\n",
    "        mean_sum_dices = np.mean(sum_dices)\n",
    "        #print(mean_sum_dices)\n",
    "        all_means_x.append(mean_sum_dices)\n",
    "\n",
    "    #print(all_means_x)\n",
    "    mean_x = np.mean(all_means_x)\n",
    "       \n",
    "    std_x = np.std(all_means_x)\n",
    "    print('mean_x',mean_x,'std_x',std_x)\n",
    "\n",
    "    num_bins = 100\n",
    "    plt.hist(all_means_x, num_bins, facecolor='blue')"
   ]
  },
  {
   "cell_type": "code",
   "execution_count": 104,
   "metadata": {},
   "outputs": [
    {
     "name": "stdout",
     "output_type": "stream",
     "text": [
      "mean_x 7.013799999999999 std_x 0.7501796851421665\n"
     ]
    },
    {
     "data": {
      "image/png": "[encoded data removed]",
      "text/plain": [
       "<Figure size 432x288 with 1 Axes>"
      ]
     },
     "metadata": {
      "needs_background": "light"
     },
     "output_type": "display_data"
    }
   ],
   "source": [
    "roll(10)"
   ]
  },
  {
   "cell_type": "code",
   "execution_count": 105,
   "metadata": {},
   "outputs": [
    {
     "name": "stdout",
     "output_type": "stream",
     "text": [
      "mean_x 6.99836 std_x 0.2456495682878356\n"
     ]
    },
    {
     "data": {
      "image/png": "[encoded data removed]",
      "text/plain": [
       "<Figure size 432x288 with 1 Axes>"
      ]
     },
     "metadata": {
      "needs_background": "light"
     },
     "output_type": "display_data"
    }
   ],
   "source": [
    "roll(100)"
   ]
  },
  {
   "cell_type": "code",
   "execution_count": 106,
   "metadata": {},
   "outputs": [
    {
     "name": "stdout",
     "output_type": "stream",
     "text": [
      "mean_x 7.000657300000001 std_x 0.023889538436520696\n"
     ]
    },
    {
     "data": {
      "image/png": "[encoded data removed]",
      "text/plain": [
       "<Figure size 432x288 with 1 Axes>"
      ]
     },
     "metadata": {
      "needs_background": "light"
     },
     "output_type": "display_data"
    }
   ],
   "source": [
    "roll(10000)"
   ]
  },
  {
   "cell_type": "code",
   "execution_count": null,
   "metadata": {},
   "outputs": [],
   "source": []
  }
 ],
 "metadata": {
  "kernelspec": {
   "display_name": "Python 3",
   "language": "python",
   "name": "python3"
  },
  "language_info": {
   "codemirror_mode": {
    "name": "ipython",
    "version": 3
   },
   "file_extension": ".py",
   "mimetype": "text/x-python",
   "name": "python",
   "nbconvert_exporter": "python",
   "pygments_lexer": "ipython3",
   "version": "3.7.4"
  }
 },
 "nbformat": 4,
 "nbformat_minor": 2
}
