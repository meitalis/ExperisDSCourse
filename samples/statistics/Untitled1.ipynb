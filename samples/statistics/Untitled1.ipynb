{
 "cells": [
  {
   "cell_type": "code",
   "execution_count": 69,
   "metadata": {},
   "outputs": [],
   "source": [
    "from scipy.stats import binom\n",
    "from scipy.stats import nbinom\n",
    "from scipy.stats import geom\n",
    "from scipy.stats import poisson\n",
    "\n",
    "import matplotlib.pyplot as plt\n",
    "import numpy as np\n"
   ]
  },
  {
   "cell_type": "code",
   "execution_count": 15,
   "metadata": {},
   "outputs": [
    {
     "data": {
      "image/png": "[encoded data removed]",
      "text/plain": [
       "<Figure size 432x288 with 1 Axes>"
      ]
     },
     "metadata": {
      "needs_background": "light"
     },
     "output_type": "display_data"
    }
   ],
   "source": [
    "n, p = 5, 0.4\n",
    "size=1000\n",
    "rnd_values = binom.rvs(n, p,size=size)\n",
    "\n",
    "num_bins = 5\n",
    "_=plt.hist(rnd_values, num_bins, facecolor='blue')"
   ]
  },
  {
   "cell_type": "code",
   "execution_count": 19,
   "metadata": {},
   "outputs": [
    {
     "name": "stdout",
     "output_type": "stream",
     "text": [
      "[0 1 2 3 4 5]\n"
     ]
    }
   ],
   "source": [
    "n = [10,35,50]\n",
    "p = [0.2,0.5,0.8]\n",
    "\n",
    "for in zip(n,p):\n",
    "    x = np.arange(0,n+1)\n",
    "    y = binom.pmf(x,c_n, c_p)    \n",
    "\n",
    "# num_bins = 5\n",
    "# _=plt.hist(rnd_values, num_bins, facecolor='blue')"
   ]
  },
  {
   "cell_type": "code",
   "execution_count": 39,
   "metadata": {},
   "outputs": [
    {
     "data": {
      "text/plain": [
       "<BarContainer object of 40 artists>"
      ]
     },
     "execution_count": 39,
     "metadata": {},
     "output_type": "execute_result"
    },
    {
     "data": {
      "image/png": "[encoded data removed]",
      "text/plain": [
       "<Figure size 432x288 with 1 Axes>"
      ]
     },
     "metadata": {
      "needs_background": "light"
     },
     "output_type": "display_data"
    }
   ],
   "source": [
    "fig, ax = plt.subplots(1, 1)\n",
    "n = 10\n",
    "p = 0.25\n",
    "x = np.arange(0,40)\n",
    "r = 4\n",
    "m=3\n",
    "\n",
    "plt.bar(x, nbinom.pmf(x, r, p,loc=r))\n",
    "plt.bar(x, nbinom.pmf(x, m*r, m*p,loc=m*r))\n"
   ]
  },
  {
   "cell_type": "code",
   "execution_count": 48,
   "metadata": {},
   "outputs": [
    {
     "data": {
      "text/plain": [
       "<scipy.stats._distn_infrastructure.rv_frozen at 0x137e7940408>"
      ]
     },
     "execution_count": 48,
     "metadata": {},
     "output_type": "execute_result"
    }
   ],
   "source": [
    "rv = geom(0.75)\n",
    "rv"
   ]
  },
  {
   "cell_type": "code",
   "execution_count": 53,
   "metadata": {},
   "outputs": [
    {
     "data": {
      "text/plain": [
       "138.0"
      ]
     },
     "execution_count": 53,
     "metadata": {},
     "output_type": "execute_result"
    },
    {
     "data": {
      "image/png": "[encoded data removed]",
      "text/plain": [
       "<Figure size 432x288 with 1 Axes>"
      ]
     },
     "metadata": {
      "needs_background": "light"
     },
     "output_type": "display_data"
    }
   ],
   "source": [
    "fig, ax = plt.subplots(1, 1)\n",
    "x = np.arange(0,20)\n",
    "p = 0.01\n",
    "plt.bar(x, geom.pmf(x, p))\n",
    "\n",
    "geom.ppf(0.75, p)"
   ]
  },
  {
   "cell_type": "code",
   "execution_count": 62,
   "metadata": {},
   "outputs": [
    {
     "data": {
      "text/plain": [
       "138.0"
      ]
     },
     "execution_count": 62,
     "metadata": {},
     "output_type": "execute_result"
    }
   ],
   "source": [
    "p = 0.01\n",
    "cp = 0.75\n",
    "r = 1\n",
    "\n",
    "nbinom.ppf(cp,r,p,loc=r)"
   ]
  },
  {
   "cell_type": "code",
   "execution_count": 67,
   "metadata": {},
   "outputs": [
    {
     "data": {
      "text/plain": [
       "392.0"
      ]
     },
     "execution_count": 67,
     "metadata": {},
     "output_type": "execute_result"
    }
   ],
   "source": [
    "p = 0.01 #0.04\n",
    "cp = 0.75# 0.95\n",
    "r = 3 #1\n",
    "\n",
    "nbinom.ppf(cp,r,p,loc=r)"
   ]
  },
  {
   "cell_type": "code",
   "execution_count": 60,
   "metadata": {},
   "outputs": [
    {
     "data": {
      "text/plain": [
       "78.0"
      ]
     },
     "execution_count": 60,
     "metadata": {},
     "output_type": "execute_result"
    }
   ],
   "source": [
    "p = 0.1\n",
    "cp = 0.9\n",
    "r = 5\n",
    "\n",
    "nbinom.ppf(cp,r,p,loc=r)"
   ]
  },
  {
   "cell_type": "code",
   "execution_count": 61,
   "metadata": {},
   "outputs": [
    {
     "data": {
      "text/plain": [
       "69.0"
      ]
     },
     "execution_count": 61,
     "metadata": {},
     "output_type": "execute_result"
    }
   ],
   "source": [
    "p = 0.2\n",
    "cp = 0.9\n",
    "r = 10\n",
    "\n",
    "nbinom.ppf(cp,r,p,loc=r)"
   ]
  },
  {
   "cell_type": "code",
   "execution_count": 81,
   "metadata": {},
   "outputs": [
    {
     "name": "stdout",
     "output_type": "stream",
     "text": [
      "[58 57 42 ... 47 50 50]\n",
      "[28 30 28 ... 28 32 25]\n"
     ]
    }
   ],
   "source": [
    "a = np.array(poisson.rvs(35,loc=18,size=150000))\n",
    "print(a)\n",
    "b = np.array(poisson.rvs(10,loc=18,size=10000))\n",
    "print(b)"
   ]
  },
  {
   "cell_type": "code",
   "execution_count": 85,
   "metadata": {},
   "outputs": [
    {
     "data": {
      "text/plain": [
       "array([58, 57, 42, ..., 28, 32, 25])"
      ]
     },
     "execution_count": 85,
     "metadata": {},
     "output_type": "execute_result"
    }
   ],
   "source": [
    "concat = np.concatenate((a,b))\n",
    "concat\n"
   ]
  },
  {
   "cell_type": "code",
   "execution_count": 87,
   "metadata": {},
   "outputs": [
    {
     "data": {
      "text/plain": [
       "array([48, 63, 44, 58, 52, 51, 45, 60, 60, 41, 48, 54, 47, 60, 45, 54, 58,\n",
       "       58, 51, 53, 48, 53, 57, 57, 52, 50, 49, 52, 52, 52, 52, 32, 50, 64,\n",
       "       50, 59, 57, 55, 53, 38, 43, 48, 51, 55, 52, 58, 56, 43, 53, 57, 53,\n",
       "       55, 51, 54, 49, 48, 54, 56, 51, 49, 49, 59, 50, 50, 56, 67, 49, 55,\n",
       "       58, 51, 56, 57, 59, 49, 60, 61, 41, 47, 32, 55, 48, 62, 49, 52, 60,\n",
       "       55, 50, 68, 51, 64, 52, 58, 52, 56, 48, 47, 49, 45, 43, 46, 55, 36,\n",
       "       30, 65, 55, 53, 49, 49, 57, 48, 56, 47, 58, 71, 47, 51, 58, 47, 57,\n",
       "       28, 50, 52, 49, 44, 47, 59, 56, 58, 52, 67, 48, 48, 61, 55, 55, 47,\n",
       "       55, 54, 63, 68, 44, 62, 54, 62, 53, 57, 48, 52, 63, 48, 52, 59, 63,\n",
       "       50, 58, 63, 25, 61, 44, 56, 51, 45, 51, 52, 47, 51, 50, 71, 60, 46,\n",
       "       51, 57, 43, 53, 59, 35, 46, 53, 49, 54, 51, 45, 53, 67, 58, 47, 59,\n",
       "       51, 64, 52, 59, 55, 51, 49, 56, 56, 47, 46, 60, 48, 54, 53, 55, 55,\n",
       "       49, 53, 57, 26, 59, 56, 50, 50, 58, 43, 58, 59, 53, 56, 52, 52, 62,\n",
       "       60, 52, 39, 56, 53, 49, 57, 25, 58, 39, 59, 57, 57, 54, 43, 44, 55,\n",
       "       54, 48, 52, 48, 45, 61, 49, 26, 55, 55, 54, 56, 64, 58, 60, 50, 48,\n",
       "       46, 48, 64, 53, 51, 48, 46, 58, 53, 54, 54, 46, 61, 49, 53, 68, 57,\n",
       "       65, 54, 50, 60, 53, 53, 47, 48, 66, 60, 51, 50, 52, 50, 31, 51, 74,\n",
       "       35, 55, 61, 51, 54, 48, 45, 50, 44, 30, 44, 52, 65, 54, 48, 41, 52,\n",
       "       52, 44, 56, 47, 54, 31, 47, 56, 54, 44, 45, 58, 26, 52, 58, 55, 59,\n",
       "       59, 45, 27, 63, 60, 57, 27, 48, 45, 54, 55, 56, 52, 54, 57, 56, 57,\n",
       "       41, 53, 47, 56, 54, 45, 51, 53, 60, 53, 21, 51, 63, 53, 56, 61, 66,\n",
       "       53, 47, 54, 51, 48, 64, 51, 41, 62, 56, 60, 52, 58, 49, 53, 50, 49,\n",
       "       62, 47, 50, 29, 55, 48, 50, 50, 50, 28, 56, 51, 55, 49, 42, 59, 49,\n",
       "       63, 49, 50, 28, 57, 60, 48, 57, 47, 52, 52, 62, 48, 45, 49, 48, 60,\n",
       "       45, 59, 52, 52, 49, 38, 41, 52, 47, 51, 51, 52, 54, 59, 55, 54, 61,\n",
       "       62, 49, 58, 56, 51, 55, 49, 59, 48, 59, 48, 47, 53, 40, 49, 49, 62,\n",
       "       44, 26, 24, 48, 52, 63, 59, 31, 55, 54, 55, 51, 63, 48, 26, 47, 58,\n",
       "       53, 53, 55, 57, 55, 49, 52, 67, 58, 60, 61, 32, 55, 50, 53, 58, 47,\n",
       "       64, 61, 58, 55, 53, 58, 54, 54, 45, 58, 63, 55, 48, 54, 32, 65, 54,\n",
       "       53, 61, 58, 55, 27, 55, 57])"
      ]
     },
     "execution_count": 87,
     "metadata": {},
     "output_type": "execute_result"
    }
   ],
   "source": [
    "sample_ages = np.random.choice(a=concat,size=500)\n",
    "sample_ages"
   ]
  },
  {
   "cell_type": "code",
   "execution_count": null,
   "metadata": {},
   "outputs": [],
   "source": []
  }
 ],
 "metadata": {
  "kernelspec": {
   "display_name": "Python 3",
   "language": "python",
   "name": "python3"
  },
  "language_info": {
   "codemirror_mode": {
    "name": "ipython",
    "version": 3
   },
   "file_extension": ".py",
   "mimetype": "text/x-python",
   "name": "python",
   "nbconvert_exporter": "python",
   "pygments_lexer": "ipython3",
   "version": "3.7.4"
  }
 },
 "nbformat": 4,
 "nbformat_minor": 2
}
